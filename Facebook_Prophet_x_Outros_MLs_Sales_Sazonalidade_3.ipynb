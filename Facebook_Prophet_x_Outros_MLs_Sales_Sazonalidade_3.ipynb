{
  "nbformat": 4,
  "nbformat_minor": 0,
  "metadata": {
    "colab": {
      "name": "Facebook Prophet x Outros MLs - Sales  - Sazonalidade 3",
      "provenance": [],
      "collapsed_sections": [],
      "authorship_tag": "ABX9TyPMSzMsCUY5EKNyMZdRiYpr",
      "include_colab_link": true
    },
    "kernelspec": {
      "name": "python3",
      "display_name": "Python 3"
    }
  },
  "cells": [
    {
      "cell_type": "markdown",
      "metadata": {
        "id": "view-in-github",
        "colab_type": "text"
      },
      "source": [
        "<a href=\"https://colab.research.google.com/github/italomarcelogit/python.free/blob/master/Facebook_Prophet_x_Outros_MLs_Sales_Sazonalidade_3.ipynb\" target=\"_parent\"><img src=\"https://colab.research.google.com/assets/colab-badge.svg\" alt=\"Open In Colab\"/></a>"
      ]
    },
    {
      "cell_type": "markdown",
      "metadata": {
        "id": "NWFuNn1-n9EL"
      },
      "source": [
        "# **Libraries**"
      ]
    },
    {
      "cell_type": "code",
      "metadata": {
        "id": "IhwePzIhP94E"
      },
      "source": [
        "import pandas as pd\n",
        "import numpy as np\n",
        "from fbprophet import Prophet\n",
        "from fbprophet.plot import plot_components_plotly, plot_plotly\n",
        "import plotly.graph_objects as go"
      ],
      "execution_count": 1,
      "outputs": []
    },
    {
      "cell_type": "markdown",
      "metadata": {
        "id": "tOTx7Y2ToCsr"
      },
      "source": [
        "# **Data**"
      ]
    },
    {
      "cell_type": "markdown",
      "metadata": {
        "id": "PJh2PJLQO0bQ"
      },
      "source": [
        "**Gerando dados de venda onde:**\n",
        "\n",
        "\n",
        "*   janeiro e fevereiro, o acumulado de venda é de 750 (k, m, etc)\n",
        "*   junho, o acumulado de venda é de 2000 (k, m, etc)\n",
        "*   dezembro, o acumulado de venda é de 1500 (k, m, etc)\n",
        "*   o restante dos meses, o acumulado é de 1000 (k, m, etc)\n",
        "*   De dois em dois anos ocorre evento esportivo, e isso faz a venda do primeiro semestre ter um crescimento de 10% (vvt)\n",
        "\n"
      ]
    },
    {
      "cell_type": "code",
      "metadata": {
        "id": "LKZlFqQAiff8"
      },
      "source": [
        "vendas = pd.DataFrame()\n",
        "for y in range(2000, 2020):\n",
        "  for m in range(1,13):\n",
        "    vvt = 0\n",
        "    if m < 3:     # jan e fev \n",
        "      i = 750\n",
        "    elif m == 6:  # jun \n",
        "      i = 2000\n",
        "    elif m == 12: # dez \n",
        "      i = 1500\n",
        "    else:         # restante\n",
        "      i = 1000\n",
        "    if y % 2 == 0 and m < 7:\n",
        "      i += i*0.1\n",
        "      vvt = 1\n",
        "    s = {'ds': f'{y}-{m}-28', 'y': i, 'vvt': vvt}\n",
        "    vendas = vendas.append(s, ignore_index=True)"
      ],
      "execution_count": 2,
      "outputs": []
    },
    {
      "cell_type": "code",
      "metadata": {
        "id": "iiGjTCPPi5d8",
        "outputId": "b1cba620-62fa-47a7-8dd5-e228498f4058",
        "colab": {
          "base_uri": "https://localhost:8080/"
        }
      },
      "source": [
        "vendas.y.sum()"
      ],
      "execution_count": 3,
      "outputs": [
        {
          "output_type": "execute_result",
          "data": {
            "text/plain": [
              "266500.0"
            ]
          },
          "metadata": {
            "tags": []
          },
          "execution_count": 3
        }
      ]
    },
    {
      "cell_type": "code",
      "metadata": {
        "id": "bd7wJ3qIf2NB",
        "outputId": "2b98d233-d47f-4797-8834-bb45252f6c46",
        "colab": {
          "base_uri": "https://localhost:8080/",
          "height": 204
        }
      },
      "source": [
        "vendas.tail()"
      ],
      "execution_count": 4,
      "outputs": [
        {
          "output_type": "execute_result",
          "data": {
            "text/html": [
              "<div>\n",
              "<style scoped>\n",
              "    .dataframe tbody tr th:only-of-type {\n",
              "        vertical-align: middle;\n",
              "    }\n",
              "\n",
              "    .dataframe tbody tr th {\n",
              "        vertical-align: top;\n",
              "    }\n",
              "\n",
              "    .dataframe thead th {\n",
              "        text-align: right;\n",
              "    }\n",
              "</style>\n",
              "<table border=\"1\" class=\"dataframe\">\n",
              "  <thead>\n",
              "    <tr style=\"text-align: right;\">\n",
              "      <th></th>\n",
              "      <th>ds</th>\n",
              "      <th>vvt</th>\n",
              "      <th>y</th>\n",
              "    </tr>\n",
              "  </thead>\n",
              "  <tbody>\n",
              "    <tr>\n",
              "      <th>235</th>\n",
              "      <td>2019-8-28</td>\n",
              "      <td>0.0</td>\n",
              "      <td>1000.0</td>\n",
              "    </tr>\n",
              "    <tr>\n",
              "      <th>236</th>\n",
              "      <td>2019-9-28</td>\n",
              "      <td>0.0</td>\n",
              "      <td>1000.0</td>\n",
              "    </tr>\n",
              "    <tr>\n",
              "      <th>237</th>\n",
              "      <td>2019-10-28</td>\n",
              "      <td>0.0</td>\n",
              "      <td>1000.0</td>\n",
              "    </tr>\n",
              "    <tr>\n",
              "      <th>238</th>\n",
              "      <td>2019-11-28</td>\n",
              "      <td>0.0</td>\n",
              "      <td>1000.0</td>\n",
              "    </tr>\n",
              "    <tr>\n",
              "      <th>239</th>\n",
              "      <td>2019-12-28</td>\n",
              "      <td>0.0</td>\n",
              "      <td>1500.0</td>\n",
              "    </tr>\n",
              "  </tbody>\n",
              "</table>\n",
              "</div>"
            ],
            "text/plain": [
              "             ds  vvt       y\n",
              "235   2019-8-28  0.0  1000.0\n",
              "236   2019-9-28  0.0  1000.0\n",
              "237  2019-10-28  0.0  1000.0\n",
              "238  2019-11-28  0.0  1000.0\n",
              "239  2019-12-28  0.0  1500.0"
            ]
          },
          "metadata": {
            "tags": []
          },
          "execution_count": 4
        }
      ]
    },
    {
      "cell_type": "code",
      "metadata": {
        "id": "FVGfI2TlyAR7"
      },
      "source": [
        "database = vendas.copy()\n",
        "database['ds'] = vendas.ds.astype('datetime64[ns]')\n",
        "# database['y'] = vendas.y"
      ],
      "execution_count": 5,
      "outputs": []
    },
    {
      "cell_type": "code",
      "metadata": {
        "id": "8liJpAHBBhvA"
      },
      "source": [
        "database.to_csv('database-fict.csv')"
      ],
      "execution_count": 6,
      "outputs": []
    },
    {
      "cell_type": "code",
      "metadata": {
        "id": "7lceoHT0Sovk",
        "outputId": "ca5071e3-0205-4bd6-fcab-4b1c591a4f79",
        "colab": {
          "base_uri": "https://localhost:8080/",
          "height": 542
        }
      },
      "source": [
        "goTemplates = [\"plotly\", \"plotly_white\", \"plotly_dark\", \"ggplot2\", \"seaborn\", \"simple_white\", \"none\"]\n",
        "\n",
        "fig = go.Figure()\n",
        "fig.add_trace(go.Scatter(x=database.ds, y=database.y,\n",
        "                    mode='lines+markers',\n",
        "                    name='total vendas'))\n",
        "\n",
        "fig.update_layout(template=goTemplates[1], title=\"Histórico de Vendas\")"
      ],
      "execution_count": 7,
      "outputs": [
        {
          "output_type": "display_data",
          "data": {
            "text/html": [
              "<html>\n",
              "<head><meta charset=\"utf-8\" /></head>\n",
              "<body>\n",
              "    <div>\n",
              "            <script src=\"https://cdnjs.cloudflare.com/ajax/libs/mathjax/2.7.5/MathJax.js?config=TeX-AMS-MML_SVG\"></script><script type=\"text/javascript\">if (window.MathJax) {MathJax.Hub.Config({SVG: {font: \"STIX-Web\"}});}</script>\n",
              "                <script type=\"text/javascript\">window.PlotlyConfig = {MathJaxConfig: 'local'};</script>\n",
              "        <script src=\"https://cdn.plot.ly/plotly-latest.min.js\"></script>    \n",
              "            <div id=\"50c29c09-5555-4cdd-9761-0b2278f058fc\" class=\"plotly-graph-div\" style=\"height:525px; width:100%;\"></div>\n",
              "            <script type=\"text/javascript\">\n",
              "                \n",
              "                    window.PLOTLYENV=window.PLOTLYENV || {};\n",
              "                    \n",
              "                if (document.getElementById(\"50c29c09-5555-4cdd-9761-0b2278f058fc\")) {\n",
              "                    Plotly.newPlot(\n",
              "                        '50c29c09-5555-4cdd-9761-0b2278f058fc',\n",
              "                        [{\"mode\": \"lines+markers\", \"name\": \"total vendas\", \"type\": \"scatter\", \"x\": [\"2000-01-28T00:00:00\", \"2000-02-28T00:00:00\", \"2000-03-28T00:00:00\", \"2000-04-28T00:00:00\", \"2000-05-28T00:00:00\", \"2000-06-28T00:00:00\", \"2000-07-28T00:00:00\", \"2000-08-28T00:00:00\", \"2000-09-28T00:00:00\", \"2000-10-28T00:00:00\", \"2000-11-28T00:00:00\", \"2000-12-28T00:00:00\", \"2001-01-28T00:00:00\", \"2001-02-28T00:00:00\", \"2001-03-28T00:00:00\", \"2001-04-28T00:00:00\", \"2001-05-28T00:00:00\", \"2001-06-28T00:00:00\", \"2001-07-28T00:00:00\", \"2001-08-28T00:00:00\", \"2001-09-28T00:00:00\", \"2001-10-28T00:00:00\", \"2001-11-28T00:00:00\", \"2001-12-28T00:00:00\", \"2002-01-28T00:00:00\", \"2002-02-28T00:00:00\", \"2002-03-28T00:00:00\", \"2002-04-28T00:00:00\", \"2002-05-28T00:00:00\", \"2002-06-28T00:00:00\", \"2002-07-28T00:00:00\", \"2002-08-28T00:00:00\", \"2002-09-28T00:00:00\", \"2002-10-28T00:00:00\", \"2002-11-28T00:00:00\", \"2002-12-28T00:00:00\", \"2003-01-28T00:00:00\", \"2003-02-28T00:00:00\", \"2003-03-28T00:00:00\", \"2003-04-28T00:00:00\", \"2003-05-28T00:00:00\", \"2003-06-28T00:00:00\", \"2003-07-28T00:00:00\", \"2003-08-28T00:00:00\", \"2003-09-28T00:00:00\", \"2003-10-28T00:00:00\", \"2003-11-28T00:00:00\", \"2003-12-28T00:00:00\", \"2004-01-28T00:00:00\", \"2004-02-28T00:00:00\", \"2004-03-28T00:00:00\", \"2004-04-28T00:00:00\", \"2004-05-28T00:00:00\", \"2004-06-28T00:00:00\", \"2004-07-28T00:00:00\", \"2004-08-28T00:00:00\", \"2004-09-28T00:00:00\", \"2004-10-28T00:00:00\", \"2004-11-28T00:00:00\", \"2004-12-28T00:00:00\", \"2005-01-28T00:00:00\", \"2005-02-28T00:00:00\", \"2005-03-28T00:00:00\", \"2005-04-28T00:00:00\", \"2005-05-28T00:00:00\", \"2005-06-28T00:00:00\", \"2005-07-28T00:00:00\", \"2005-08-28T00:00:00\", \"2005-09-28T00:00:00\", \"2005-10-28T00:00:00\", \"2005-11-28T00:00:00\", \"2005-12-28T00:00:00\", \"2006-01-28T00:00:00\", \"2006-02-28T00:00:00\", \"2006-03-28T00:00:00\", \"2006-04-28T00:00:00\", \"2006-05-28T00:00:00\", \"2006-06-28T00:00:00\", \"2006-07-28T00:00:00\", \"2006-08-28T00:00:00\", \"2006-09-28T00:00:00\", \"2006-10-28T00:00:00\", \"2006-11-28T00:00:00\", \"2006-12-28T00:00:00\", \"2007-01-28T00:00:00\", \"2007-02-28T00:00:00\", \"2007-03-28T00:00:00\", \"2007-04-28T00:00:00\", \"2007-05-28T00:00:00\", \"2007-06-28T00:00:00\", \"2007-07-28T00:00:00\", \"2007-08-28T00:00:00\", \"2007-09-28T00:00:00\", \"2007-10-28T00:00:00\", \"2007-11-28T00:00:00\", \"2007-12-28T00:00:00\", \"2008-01-28T00:00:00\", \"2008-02-28T00:00:00\", \"2008-03-28T00:00:00\", \"2008-04-28T00:00:00\", \"2008-05-28T00:00:00\", \"2008-06-28T00:00:00\", \"2008-07-28T00:00:00\", \"2008-08-28T00:00:00\", \"2008-09-28T00:00:00\", \"2008-10-28T00:00:00\", \"2008-11-28T00:00:00\", \"2008-12-28T00:00:00\", \"2009-01-28T00:00:00\", \"2009-02-28T00:00:00\", \"2009-03-28T00:00:00\", \"2009-04-28T00:00:00\", \"2009-05-28T00:00:00\", \"2009-06-28T00:00:00\", \"2009-07-28T00:00:00\", \"2009-08-28T00:00:00\", \"2009-09-28T00:00:00\", \"2009-10-28T00:00:00\", \"2009-11-28T00:00:00\", \"2009-12-28T00:00:00\", \"2010-01-28T00:00:00\", \"2010-02-28T00:00:00\", \"2010-03-28T00:00:00\", \"2010-04-28T00:00:00\", \"2010-05-28T00:00:00\", \"2010-06-28T00:00:00\", \"2010-07-28T00:00:00\", \"2010-08-28T00:00:00\", \"2010-09-28T00:00:00\", \"2010-10-28T00:00:00\", \"2010-11-28T00:00:00\", \"2010-12-28T00:00:00\", \"2011-01-28T00:00:00\", \"2011-02-28T00:00:00\", \"2011-03-28T00:00:00\", \"2011-04-28T00:00:00\", \"2011-05-28T00:00:00\", \"2011-06-28T00:00:00\", \"2011-07-28T00:00:00\", \"2011-08-28T00:00:00\", \"2011-09-28T00:00:00\", \"2011-10-28T00:00:00\", \"2011-11-28T00:00:00\", \"2011-12-28T00:00:00\", \"2012-01-28T00:00:00\", \"2012-02-28T00:00:00\", \"2012-03-28T00:00:00\", \"2012-04-28T00:00:00\", \"2012-05-28T00:00:00\", \"2012-06-28T00:00:00\", \"2012-07-28T00:00:00\", \"2012-08-28T00:00:00\", \"2012-09-28T00:00:00\", \"2012-10-28T00:00:00\", \"2012-11-28T00:00:00\", \"2012-12-28T00:00:00\", \"2013-01-28T00:00:00\", \"2013-02-28T00:00:00\", \"2013-03-28T00:00:00\", \"2013-04-28T00:00:00\", \"2013-05-28T00:00:00\", \"2013-06-28T00:00:00\", \"2013-07-28T00:00:00\", \"2013-08-28T00:00:00\", \"2013-09-28T00:00:00\", \"2013-10-28T00:00:00\", \"2013-11-28T00:00:00\", \"2013-12-28T00:00:00\", \"2014-01-28T00:00:00\", \"2014-02-28T00:00:00\", \"2014-03-28T00:00:00\", \"2014-04-28T00:00:00\", \"2014-05-28T00:00:00\", \"2014-06-28T00:00:00\", \"2014-07-28T00:00:00\", \"2014-08-28T00:00:00\", \"2014-09-28T00:00:00\", \"2014-10-28T00:00:00\", \"2014-11-28T00:00:00\", \"2014-12-28T00:00:00\", \"2015-01-28T00:00:00\", \"2015-02-28T00:00:00\", \"2015-03-28T00:00:00\", \"2015-04-28T00:00:00\", \"2015-05-28T00:00:00\", \"2015-06-28T00:00:00\", \"2015-07-28T00:00:00\", \"2015-08-28T00:00:00\", \"2015-09-28T00:00:00\", \"2015-10-28T00:00:00\", \"2015-11-28T00:00:00\", \"2015-12-28T00:00:00\", \"2016-01-28T00:00:00\", \"2016-02-28T00:00:00\", \"2016-03-28T00:00:00\", \"2016-04-28T00:00:00\", \"2016-05-28T00:00:00\", \"2016-06-28T00:00:00\", \"2016-07-28T00:00:00\", \"2016-08-28T00:00:00\", \"2016-09-28T00:00:00\", \"2016-10-28T00:00:00\", \"2016-11-28T00:00:00\", \"2016-12-28T00:00:00\", \"2017-01-28T00:00:00\", \"2017-02-28T00:00:00\", \"2017-03-28T00:00:00\", \"2017-04-28T00:00:00\", \"2017-05-28T00:00:00\", \"2017-06-28T00:00:00\", \"2017-07-28T00:00:00\", \"2017-08-28T00:00:00\", \"2017-09-28T00:00:00\", \"2017-10-28T00:00:00\", \"2017-11-28T00:00:00\", \"2017-12-28T00:00:00\", \"2018-01-28T00:00:00\", \"2018-02-28T00:00:00\", \"2018-03-28T00:00:00\", \"2018-04-28T00:00:00\", \"2018-05-28T00:00:00\", \"2018-06-28T00:00:00\", \"2018-07-28T00:00:00\", \"2018-08-28T00:00:00\", \"2018-09-28T00:00:00\", \"2018-10-28T00:00:00\", \"2018-11-28T00:00:00\", \"2018-12-28T00:00:00\", \"2019-01-28T00:00:00\", \"2019-02-28T00:00:00\", \"2019-03-28T00:00:00\", \"2019-04-28T00:00:00\", \"2019-05-28T00:00:00\", \"2019-06-28T00:00:00\", \"2019-07-28T00:00:00\", \"2019-08-28T00:00:00\", \"2019-09-28T00:00:00\", \"2019-10-28T00:00:00\", \"2019-11-28T00:00:00\", \"2019-12-28T00:00:00\"], \"y\": [825.0, 825.0, 1100.0, 1100.0, 1100.0, 2200.0, 1000.0, 1000.0, 1000.0, 1000.0, 1000.0, 1500.0, 750.0, 750.0, 1000.0, 1000.0, 1000.0, 2000.0, 1000.0, 1000.0, 1000.0, 1000.0, 1000.0, 1500.0, 825.0, 825.0, 1100.0, 1100.0, 1100.0, 2200.0, 1000.0, 1000.0, 1000.0, 1000.0, 1000.0, 1500.0, 750.0, 750.0, 1000.0, 1000.0, 1000.0, 2000.0, 1000.0, 1000.0, 1000.0, 1000.0, 1000.0, 1500.0, 825.0, 825.0, 1100.0, 1100.0, 1100.0, 2200.0, 1000.0, 1000.0, 1000.0, 1000.0, 1000.0, 1500.0, 750.0, 750.0, 1000.0, 1000.0, 1000.0, 2000.0, 1000.0, 1000.0, 1000.0, 1000.0, 1000.0, 1500.0, 825.0, 825.0, 1100.0, 1100.0, 1100.0, 2200.0, 1000.0, 1000.0, 1000.0, 1000.0, 1000.0, 1500.0, 750.0, 750.0, 1000.0, 1000.0, 1000.0, 2000.0, 1000.0, 1000.0, 1000.0, 1000.0, 1000.0, 1500.0, 825.0, 825.0, 1100.0, 1100.0, 1100.0, 2200.0, 1000.0, 1000.0, 1000.0, 1000.0, 1000.0, 1500.0, 750.0, 750.0, 1000.0, 1000.0, 1000.0, 2000.0, 1000.0, 1000.0, 1000.0, 1000.0, 1000.0, 1500.0, 825.0, 825.0, 1100.0, 1100.0, 1100.0, 2200.0, 1000.0, 1000.0, 1000.0, 1000.0, 1000.0, 1500.0, 750.0, 750.0, 1000.0, 1000.0, 1000.0, 2000.0, 1000.0, 1000.0, 1000.0, 1000.0, 1000.0, 1500.0, 825.0, 825.0, 1100.0, 1100.0, 1100.0, 2200.0, 1000.0, 1000.0, 1000.0, 1000.0, 1000.0, 1500.0, 750.0, 750.0, 1000.0, 1000.0, 1000.0, 2000.0, 1000.0, 1000.0, 1000.0, 1000.0, 1000.0, 1500.0, 825.0, 825.0, 1100.0, 1100.0, 1100.0, 2200.0, 1000.0, 1000.0, 1000.0, 1000.0, 1000.0, 1500.0, 750.0, 750.0, 1000.0, 1000.0, 1000.0, 2000.0, 1000.0, 1000.0, 1000.0, 1000.0, 1000.0, 1500.0, 825.0, 825.0, 1100.0, 1100.0, 1100.0, 2200.0, 1000.0, 1000.0, 1000.0, 1000.0, 1000.0, 1500.0, 750.0, 750.0, 1000.0, 1000.0, 1000.0, 2000.0, 1000.0, 1000.0, 1000.0, 1000.0, 1000.0, 1500.0, 825.0, 825.0, 1100.0, 1100.0, 1100.0, 2200.0, 1000.0, 1000.0, 1000.0, 1000.0, 1000.0, 1500.0, 750.0, 750.0, 1000.0, 1000.0, 1000.0, 2000.0, 1000.0, 1000.0, 1000.0, 1000.0, 1000.0, 1500.0]}],\n",
              "                        {\"template\": {\"data\": {\"bar\": [{\"error_x\": {\"color\": \"#2a3f5f\"}, \"error_y\": {\"color\": \"#2a3f5f\"}, \"marker\": {\"line\": {\"color\": \"white\", \"width\": 0.5}}, \"type\": \"bar\"}], \"barpolar\": [{\"marker\": {\"line\": {\"color\": \"white\", \"width\": 0.5}}, \"type\": \"barpolar\"}], \"carpet\": [{\"aaxis\": {\"endlinecolor\": \"#2a3f5f\", \"gridcolor\": \"#C8D4E3\", \"linecolor\": \"#C8D4E3\", \"minorgridcolor\": \"#C8D4E3\", \"startlinecolor\": \"#2a3f5f\"}, \"baxis\": {\"endlinecolor\": \"#2a3f5f\", \"gridcolor\": \"#C8D4E3\", \"linecolor\": \"#C8D4E3\", \"minorgridcolor\": \"#C8D4E3\", \"startlinecolor\": \"#2a3f5f\"}, \"type\": \"carpet\"}], \"choropleth\": [{\"colorbar\": {\"outlinewidth\": 0, \"ticks\": \"\"}, \"type\": \"choropleth\"}], \"contour\": [{\"colorbar\": {\"outlinewidth\": 0, \"ticks\": \"\"}, \"colorscale\": [[0.0, \"#0d0887\"], [0.1111111111111111, \"#46039f\"], [0.2222222222222222, \"#7201a8\"], [0.3333333333333333, \"#9c179e\"], [0.4444444444444444, \"#bd3786\"], [0.5555555555555556, \"#d8576b\"], [0.6666666666666666, \"#ed7953\"], [0.7777777777777778, \"#fb9f3a\"], [0.8888888888888888, \"#fdca26\"], [1.0, \"#f0f921\"]], \"type\": \"contour\"}], \"contourcarpet\": [{\"colorbar\": {\"outlinewidth\": 0, \"ticks\": \"\"}, \"type\": \"contourcarpet\"}], \"heatmap\": [{\"colorbar\": {\"outlinewidth\": 0, \"ticks\": \"\"}, \"colorscale\": [[0.0, \"#0d0887\"], [0.1111111111111111, \"#46039f\"], [0.2222222222222222, \"#7201a8\"], [0.3333333333333333, \"#9c179e\"], [0.4444444444444444, \"#bd3786\"], [0.5555555555555556, \"#d8576b\"], [0.6666666666666666, \"#ed7953\"], [0.7777777777777778, \"#fb9f3a\"], [0.8888888888888888, \"#fdca26\"], [1.0, \"#f0f921\"]], \"type\": \"heatmap\"}], \"heatmapgl\": [{\"colorbar\": {\"outlinewidth\": 0, \"ticks\": \"\"}, \"colorscale\": [[0.0, \"#0d0887\"], [0.1111111111111111, \"#46039f\"], [0.2222222222222222, \"#7201a8\"], [0.3333333333333333, \"#9c179e\"], [0.4444444444444444, \"#bd3786\"], [0.5555555555555556, \"#d8576b\"], [0.6666666666666666, \"#ed7953\"], [0.7777777777777778, \"#fb9f3a\"], [0.8888888888888888, \"#fdca26\"], [1.0, \"#f0f921\"]], \"type\": \"heatmapgl\"}], \"histogram\": [{\"marker\": {\"colorbar\": {\"outlinewidth\": 0, \"ticks\": \"\"}}, \"type\": \"histogram\"}], \"histogram2d\": [{\"colorbar\": {\"outlinewidth\": 0, \"ticks\": \"\"}, \"colorscale\": [[0.0, \"#0d0887\"], [0.1111111111111111, \"#46039f\"], [0.2222222222222222, \"#7201a8\"], [0.3333333333333333, \"#9c179e\"], [0.4444444444444444, \"#bd3786\"], [0.5555555555555556, \"#d8576b\"], [0.6666666666666666, \"#ed7953\"], [0.7777777777777778, \"#fb9f3a\"], [0.8888888888888888, \"#fdca26\"], [1.0, \"#f0f921\"]], \"type\": \"histogram2d\"}], \"histogram2dcontour\": [{\"colorbar\": {\"outlinewidth\": 0, \"ticks\": \"\"}, \"colorscale\": [[0.0, \"#0d0887\"], [0.1111111111111111, \"#46039f\"], [0.2222222222222222, \"#7201a8\"], [0.3333333333333333, \"#9c179e\"], [0.4444444444444444, \"#bd3786\"], [0.5555555555555556, \"#d8576b\"], [0.6666666666666666, \"#ed7953\"], [0.7777777777777778, \"#fb9f3a\"], [0.8888888888888888, \"#fdca26\"], [1.0, \"#f0f921\"]], \"type\": \"histogram2dcontour\"}], \"mesh3d\": [{\"colorbar\": {\"outlinewidth\": 0, \"ticks\": \"\"}, \"type\": \"mesh3d\"}], \"parcoords\": [{\"line\": {\"colorbar\": {\"outlinewidth\": 0, \"ticks\": \"\"}}, \"type\": \"parcoords\"}], \"pie\": [{\"automargin\": true, \"type\": \"pie\"}], \"scatter\": [{\"marker\": {\"colorbar\": {\"outlinewidth\": 0, \"ticks\": \"\"}}, \"type\": \"scatter\"}], \"scatter3d\": [{\"line\": {\"colorbar\": {\"outlinewidth\": 0, \"ticks\": \"\"}}, \"marker\": {\"colorbar\": {\"outlinewidth\": 0, \"ticks\": \"\"}}, \"type\": \"scatter3d\"}], \"scattercarpet\": [{\"marker\": {\"colorbar\": {\"outlinewidth\": 0, \"ticks\": \"\"}}, \"type\": \"scattercarpet\"}], \"scattergeo\": [{\"marker\": {\"colorbar\": {\"outlinewidth\": 0, \"ticks\": \"\"}}, \"type\": \"scattergeo\"}], \"scattergl\": [{\"marker\": {\"colorbar\": {\"outlinewidth\": 0, \"ticks\": \"\"}}, \"type\": \"scattergl\"}], \"scattermapbox\": [{\"marker\": {\"colorbar\": {\"outlinewidth\": 0, \"ticks\": \"\"}}, \"type\": \"scattermapbox\"}], \"scatterpolar\": [{\"marker\": {\"colorbar\": {\"outlinewidth\": 0, \"ticks\": \"\"}}, \"type\": \"scatterpolar\"}], \"scatterpolargl\": [{\"marker\": {\"colorbar\": {\"outlinewidth\": 0, \"ticks\": \"\"}}, \"type\": \"scatterpolargl\"}], \"scatterternary\": [{\"marker\": {\"colorbar\": {\"outlinewidth\": 0, \"ticks\": \"\"}}, \"type\": \"scatterternary\"}], \"surface\": [{\"colorbar\": {\"outlinewidth\": 0, \"ticks\": \"\"}, \"colorscale\": [[0.0, \"#0d0887\"], [0.1111111111111111, \"#46039f\"], [0.2222222222222222, \"#7201a8\"], [0.3333333333333333, \"#9c179e\"], [0.4444444444444444, \"#bd3786\"], [0.5555555555555556, \"#d8576b\"], [0.6666666666666666, \"#ed7953\"], [0.7777777777777778, \"#fb9f3a\"], [0.8888888888888888, \"#fdca26\"], [1.0, \"#f0f921\"]], \"type\": \"surface\"}], \"table\": [{\"cells\": {\"fill\": {\"color\": \"#EBF0F8\"}, \"line\": {\"color\": \"white\"}}, \"header\": {\"fill\": {\"color\": \"#C8D4E3\"}, \"line\": {\"color\": \"white\"}}, \"type\": \"table\"}]}, \"layout\": {\"annotationdefaults\": {\"arrowcolor\": \"#2a3f5f\", \"arrowhead\": 0, \"arrowwidth\": 1}, \"coloraxis\": {\"colorbar\": {\"outlinewidth\": 0, \"ticks\": \"\"}}, \"colorscale\": {\"diverging\": [[0, \"#8e0152\"], [0.1, \"#c51b7d\"], [0.2, \"#de77ae\"], [0.3, \"#f1b6da\"], [0.4, \"#fde0ef\"], [0.5, \"#f7f7f7\"], [0.6, \"#e6f5d0\"], [0.7, \"#b8e186\"], [0.8, \"#7fbc41\"], [0.9, \"#4d9221\"], [1, \"#276419\"]], \"sequential\": [[0.0, \"#0d0887\"], [0.1111111111111111, \"#46039f\"], [0.2222222222222222, \"#7201a8\"], [0.3333333333333333, \"#9c179e\"], [0.4444444444444444, \"#bd3786\"], [0.5555555555555556, \"#d8576b\"], [0.6666666666666666, \"#ed7953\"], [0.7777777777777778, \"#fb9f3a\"], [0.8888888888888888, \"#fdca26\"], [1.0, \"#f0f921\"]], \"sequentialminus\": [[0.0, \"#0d0887\"], [0.1111111111111111, \"#46039f\"], [0.2222222222222222, \"#7201a8\"], [0.3333333333333333, \"#9c179e\"], [0.4444444444444444, \"#bd3786\"], [0.5555555555555556, \"#d8576b\"], [0.6666666666666666, \"#ed7953\"], [0.7777777777777778, \"#fb9f3a\"], [0.8888888888888888, \"#fdca26\"], [1.0, \"#f0f921\"]]}, \"colorway\": [\"#636efa\", \"#EF553B\", \"#00cc96\", \"#ab63fa\", \"#FFA15A\", \"#19d3f3\", \"#FF6692\", \"#B6E880\", \"#FF97FF\", \"#FECB52\"], \"font\": {\"color\": \"#2a3f5f\"}, \"geo\": {\"bgcolor\": \"white\", \"lakecolor\": \"white\", \"landcolor\": \"white\", \"showlakes\": true, \"showland\": true, \"subunitcolor\": \"#C8D4E3\"}, \"hoverlabel\": {\"align\": \"left\"}, \"hovermode\": \"closest\", \"mapbox\": {\"style\": \"light\"}, \"paper_bgcolor\": \"white\", \"plot_bgcolor\": \"white\", \"polar\": {\"angularaxis\": {\"gridcolor\": \"#EBF0F8\", \"linecolor\": \"#EBF0F8\", \"ticks\": \"\"}, \"bgcolor\": \"white\", \"radialaxis\": {\"gridcolor\": \"#EBF0F8\", \"linecolor\": \"#EBF0F8\", \"ticks\": \"\"}}, \"scene\": {\"xaxis\": {\"backgroundcolor\": \"white\", \"gridcolor\": \"#DFE8F3\", \"gridwidth\": 2, \"linecolor\": \"#EBF0F8\", \"showbackground\": true, \"ticks\": \"\", \"zerolinecolor\": \"#EBF0F8\"}, \"yaxis\": {\"backgroundcolor\": \"white\", \"gridcolor\": \"#DFE8F3\", \"gridwidth\": 2, \"linecolor\": \"#EBF0F8\", \"showbackground\": true, \"ticks\": \"\", \"zerolinecolor\": \"#EBF0F8\"}, \"zaxis\": {\"backgroundcolor\": \"white\", \"gridcolor\": \"#DFE8F3\", \"gridwidth\": 2, \"linecolor\": \"#EBF0F8\", \"showbackground\": true, \"ticks\": \"\", \"zerolinecolor\": \"#EBF0F8\"}}, \"shapedefaults\": {\"line\": {\"color\": \"#2a3f5f\"}}, \"ternary\": {\"aaxis\": {\"gridcolor\": \"#DFE8F3\", \"linecolor\": \"#A2B1C6\", \"ticks\": \"\"}, \"baxis\": {\"gridcolor\": \"#DFE8F3\", \"linecolor\": \"#A2B1C6\", \"ticks\": \"\"}, \"bgcolor\": \"white\", \"caxis\": {\"gridcolor\": \"#DFE8F3\", \"linecolor\": \"#A2B1C6\", \"ticks\": \"\"}}, \"title\": {\"x\": 0.05}, \"xaxis\": {\"automargin\": true, \"gridcolor\": \"#EBF0F8\", \"linecolor\": \"#EBF0F8\", \"ticks\": \"\", \"title\": {\"standoff\": 15}, \"zerolinecolor\": \"#EBF0F8\", \"zerolinewidth\": 2}, \"yaxis\": {\"automargin\": true, \"gridcolor\": \"#EBF0F8\", \"linecolor\": \"#EBF0F8\", \"ticks\": \"\", \"title\": {\"standoff\": 15}, \"zerolinecolor\": \"#EBF0F8\", \"zerolinewidth\": 2}}}, \"title\": {\"text\": \"Hist\\u00f3rico de Vendas\"}},\n",
              "                        {\"responsive\": true}\n",
              "                    ).then(function(){\n",
              "                            \n",
              "var gd = document.getElementById('50c29c09-5555-4cdd-9761-0b2278f058fc');\n",
              "var x = new MutationObserver(function (mutations, observer) {{\n",
              "        var display = window.getComputedStyle(gd).display;\n",
              "        if (!display || display === 'none') {{\n",
              "            console.log([gd, 'removed!']);\n",
              "            Plotly.purge(gd);\n",
              "            observer.disconnect();\n",
              "        }}\n",
              "}});\n",
              "\n",
              "// Listen for the removal of the full notebook cells\n",
              "var notebookContainer = gd.closest('#notebook-container');\n",
              "if (notebookContainer) {{\n",
              "    x.observe(notebookContainer, {childList: true});\n",
              "}}\n",
              "\n",
              "// Listen for the clearing of the current output cell\n",
              "var outputEl = gd.closest('.output');\n",
              "if (outputEl) {{\n",
              "    x.observe(outputEl, {childList: true});\n",
              "}}\n",
              "\n",
              "                        })\n",
              "                };\n",
              "                \n",
              "            </script>\n",
              "        </div>\n",
              "</body>\n",
              "</html>"
            ]
          },
          "metadata": {
            "tags": []
          }
        }
      ]
    },
    {
      "cell_type": "markdown",
      "metadata": {
        "id": "_T1SEiwSwyXv"
      },
      "source": [
        "# **Predictions - fbProphet**"
      ]
    },
    {
      "cell_type": "markdown",
      "metadata": {
        "id": "JiHAKEmhy85f"
      },
      "source": [
        "**Instantiating a new Prophet object**"
      ]
    },
    {
      "cell_type": "code",
      "metadata": {
        "id": "emXEXtSrRLSm"
      },
      "source": [
        "m = Prophet()\n"
      ],
      "execution_count": 8,
      "outputs": []
    },
    {
      "cell_type": "code",
      "metadata": {
        "id": "txo4lvk0RPkP",
        "outputId": "bf96cfab-5cbe-4929-d08f-58271f64e256",
        "colab": {
          "base_uri": "https://localhost:8080/"
        }
      },
      "source": [
        "m.fit(database)"
      ],
      "execution_count": 9,
      "outputs": [
        {
          "output_type": "stream",
          "text": [
            "INFO:numexpr.utils:NumExpr defaulting to 2 threads.\n",
            "INFO:fbprophet:Disabling weekly seasonality. Run prophet with weekly_seasonality=True to override this.\n",
            "INFO:fbprophet:Disabling daily seasonality. Run prophet with daily_seasonality=True to override this.\n"
          ],
          "name": "stderr"
        },
        {
          "output_type": "execute_result",
          "data": {
            "text/plain": [
              "<fbprophet.forecaster.Prophet at 0x7f926cb4a9e8>"
            ]
          },
          "metadata": {
            "tags": []
          },
          "execution_count": 9
        }
      ]
    },
    {
      "cell_type": "code",
      "metadata": {
        "id": "8Evc4bRkRRxU"
      },
      "source": [
        "f = m.make_future_dataframe(periods=24, freq='M')"
      ],
      "execution_count": 10,
      "outputs": []
    },
    {
      "cell_type": "code",
      "metadata": {
        "id": "ZwS2JtpqRlG5"
      },
      "source": [
        "p = m.predict(f)"
      ],
      "execution_count": 11,
      "outputs": []
    },
    {
      "cell_type": "code",
      "metadata": {
        "id": "l0Md8L6TIKFo",
        "outputId": "360e4a13-34e0-458f-8a20-5f30961fd452",
        "colab": {
          "base_uri": "https://localhost:8080/",
          "height": 421
        }
      },
      "source": [
        "# baseTeste = pd.DataFrame(p[['ds', 'yhat', 'yhat_lower', 'yhat_upper']])\n",
        "# baseTeste['y'] = database.y\n",
        "# baseTeste.tail(12)\n",
        "pd.DataFrame(p[['ds', 'yhat', 'yhat_lower', 'yhat_upper']]).tail(12)"
      ],
      "execution_count": 12,
      "outputs": [
        {
          "output_type": "execute_result",
          "data": {
            "text/html": [
              "<div>\n",
              "<style scoped>\n",
              "    .dataframe tbody tr th:only-of-type {\n",
              "        vertical-align: middle;\n",
              "    }\n",
              "\n",
              "    .dataframe tbody tr th {\n",
              "        vertical-align: top;\n",
              "    }\n",
              "\n",
              "    .dataframe thead th {\n",
              "        text-align: right;\n",
              "    }\n",
              "</style>\n",
              "<table border=\"1\" class=\"dataframe\">\n",
              "  <thead>\n",
              "    <tr style=\"text-align: right;\">\n",
              "      <th></th>\n",
              "      <th>ds</th>\n",
              "      <th>yhat</th>\n",
              "      <th>yhat_lower</th>\n",
              "      <th>yhat_upper</th>\n",
              "    </tr>\n",
              "  </thead>\n",
              "  <tbody>\n",
              "    <tr>\n",
              "      <th>252</th>\n",
              "      <td>2020-12-31</td>\n",
              "      <td>1623.159636</td>\n",
              "      <td>1570.672068</td>\n",
              "      <td>1677.574146</td>\n",
              "    </tr>\n",
              "    <tr>\n",
              "      <th>253</th>\n",
              "      <td>2021-01-31</td>\n",
              "      <td>715.520838</td>\n",
              "      <td>662.968281</td>\n",
              "      <td>772.452423</td>\n",
              "    </tr>\n",
              "    <tr>\n",
              "      <th>254</th>\n",
              "      <td>2021-02-28</td>\n",
              "      <td>759.298976</td>\n",
              "      <td>710.560120</td>\n",
              "      <td>807.347117</td>\n",
              "    </tr>\n",
              "    <tr>\n",
              "      <th>255</th>\n",
              "      <td>2021-03-31</td>\n",
              "      <td>1141.228622</td>\n",
              "      <td>1091.191971</td>\n",
              "      <td>1191.082836</td>\n",
              "    </tr>\n",
              "    <tr>\n",
              "      <th>256</th>\n",
              "      <td>2021-04-30</td>\n",
              "      <td>1071.786381</td>\n",
              "      <td>1023.410134</td>\n",
              "      <td>1123.444534</td>\n",
              "    </tr>\n",
              "    <tr>\n",
              "      <th>257</th>\n",
              "      <td>2021-05-31</td>\n",
              "      <td>1038.412171</td>\n",
              "      <td>988.327684</td>\n",
              "      <td>1088.507833</td>\n",
              "    </tr>\n",
              "    <tr>\n",
              "      <th>258</th>\n",
              "      <td>2021-06-30</td>\n",
              "      <td>2249.542345</td>\n",
              "      <td>2200.508490</td>\n",
              "      <td>2301.944820</td>\n",
              "    </tr>\n",
              "    <tr>\n",
              "      <th>259</th>\n",
              "      <td>2021-07-31</td>\n",
              "      <td>838.858769</td>\n",
              "      <td>789.794477</td>\n",
              "      <td>889.930687</td>\n",
              "    </tr>\n",
              "    <tr>\n",
              "      <th>260</th>\n",
              "      <td>2021-08-31</td>\n",
              "      <td>871.716258</td>\n",
              "      <td>824.960120</td>\n",
              "      <td>927.647307</td>\n",
              "    </tr>\n",
              "    <tr>\n",
              "      <th>261</th>\n",
              "      <td>2021-09-30</td>\n",
              "      <td>962.764239</td>\n",
              "      <td>912.648874</td>\n",
              "      <td>1014.624645</td>\n",
              "    </tr>\n",
              "    <tr>\n",
              "      <th>262</th>\n",
              "      <td>2021-10-31</td>\n",
              "      <td>1022.968040</td>\n",
              "      <td>971.509054</td>\n",
              "      <td>1073.925173</td>\n",
              "    </tr>\n",
              "    <tr>\n",
              "      <th>263</th>\n",
              "      <td>2021-11-30</td>\n",
              "      <td>1064.912012</td>\n",
              "      <td>1012.834844</td>\n",
              "      <td>1114.991049</td>\n",
              "    </tr>\n",
              "  </tbody>\n",
              "</table>\n",
              "</div>"
            ],
            "text/plain": [
              "            ds         yhat   yhat_lower   yhat_upper\n",
              "252 2020-12-31  1623.159636  1570.672068  1677.574146\n",
              "253 2021-01-31   715.520838   662.968281   772.452423\n",
              "254 2021-02-28   759.298976   710.560120   807.347117\n",
              "255 2021-03-31  1141.228622  1091.191971  1191.082836\n",
              "256 2021-04-30  1071.786381  1023.410134  1123.444534\n",
              "257 2021-05-31  1038.412171   988.327684  1088.507833\n",
              "258 2021-06-30  2249.542345  2200.508490  2301.944820\n",
              "259 2021-07-31   838.858769   789.794477   889.930687\n",
              "260 2021-08-31   871.716258   824.960120   927.647307\n",
              "261 2021-09-30   962.764239   912.648874  1014.624645\n",
              "262 2021-10-31  1022.968040   971.509054  1073.925173\n",
              "263 2021-11-30  1064.912012  1012.834844  1114.991049"
            ]
          },
          "metadata": {
            "tags": []
          },
          "execution_count": 12
        }
      ]
    },
    {
      "cell_type": "code",
      "metadata": {
        "id": "eGbU4Qh7SKvo",
        "outputId": "5f5c784f-98d3-445b-a5ab-7c3cb79e8379",
        "colab": {
          "base_uri": "https://localhost:8080/",
          "height": 637
        }
      },
      "source": [
        "gp=plot_plotly(m, p)\n",
        "gp.update_layout(template=goTemplates[1], title=\"Histórico de Vendas\")"
      ],
      "execution_count": 13,
      "outputs": [
        {
          "output_type": "display_data",
          "data": {
            "text/html": [
              "<html>\n",
              "<head><meta charset=\"utf-8\" /></head>\n",
              "<body>\n",
              "    <div>\n",
              "            <script src=\"https://cdnjs.cloudflare.com/ajax/libs/mathjax/2.7.5/MathJax.js?config=TeX-AMS-MML_SVG\"></script><script type=\"text/javascript\">if (window.MathJax) {MathJax.Hub.Config({SVG: {font: \"STIX-Web\"}});}</script>\n",
              "                <script type=\"text/javascript\">window.PlotlyConfig = {MathJaxConfig: 'local'};</script>\n",
              "        <script src=\"https://cdn.plot.ly/plotly-latest.min.js\"></script>    \n",
              "            <div id=\"0683c9f6-dd7b-4a5e-93b9-e929fcc5ce55\" class=\"plotly-graph-div\" style=\"height:600px; width:900px;\"></div>\n",
              "            <script type=\"text/javascript\">\n",
              "                \n",
              "                    window.PLOTLYENV=window.PLOTLYENV || {};\n",
              "                    \n",
              "                if (document.getElementById(\"0683c9f6-dd7b-4a5e-93b9-e929fcc5ce55\")) {\n",
              "                    Plotly.newPlot(\n",
              "                        '0683c9f6-dd7b-4a5e-93b9-e929fcc5ce55',\n",
              "                        [{\"marker\": {\"color\": \"black\", \"size\": 4}, \"mode\": \"markers\", \"name\": \"Actual\", \"type\": \"scatter\", \"x\": [\"2000-01-28T00:00:00\", \"2000-02-28T00:00:00\", \"2000-03-28T00:00:00\", \"2000-04-28T00:00:00\", \"2000-05-28T00:00:00\", \"2000-06-28T00:00:00\", \"2000-07-28T00:00:00\", \"2000-08-28T00:00:00\", \"2000-09-28T00:00:00\", \"2000-10-28T00:00:00\", \"2000-11-28T00:00:00\", \"2000-12-28T00:00:00\", \"2001-01-28T00:00:00\", \"2001-02-28T00:00:00\", \"2001-03-28T00:00:00\", \"2001-04-28T00:00:00\", \"2001-05-28T00:00:00\", \"2001-06-28T00:00:00\", \"2001-07-28T00:00:00\", \"2001-08-28T00:00:00\", \"2001-09-28T00:00:00\", \"2001-10-28T00:00:00\", \"2001-11-28T00:00:00\", \"2001-12-28T00:00:00\", \"2002-01-28T00:00:00\", \"2002-02-28T00:00:00\", \"2002-03-28T00:00:00\", \"2002-04-28T00:00:00\", \"2002-05-28T00:00:00\", \"2002-06-28T00:00:00\", \"2002-07-28T00:00:00\", \"2002-08-28T00:00:00\", \"2002-09-28T00:00:00\", \"2002-10-28T00:00:00\", \"2002-11-28T00:00:00\", \"2002-12-28T00:00:00\", \"2003-01-28T00:00:00\", \"2003-02-28T00:00:00\", \"2003-03-28T00:00:00\", \"2003-04-28T00:00:00\", \"2003-05-28T00:00:00\", \"2003-06-28T00:00:00\", \"2003-07-28T00:00:00\", \"2003-08-28T00:00:00\", \"2003-09-28T00:00:00\", \"2003-10-28T00:00:00\", \"2003-11-28T00:00:00\", \"2003-12-28T00:00:00\", \"2004-01-28T00:00:00\", \"2004-02-28T00:00:00\", \"2004-03-28T00:00:00\", \"2004-04-28T00:00:00\", \"2004-05-28T00:00:00\", \"2004-06-28T00:00:00\", \"2004-07-28T00:00:00\", \"2004-08-28T00:00:00\", \"2004-09-28T00:00:00\", \"2004-10-28T00:00:00\", \"2004-11-28T00:00:00\", \"2004-12-28T00:00:00\", \"2005-01-28T00:00:00\", \"2005-02-28T00:00:00\", \"2005-03-28T00:00:00\", \"2005-04-28T00:00:00\", \"2005-05-28T00:00:00\", \"2005-06-28T00:00:00\", \"2005-07-28T00:00:00\", \"2005-08-28T00:00:00\", \"2005-09-28T00:00:00\", \"2005-10-28T00:00:00\", \"2005-11-28T00:00:00\", \"2005-12-28T00:00:00\", \"2006-01-28T00:00:00\", \"2006-02-28T00:00:00\", \"2006-03-28T00:00:00\", \"2006-04-28T00:00:00\", \"2006-05-28T00:00:00\", \"2006-06-28T00:00:00\", \"2006-07-28T00:00:00\", \"2006-08-28T00:00:00\", \"2006-09-28T00:00:00\", \"2006-10-28T00:00:00\", \"2006-11-28T00:00:00\", \"2006-12-28T00:00:00\", \"2007-01-28T00:00:00\", \"2007-02-28T00:00:00\", \"2007-03-28T00:00:00\", \"2007-04-28T00:00:00\", \"2007-05-28T00:00:00\", \"2007-06-28T00:00:00\", \"2007-07-28T00:00:00\", \"2007-08-28T00:00:00\", \"2007-09-28T00:00:00\", \"2007-10-28T00:00:00\", \"2007-11-28T00:00:00\", \"2007-12-28T00:00:00\", \"2008-01-28T00:00:00\", \"2008-02-28T00:00:00\", \"2008-03-28T00:00:00\", \"2008-04-28T00:00:00\", \"2008-05-28T00:00:00\", \"2008-06-28T00:00:00\", \"2008-07-28T00:00:00\", \"2008-08-28T00:00:00\", \"2008-09-28T00:00:00\", \"2008-10-28T00:00:00\", \"2008-11-28T00:00:00\", \"2008-12-28T00:00:00\", \"2009-01-28T00:00:00\", \"2009-02-28T00:00:00\", \"2009-03-28T00:00:00\", \"2009-04-28T00:00:00\", \"2009-05-28T00:00:00\", \"2009-06-28T00:00:00\", \"2009-07-28T00:00:00\", \"2009-08-28T00:00:00\", \"2009-09-28T00:00:00\", \"2009-10-28T00:00:00\", \"2009-11-28T00:00:00\", \"2009-12-28T00:00:00\", \"2010-01-28T00:00:00\", \"2010-02-28T00:00:00\", \"2010-03-28T00:00:00\", \"2010-04-28T00:00:00\", \"2010-05-28T00:00:00\", \"2010-06-28T00:00:00\", \"2010-07-28T00:00:00\", \"2010-08-28T00:00:00\", \"2010-09-28T00:00:00\", \"2010-10-28T00:00:00\", \"2010-11-28T00:00:00\", \"2010-12-28T00:00:00\", \"2011-01-28T00:00:00\", \"2011-02-28T00:00:00\", \"2011-03-28T00:00:00\", \"2011-04-28T00:00:00\", \"2011-05-28T00:00:00\", \"2011-06-28T00:00:00\", \"2011-07-28T00:00:00\", \"2011-08-28T00:00:00\", \"2011-09-28T00:00:00\", \"2011-10-28T00:00:00\", \"2011-11-28T00:00:00\", \"2011-12-28T00:00:00\", \"2012-01-28T00:00:00\", \"2012-02-28T00:00:00\", \"2012-03-28T00:00:00\", \"2012-04-28T00:00:00\", \"2012-05-28T00:00:00\", \"2012-06-28T00:00:00\", \"2012-07-28T00:00:00\", \"2012-08-28T00:00:00\", \"2012-09-28T00:00:00\", \"2012-10-28T00:00:00\", \"2012-11-28T00:00:00\", \"2012-12-28T00:00:00\", \"2013-01-28T00:00:00\", \"2013-02-28T00:00:00\", \"2013-03-28T00:00:00\", \"2013-04-28T00:00:00\", \"2013-05-28T00:00:00\", \"2013-06-28T00:00:00\", \"2013-07-28T00:00:00\", \"2013-08-28T00:00:00\", \"2013-09-28T00:00:00\", \"2013-10-28T00:00:00\", \"2013-11-28T00:00:00\", \"2013-12-28T00:00:00\", \"2014-01-28T00:00:00\", \"2014-02-28T00:00:00\", \"2014-03-28T00:00:00\", \"2014-04-28T00:00:00\", \"2014-05-28T00:00:00\", \"2014-06-28T00:00:00\", \"2014-07-28T00:00:00\", \"2014-08-28T00:00:00\", \"2014-09-28T00:00:00\", \"2014-10-28T00:00:00\", \"2014-11-28T00:00:00\", \"2014-12-28T00:00:00\", \"2015-01-28T00:00:00\", \"2015-02-28T00:00:00\", \"2015-03-28T00:00:00\", \"2015-04-28T00:00:00\", \"2015-05-28T00:00:00\", \"2015-06-28T00:00:00\", \"2015-07-28T00:00:00\", \"2015-08-28T00:00:00\", \"2015-09-28T00:00:00\", \"2015-10-28T00:00:00\", \"2015-11-28T00:00:00\", \"2015-12-28T00:00:00\", \"2016-01-28T00:00:00\", \"2016-02-28T00:00:00\", \"2016-03-28T00:00:00\", \"2016-04-28T00:00:00\", \"2016-05-28T00:00:00\", \"2016-06-28T00:00:00\", \"2016-07-28T00:00:00\", \"2016-08-28T00:00:00\", \"2016-09-28T00:00:00\", \"2016-10-28T00:00:00\", \"2016-11-28T00:00:00\", \"2016-12-28T00:00:00\", \"2017-01-28T00:00:00\", \"2017-02-28T00:00:00\", \"2017-03-28T00:00:00\", \"2017-04-28T00:00:00\", \"2017-05-28T00:00:00\", \"2017-06-28T00:00:00\", \"2017-07-28T00:00:00\", \"2017-08-28T00:00:00\", \"2017-09-28T00:00:00\", \"2017-10-28T00:00:00\", \"2017-11-28T00:00:00\", \"2017-12-28T00:00:00\", \"2018-01-28T00:00:00\", \"2018-02-28T00:00:00\", \"2018-03-28T00:00:00\", \"2018-04-28T00:00:00\", \"2018-05-28T00:00:00\", \"2018-06-28T00:00:00\", \"2018-07-28T00:00:00\", \"2018-08-28T00:00:00\", \"2018-09-28T00:00:00\", \"2018-10-28T00:00:00\", \"2018-11-28T00:00:00\", \"2018-12-28T00:00:00\", \"2019-01-28T00:00:00\", \"2019-02-28T00:00:00\", \"2019-03-28T00:00:00\", \"2019-04-28T00:00:00\", \"2019-05-28T00:00:00\", \"2019-06-28T00:00:00\", \"2019-07-28T00:00:00\", \"2019-08-28T00:00:00\", \"2019-09-28T00:00:00\", \"2019-10-28T00:00:00\", \"2019-11-28T00:00:00\", \"2019-12-28T00:00:00\"], \"y\": [825.0, 825.0, 1100.0, 1100.0, 1100.0, 2200.0, 1000.0, 1000.0, 1000.0, 1000.0, 1000.0, 1500.0, 750.0, 750.0, 1000.0, 1000.0, 1000.0, 2000.0, 1000.0, 1000.0, 1000.0, 1000.0, 1000.0, 1500.0, 825.0, 825.0, 1100.0, 1100.0, 1100.0, 2200.0, 1000.0, 1000.0, 1000.0, 1000.0, 1000.0, 1500.0, 750.0, 750.0, 1000.0, 1000.0, 1000.0, 2000.0, 1000.0, 1000.0, 1000.0, 1000.0, 1000.0, 1500.0, 825.0, 825.0, 1100.0, 1100.0, 1100.0, 2200.0, 1000.0, 1000.0, 1000.0, 1000.0, 1000.0, 1500.0, 750.0, 750.0, 1000.0, 1000.0, 1000.0, 2000.0, 1000.0, 1000.0, 1000.0, 1000.0, 1000.0, 1500.0, 825.0, 825.0, 1100.0, 1100.0, 1100.0, 2200.0, 1000.0, 1000.0, 1000.0, 1000.0, 1000.0, 1500.0, 750.0, 750.0, 1000.0, 1000.0, 1000.0, 2000.0, 1000.0, 1000.0, 1000.0, 1000.0, 1000.0, 1500.0, 825.0, 825.0, 1100.0, 1100.0, 1100.0, 2200.0, 1000.0, 1000.0, 1000.0, 1000.0, 1000.0, 1500.0, 750.0, 750.0, 1000.0, 1000.0, 1000.0, 2000.0, 1000.0, 1000.0, 1000.0, 1000.0, 1000.0, 1500.0, 825.0, 825.0, 1100.0, 1100.0, 1100.0, 2200.0, 1000.0, 1000.0, 1000.0, 1000.0, 1000.0, 1500.0, 750.0, 750.0, 1000.0, 1000.0, 1000.0, 2000.0, 1000.0, 1000.0, 1000.0, 1000.0, 1000.0, 1500.0, 825.0, 825.0, 1100.0, 1100.0, 1100.0, 2200.0, 1000.0, 1000.0, 1000.0, 1000.0, 1000.0, 1500.0, 750.0, 750.0, 1000.0, 1000.0, 1000.0, 2000.0, 1000.0, 1000.0, 1000.0, 1000.0, 1000.0, 1500.0, 825.0, 825.0, 1100.0, 1100.0, 1100.0, 2200.0, 1000.0, 1000.0, 1000.0, 1000.0, 1000.0, 1500.0, 750.0, 750.0, 1000.0, 1000.0, 1000.0, 2000.0, 1000.0, 1000.0, 1000.0, 1000.0, 1000.0, 1500.0, 825.0, 825.0, 1100.0, 1100.0, 1100.0, 2200.0, 1000.0, 1000.0, 1000.0, 1000.0, 1000.0, 1500.0, 750.0, 750.0, 1000.0, 1000.0, 1000.0, 2000.0, 1000.0, 1000.0, 1000.0, 1000.0, 1000.0, 1500.0, 825.0, 825.0, 1100.0, 1100.0, 1100.0, 2200.0, 1000.0, 1000.0, 1000.0, 1000.0, 1000.0, 1500.0, 750.0, 750.0, 1000.0, 1000.0, 1000.0, 2000.0, 1000.0, 1000.0, 1000.0, 1000.0, 1000.0, 1500.0]}, {\"hoverinfo\": \"skip\", \"line\": {\"width\": 0}, \"mode\": \"lines\", \"type\": \"scatter\", \"x\": [\"2000-01-28T00:00:00\", \"2000-02-28T00:00:00\", \"2000-03-28T00:00:00\", \"2000-04-28T00:00:00\", \"2000-05-28T00:00:00\", \"2000-06-28T00:00:00\", \"2000-07-28T00:00:00\", \"2000-08-28T00:00:00\", \"2000-09-28T00:00:00\", \"2000-10-28T00:00:00\", \"2000-11-28T00:00:00\", \"2000-12-28T00:00:00\", \"2001-01-28T00:00:00\", \"2001-02-28T00:00:00\", \"2001-03-28T00:00:00\", \"2001-04-28T00:00:00\", \"2001-05-28T00:00:00\", \"2001-06-28T00:00:00\", \"2001-07-28T00:00:00\", \"2001-08-28T00:00:00\", \"2001-09-28T00:00:00\", \"2001-10-28T00:00:00\", \"2001-11-28T00:00:00\", \"2001-12-28T00:00:00\", \"2002-01-28T00:00:00\", \"2002-02-28T00:00:00\", \"2002-03-28T00:00:00\", \"2002-04-28T00:00:00\", \"2002-05-28T00:00:00\", \"2002-06-28T00:00:00\", \"2002-07-28T00:00:00\", \"2002-08-28T00:00:00\", \"2002-09-28T00:00:00\", \"2002-10-28T00:00:00\", \"2002-11-28T00:00:00\", \"2002-12-28T00:00:00\", \"2003-01-28T00:00:00\", \"2003-02-28T00:00:00\", \"2003-03-28T00:00:00\", \"2003-04-28T00:00:00\", \"2003-05-28T00:00:00\", \"2003-06-28T00:00:00\", \"2003-07-28T00:00:00\", \"2003-08-28T00:00:00\", \"2003-09-28T00:00:00\", \"2003-10-28T00:00:00\", \"2003-11-28T00:00:00\", \"2003-12-28T00:00:00\", \"2004-01-28T00:00:00\", \"2004-02-28T00:00:00\", \"2004-03-28T00:00:00\", \"2004-04-28T00:00:00\", \"2004-05-28T00:00:00\", \"2004-06-28T00:00:00\", \"2004-07-28T00:00:00\", \"2004-08-28T00:00:00\", \"2004-09-28T00:00:00\", \"2004-10-28T00:00:00\", \"2004-11-28T00:00:00\", \"2004-12-28T00:00:00\", \"2005-01-28T00:00:00\", \"2005-02-28T00:00:00\", \"2005-03-28T00:00:00\", \"2005-04-28T00:00:00\", \"2005-05-28T00:00:00\", \"2005-06-28T00:00:00\", \"2005-07-28T00:00:00\", \"2005-08-28T00:00:00\", \"2005-09-28T00:00:00\", \"2005-10-28T00:00:00\", \"2005-11-28T00:00:00\", \"2005-12-28T00:00:00\", \"2006-01-28T00:00:00\", \"2006-02-28T00:00:00\", \"2006-03-28T00:00:00\", \"2006-04-28T00:00:00\", \"2006-05-28T00:00:00\", \"2006-06-28T00:00:00\", \"2006-07-28T00:00:00\", \"2006-08-28T00:00:00\", \"2006-09-28T00:00:00\", \"2006-10-28T00:00:00\", \"2006-11-28T00:00:00\", \"2006-12-28T00:00:00\", \"2007-01-28T00:00:00\", \"2007-02-28T00:00:00\", \"2007-03-28T00:00:00\", \"2007-04-28T00:00:00\", \"2007-05-28T00:00:00\", \"2007-06-28T00:00:00\", \"2007-07-28T00:00:00\", \"2007-08-28T00:00:00\", \"2007-09-28T00:00:00\", \"2007-10-28T00:00:00\", \"2007-11-28T00:00:00\", \"2007-12-28T00:00:00\", \"2008-01-28T00:00:00\", \"2008-02-28T00:00:00\", \"2008-03-28T00:00:00\", \"2008-04-28T00:00:00\", \"2008-05-28T00:00:00\", \"2008-06-28T00:00:00\", \"2008-07-28T00:00:00\", \"2008-08-28T00:00:00\", \"2008-09-28T00:00:00\", \"2008-10-28T00:00:00\", \"2008-11-28T00:00:00\", \"2008-12-28T00:00:00\", \"2009-01-28T00:00:00\", \"2009-02-28T00:00:00\", \"2009-03-28T00:00:00\", \"2009-04-28T00:00:00\", \"2009-05-28T00:00:00\", \"2009-06-28T00:00:00\", \"2009-07-28T00:00:00\", \"2009-08-28T00:00:00\", \"2009-09-28T00:00:00\", \"2009-10-28T00:00:00\", \"2009-11-28T00:00:00\", \"2009-12-28T00:00:00\", \"2010-01-28T00:00:00\", \"2010-02-28T00:00:00\", \"2010-03-28T00:00:00\", \"2010-04-28T00:00:00\", \"2010-05-28T00:00:00\", \"2010-06-28T00:00:00\", \"2010-07-28T00:00:00\", \"2010-08-28T00:00:00\", \"2010-09-28T00:00:00\", \"2010-10-28T00:00:00\", \"2010-11-28T00:00:00\", \"2010-12-28T00:00:00\", \"2011-01-28T00:00:00\", \"2011-02-28T00:00:00\", \"2011-03-28T00:00:00\", \"2011-04-28T00:00:00\", \"2011-05-28T00:00:00\", \"2011-06-28T00:00:00\", \"2011-07-28T00:00:00\", \"2011-08-28T00:00:00\", \"2011-09-28T00:00:00\", \"2011-10-28T00:00:00\", \"2011-11-28T00:00:00\", \"2011-12-28T00:00:00\", \"2012-01-28T00:00:00\", \"2012-02-28T00:00:00\", \"2012-03-28T00:00:00\", \"2012-04-28T00:00:00\", \"2012-05-28T00:00:00\", \"2012-06-28T00:00:00\", \"2012-07-28T00:00:00\", \"2012-08-28T00:00:00\", \"2012-09-28T00:00:00\", \"2012-10-28T00:00:00\", \"2012-11-28T00:00:00\", \"2012-12-28T00:00:00\", \"2013-01-28T00:00:00\", \"2013-02-28T00:00:00\", \"2013-03-28T00:00:00\", \"2013-04-28T00:00:00\", \"2013-05-28T00:00:00\", \"2013-06-28T00:00:00\", \"2013-07-28T00:00:00\", \"2013-08-28T00:00:00\", \"2013-09-28T00:00:00\", \"2013-10-28T00:00:00\", \"2013-11-28T00:00:00\", \"2013-12-28T00:00:00\", \"2014-01-28T00:00:00\", \"2014-02-28T00:00:00\", \"2014-03-28T00:00:00\", \"2014-04-28T00:00:00\", \"2014-05-28T00:00:00\", \"2014-06-28T00:00:00\", \"2014-07-28T00:00:00\", \"2014-08-28T00:00:00\", \"2014-09-28T00:00:00\", \"2014-10-28T00:00:00\", \"2014-11-28T00:00:00\", \"2014-12-28T00:00:00\", \"2015-01-28T00:00:00\", \"2015-02-28T00:00:00\", \"2015-03-28T00:00:00\", \"2015-04-28T00:00:00\", \"2015-05-28T00:00:00\", \"2015-06-28T00:00:00\", \"2015-07-28T00:00:00\", \"2015-08-28T00:00:00\", \"2015-09-28T00:00:00\", \"2015-10-28T00:00:00\", \"2015-11-28T00:00:00\", \"2015-12-28T00:00:00\", \"2016-01-28T00:00:00\", \"2016-02-28T00:00:00\", \"2016-03-28T00:00:00\", \"2016-04-28T00:00:00\", \"2016-05-28T00:00:00\", \"2016-06-28T00:00:00\", \"2016-07-28T00:00:00\", \"2016-08-28T00:00:00\", \"2016-09-28T00:00:00\", \"2016-10-28T00:00:00\", \"2016-11-28T00:00:00\", \"2016-12-28T00:00:00\", \"2017-01-28T00:00:00\", \"2017-02-28T00:00:00\", \"2017-03-28T00:00:00\", \"2017-04-28T00:00:00\", \"2017-05-28T00:00:00\", \"2017-06-28T00:00:00\", \"2017-07-28T00:00:00\", \"2017-08-28T00:00:00\", \"2017-09-28T00:00:00\", \"2017-10-28T00:00:00\", \"2017-11-28T00:00:00\", \"2017-12-28T00:00:00\", \"2018-01-28T00:00:00\", \"2018-02-28T00:00:00\", \"2018-03-28T00:00:00\", \"2018-04-28T00:00:00\", \"2018-05-28T00:00:00\", \"2018-06-28T00:00:00\", \"2018-07-28T00:00:00\", \"2018-08-28T00:00:00\", \"2018-09-28T00:00:00\", \"2018-10-28T00:00:00\", \"2018-11-28T00:00:00\", \"2018-12-28T00:00:00\", \"2019-01-28T00:00:00\", \"2019-02-28T00:00:00\", \"2019-03-28T00:00:00\", \"2019-04-28T00:00:00\", \"2019-05-28T00:00:00\", \"2019-06-28T00:00:00\", \"2019-07-28T00:00:00\", \"2019-08-28T00:00:00\", \"2019-09-28T00:00:00\", \"2019-10-28T00:00:00\", \"2019-11-28T00:00:00\", \"2019-12-28T00:00:00\", \"2019-12-31T00:00:00\", \"2020-01-31T00:00:00\", \"2020-02-29T00:00:00\", \"2020-03-31T00:00:00\", \"2020-04-30T00:00:00\", \"2020-05-31T00:00:00\", \"2020-06-30T00:00:00\", \"2020-07-31T00:00:00\", \"2020-08-31T00:00:00\", \"2020-09-30T00:00:00\", \"2020-10-31T00:00:00\", \"2020-11-30T00:00:00\", \"2020-12-31T00:00:00\", \"2021-01-31T00:00:00\", \"2021-02-28T00:00:00\", \"2021-03-31T00:00:00\", \"2021-04-30T00:00:00\", \"2021-05-31T00:00:00\", \"2021-06-30T00:00:00\", \"2021-07-31T00:00:00\", \"2021-08-31T00:00:00\", \"2021-09-30T00:00:00\", \"2021-10-31T00:00:00\", \"2021-11-30T00:00:00\"], \"y\": [752.2151644866382, 764.3271739260331, 1019.8082196106627, 1006.63027941276, 999.5728645149326, 2082.4479397080468, 926.1093967575786, 940.249225898415, 952.6377416953815, 959.2493747313403, 967.8628015066353, 1468.5678982484412, 726.9851105090622, 713.5982341727646, 1005.3866004295196, 1002.9978327306485, 1004.9373117186681, 2062.0634251020097, 943.9022776133991, 947.5481477791519, 947.7038633926791, 951.1574083581997, 954.6847225348328, 1458.1121834516416, 731.619089313742, 732.7185500921828, 1000.3034862043783, 998.6547685615267, 999.0518794950158, 2037.9914842532903, 955.7112926156836, 956.1580522135328, 950.2330959961358, 949.5218811289346, 950.8861737433054, 1448.1153447595073, 742.5379150104914, 746.9745700519296, 987.2392323895415, 996.1765782326805, 996.677970329864, 2021.5500141966645, 978.2983096509713, 963.5662433808652, 955.6530242343324, 943.411492889324, 936.2292730089808, 1436.1792726635545, 750.1370022332571, 764.1347587685821, 1018.4432099538517, 1005.2677048088572, 1002.224501423553, 2077.3013942753255, 927.7818797093424, 936.0424844628633, 952.9658986115177, 958.746233859825, 963.119523906876, 1464.6158942029806, 726.3248965826733, 717.7143818964115, 1003.7407599586959, 999.660054475227, 997.8768970438185, 2058.216479899473, 939.9485516361672, 945.4664594204168, 948.8352282102724, 954.7053530467945, 959.9840450573885, 1456.12547403681, 734.5099468971316, 730.6496529590983, 996.18396575525, 999.8744503884086, 1003.8297398268512, 2040.2173027527044, 958.0134441228282, 954.500153426517, 948.2297245465551, 948.1909346303258, 949.1760604471751, 1443.0772377806122, 740.3197467503657, 746.0768067872983, 984.7326033922889, 990.6119599220563, 1003.823417424514, 2019.8404332371456, 972.8341957537084, 966.3206774044944, 952.8548483363784, 947.1007466559033, 936.1577127255448, 1438.4579301937024, 751.9546394954787, 759.4969533651443, 1012.7859873708196, 1004.5918848326704, 1000.9418259358068, 2076.0413334378136, 923.093507032981, 935.6738989019095, 948.8138460234586, 957.915214305616, 962.749504313996, 1468.5312598878031, 726.6597675776793, 711.9026639738673, 1002.8437401133854, 999.3243309909514, 1000.5655169881529, 2058.860132404639, 943.8995129770311, 945.5653025647335, 947.4481060647207, 954.5761580891456, 960.1047530774534, 1450.4169885106617, 732.0476018832884, 728.8745573331344, 993.7262625867012, 995.8227522951267, 998.6201179805422, 2037.6879566175494, 959.1733389308695, 950.890108280134, 952.2392254469827, 948.8057940653109, 945.8499948707592, 1444.4777653382798, 741.7685465990617, 745.3838812163617, 982.0128392535378, 995.9747647183328, 1000.837292996493, 2020.2203357870176, 974.0014462876331, 964.0718937714767, 954.9943029612025, 940.6014855656108, 937.9927131223832, 1432.045102383369, 753.5781088736826, 760.4235852313293, 1016.8687179256636, 1004.5611113517339, 999.2704167254676, 2078.845832545503, 924.2008710132035, 930.3178320699304, 946.8538438499143, 951.8972651573418, 960.5480691404629, 1467.1735805676142, 724.8653828038985, 715.1419141978778, 999.2253995245426, 998.7031377210008, 994.6920846330733, 2056.227879472752, 943.2104461395852, 945.0418734574885, 945.0305326112311, 949.4078868043475, 956.30523571248, 1458.9418881332551, 734.3248657911117, 725.3667477834748, 994.6754955958208, 999.9933261285203, 999.9176059192922, 2042.5596046368375, 959.2990552579463, 950.9461491128625, 949.3537937811583, 946.5705386372157, 945.612492208786, 1444.7901677633504, 738.4115022850847, 742.7231611951895, 983.4158204464613, 994.4446445537309, 1001.8944236741723, 2011.3401600326943, 975.0900156951855, 958.2243460413349, 953.0308955583848, 944.089013524003, 932.0153741892309, 1430.0774533956496, 750.2891832319588, 757.3193151654757, 1012.7037272255947, 1003.6768255564538, 997.6269931578196, 2078.7553805681105, 925.0541282267455, 931.6220805467221, 942.0777499777054, 953.5242742754654, 957.1781174952241, 1463.7440587566653, 726.0530409144329, 711.5367663984139, 1001.2359034941628, 999.8248906544716, 997.1338508340301, 2052.097424261081, 937.3892431573017, 944.1517492287952, 949.0177926345823, 948.4115415516262, 948.3507609091962, 1455.2530186327183, 730.7299219494037, 731.1197258683231, 991.0986767292002, 996.6181696584578, 993.9945091496633, 2035.8846092539175, 953.8804434966491, 949.5855444209999, 944.8882201559321, 947.1481450882098, 945.4601879440419, 1442.4817022259053, 734.3260503544576, 742.6097856182816, 985.3302737143671, 988.3178107911858, 992.8002479778398, 2016.6731373391435, 968.0292733443582, 957.346190808964, 953.185378787356, 940.2812698818758, 934.1099974251375, 1432.3740143558675, 1542.204952288437, 671.5163729916903, 694.2376168334231, 1095.5385415721053, 1022.6412200938047, 991.8389303743814, 2218.318978828402, 782.5793928305442, 816.1653609749471, 907.020968073088, 976.1134776642523, 1022.2386487263537, 1570.672067574611, 662.9682812437655, 710.5601202865348, 1091.1919708072408, 1023.4101342664344, 988.3276836423794, 2200.5084897236084, 789.7944772164243, 824.9601200744492, 912.6488741253959, 971.5090537774004, 1012.8348436666852]}, {\"fill\": \"tonexty\", \"fillcolor\": \"rgba(0, 114, 178, 0.2)\", \"line\": {\"color\": \"#0072B2\", \"width\": 2}, \"mode\": \"lines\", \"name\": \"Predicted\", \"type\": \"scatter\", \"x\": [\"2000-01-28T00:00:00\", \"2000-02-28T00:00:00\", \"2000-03-28T00:00:00\", \"2000-04-28T00:00:00\", \"2000-05-28T00:00:00\", \"2000-06-28T00:00:00\", \"2000-07-28T00:00:00\", \"2000-08-28T00:00:00\", \"2000-09-28T00:00:00\", \"2000-10-28T00:00:00\", \"2000-11-28T00:00:00\", \"2000-12-28T00:00:00\", \"2001-01-28T00:00:00\", \"2001-02-28T00:00:00\", \"2001-03-28T00:00:00\", \"2001-04-28T00:00:00\", \"2001-05-28T00:00:00\", \"2001-06-28T00:00:00\", \"2001-07-28T00:00:00\", \"2001-08-28T00:00:00\", \"2001-09-28T00:00:00\", \"2001-10-28T00:00:00\", \"2001-11-28T00:00:00\", \"2001-12-28T00:00:00\", \"2002-01-28T00:00:00\", \"2002-02-28T00:00:00\", \"2002-03-28T00:00:00\", \"2002-04-28T00:00:00\", \"2002-05-28T00:00:00\", \"2002-06-28T00:00:00\", \"2002-07-28T00:00:00\", \"2002-08-28T00:00:00\", \"2002-09-28T00:00:00\", \"2002-10-28T00:00:00\", \"2002-11-28T00:00:00\", \"2002-12-28T00:00:00\", \"2003-01-28T00:00:00\", \"2003-02-28T00:00:00\", \"2003-03-28T00:00:00\", \"2003-04-28T00:00:00\", \"2003-05-28T00:00:00\", \"2003-06-28T00:00:00\", \"2003-07-28T00:00:00\", \"2003-08-28T00:00:00\", \"2003-09-28T00:00:00\", \"2003-10-28T00:00:00\", \"2003-11-28T00:00:00\", \"2003-12-28T00:00:00\", \"2004-01-28T00:00:00\", \"2004-02-28T00:00:00\", \"2004-03-28T00:00:00\", \"2004-04-28T00:00:00\", \"2004-05-28T00:00:00\", \"2004-06-28T00:00:00\", \"2004-07-28T00:00:00\", \"2004-08-28T00:00:00\", \"2004-09-28T00:00:00\", \"2004-10-28T00:00:00\", \"2004-11-28T00:00:00\", \"2004-12-28T00:00:00\", \"2005-01-28T00:00:00\", \"2005-02-28T00:00:00\", \"2005-03-28T00:00:00\", \"2005-04-28T00:00:00\", \"2005-05-28T00:00:00\", \"2005-06-28T00:00:00\", \"2005-07-28T00:00:00\", \"2005-08-28T00:00:00\", \"2005-09-28T00:00:00\", \"2005-10-28T00:00:00\", \"2005-11-28T00:00:00\", \"2005-12-28T00:00:00\", \"2006-01-28T00:00:00\", \"2006-02-28T00:00:00\", \"2006-03-28T00:00:00\", \"2006-04-28T00:00:00\", \"2006-05-28T00:00:00\", \"2006-06-28T00:00:00\", \"2006-07-28T00:00:00\", \"2006-08-28T00:00:00\", \"2006-09-28T00:00:00\", \"2006-10-28T00:00:00\", \"2006-11-28T00:00:00\", \"2006-12-28T00:00:00\", \"2007-01-28T00:00:00\", \"2007-02-28T00:00:00\", \"2007-03-28T00:00:00\", \"2007-04-28T00:00:00\", \"2007-05-28T00:00:00\", \"2007-06-28T00:00:00\", \"2007-07-28T00:00:00\", \"2007-08-28T00:00:00\", \"2007-09-28T00:00:00\", \"2007-10-28T00:00:00\", \"2007-11-28T00:00:00\", \"2007-12-28T00:00:00\", \"2008-01-28T00:00:00\", \"2008-02-28T00:00:00\", \"2008-03-28T00:00:00\", \"2008-04-28T00:00:00\", \"2008-05-28T00:00:00\", \"2008-06-28T00:00:00\", \"2008-07-28T00:00:00\", \"2008-08-28T00:00:00\", \"2008-09-28T00:00:00\", \"2008-10-28T00:00:00\", \"2008-11-28T00:00:00\", \"2008-12-28T00:00:00\", \"2009-01-28T00:00:00\", \"2009-02-28T00:00:00\", \"2009-03-28T00:00:00\", \"2009-04-28T00:00:00\", \"2009-05-28T00:00:00\", \"2009-06-28T00:00:00\", \"2009-07-28T00:00:00\", \"2009-08-28T00:00:00\", \"2009-09-28T00:00:00\", \"2009-10-28T00:00:00\", \"2009-11-28T00:00:00\", \"2009-12-28T00:00:00\", \"2010-01-28T00:00:00\", \"2010-02-28T00:00:00\", \"2010-03-28T00:00:00\", \"2010-04-28T00:00:00\", \"2010-05-28T00:00:00\", \"2010-06-28T00:00:00\", \"2010-07-28T00:00:00\", \"2010-08-28T00:00:00\", \"2010-09-28T00:00:00\", \"2010-10-28T00:00:00\", \"2010-11-28T00:00:00\", \"2010-12-28T00:00:00\", \"2011-01-28T00:00:00\", \"2011-02-28T00:00:00\", \"2011-03-28T00:00:00\", \"2011-04-28T00:00:00\", \"2011-05-28T00:00:00\", \"2011-06-28T00:00:00\", \"2011-07-28T00:00:00\", \"2011-08-28T00:00:00\", \"2011-09-28T00:00:00\", \"2011-10-28T00:00:00\", \"2011-11-28T00:00:00\", \"2011-12-28T00:00:00\", \"2012-01-28T00:00:00\", \"2012-02-28T00:00:00\", \"2012-03-28T00:00:00\", \"2012-04-28T00:00:00\", \"2012-05-28T00:00:00\", \"2012-06-28T00:00:00\", \"2012-07-28T00:00:00\", \"2012-08-28T00:00:00\", \"2012-09-28T00:00:00\", \"2012-10-28T00:00:00\", \"2012-11-28T00:00:00\", \"2012-12-28T00:00:00\", \"2013-01-28T00:00:00\", \"2013-02-28T00:00:00\", \"2013-03-28T00:00:00\", \"2013-04-28T00:00:00\", \"2013-05-28T00:00:00\", \"2013-06-28T00:00:00\", \"2013-07-28T00:00:00\", \"2013-08-28T00:00:00\", \"2013-09-28T00:00:00\", \"2013-10-28T00:00:00\", \"2013-11-28T00:00:00\", \"2013-12-28T00:00:00\", \"2014-01-28T00:00:00\", \"2014-02-28T00:00:00\", \"2014-03-28T00:00:00\", \"2014-04-28T00:00:00\", \"2014-05-28T00:00:00\", \"2014-06-28T00:00:00\", \"2014-07-28T00:00:00\", \"2014-08-28T00:00:00\", \"2014-09-28T00:00:00\", \"2014-10-28T00:00:00\", \"2014-11-28T00:00:00\", \"2014-12-28T00:00:00\", \"2015-01-28T00:00:00\", \"2015-02-28T00:00:00\", \"2015-03-28T00:00:00\", \"2015-04-28T00:00:00\", \"2015-05-28T00:00:00\", \"2015-06-28T00:00:00\", \"2015-07-28T00:00:00\", \"2015-08-28T00:00:00\", \"2015-09-28T00:00:00\", \"2015-10-28T00:00:00\", \"2015-11-28T00:00:00\", \"2015-12-28T00:00:00\", \"2016-01-28T00:00:00\", \"2016-02-28T00:00:00\", \"2016-03-28T00:00:00\", \"2016-04-28T00:00:00\", \"2016-05-28T00:00:00\", \"2016-06-28T00:00:00\", \"2016-07-28T00:00:00\", \"2016-08-28T00:00:00\", \"2016-09-28T00:00:00\", \"2016-10-28T00:00:00\", \"2016-11-28T00:00:00\", \"2016-12-28T00:00:00\", \"2017-01-28T00:00:00\", \"2017-02-28T00:00:00\", \"2017-03-28T00:00:00\", \"2017-04-28T00:00:00\", \"2017-05-28T00:00:00\", \"2017-06-28T00:00:00\", \"2017-07-28T00:00:00\", \"2017-08-28T00:00:00\", \"2017-09-28T00:00:00\", \"2017-10-28T00:00:00\", \"2017-11-28T00:00:00\", \"2017-12-28T00:00:00\", \"2018-01-28T00:00:00\", \"2018-02-28T00:00:00\", \"2018-03-28T00:00:00\", \"2018-04-28T00:00:00\", \"2018-05-28T00:00:00\", \"2018-06-28T00:00:00\", \"2018-07-28T00:00:00\", \"2018-08-28T00:00:00\", \"2018-09-28T00:00:00\", \"2018-10-28T00:00:00\", \"2018-11-28T00:00:00\", \"2018-12-28T00:00:00\", \"2019-01-28T00:00:00\", \"2019-02-28T00:00:00\", \"2019-03-28T00:00:00\", \"2019-04-28T00:00:00\", \"2019-05-28T00:00:00\", \"2019-06-28T00:00:00\", \"2019-07-28T00:00:00\", \"2019-08-28T00:00:00\", \"2019-09-28T00:00:00\", \"2019-10-28T00:00:00\", \"2019-11-28T00:00:00\", \"2019-12-28T00:00:00\", \"2019-12-31T00:00:00\", \"2020-01-31T00:00:00\", \"2020-02-29T00:00:00\", \"2020-03-31T00:00:00\", \"2020-04-30T00:00:00\", \"2020-05-31T00:00:00\", \"2020-06-30T00:00:00\", \"2020-07-31T00:00:00\", \"2020-08-31T00:00:00\", \"2020-09-30T00:00:00\", \"2020-10-31T00:00:00\", \"2020-11-30T00:00:00\", \"2020-12-31T00:00:00\", \"2021-01-31T00:00:00\", \"2021-02-28T00:00:00\", \"2021-03-31T00:00:00\", \"2021-04-30T00:00:00\", \"2021-05-31T00:00:00\", \"2021-06-30T00:00:00\", \"2021-07-31T00:00:00\", \"2021-08-31T00:00:00\", \"2021-09-30T00:00:00\", \"2021-10-31T00:00:00\", \"2021-11-30T00:00:00\"], \"y\": [803.404763976836, 813.2174921435658, 1067.4509925777024, 1057.5473619578656, 1051.8151077842592, 2131.4561319315567, 978.6557070218092, 988.2655705150992, 998.7315966336997, 1008.5492810037285, 1015.4350861068541, 1516.7710198024663, 777.3641026969252, 766.9053689776931, 1057.568596913563, 1054.038398061139, 1052.164777544185, 2112.181276407605, 994.1156560397939, 997.7791317053003, 1001.3990206909159, 1004.6360519397207, 1006.755871370885, 1507.1098471350806, 785.0985282053518, 781.9683603216599, 1047.3532188769643, 1050.5440485201386, 1052.5419339030143, 2092.7300414743017, 1010.1773745127371, 1007.216606917282, 1003.7979741354548, 1000.4873866383754, 998.0790761729817, 1497.5344810182576, 793.3556561557366, 796.9871528442231, 1036.8121332705578, 1047.0708633430445, 1052.9468897825825, 2073.1222929028945, 1026.8314107658398, 1016.5627952523298, 1005.9241709252724, 996.1117590777249, 989.4179119142434, 1488.0595576493383, 802.1310653201165, 811.9442498623075, 1066.178177228323, 1056.2750029839578, 1050.5431904639631, 2130.18467098663, 977.3846877021549, 986.9950075413457, 997.4614900057468, 1007.2796160435686, 1014.1658775367066, 1515.5022529002254, 776.0957921847956, 765.6375148557735, 1056.3056518925619, 1052.780888116422, 1050.9125273345662, 2110.934461257407, 992.8741006247927, 996.5430113497749, 1000.1683353949104, 1003.4106263787146, 1005.5358824248257, 1505.8951194293268, 783.889237085933, 780.7645057885468, 1046.1542748085917, 1049.3505410381129, 1051.3536876334465, 2091.5472317334243, 1008.999825929039, 1006.0444948622786, 1002.6312983193855, 999.3259716985181, 996.9230974719749, 1496.3837631936558, 792.2103745701666, 795.8473366345102, 1035.6772535288267, 1045.9411759095954, 1051.8222271634654, 2072.002822591793, 1025.716965269408, 1015.4535420640125, 1004.8201100450358, 995.0127230083046, 988.3240681492597, 1486.9705615821886, 801.0470785408556, 810.86527237078, 1065.1038858447673, 1055.2057208882004, 1049.478756269279, 2129.1252462896064, 976.3301109349192, 985.9454403013647, 996.4169322931566, 1006.2399062605687, 1013.1311772810229, 1514.4724005741432, 775.0709493601098, 764.6176815322751, 1055.2858464020767, 1051.7611134410954, 1049.8927824803254, 2109.9147472182244, 991.8544164067491, 995.5233579468479, 999.1487128064915, 1002.3910336110192, 1004.5163189162968, 1504.8755842361604, 782.8697311520427, 779.7450291138562, 1045.1348245615075, 1048.3311200723135, 1050.3342950044002, 2090.5278684430996, 1007.9804910310429, 1005.0251893030677, 1001.6120220989397, 998.306723870398, 995.9038789825875, 1495.3645731388765, 791.1912138979897, 794.8281762081072, 1034.6580933244945, 1044.9220159508584, 1050.8030674425677, 2070.983663116625, 1024.6978060320423, 1014.4343831483367, 1003.8009514509206, 993.9935647289436, 987.3049101953475, 1485.9514039429837, 800.0279212268526, 809.846115382084, 1064.0847290332592, 1054.1865642660928, 1048.4595996272965, 2128.1060896272115, 975.3109542524712, 984.9262835985111, 995.3977755697081, 1005.2207495173424, 1012.112020441412, 1513.4532436411378, 774.0517923567887, 763.598524458509, 1054.2666892647296, 1050.741956233293, 1048.8736252043066, 2108.89558977049, 990.8352587926255, 994.5042001608759, 998.1295548492723, 1001.3718754878324, 1003.4971606217186, 1503.856425775697, 781.8505725202647, 778.7258702678291, 1044.1156655220736, 1047.311960796615, 1049.3151355001714, 2089.5087087025836, 1006.9613310618672, 1004.0060290975423, 1000.5928616572107, 997.2874648770129, 994.8845181524822, 1494.3451137148138, 790.1716525933595, 793.8085130229874, 1033.6383381183002, 1043.9021588642524, 1049.7831117521682, 2069.9636055357782, 1023.6776498475637, 1013.4141249973338, 1002.7805913336302, 992.9731059344912, 986.2843494344875, 1484.9307445048828, 798.9701776559148, 808.7512876783176, 1062.955209848397, 1053.0199610841182, 1047.2571087062372, 2126.866514708885, 974.035491595228, 983.6137369442014, 994.0481449183512, 1003.8352311267616, 1010.6894181297093, 1511.9947536638938, 772.5562184582418, 762.0658666389002, 1052.7005362904074, 1049.13871933786, 1047.2345006433518, 2107.2193813896056, 989.1231628443792, 992.7550203929226, 996.3432912614721, 999.5497243326263, 1001.6379256467934, 1501.9613032333975, 779.9183661580496, 776.7565801286445, 1042.1128803585418, 1045.2720918561804, 1047.2393790335668, 2087.395868459046, 1004.8126032923824, 1001.8202175510262, 998.3699663337063, 995.028780350421, 992.5888514493195, 1492.0136578086137, 787.8032145107287, 791.4030927637227, 1031.1995146029228, 1041.4263531723243, 1047.2715168668933, 2067.4150284840634, 1021.0932836023359, 1010.7927765857102, 1000.1222607554919, 990.2789861629543, 983.5532474963567, 1482.1638533733897, 1595.689701272566, 722.3495770193847, 744.5851522480061, 1147.1374842550683, 1075.5686878607619, 1038.8187210733577, 2267.086007106098, 831.4942515885867, 862.9492428751423, 958.5922558911886, 1024.092255395908, 1073.5997978965515, 1623.1596360898682, 715.5208380146548, 759.2989755074318, 1141.2286221471074, 1071.7863813412212, 1038.4121712478156, 2249.5423448750416, 838.858769307278, 871.7162583550241, 962.7642389120191, 1022.9680395697258, 1064.9120116387526]}, {\"fill\": \"tonexty\", \"fillcolor\": \"rgba(0, 114, 178, 0.2)\", \"hoverinfo\": \"skip\", \"line\": {\"width\": 0}, \"mode\": \"lines\", \"type\": \"scatter\", \"x\": [\"2000-01-28T00:00:00\", \"2000-02-28T00:00:00\", \"2000-03-28T00:00:00\", \"2000-04-28T00:00:00\", \"2000-05-28T00:00:00\", \"2000-06-28T00:00:00\", \"2000-07-28T00:00:00\", \"2000-08-28T00:00:00\", \"2000-09-28T00:00:00\", \"2000-10-28T00:00:00\", \"2000-11-28T00:00:00\", \"2000-12-28T00:00:00\", \"2001-01-28T00:00:00\", \"2001-02-28T00:00:00\", \"2001-03-28T00:00:00\", \"2001-04-28T00:00:00\", \"2001-05-28T00:00:00\", \"2001-06-28T00:00:00\", \"2001-07-28T00:00:00\", \"2001-08-28T00:00:00\", \"2001-09-28T00:00:00\", \"2001-10-28T00:00:00\", \"2001-11-28T00:00:00\", \"2001-12-28T00:00:00\", \"2002-01-28T00:00:00\", \"2002-02-28T00:00:00\", \"2002-03-28T00:00:00\", \"2002-04-28T00:00:00\", \"2002-05-28T00:00:00\", \"2002-06-28T00:00:00\", \"2002-07-28T00:00:00\", \"2002-08-28T00:00:00\", \"2002-09-28T00:00:00\", \"2002-10-28T00:00:00\", \"2002-11-28T00:00:00\", \"2002-12-28T00:00:00\", \"2003-01-28T00:00:00\", \"2003-02-28T00:00:00\", \"2003-03-28T00:00:00\", \"2003-04-28T00:00:00\", \"2003-05-28T00:00:00\", \"2003-06-28T00:00:00\", \"2003-07-28T00:00:00\", \"2003-08-28T00:00:00\", \"2003-09-28T00:00:00\", \"2003-10-28T00:00:00\", \"2003-11-28T00:00:00\", \"2003-12-28T00:00:00\", \"2004-01-28T00:00:00\", \"2004-02-28T00:00:00\", \"2004-03-28T00:00:00\", \"2004-04-28T00:00:00\", \"2004-05-28T00:00:00\", \"2004-06-28T00:00:00\", \"2004-07-28T00:00:00\", \"2004-08-28T00:00:00\", \"2004-09-28T00:00:00\", \"2004-10-28T00:00:00\", \"2004-11-28T00:00:00\", \"2004-12-28T00:00:00\", \"2005-01-28T00:00:00\", \"2005-02-28T00:00:00\", \"2005-03-28T00:00:00\", \"2005-04-28T00:00:00\", \"2005-05-28T00:00:00\", \"2005-06-28T00:00:00\", \"2005-07-28T00:00:00\", \"2005-08-28T00:00:00\", \"2005-09-28T00:00:00\", \"2005-10-28T00:00:00\", \"2005-11-28T00:00:00\", \"2005-12-28T00:00:00\", \"2006-01-28T00:00:00\", \"2006-02-28T00:00:00\", \"2006-03-28T00:00:00\", \"2006-04-28T00:00:00\", \"2006-05-28T00:00:00\", \"2006-06-28T00:00:00\", \"2006-07-28T00:00:00\", \"2006-08-28T00:00:00\", \"2006-09-28T00:00:00\", \"2006-10-28T00:00:00\", \"2006-11-28T00:00:00\", \"2006-12-28T00:00:00\", \"2007-01-28T00:00:00\", \"2007-02-28T00:00:00\", \"2007-03-28T00:00:00\", \"2007-04-28T00:00:00\", \"2007-05-28T00:00:00\", \"2007-06-28T00:00:00\", \"2007-07-28T00:00:00\", \"2007-08-28T00:00:00\", \"2007-09-28T00:00:00\", \"2007-10-28T00:00:00\", \"2007-11-28T00:00:00\", \"2007-12-28T00:00:00\", \"2008-01-28T00:00:00\", \"2008-02-28T00:00:00\", \"2008-03-28T00:00:00\", \"2008-04-28T00:00:00\", \"2008-05-28T00:00:00\", \"2008-06-28T00:00:00\", \"2008-07-28T00:00:00\", \"2008-08-28T00:00:00\", \"2008-09-28T00:00:00\", \"2008-10-28T00:00:00\", \"2008-11-28T00:00:00\", \"2008-12-28T00:00:00\", \"2009-01-28T00:00:00\", \"2009-02-28T00:00:00\", \"2009-03-28T00:00:00\", \"2009-04-28T00:00:00\", \"2009-05-28T00:00:00\", \"2009-06-28T00:00:00\", \"2009-07-28T00:00:00\", \"2009-08-28T00:00:00\", \"2009-09-28T00:00:00\", \"2009-10-28T00:00:00\", \"2009-11-28T00:00:00\", \"2009-12-28T00:00:00\", \"2010-01-28T00:00:00\", \"2010-02-28T00:00:00\", \"2010-03-28T00:00:00\", \"2010-04-28T00:00:00\", \"2010-05-28T00:00:00\", \"2010-06-28T00:00:00\", \"2010-07-28T00:00:00\", \"2010-08-28T00:00:00\", \"2010-09-28T00:00:00\", \"2010-10-28T00:00:00\", \"2010-11-28T00:00:00\", \"2010-12-28T00:00:00\", \"2011-01-28T00:00:00\", \"2011-02-28T00:00:00\", \"2011-03-28T00:00:00\", \"2011-04-28T00:00:00\", \"2011-05-28T00:00:00\", \"2011-06-28T00:00:00\", \"2011-07-28T00:00:00\", \"2011-08-28T00:00:00\", \"2011-09-28T00:00:00\", \"2011-10-28T00:00:00\", \"2011-11-28T00:00:00\", \"2011-12-28T00:00:00\", \"2012-01-28T00:00:00\", \"2012-02-28T00:00:00\", \"2012-03-28T00:00:00\", \"2012-04-28T00:00:00\", \"2012-05-28T00:00:00\", \"2012-06-28T00:00:00\", \"2012-07-28T00:00:00\", \"2012-08-28T00:00:00\", \"2012-09-28T00:00:00\", \"2012-10-28T00:00:00\", \"2012-11-28T00:00:00\", \"2012-12-28T00:00:00\", \"2013-01-28T00:00:00\", \"2013-02-28T00:00:00\", \"2013-03-28T00:00:00\", \"2013-04-28T00:00:00\", \"2013-05-28T00:00:00\", \"2013-06-28T00:00:00\", \"2013-07-28T00:00:00\", \"2013-08-28T00:00:00\", \"2013-09-28T00:00:00\", \"2013-10-28T00:00:00\", \"2013-11-28T00:00:00\", \"2013-12-28T00:00:00\", \"2014-01-28T00:00:00\", \"2014-02-28T00:00:00\", \"2014-03-28T00:00:00\", \"2014-04-28T00:00:00\", \"2014-05-28T00:00:00\", \"2014-06-28T00:00:00\", \"2014-07-28T00:00:00\", \"2014-08-28T00:00:00\", \"2014-09-28T00:00:00\", \"2014-10-28T00:00:00\", \"2014-11-28T00:00:00\", \"2014-12-28T00:00:00\", \"2015-01-28T00:00:00\", \"2015-02-28T00:00:00\", \"2015-03-28T00:00:00\", \"2015-04-28T00:00:00\", \"2015-05-28T00:00:00\", \"2015-06-28T00:00:00\", \"2015-07-28T00:00:00\", \"2015-08-28T00:00:00\", \"2015-09-28T00:00:00\", \"2015-10-28T00:00:00\", \"2015-11-28T00:00:00\", \"2015-12-28T00:00:00\", \"2016-01-28T00:00:00\", \"2016-02-28T00:00:00\", \"2016-03-28T00:00:00\", \"2016-04-28T00:00:00\", \"2016-05-28T00:00:00\", \"2016-06-28T00:00:00\", \"2016-07-28T00:00:00\", \"2016-08-28T00:00:00\", \"2016-09-28T00:00:00\", \"2016-10-28T00:00:00\", \"2016-11-28T00:00:00\", \"2016-12-28T00:00:00\", \"2017-01-28T00:00:00\", \"2017-02-28T00:00:00\", \"2017-03-28T00:00:00\", \"2017-04-28T00:00:00\", \"2017-05-28T00:00:00\", \"2017-06-28T00:00:00\", \"2017-07-28T00:00:00\", \"2017-08-28T00:00:00\", \"2017-09-28T00:00:00\", \"2017-10-28T00:00:00\", \"2017-11-28T00:00:00\", \"2017-12-28T00:00:00\", \"2018-01-28T00:00:00\", \"2018-02-28T00:00:00\", \"2018-03-28T00:00:00\", \"2018-04-28T00:00:00\", \"2018-05-28T00:00:00\", \"2018-06-28T00:00:00\", \"2018-07-28T00:00:00\", \"2018-08-28T00:00:00\", \"2018-09-28T00:00:00\", \"2018-10-28T00:00:00\", \"2018-11-28T00:00:00\", \"2018-12-28T00:00:00\", \"2019-01-28T00:00:00\", \"2019-02-28T00:00:00\", \"2019-03-28T00:00:00\", \"2019-04-28T00:00:00\", \"2019-05-28T00:00:00\", \"2019-06-28T00:00:00\", \"2019-07-28T00:00:00\", \"2019-08-28T00:00:00\", \"2019-09-28T00:00:00\", \"2019-10-28T00:00:00\", \"2019-11-28T00:00:00\", \"2019-12-28T00:00:00\", \"2019-12-31T00:00:00\", \"2020-01-31T00:00:00\", \"2020-02-29T00:00:00\", \"2020-03-31T00:00:00\", \"2020-04-30T00:00:00\", \"2020-05-31T00:00:00\", \"2020-06-30T00:00:00\", \"2020-07-31T00:00:00\", \"2020-08-31T00:00:00\", \"2020-09-30T00:00:00\", \"2020-10-31T00:00:00\", \"2020-11-30T00:00:00\", \"2020-12-31T00:00:00\", \"2021-01-31T00:00:00\", \"2021-02-28T00:00:00\", \"2021-03-31T00:00:00\", \"2021-04-30T00:00:00\", \"2021-05-31T00:00:00\", \"2021-06-30T00:00:00\", \"2021-07-31T00:00:00\", \"2021-08-31T00:00:00\", \"2021-09-30T00:00:00\", \"2021-10-31T00:00:00\", \"2021-11-30T00:00:00\"], \"y\": [849.5986319208669, 865.3337163846304, 1118.8754373331803, 1109.4764765810612, 1104.6992746208691, 2180.8737189977, 1030.1431930469782, 1040.1221327316794, 1047.2159960673598, 1060.915943496199, 1069.0688845221002, 1565.5645274177673, 826.3305503370099, 815.4470192254325, 1110.5112143449344, 1100.2091380470526, 1100.7628185278977, 2163.129378019249, 1041.0330471892316, 1048.9443246256803, 1051.1194370774608, 1054.6865290877186, 1053.779780089302, 1559.255543153863, 838.7147080640241, 834.6339502711694, 1099.5228361876993, 1102.007138653667, 1102.8857738772958, 2146.171965099296, 1060.003690588482, 1057.7541075672575, 1053.6888961425207, 1050.2135921478289, 1048.6517309685328, 1547.5412216471439, 845.5243393417918, 849.687619360805, 1088.2450489124367, 1097.672115730146, 1103.330466938547, 2126.1580137724445, 1078.6665752824144, 1067.9543789261481, 1058.3274687039818, 1045.2669732736447, 1035.6983803595876, 1539.3992475640152, 854.8699203541089, 863.5750496539042, 1116.716953615015, 1108.480799745544, 1103.8287491486735, 2181.1199008993844, 1028.603231772404, 1038.8813933462413, 1047.2323243810638, 1058.5942883940575, 1065.479078618277, 1564.5564747428898, 826.6014514397231, 816.7792089203485, 1103.852369004088, 1104.3629856665887, 1098.4925484875432, 2162.2515608441117, 1041.0477270619124, 1048.4991010394522, 1050.0381053221945, 1050.392558922666, 1056.8150520005092, 1556.4853139003117, 833.7925646289573, 832.8490613214556, 1098.8955337214074, 1104.0737546742314, 1103.9487744789706, 2142.303325639718, 1060.5928741044909, 1055.8656326700752, 1048.0065778925148, 1051.095635215553, 1047.6499322782774, 1549.5787653892774, 843.8657776578405, 846.8218790382334, 1087.1851289567828, 1094.6494996268918, 1104.2531554326883, 2125.281171072118, 1078.2105488619648, 1066.8509049671043, 1056.9486485188352, 1047.0832190029605, 1038.0711815237696, 1541.568281629541, 855.3623806021019, 860.8014530878977, 1116.3514640966393, 1100.5965753175528, 1102.706502883177, 2180.6686884466235, 1025.6808113130178, 1035.7574249997797, 1047.19466473705, 1057.6896430051518, 1064.153533080747, 1567.1144209524045, 823.2228392894341, 817.0716764457903, 1103.1957160378536, 1101.9882397134488, 1099.2198628781528, 2161.1576896896704, 1040.25107412898, 1048.2960292105367, 1047.5704963757628, 1055.4816167879146, 1052.4890889533863, 1552.1313157785696, 832.3702340069568, 830.8776159970835, 1093.2662140487453, 1094.5271049921291, 1099.351701329528, 2140.369754519946, 1058.8140412638847, 1056.5775896198622, 1054.0730972872084, 1050.1666135359226, 1048.33547540436, 1545.4048347539633, 842.594285085872, 846.1411374055566, 1088.7616328504685, 1096.6601092969386, 1100.5012759942276, 2118.7926134627082, 1075.618482936424, 1061.1302477228826, 1049.402373045547, 1046.9061858661312, 1037.8980733655778, 1534.481089365204, 846.9240090072362, 858.4588990368042, 1115.095321427524, 1104.1382272110086, 1098.9478492623905, 2177.966726124924, 1022.6684706153357, 1038.8576400058726, 1048.8370321335158, 1055.6331617522203, 1065.363153064638, 1568.0949991525815, 821.737661852284, 814.0817733754765, 1102.6172823251045, 1096.6696560608189, 1097.5089114192801, 2159.0999697034695, 1044.1383533078997, 1041.7243359177594, 1048.2908105081367, 1050.464410383323, 1058.5167194671212, 1552.4194641863382, 832.8549185898165, 830.8922661847593, 1094.5757383334353, 1095.4282444350936, 1098.4508982783802, 2143.0235422468954, 1057.5810254205212, 1056.5690733511153, 1051.0090444634434, 1050.203129823243, 1046.4878290396182, 1546.2808179456079, 840.3864984510094, 841.4567006508182, 1088.328095755828, 1094.5480778986762, 1105.3787310689993, 2121.2697420847135, 1073.0439545213449, 1063.2069983494034, 1052.4060639400157, 1042.6386583559297, 1036.4170147807608, 1531.5522753542882, 852.1941341964796, 854.8148048940199, 1110.4624266832725, 1104.4999742297402, 1097.8594266446044, 2180.2660222494305, 1021.804156736668, 1033.0843846408297, 1046.5935995446414, 1055.4575830659462, 1060.8158675435748, 1558.8205216760423, 823.8894862212737, 815.8598105975027, 1102.6066221443857, 1102.8803664611414, 1096.3458753742377, 2151.646391606865, 1040.326207531285, 1043.5880558017677, 1050.9489928805965, 1049.8835503669554, 1053.7883909604884, 1550.6615903142797, 832.1624386543642, 828.2231660010319, 1092.338344748193, 1096.1420806935375, 1097.0048778820415, 2133.958633018584, 1057.1462225315863, 1051.1692870349361, 1049.646295596226, 1049.0127231453857, 1046.328125311692, 1541.595919824865, 835.8466675987688, 842.5561879980434, 1083.141605627921, 1092.274960558617, 1096.7495201715715, 2121.690238360108, 1072.4253639285314, 1059.0011847223068, 1050.3639497905556, 1038.4146196538165, 1033.4490974695, 1531.3194150150073, 1645.5330397015168, 772.103920197501, 795.4251139900637, 1198.3337594338284, 1126.8054882349063, 1091.0999403686565, 2318.1058696273503, 881.1750895953245, 916.7419822143465, 1006.1174208987521, 1077.1639708947487, 1125.610336379936, 1677.5741463325821, 772.4524229282468, 807.347116786305, 1191.08283554345, 1123.4445335742714, 1088.5078328990755, 2301.9448197793427, 889.9306873752507, 927.6473071369437, 1014.6246454300368, 1073.925173143382, 1114.9910491806036]}],\n",
              "                        {\"height\": 600, \"showlegend\": false, \"template\": {\"data\": {\"bar\": [{\"error_x\": {\"color\": \"#2a3f5f\"}, \"error_y\": {\"color\": \"#2a3f5f\"}, \"marker\": {\"line\": {\"color\": \"white\", \"width\": 0.5}}, \"type\": \"bar\"}], \"barpolar\": [{\"marker\": {\"line\": {\"color\": \"white\", \"width\": 0.5}}, \"type\": \"barpolar\"}], \"carpet\": [{\"aaxis\": {\"endlinecolor\": \"#2a3f5f\", \"gridcolor\": \"#C8D4E3\", \"linecolor\": \"#C8D4E3\", \"minorgridcolor\": \"#C8D4E3\", \"startlinecolor\": \"#2a3f5f\"}, \"baxis\": {\"endlinecolor\": \"#2a3f5f\", \"gridcolor\": \"#C8D4E3\", \"linecolor\": \"#C8D4E3\", \"minorgridcolor\": \"#C8D4E3\", \"startlinecolor\": \"#2a3f5f\"}, \"type\": \"carpet\"}], \"choropleth\": [{\"colorbar\": {\"outlinewidth\": 0, \"ticks\": \"\"}, \"type\": \"choropleth\"}], \"contour\": [{\"colorbar\": {\"outlinewidth\": 0, \"ticks\": \"\"}, \"colorscale\": [[0.0, \"#0d0887\"], [0.1111111111111111, \"#46039f\"], [0.2222222222222222, \"#7201a8\"], [0.3333333333333333, \"#9c179e\"], [0.4444444444444444, \"#bd3786\"], [0.5555555555555556, \"#d8576b\"], [0.6666666666666666, \"#ed7953\"], [0.7777777777777778, \"#fb9f3a\"], [0.8888888888888888, \"#fdca26\"], [1.0, \"#f0f921\"]], \"type\": \"contour\"}], \"contourcarpet\": [{\"colorbar\": {\"outlinewidth\": 0, \"ticks\": \"\"}, \"type\": \"contourcarpet\"}], \"heatmap\": [{\"colorbar\": {\"outlinewidth\": 0, \"ticks\": \"\"}, \"colorscale\": [[0.0, \"#0d0887\"], [0.1111111111111111, \"#46039f\"], [0.2222222222222222, \"#7201a8\"], [0.3333333333333333, \"#9c179e\"], [0.4444444444444444, \"#bd3786\"], [0.5555555555555556, \"#d8576b\"], [0.6666666666666666, \"#ed7953\"], [0.7777777777777778, \"#fb9f3a\"], [0.8888888888888888, \"#fdca26\"], [1.0, \"#f0f921\"]], \"type\": \"heatmap\"}], \"heatmapgl\": [{\"colorbar\": {\"outlinewidth\": 0, \"ticks\": \"\"}, \"colorscale\": [[0.0, \"#0d0887\"], [0.1111111111111111, \"#46039f\"], [0.2222222222222222, \"#7201a8\"], [0.3333333333333333, \"#9c179e\"], [0.4444444444444444, \"#bd3786\"], [0.5555555555555556, \"#d8576b\"], [0.6666666666666666, \"#ed7953\"], [0.7777777777777778, \"#fb9f3a\"], [0.8888888888888888, \"#fdca26\"], [1.0, \"#f0f921\"]], \"type\": \"heatmapgl\"}], \"histogram\": [{\"marker\": {\"colorbar\": {\"outlinewidth\": 0, \"ticks\": \"\"}}, \"type\": \"histogram\"}], \"histogram2d\": [{\"colorbar\": {\"outlinewidth\": 0, \"ticks\": \"\"}, \"colorscale\": [[0.0, \"#0d0887\"], [0.1111111111111111, \"#46039f\"], [0.2222222222222222, \"#7201a8\"], [0.3333333333333333, \"#9c179e\"], [0.4444444444444444, \"#bd3786\"], [0.5555555555555556, \"#d8576b\"], [0.6666666666666666, \"#ed7953\"], [0.7777777777777778, \"#fb9f3a\"], [0.8888888888888888, \"#fdca26\"], [1.0, \"#f0f921\"]], \"type\": \"histogram2d\"}], \"histogram2dcontour\": [{\"colorbar\": {\"outlinewidth\": 0, \"ticks\": \"\"}, \"colorscale\": [[0.0, \"#0d0887\"], [0.1111111111111111, \"#46039f\"], [0.2222222222222222, \"#7201a8\"], [0.3333333333333333, \"#9c179e\"], [0.4444444444444444, \"#bd3786\"], [0.5555555555555556, \"#d8576b\"], [0.6666666666666666, \"#ed7953\"], [0.7777777777777778, \"#fb9f3a\"], [0.8888888888888888, \"#fdca26\"], [1.0, \"#f0f921\"]], \"type\": \"histogram2dcontour\"}], \"mesh3d\": [{\"colorbar\": {\"outlinewidth\": 0, \"ticks\": \"\"}, \"type\": \"mesh3d\"}], \"parcoords\": [{\"line\": {\"colorbar\": {\"outlinewidth\": 0, \"ticks\": \"\"}}, \"type\": \"parcoords\"}], \"pie\": [{\"automargin\": true, \"type\": \"pie\"}], \"scatter\": [{\"marker\": {\"colorbar\": {\"outlinewidth\": 0, \"ticks\": \"\"}}, \"type\": \"scatter\"}], \"scatter3d\": [{\"line\": {\"colorbar\": {\"outlinewidth\": 0, \"ticks\": \"\"}}, \"marker\": {\"colorbar\": {\"outlinewidth\": 0, \"ticks\": \"\"}}, \"type\": \"scatter3d\"}], \"scattercarpet\": [{\"marker\": {\"colorbar\": {\"outlinewidth\": 0, \"ticks\": \"\"}}, \"type\": \"scattercarpet\"}], \"scattergeo\": [{\"marker\": {\"colorbar\": {\"outlinewidth\": 0, \"ticks\": \"\"}}, \"type\": \"scattergeo\"}], \"scattergl\": [{\"marker\": {\"colorbar\": {\"outlinewidth\": 0, \"ticks\": \"\"}}, \"type\": \"scattergl\"}], \"scattermapbox\": [{\"marker\": {\"colorbar\": {\"outlinewidth\": 0, \"ticks\": \"\"}}, \"type\": \"scattermapbox\"}], \"scatterpolar\": [{\"marker\": {\"colorbar\": {\"outlinewidth\": 0, \"ticks\": \"\"}}, \"type\": \"scatterpolar\"}], \"scatterpolargl\": [{\"marker\": {\"colorbar\": {\"outlinewidth\": 0, \"ticks\": \"\"}}, \"type\": \"scatterpolargl\"}], \"scatterternary\": [{\"marker\": {\"colorbar\": {\"outlinewidth\": 0, \"ticks\": \"\"}}, \"type\": \"scatterternary\"}], \"surface\": [{\"colorbar\": {\"outlinewidth\": 0, \"ticks\": \"\"}, \"colorscale\": [[0.0, \"#0d0887\"], [0.1111111111111111, \"#46039f\"], [0.2222222222222222, \"#7201a8\"], [0.3333333333333333, \"#9c179e\"], [0.4444444444444444, \"#bd3786\"], [0.5555555555555556, \"#d8576b\"], [0.6666666666666666, \"#ed7953\"], [0.7777777777777778, \"#fb9f3a\"], [0.8888888888888888, \"#fdca26\"], [1.0, \"#f0f921\"]], \"type\": \"surface\"}], \"table\": [{\"cells\": {\"fill\": {\"color\": \"#EBF0F8\"}, \"line\": {\"color\": \"white\"}}, \"header\": {\"fill\": {\"color\": \"#C8D4E3\"}, \"line\": {\"color\": \"white\"}}, \"type\": \"table\"}]}, \"layout\": {\"annotationdefaults\": {\"arrowcolor\": \"#2a3f5f\", \"arrowhead\": 0, \"arrowwidth\": 1}, \"coloraxis\": {\"colorbar\": {\"outlinewidth\": 0, \"ticks\": \"\"}}, \"colorscale\": {\"diverging\": [[0, \"#8e0152\"], [0.1, \"#c51b7d\"], [0.2, \"#de77ae\"], [0.3, \"#f1b6da\"], [0.4, \"#fde0ef\"], [0.5, \"#f7f7f7\"], [0.6, \"#e6f5d0\"], [0.7, \"#b8e186\"], [0.8, \"#7fbc41\"], [0.9, \"#4d9221\"], [1, \"#276419\"]], \"sequential\": [[0.0, \"#0d0887\"], [0.1111111111111111, \"#46039f\"], [0.2222222222222222, \"#7201a8\"], [0.3333333333333333, \"#9c179e\"], [0.4444444444444444, \"#bd3786\"], [0.5555555555555556, \"#d8576b\"], [0.6666666666666666, \"#ed7953\"], [0.7777777777777778, \"#fb9f3a\"], [0.8888888888888888, \"#fdca26\"], [1.0, \"#f0f921\"]], \"sequentialminus\": [[0.0, \"#0d0887\"], [0.1111111111111111, \"#46039f\"], [0.2222222222222222, \"#7201a8\"], [0.3333333333333333, \"#9c179e\"], [0.4444444444444444, \"#bd3786\"], [0.5555555555555556, \"#d8576b\"], [0.6666666666666666, \"#ed7953\"], [0.7777777777777778, \"#fb9f3a\"], [0.8888888888888888, \"#fdca26\"], [1.0, \"#f0f921\"]]}, \"colorway\": [\"#636efa\", \"#EF553B\", \"#00cc96\", \"#ab63fa\", \"#FFA15A\", \"#19d3f3\", \"#FF6692\", \"#B6E880\", \"#FF97FF\", \"#FECB52\"], \"font\": {\"color\": \"#2a3f5f\"}, \"geo\": {\"bgcolor\": \"white\", \"lakecolor\": \"white\", \"landcolor\": \"white\", \"showlakes\": true, \"showland\": true, \"subunitcolor\": \"#C8D4E3\"}, \"hoverlabel\": {\"align\": \"left\"}, \"hovermode\": \"closest\", \"mapbox\": {\"style\": \"light\"}, \"paper_bgcolor\": \"white\", \"plot_bgcolor\": \"white\", \"polar\": {\"angularaxis\": {\"gridcolor\": \"#EBF0F8\", \"linecolor\": \"#EBF0F8\", \"ticks\": \"\"}, \"bgcolor\": \"white\", \"radialaxis\": {\"gridcolor\": \"#EBF0F8\", \"linecolor\": \"#EBF0F8\", \"ticks\": \"\"}}, \"scene\": {\"xaxis\": {\"backgroundcolor\": \"white\", \"gridcolor\": \"#DFE8F3\", \"gridwidth\": 2, \"linecolor\": \"#EBF0F8\", \"showbackground\": true, \"ticks\": \"\", \"zerolinecolor\": \"#EBF0F8\"}, \"yaxis\": {\"backgroundcolor\": \"white\", \"gridcolor\": \"#DFE8F3\", \"gridwidth\": 2, \"linecolor\": \"#EBF0F8\", \"showbackground\": true, \"ticks\": \"\", \"zerolinecolor\": \"#EBF0F8\"}, \"zaxis\": {\"backgroundcolor\": \"white\", \"gridcolor\": \"#DFE8F3\", \"gridwidth\": 2, \"linecolor\": \"#EBF0F8\", \"showbackground\": true, \"ticks\": \"\", \"zerolinecolor\": \"#EBF0F8\"}}, \"shapedefaults\": {\"line\": {\"color\": \"#2a3f5f\"}}, \"ternary\": {\"aaxis\": {\"gridcolor\": \"#DFE8F3\", \"linecolor\": \"#A2B1C6\", \"ticks\": \"\"}, \"baxis\": {\"gridcolor\": \"#DFE8F3\", \"linecolor\": \"#A2B1C6\", \"ticks\": \"\"}, \"bgcolor\": \"white\", \"caxis\": {\"gridcolor\": \"#DFE8F3\", \"linecolor\": \"#A2B1C6\", \"ticks\": \"\"}}, \"title\": {\"x\": 0.05}, \"xaxis\": {\"automargin\": true, \"gridcolor\": \"#EBF0F8\", \"linecolor\": \"#EBF0F8\", \"ticks\": \"\", \"title\": {\"standoff\": 15}, \"zerolinecolor\": \"#EBF0F8\", \"zerolinewidth\": 2}, \"yaxis\": {\"automargin\": true, \"gridcolor\": \"#EBF0F8\", \"linecolor\": \"#EBF0F8\", \"ticks\": \"\", \"title\": {\"standoff\": 15}, \"zerolinecolor\": \"#EBF0F8\", \"zerolinewidth\": 2}}}, \"title\": {\"text\": \"Hist\\u00f3rico de Vendas\"}, \"width\": 900, \"xaxis\": {\"rangeselector\": {\"buttons\": [{\"count\": 7, \"label\": \"1w\", \"step\": \"day\", \"stepmode\": \"backward\"}, {\"count\": 1, \"label\": \"1m\", \"step\": \"month\", \"stepmode\": \"backward\"}, {\"count\": 6, \"label\": \"6m\", \"step\": \"month\", \"stepmode\": \"backward\"}, {\"count\": 1, \"label\": \"1y\", \"step\": \"year\", \"stepmode\": \"backward\"}, {\"step\": \"all\"}]}, \"rangeslider\": {\"visible\": true}, \"title\": {\"text\": \"ds\"}, \"type\": \"date\"}, \"yaxis\": {\"title\": {\"text\": \"y\"}}},\n",
              "                        {\"responsive\": true}\n",
              "                    ).then(function(){\n",
              "                            \n",
              "var gd = document.getElementById('0683c9f6-dd7b-4a5e-93b9-e929fcc5ce55');\n",
              "var x = new MutationObserver(function (mutations, observer) {{\n",
              "        var display = window.getComputedStyle(gd).display;\n",
              "        if (!display || display === 'none') {{\n",
              "            console.log([gd, 'removed!']);\n",
              "            Plotly.purge(gd);\n",
              "            observer.disconnect();\n",
              "        }}\n",
              "}});\n",
              "\n",
              "// Listen for the removal of the full notebook cells\n",
              "var notebookContainer = gd.closest('#notebook-container');\n",
              "if (notebookContainer) {{\n",
              "    x.observe(notebookContainer, {childList: true});\n",
              "}}\n",
              "\n",
              "// Listen for the clearing of the current output cell\n",
              "var outputEl = gd.closest('.output');\n",
              "if (outputEl) {{\n",
              "    x.observe(outputEl, {childList: true});\n",
              "}}\n",
              "\n",
              "                        })\n",
              "                };\n",
              "                \n",
              "            </script>\n",
              "        </div>\n",
              "</body>\n",
              "</html>"
            ]
          },
          "metadata": {
            "tags": []
          }
        }
      ]
    },
    {
      "cell_type": "code",
      "metadata": {
        "id": "IbTaXkbmTJT5",
        "outputId": "d77c7ca7-4991-45b5-d51c-8bbe3e18a479",
        "colab": {
          "base_uri": "https://localhost:8080/",
          "height": 437
        }
      },
      "source": [
        "gp=plot_components_plotly(m, p)\n",
        "gp.update_layout(template=goTemplates[1], title=\"Detalhes do Histórico de Vendas\")"
      ],
      "execution_count": 14,
      "outputs": [
        {
          "output_type": "display_data",
          "data": {
            "text/html": [
              "<html>\n",
              "<head><meta charset=\"utf-8\" /></head>\n",
              "<body>\n",
              "    <div>\n",
              "            <script src=\"https://cdnjs.cloudflare.com/ajax/libs/mathjax/2.7.5/MathJax.js?config=TeX-AMS-MML_SVG\"></script><script type=\"text/javascript\">if (window.MathJax) {MathJax.Hub.Config({SVG: {font: \"STIX-Web\"}});}</script>\n",
              "                <script type=\"text/javascript\">window.PlotlyConfig = {MathJaxConfig: 'local'};</script>\n",
              "        <script src=\"https://cdn.plot.ly/plotly-latest.min.js\"></script>    \n",
              "            <div id=\"af8b21a9-d89a-4a11-8622-b477230247ec\" class=\"plotly-graph-div\" style=\"height:400px; width:900px;\"></div>\n",
              "            <script type=\"text/javascript\">\n",
              "                \n",
              "                    window.PLOTLYENV=window.PLOTLYENV || {};\n",
              "                    \n",
              "                if (document.getElementById(\"af8b21a9-d89a-4a11-8622-b477230247ec\")) {\n",
              "                    Plotly.newPlot(\n",
              "                        'af8b21a9-d89a-4a11-8622-b477230247ec',\n",
              "                        [{\"line\": {\"color\": \"#0072B2\", \"width\": 2}, \"mode\": \"lines\", \"name\": \"trend\", \"type\": \"scatter\", \"x\": [\"2000-01-28T00:00:00\", \"2000-02-28T00:00:00\", \"2000-03-28T00:00:00\", \"2000-04-28T00:00:00\", \"2000-05-28T00:00:00\", \"2000-06-28T00:00:00\", \"2000-07-28T00:00:00\", \"2000-08-28T00:00:00\", \"2000-09-28T00:00:00\", \"2000-10-28T00:00:00\", \"2000-11-28T00:00:00\", \"2000-12-28T00:00:00\", \"2001-01-28T00:00:00\", \"2001-02-28T00:00:00\", \"2001-03-28T00:00:00\", \"2001-04-28T00:00:00\", \"2001-05-28T00:00:00\", \"2001-06-28T00:00:00\", \"2001-07-28T00:00:00\", \"2001-08-28T00:00:00\", \"2001-09-28T00:00:00\", \"2001-10-28T00:00:00\", \"2001-11-28T00:00:00\", \"2001-12-28T00:00:00\", \"2002-01-28T00:00:00\", \"2002-02-28T00:00:00\", \"2002-03-28T00:00:00\", \"2002-04-28T00:00:00\", \"2002-05-28T00:00:00\", \"2002-06-28T00:00:00\", \"2002-07-28T00:00:00\", \"2002-08-28T00:00:00\", \"2002-09-28T00:00:00\", \"2002-10-28T00:00:00\", \"2002-11-28T00:00:00\", \"2002-12-28T00:00:00\", \"2003-01-28T00:00:00\", \"2003-02-28T00:00:00\", \"2003-03-28T00:00:00\", \"2003-04-28T00:00:00\", \"2003-05-28T00:00:00\", \"2003-06-28T00:00:00\", \"2003-07-28T00:00:00\", \"2003-08-28T00:00:00\", \"2003-09-28T00:00:00\", \"2003-10-28T00:00:00\", \"2003-11-28T00:00:00\", \"2003-12-28T00:00:00\", \"2004-01-28T00:00:00\", \"2004-02-28T00:00:00\", \"2004-03-28T00:00:00\", \"2004-04-28T00:00:00\", \"2004-05-28T00:00:00\", \"2004-06-28T00:00:00\", \"2004-07-28T00:00:00\", \"2004-08-28T00:00:00\", \"2004-09-28T00:00:00\", \"2004-10-28T00:00:00\", \"2004-11-28T00:00:00\", \"2004-12-28T00:00:00\", \"2005-01-28T00:00:00\", \"2005-02-28T00:00:00\", \"2005-03-28T00:00:00\", \"2005-04-28T00:00:00\", \"2005-05-28T00:00:00\", \"2005-06-28T00:00:00\", \"2005-07-28T00:00:00\", \"2005-08-28T00:00:00\", \"2005-09-28T00:00:00\", \"2005-10-28T00:00:00\", \"2005-11-28T00:00:00\", \"2005-12-28T00:00:00\", \"2006-01-28T00:00:00\", \"2006-02-28T00:00:00\", \"2006-03-28T00:00:00\", \"2006-04-28T00:00:00\", \"2006-05-28T00:00:00\", \"2006-06-28T00:00:00\", \"2006-07-28T00:00:00\", \"2006-08-28T00:00:00\", \"2006-09-28T00:00:00\", \"2006-10-28T00:00:00\", \"2006-11-28T00:00:00\", \"2006-12-28T00:00:00\", \"2007-01-28T00:00:00\", \"2007-02-28T00:00:00\", \"2007-03-28T00:00:00\", \"2007-04-28T00:00:00\", \"2007-05-28T00:00:00\", \"2007-06-28T00:00:00\", \"2007-07-28T00:00:00\", \"2007-08-28T00:00:00\", \"2007-09-28T00:00:00\", \"2007-10-28T00:00:00\", \"2007-11-28T00:00:00\", \"2007-12-28T00:00:00\", \"2008-01-28T00:00:00\", \"2008-02-28T00:00:00\", \"2008-03-28T00:00:00\", \"2008-04-28T00:00:00\", \"2008-05-28T00:00:00\", \"2008-06-28T00:00:00\", \"2008-07-28T00:00:00\", \"2008-08-28T00:00:00\", \"2008-09-28T00:00:00\", \"2008-10-28T00:00:00\", \"2008-11-28T00:00:00\", \"2008-12-28T00:00:00\", \"2009-01-28T00:00:00\", \"2009-02-28T00:00:00\", \"2009-03-28T00:00:00\", \"2009-04-28T00:00:00\", \"2009-05-28T00:00:00\", \"2009-06-28T00:00:00\", \"2009-07-28T00:00:00\", \"2009-08-28T00:00:00\", \"2009-09-28T00:00:00\", \"2009-10-28T00:00:00\", \"2009-11-28T00:00:00\", \"2009-12-28T00:00:00\", \"2010-01-28T00:00:00\", \"2010-02-28T00:00:00\", \"2010-03-28T00:00:00\", \"2010-04-28T00:00:00\", \"2010-05-28T00:00:00\", \"2010-06-28T00:00:00\", \"2010-07-28T00:00:00\", \"2010-08-28T00:00:00\", \"2010-09-28T00:00:00\", \"2010-10-28T00:00:00\", \"2010-11-28T00:00:00\", \"2010-12-28T00:00:00\", \"2011-01-28T00:00:00\", \"2011-02-28T00:00:00\", \"2011-03-28T00:00:00\", \"2011-04-28T00:00:00\", \"2011-05-28T00:00:00\", \"2011-06-28T00:00:00\", \"2011-07-28T00:00:00\", \"2011-08-28T00:00:00\", \"2011-09-28T00:00:00\", \"2011-10-28T00:00:00\", \"2011-11-28T00:00:00\", \"2011-12-28T00:00:00\", \"2012-01-28T00:00:00\", \"2012-02-28T00:00:00\", \"2012-03-28T00:00:00\", \"2012-04-28T00:00:00\", \"2012-05-28T00:00:00\", \"2012-06-28T00:00:00\", \"2012-07-28T00:00:00\", \"2012-08-28T00:00:00\", \"2012-09-28T00:00:00\", \"2012-10-28T00:00:00\", \"2012-11-28T00:00:00\", \"2012-12-28T00:00:00\", \"2013-01-28T00:00:00\", \"2013-02-28T00:00:00\", \"2013-03-28T00:00:00\", \"2013-04-28T00:00:00\", \"2013-05-28T00:00:00\", \"2013-06-28T00:00:00\", \"2013-07-28T00:00:00\", \"2013-08-28T00:00:00\", \"2013-09-28T00:00:00\", \"2013-10-28T00:00:00\", \"2013-11-28T00:00:00\", \"2013-12-28T00:00:00\", \"2014-01-28T00:00:00\", \"2014-02-28T00:00:00\", \"2014-03-28T00:00:00\", \"2014-04-28T00:00:00\", \"2014-05-28T00:00:00\", \"2014-06-28T00:00:00\", \"2014-07-28T00:00:00\", \"2014-08-28T00:00:00\", \"2014-09-28T00:00:00\", \"2014-10-28T00:00:00\", \"2014-11-28T00:00:00\", \"2014-12-28T00:00:00\", \"2015-01-28T00:00:00\", \"2015-02-28T00:00:00\", \"2015-03-28T00:00:00\", \"2015-04-28T00:00:00\", \"2015-05-28T00:00:00\", \"2015-06-28T00:00:00\", \"2015-07-28T00:00:00\", \"2015-08-28T00:00:00\", \"2015-09-28T00:00:00\", \"2015-10-28T00:00:00\", \"2015-11-28T00:00:00\", \"2015-12-28T00:00:00\", \"2016-01-28T00:00:00\", \"2016-02-28T00:00:00\", \"2016-03-28T00:00:00\", \"2016-04-28T00:00:00\", \"2016-05-28T00:00:00\", \"2016-06-28T00:00:00\", \"2016-07-28T00:00:00\", \"2016-08-28T00:00:00\", \"2016-09-28T00:00:00\", \"2016-10-28T00:00:00\", \"2016-11-28T00:00:00\", \"2016-12-28T00:00:00\", \"2017-01-28T00:00:00\", \"2017-02-28T00:00:00\", \"2017-03-28T00:00:00\", \"2017-04-28T00:00:00\", \"2017-05-28T00:00:00\", \"2017-06-28T00:00:00\", \"2017-07-28T00:00:00\", \"2017-08-28T00:00:00\", \"2017-09-28T00:00:00\", \"2017-10-28T00:00:00\", \"2017-11-28T00:00:00\", \"2017-12-28T00:00:00\", \"2018-01-28T00:00:00\", \"2018-02-28T00:00:00\", \"2018-03-28T00:00:00\", \"2018-04-28T00:00:00\", \"2018-05-28T00:00:00\", \"2018-06-28T00:00:00\", \"2018-07-28T00:00:00\", \"2018-08-28T00:00:00\", \"2018-09-28T00:00:00\", \"2018-10-28T00:00:00\", \"2018-11-28T00:00:00\", \"2018-12-28T00:00:00\", \"2019-01-28T00:00:00\", \"2019-02-28T00:00:00\", \"2019-03-28T00:00:00\", \"2019-04-28T00:00:00\", \"2019-05-28T00:00:00\", \"2019-06-28T00:00:00\", \"2019-07-28T00:00:00\", \"2019-08-28T00:00:00\", \"2019-09-28T00:00:00\", \"2019-10-28T00:00:00\", \"2019-11-28T00:00:00\", \"2019-12-28T00:00:00\", \"2019-12-31T00:00:00\", \"2020-01-31T00:00:00\", \"2020-02-29T00:00:00\", \"2020-03-31T00:00:00\", \"2020-04-30T00:00:00\", \"2020-05-31T00:00:00\", \"2020-06-30T00:00:00\", \"2020-07-31T00:00:00\", \"2020-08-31T00:00:00\", \"2020-09-30T00:00:00\", \"2020-10-31T00:00:00\", \"2020-11-30T00:00:00\", \"2020-12-31T00:00:00\", \"2021-01-31T00:00:00\", \"2021-02-28T00:00:00\", \"2021-03-31T00:00:00\", \"2021-04-30T00:00:00\", \"2021-05-31T00:00:00\", \"2021-06-30T00:00:00\", \"2021-07-31T00:00:00\", \"2021-08-31T00:00:00\", \"2021-09-30T00:00:00\", \"2021-10-31T00:00:00\", \"2021-11-30T00:00:00\"], \"xaxis\": \"x\", \"y\": [1120.9817655837558, 1120.9546748814132, 1120.9293319663184, 1120.9022412639756, 1120.8760244552566, 1120.848933752914, 1120.8227169441952, 1120.7956262418527, 1120.7685355395097, 1120.7423186880285, 1120.7152279414984, 1120.6890110900172, 1120.6619203434868, 1120.6348295969565, 1120.6103605355743, 1120.5832697890437, 1120.5570529537574, 1120.5299622239615, 1120.5037453886753, 1120.4766546588796, 1120.4495639290838, 1120.4233470937975, 1120.3962563640016, 1120.3700395287153, 1120.3429488276772, 1120.3158581266391, 1120.2913891063467, 1120.2642984053086, 1120.2380815978522, 1120.210990896814, 1120.184774089358, 1120.1576833883198, 1120.1305929771543, 1120.1043764502201, 1120.0772860390546, 1120.0510695121202, 1120.0239791009546, 1119.996888689789, 1119.972419931317, 1119.945602587677, 1119.9196503196385, 1119.8928329759988, 1119.86688070796, 1119.8400633643205, 1119.8132460206805, 1119.7872937526417, 1119.7604764090022, 1119.7347012539506, 1119.7080669270636, 1119.6814326001768, 1119.6565166169603, 1119.6298822900737, 1119.604107135022, 1119.577472808135, 1119.5516976244678, 1119.5250632680113, 1119.4984289115548, 1119.4726537278873, 1119.4460193714308, 1119.4202441877633, 1119.3936098313065, 1119.3669754748503, 1119.3474155146168, 1119.3257598443583, 1119.3048027441082, 1119.2831470738497, 1119.2621899735993, 1119.2405343033408, 1119.2188786330823, 1119.1979215328322, 1119.1762674180245, 1119.1553118230493, 1119.1336577082413, 1119.1120035934334, 1119.092445038123, 1119.0707909233154, 1119.04983532834, 1119.0281811560812, 1119.0072255055081, 1118.9855713332493, 1118.9639171609906, 1118.9429615104177, 1118.9213073381588, 1118.9003516875857, 1118.878697515327, 1118.8570724798426, 1118.8375401897279, 1118.8159151542432, 1118.7949877005485, 1118.7733626650643, 1118.7524352113696, 1118.7308101758852, 1118.7091851404005, 1118.6882576832045, 1118.6666326441018, 1118.6457051869058, 1118.6240801478032, 1118.6024551087005, 1118.582225233411, 1118.5606001943083, 1118.5396729403033, 1118.518048111165, 1118.4971208571599, 1118.4754960280213, 1118.4538711988828, 1118.4329439448777, 1118.4113191157392, 1118.3903918617343, 1118.3687670065804, 1118.347142151426, 1118.3276100241899, 1118.305985169036, 1118.2850578898542, 1118.2634330347003, 1118.2425057555186, 1118.2208809003644, 1118.1992560447577, 1118.1783287651385, 1118.1567039095319, 1118.1357766299122, 1118.1141517743056, 1118.0925269186991, 1118.0729947910545, 1118.05136995754, 1118.0304426992998, 1118.0088178657852, 1117.987890607545, 1117.9662657740305, 1117.9446409405157, 1117.9237136822755, 1117.902088848761, 1117.8811616328865, 1117.859536843149, 1117.8379120534119, 1117.818379985262, 1117.7967551955246, 1117.7758279796499, 1117.7542031899127, 1117.7332759740377, 1117.711651260194, 1117.6900265463503, 1117.6690994039209, 1117.6474746900772, 1117.6265475476475, 1117.6049228338038, 1117.58329811996, 1117.5630684218913, 1117.5414435722312, 1117.5205162983666, 1117.4988914487064, 1117.4779641748419, 1117.4563393251817, 1117.4347144755218, 1117.413787201657, 1117.39216227609, 1117.3712349287666, 1117.3496100031991, 1117.3279850776319, 1117.3084528867969, 1117.2868279612294, 1117.2659006139063, 1117.2442755869063, 1117.2233481414223, 1117.2017231144223, 1117.1800980874225, 1117.1591706419385, 1117.1375456149387, 1117.1166181694548, 1117.0949931424548, 1117.073368072688, 1117.0538357516082, 1117.0322106818414, 1117.0112831949702, 1116.9896581252035, 1116.9687306383323, 1116.9471055685653, 1116.9254804987986, 1116.904454688907, 1116.8827280186858, 1116.8617022087942, 1116.8399755385728, 1116.8182488683517, 1116.7986247791196, 1116.7768981088984, 1116.7558722893145, 1116.7341456090783, 1116.7131197894944, 1116.6913931092581, 1116.6696664290216, 1116.6486406094377, 1116.6269139292012, 1116.6058881096176, 1116.5471792628864, 1116.4884704161552, 1116.4335492369553, 1116.374840390224, 1116.3180253772587, 1116.2593165305277, 1116.2025015175623, 1116.143792670831, 1116.0850838241001, 1116.0282688111345, 1115.9695599644035, 1115.9127449514378, 1115.854036104707, 1115.7953272579757, 1115.7422999125413, 1115.68359106581, 1115.6267760528447, 1115.5680672061135, 1115.511252193148, 1115.452543346417, 1115.393834499686, 1115.3370194867205, 1115.2783106399893, 1115.2214956270238, 1115.1627867802927, 1115.1040779335617, 1115.051050588127, 1114.992341741396, 1114.9355267284304, 1114.8768178816995, 1114.8200028687338, 1114.7612940220029, 1114.702585175272, 1114.6457701623065, 1114.5870613155753, 1114.5302463026098, 1114.4715374558787, 1114.4128286091475, 1114.359801263713, 1114.301092416982, 1114.2442774040164, 1114.1855685572855, 1114.1287535443198, 1114.0700446975886, 1114.0113358508577, 1113.954520837892, 1113.8958119911613, 1113.8389969781956, 1113.833315476899, 1113.774606630168, 1113.719685450968, 1113.6609766042368, 1113.6041615912713, 1113.5454527445402, 1113.4886377315747, 1113.4299288848435, 1113.3712200381128, 1113.3144050251472, 1113.2556961784162, 1113.1988811654505, 1113.1401723187194, 1113.0814634719884, 1113.028436126554, 1112.9697272798228, 1112.9129122668573, 1112.8542034201262, 1112.7973884071605, 1112.7386795604295, 1112.6799707136984, 1112.623155700733, 1112.564446854002, 1112.5076318410365], \"yaxis\": \"y\"}, {\"line\": {\"color\": \"rgba(0, 114, 178, 0.2)\", \"width\": 0}, \"mode\": \"lines\", \"name\": \"trend_upper\", \"type\": \"scatter\", \"x\": [\"2000-01-28T00:00:00\", \"2000-02-28T00:00:00\", \"2000-03-28T00:00:00\", \"2000-04-28T00:00:00\", \"2000-05-28T00:00:00\", \"2000-06-28T00:00:00\", \"2000-07-28T00:00:00\", \"2000-08-28T00:00:00\", \"2000-09-28T00:00:00\", \"2000-10-28T00:00:00\", \"2000-11-28T00:00:00\", \"2000-12-28T00:00:00\", \"2001-01-28T00:00:00\", \"2001-02-28T00:00:00\", \"2001-03-28T00:00:00\", \"2001-04-28T00:00:00\", \"2001-05-28T00:00:00\", \"2001-06-28T00:00:00\", \"2001-07-28T00:00:00\", \"2001-08-28T00:00:00\", \"2001-09-28T00:00:00\", \"2001-10-28T00:00:00\", \"2001-11-28T00:00:00\", \"2001-12-28T00:00:00\", \"2002-01-28T00:00:00\", \"2002-02-28T00:00:00\", \"2002-03-28T00:00:00\", \"2002-04-28T00:00:00\", \"2002-05-28T00:00:00\", \"2002-06-28T00:00:00\", \"2002-07-28T00:00:00\", \"2002-08-28T00:00:00\", \"2002-09-28T00:00:00\", \"2002-10-28T00:00:00\", \"2002-11-28T00:00:00\", \"2002-12-28T00:00:00\", \"2003-01-28T00:00:00\", \"2003-02-28T00:00:00\", \"2003-03-28T00:00:00\", \"2003-04-28T00:00:00\", \"2003-05-28T00:00:00\", \"2003-06-28T00:00:00\", \"2003-07-28T00:00:00\", \"2003-08-28T00:00:00\", \"2003-09-28T00:00:00\", \"2003-10-28T00:00:00\", \"2003-11-28T00:00:00\", \"2003-12-28T00:00:00\", \"2004-01-28T00:00:00\", \"2004-02-28T00:00:00\", \"2004-03-28T00:00:00\", \"2004-04-28T00:00:00\", \"2004-05-28T00:00:00\", \"2004-06-28T00:00:00\", \"2004-07-28T00:00:00\", \"2004-08-28T00:00:00\", \"2004-09-28T00:00:00\", \"2004-10-28T00:00:00\", \"2004-11-28T00:00:00\", \"2004-12-28T00:00:00\", \"2005-01-28T00:00:00\", \"2005-02-28T00:00:00\", \"2005-03-28T00:00:00\", \"2005-04-28T00:00:00\", \"2005-05-28T00:00:00\", \"2005-06-28T00:00:00\", \"2005-07-28T00:00:00\", \"2005-08-28T00:00:00\", \"2005-09-28T00:00:00\", \"2005-10-28T00:00:00\", \"2005-11-28T00:00:00\", \"2005-12-28T00:00:00\", \"2006-01-28T00:00:00\", \"2006-02-28T00:00:00\", \"2006-03-28T00:00:00\", \"2006-04-28T00:00:00\", \"2006-05-28T00:00:00\", \"2006-06-28T00:00:00\", \"2006-07-28T00:00:00\", \"2006-08-28T00:00:00\", \"2006-09-28T00:00:00\", \"2006-10-28T00:00:00\", \"2006-11-28T00:00:00\", \"2006-12-28T00:00:00\", \"2007-01-28T00:00:00\", \"2007-02-28T00:00:00\", \"2007-03-28T00:00:00\", \"2007-04-28T00:00:00\", \"2007-05-28T00:00:00\", \"2007-06-28T00:00:00\", \"2007-07-28T00:00:00\", \"2007-08-28T00:00:00\", \"2007-09-28T00:00:00\", \"2007-10-28T00:00:00\", \"2007-11-28T00:00:00\", \"2007-12-28T00:00:00\", \"2008-01-28T00:00:00\", \"2008-02-28T00:00:00\", \"2008-03-28T00:00:00\", \"2008-04-28T00:00:00\", \"2008-05-28T00:00:00\", \"2008-06-28T00:00:00\", \"2008-07-28T00:00:00\", \"2008-08-28T00:00:00\", \"2008-09-28T00:00:00\", \"2008-10-28T00:00:00\", \"2008-11-28T00:00:00\", \"2008-12-28T00:00:00\", \"2009-01-28T00:00:00\", \"2009-02-28T00:00:00\", \"2009-03-28T00:00:00\", \"2009-04-28T00:00:00\", \"2009-05-28T00:00:00\", \"2009-06-28T00:00:00\", \"2009-07-28T00:00:00\", \"2009-08-28T00:00:00\", \"2009-09-28T00:00:00\", \"2009-10-28T00:00:00\", \"2009-11-28T00:00:00\", \"2009-12-28T00:00:00\", \"2010-01-28T00:00:00\", \"2010-02-28T00:00:00\", \"2010-03-28T00:00:00\", \"2010-04-28T00:00:00\", \"2010-05-28T00:00:00\", \"2010-06-28T00:00:00\", \"2010-07-28T00:00:00\", \"2010-08-28T00:00:00\", \"2010-09-28T00:00:00\", \"2010-10-28T00:00:00\", \"2010-11-28T00:00:00\", \"2010-12-28T00:00:00\", \"2011-01-28T00:00:00\", \"2011-02-28T00:00:00\", \"2011-03-28T00:00:00\", \"2011-04-28T00:00:00\", \"2011-05-28T00:00:00\", \"2011-06-28T00:00:00\", \"2011-07-28T00:00:00\", \"2011-08-28T00:00:00\", \"2011-09-28T00:00:00\", \"2011-10-28T00:00:00\", \"2011-11-28T00:00:00\", \"2011-12-28T00:00:00\", \"2012-01-28T00:00:00\", \"2012-02-28T00:00:00\", \"2012-03-28T00:00:00\", \"2012-04-28T00:00:00\", \"2012-05-28T00:00:00\", \"2012-06-28T00:00:00\", \"2012-07-28T00:00:00\", \"2012-08-28T00:00:00\", \"2012-09-28T00:00:00\", \"2012-10-28T00:00:00\", \"2012-11-28T00:00:00\", \"2012-12-28T00:00:00\", \"2013-01-28T00:00:00\", \"2013-02-28T00:00:00\", \"2013-03-28T00:00:00\", \"2013-04-28T00:00:00\", \"2013-05-28T00:00:00\", \"2013-06-28T00:00:00\", \"2013-07-28T00:00:00\", \"2013-08-28T00:00:00\", \"2013-09-28T00:00:00\", \"2013-10-28T00:00:00\", \"2013-11-28T00:00:00\", \"2013-12-28T00:00:00\", \"2014-01-28T00:00:00\", \"2014-02-28T00:00:00\", \"2014-03-28T00:00:00\", \"2014-04-28T00:00:00\", \"2014-05-28T00:00:00\", \"2014-06-28T00:00:00\", \"2014-07-28T00:00:00\", \"2014-08-28T00:00:00\", \"2014-09-28T00:00:00\", \"2014-10-28T00:00:00\", \"2014-11-28T00:00:00\", \"2014-12-28T00:00:00\", \"2015-01-28T00:00:00\", \"2015-02-28T00:00:00\", \"2015-03-28T00:00:00\", \"2015-04-28T00:00:00\", \"2015-05-28T00:00:00\", \"2015-06-28T00:00:00\", \"2015-07-28T00:00:00\", \"2015-08-28T00:00:00\", \"2015-09-28T00:00:00\", \"2015-10-28T00:00:00\", \"2015-11-28T00:00:00\", \"2015-12-28T00:00:00\", \"2016-01-28T00:00:00\", \"2016-02-28T00:00:00\", \"2016-03-28T00:00:00\", \"2016-04-28T00:00:00\", \"2016-05-28T00:00:00\", \"2016-06-28T00:00:00\", \"2016-07-28T00:00:00\", \"2016-08-28T00:00:00\", \"2016-09-28T00:00:00\", \"2016-10-28T00:00:00\", \"2016-11-28T00:00:00\", \"2016-12-28T00:00:00\", \"2017-01-28T00:00:00\", \"2017-02-28T00:00:00\", \"2017-03-28T00:00:00\", \"2017-04-28T00:00:00\", \"2017-05-28T00:00:00\", \"2017-06-28T00:00:00\", \"2017-07-28T00:00:00\", \"2017-08-28T00:00:00\", \"2017-09-28T00:00:00\", \"2017-10-28T00:00:00\", \"2017-11-28T00:00:00\", \"2017-12-28T00:00:00\", \"2018-01-28T00:00:00\", \"2018-02-28T00:00:00\", \"2018-03-28T00:00:00\", \"2018-04-28T00:00:00\", \"2018-05-28T00:00:00\", \"2018-06-28T00:00:00\", \"2018-07-28T00:00:00\", \"2018-08-28T00:00:00\", \"2018-09-28T00:00:00\", \"2018-10-28T00:00:00\", \"2018-11-28T00:00:00\", \"2018-12-28T00:00:00\", \"2019-01-28T00:00:00\", \"2019-02-28T00:00:00\", \"2019-03-28T00:00:00\", \"2019-04-28T00:00:00\", \"2019-05-28T00:00:00\", \"2019-06-28T00:00:00\", \"2019-07-28T00:00:00\", \"2019-08-28T00:00:00\", \"2019-09-28T00:00:00\", \"2019-10-28T00:00:00\", \"2019-11-28T00:00:00\", \"2019-12-28T00:00:00\", \"2019-12-31T00:00:00\", \"2020-01-31T00:00:00\", \"2020-02-29T00:00:00\", \"2020-03-31T00:00:00\", \"2020-04-30T00:00:00\", \"2020-05-31T00:00:00\", \"2020-06-30T00:00:00\", \"2020-07-31T00:00:00\", \"2020-08-31T00:00:00\", \"2020-09-30T00:00:00\", \"2020-10-31T00:00:00\", \"2020-11-30T00:00:00\", \"2020-12-31T00:00:00\", \"2021-01-31T00:00:00\", \"2021-02-28T00:00:00\", \"2021-03-31T00:00:00\", \"2021-04-30T00:00:00\", \"2021-05-31T00:00:00\", \"2021-06-30T00:00:00\", \"2021-07-31T00:00:00\", \"2021-08-31T00:00:00\", \"2021-09-30T00:00:00\", \"2021-10-31T00:00:00\", \"2021-11-30T00:00:00\"], \"xaxis\": \"x\", \"y\": [1120.9817655837558, 1120.9546748814132, 1120.9293319663184, 1120.9022412639756, 1120.8760244552566, 1120.848933752914, 1120.8227169441952, 1120.7956262418527, 1120.7685355395097, 1120.7423186880285, 1120.7152279414984, 1120.6890110900172, 1120.6619203434868, 1120.6348295969565, 1120.6103605355743, 1120.5832697890437, 1120.5570529537574, 1120.5299622239615, 1120.5037453886753, 1120.4766546588796, 1120.4495639290838, 1120.4233470937975, 1120.3962563640016, 1120.3700395287153, 1120.3429488276772, 1120.3158581266391, 1120.2913891063467, 1120.2642984053086, 1120.2380815978522, 1120.210990896814, 1120.184774089358, 1120.1576833883198, 1120.1305929771543, 1120.1043764502201, 1120.0772860390546, 1120.0510695121202, 1120.0239791009546, 1119.996888689789, 1119.972419931317, 1119.945602587677, 1119.9196503196385, 1119.8928329759988, 1119.86688070796, 1119.8400633643205, 1119.8132460206805, 1119.7872937526417, 1119.7604764090022, 1119.7347012539506, 1119.7080669270636, 1119.6814326001768, 1119.6565166169603, 1119.6298822900737, 1119.604107135022, 1119.577472808135, 1119.5516976244678, 1119.5250632680113, 1119.4984289115548, 1119.4726537278873, 1119.4460193714308, 1119.4202441877633, 1119.3936098313065, 1119.3669754748503, 1119.3474155146168, 1119.3257598443583, 1119.3048027441082, 1119.2831470738497, 1119.2621899735993, 1119.2405343033408, 1119.2188786330823, 1119.1979215328322, 1119.1762674180245, 1119.1553118230493, 1119.1336577082413, 1119.1120035934334, 1119.092445038123, 1119.0707909233154, 1119.04983532834, 1119.0281811560812, 1119.0072255055081, 1118.9855713332493, 1118.9639171609906, 1118.9429615104177, 1118.9213073381588, 1118.9003516875857, 1118.878697515327, 1118.8570724798426, 1118.8375401897279, 1118.8159151542432, 1118.7949877005485, 1118.7733626650643, 1118.7524352113696, 1118.7308101758852, 1118.7091851404005, 1118.6882576832045, 1118.6666326441018, 1118.6457051869058, 1118.6240801478032, 1118.6024551087005, 1118.582225233411, 1118.5606001943083, 1118.5396729403033, 1118.518048111165, 1118.4971208571599, 1118.4754960280213, 1118.4538711988828, 1118.4329439448777, 1118.4113191157392, 1118.3903918617343, 1118.3687670065804, 1118.347142151426, 1118.3276100241899, 1118.305985169036, 1118.2850578898542, 1118.2634330347003, 1118.2425057555186, 1118.2208809003644, 1118.1992560447577, 1118.1783287651385, 1118.1567039095319, 1118.1357766299122, 1118.1141517743056, 1118.0925269186991, 1118.0729947910545, 1118.05136995754, 1118.0304426992998, 1118.0088178657852, 1117.987890607545, 1117.9662657740305, 1117.9446409405157, 1117.9237136822755, 1117.902088848761, 1117.8811616328865, 1117.859536843149, 1117.8379120534119, 1117.818379985262, 1117.7967551955246, 1117.7758279796499, 1117.7542031899127, 1117.7332759740377, 1117.711651260194, 1117.6900265463503, 1117.6690994039209, 1117.6474746900772, 1117.6265475476475, 1117.6049228338038, 1117.58329811996, 1117.5630684218913, 1117.5414435722312, 1117.5205162983666, 1117.4988914487064, 1117.4779641748419, 1117.4563393251817, 1117.4347144755218, 1117.413787201657, 1117.39216227609, 1117.3712349287666, 1117.3496100031991, 1117.3279850776319, 1117.3084528867969, 1117.2868279612294, 1117.2659006139063, 1117.2442755869063, 1117.2233481414223, 1117.2017231144223, 1117.1800980874225, 1117.1591706419385, 1117.1375456149387, 1117.1166181694548, 1117.0949931424548, 1117.073368072688, 1117.0538357516082, 1117.0322106818414, 1117.0112831949702, 1116.9896581252035, 1116.9687306383323, 1116.9471055685653, 1116.9254804987986, 1116.904454688907, 1116.8827280186858, 1116.8617022087942, 1116.8399755385728, 1116.8182488683517, 1116.7986247791196, 1116.7768981088984, 1116.7558722893145, 1116.7341456090783, 1116.7131197894944, 1116.6913931092581, 1116.6696664290216, 1116.6486406094377, 1116.6269139292012, 1116.6058881096176, 1116.5471792628864, 1116.4884704161552, 1116.4335492369553, 1116.374840390224, 1116.3180253772587, 1116.2593165305277, 1116.2025015175623, 1116.143792670831, 1116.0850838241001, 1116.0282688111345, 1115.9695599644035, 1115.9127449514378, 1115.854036104707, 1115.7953272579757, 1115.7422999125413, 1115.68359106581, 1115.6267760528447, 1115.5680672061135, 1115.511252193148, 1115.452543346417, 1115.393834499686, 1115.3370194867205, 1115.2783106399893, 1115.2214956270238, 1115.1627867802927, 1115.1040779335617, 1115.051050588127, 1114.992341741396, 1114.9355267284304, 1114.8768178816995, 1114.8200028687338, 1114.7612940220029, 1114.702585175272, 1114.6457701623065, 1114.5870613155753, 1114.5302463026098, 1114.4715374558787, 1114.4128286091475, 1114.359801263713, 1114.301092416982, 1114.2442774040164, 1114.1855685572855, 1114.1287535443198, 1114.0700446975886, 1114.0113358508577, 1113.954520837892, 1113.8958119911613, 1113.8389969781956, 1113.833315476899, 1113.774606630168, 1113.7196974116941, 1113.6615353705615, 1113.6057425080326, 1113.5485508375175, 1113.4930258936656, 1113.436081420666, 1113.3795230734563, 1113.3249412144914, 1113.2683452313197, 1113.2142222752082, 1113.1581954766948, 1113.1019900239578, 1113.052232255105, 1112.9971113070753, 1112.9430325999358, 1112.8861820021255, 1112.8330502815113, 1112.777316308609, 1112.7236648384421, 1112.6704005701558, 1112.6150424877887, 1112.5608460970618], \"yaxis\": \"y\"}, {\"fill\": \"tonexty\", \"fillcolor\": \"rgba(0, 114, 178, 0.2)\", \"line\": {\"color\": \"rgba(0, 114, 178, 0.2)\", \"width\": 0}, \"mode\": \"lines\", \"name\": \"trend_lower\", \"type\": \"scatter\", \"x\": [\"2000-01-28T00:00:00\", \"2000-02-28T00:00:00\", \"2000-03-28T00:00:00\", \"2000-04-28T00:00:00\", \"2000-05-28T00:00:00\", \"2000-06-28T00:00:00\", \"2000-07-28T00:00:00\", \"2000-08-28T00:00:00\", \"2000-09-28T00:00:00\", \"2000-10-28T00:00:00\", \"2000-11-28T00:00:00\", \"2000-12-28T00:00:00\", \"2001-01-28T00:00:00\", \"2001-02-28T00:00:00\", \"2001-03-28T00:00:00\", \"2001-04-28T00:00:00\", \"2001-05-28T00:00:00\", \"2001-06-28T00:00:00\", \"2001-07-28T00:00:00\", \"2001-08-28T00:00:00\", \"2001-09-28T00:00:00\", \"2001-10-28T00:00:00\", \"2001-11-28T00:00:00\", \"2001-12-28T00:00:00\", \"2002-01-28T00:00:00\", \"2002-02-28T00:00:00\", \"2002-03-28T00:00:00\", \"2002-04-28T00:00:00\", \"2002-05-28T00:00:00\", \"2002-06-28T00:00:00\", \"2002-07-28T00:00:00\", \"2002-08-28T00:00:00\", \"2002-09-28T00:00:00\", \"2002-10-28T00:00:00\", \"2002-11-28T00:00:00\", \"2002-12-28T00:00:00\", \"2003-01-28T00:00:00\", \"2003-02-28T00:00:00\", \"2003-03-28T00:00:00\", \"2003-04-28T00:00:00\", \"2003-05-28T00:00:00\", \"2003-06-28T00:00:00\", \"2003-07-28T00:00:00\", \"2003-08-28T00:00:00\", \"2003-09-28T00:00:00\", \"2003-10-28T00:00:00\", \"2003-11-28T00:00:00\", \"2003-12-28T00:00:00\", \"2004-01-28T00:00:00\", \"2004-02-28T00:00:00\", \"2004-03-28T00:00:00\", \"2004-04-28T00:00:00\", \"2004-05-28T00:00:00\", \"2004-06-28T00:00:00\", \"2004-07-28T00:00:00\", \"2004-08-28T00:00:00\", \"2004-09-28T00:00:00\", \"2004-10-28T00:00:00\", \"2004-11-28T00:00:00\", \"2004-12-28T00:00:00\", \"2005-01-28T00:00:00\", \"2005-02-28T00:00:00\", \"2005-03-28T00:00:00\", \"2005-04-28T00:00:00\", \"2005-05-28T00:00:00\", \"2005-06-28T00:00:00\", \"2005-07-28T00:00:00\", \"2005-08-28T00:00:00\", \"2005-09-28T00:00:00\", \"2005-10-28T00:00:00\", \"2005-11-28T00:00:00\", \"2005-12-28T00:00:00\", \"2006-01-28T00:00:00\", \"2006-02-28T00:00:00\", \"2006-03-28T00:00:00\", \"2006-04-28T00:00:00\", \"2006-05-28T00:00:00\", \"2006-06-28T00:00:00\", \"2006-07-28T00:00:00\", \"2006-08-28T00:00:00\", \"2006-09-28T00:00:00\", \"2006-10-28T00:00:00\", \"2006-11-28T00:00:00\", \"2006-12-28T00:00:00\", \"2007-01-28T00:00:00\", \"2007-02-28T00:00:00\", \"2007-03-28T00:00:00\", \"2007-04-28T00:00:00\", \"2007-05-28T00:00:00\", \"2007-06-28T00:00:00\", \"2007-07-28T00:00:00\", \"2007-08-28T00:00:00\", \"2007-09-28T00:00:00\", \"2007-10-28T00:00:00\", \"2007-11-28T00:00:00\", \"2007-12-28T00:00:00\", \"2008-01-28T00:00:00\", \"2008-02-28T00:00:00\", \"2008-03-28T00:00:00\", \"2008-04-28T00:00:00\", \"2008-05-28T00:00:00\", \"2008-06-28T00:00:00\", \"2008-07-28T00:00:00\", \"2008-08-28T00:00:00\", \"2008-09-28T00:00:00\", \"2008-10-28T00:00:00\", \"2008-11-28T00:00:00\", \"2008-12-28T00:00:00\", \"2009-01-28T00:00:00\", \"2009-02-28T00:00:00\", \"2009-03-28T00:00:00\", \"2009-04-28T00:00:00\", \"2009-05-28T00:00:00\", \"2009-06-28T00:00:00\", \"2009-07-28T00:00:00\", \"2009-08-28T00:00:00\", \"2009-09-28T00:00:00\", \"2009-10-28T00:00:00\", \"2009-11-28T00:00:00\", \"2009-12-28T00:00:00\", \"2010-01-28T00:00:00\", \"2010-02-28T00:00:00\", \"2010-03-28T00:00:00\", \"2010-04-28T00:00:00\", \"2010-05-28T00:00:00\", \"2010-06-28T00:00:00\", \"2010-07-28T00:00:00\", \"2010-08-28T00:00:00\", \"2010-09-28T00:00:00\", \"2010-10-28T00:00:00\", \"2010-11-28T00:00:00\", \"2010-12-28T00:00:00\", \"2011-01-28T00:00:00\", \"2011-02-28T00:00:00\", \"2011-03-28T00:00:00\", \"2011-04-28T00:00:00\", \"2011-05-28T00:00:00\", \"2011-06-28T00:00:00\", \"2011-07-28T00:00:00\", \"2011-08-28T00:00:00\", \"2011-09-28T00:00:00\", \"2011-10-28T00:00:00\", \"2011-11-28T00:00:00\", \"2011-12-28T00:00:00\", \"2012-01-28T00:00:00\", \"2012-02-28T00:00:00\", \"2012-03-28T00:00:00\", \"2012-04-28T00:00:00\", \"2012-05-28T00:00:00\", \"2012-06-28T00:00:00\", \"2012-07-28T00:00:00\", \"2012-08-28T00:00:00\", \"2012-09-28T00:00:00\", \"2012-10-28T00:00:00\", \"2012-11-28T00:00:00\", \"2012-12-28T00:00:00\", \"2013-01-28T00:00:00\", \"2013-02-28T00:00:00\", \"2013-03-28T00:00:00\", \"2013-04-28T00:00:00\", \"2013-05-28T00:00:00\", \"2013-06-28T00:00:00\", \"2013-07-28T00:00:00\", \"2013-08-28T00:00:00\", \"2013-09-28T00:00:00\", \"2013-10-28T00:00:00\", \"2013-11-28T00:00:00\", \"2013-12-28T00:00:00\", \"2014-01-28T00:00:00\", \"2014-02-28T00:00:00\", \"2014-03-28T00:00:00\", \"2014-04-28T00:00:00\", \"2014-05-28T00:00:00\", \"2014-06-28T00:00:00\", \"2014-07-28T00:00:00\", \"2014-08-28T00:00:00\", \"2014-09-28T00:00:00\", \"2014-10-28T00:00:00\", \"2014-11-28T00:00:00\", \"2014-12-28T00:00:00\", \"2015-01-28T00:00:00\", \"2015-02-28T00:00:00\", \"2015-03-28T00:00:00\", \"2015-04-28T00:00:00\", \"2015-05-28T00:00:00\", \"2015-06-28T00:00:00\", \"2015-07-28T00:00:00\", \"2015-08-28T00:00:00\", \"2015-09-28T00:00:00\", \"2015-10-28T00:00:00\", \"2015-11-28T00:00:00\", \"2015-12-28T00:00:00\", \"2016-01-28T00:00:00\", \"2016-02-28T00:00:00\", \"2016-03-28T00:00:00\", \"2016-04-28T00:00:00\", \"2016-05-28T00:00:00\", \"2016-06-28T00:00:00\", \"2016-07-28T00:00:00\", \"2016-08-28T00:00:00\", \"2016-09-28T00:00:00\", \"2016-10-28T00:00:00\", \"2016-11-28T00:00:00\", \"2016-12-28T00:00:00\", \"2017-01-28T00:00:00\", \"2017-02-28T00:00:00\", \"2017-03-28T00:00:00\", \"2017-04-28T00:00:00\", \"2017-05-28T00:00:00\", \"2017-06-28T00:00:00\", \"2017-07-28T00:00:00\", \"2017-08-28T00:00:00\", \"2017-09-28T00:00:00\", \"2017-10-28T00:00:00\", \"2017-11-28T00:00:00\", \"2017-12-28T00:00:00\", \"2018-01-28T00:00:00\", \"2018-02-28T00:00:00\", \"2018-03-28T00:00:00\", \"2018-04-28T00:00:00\", \"2018-05-28T00:00:00\", \"2018-06-28T00:00:00\", \"2018-07-28T00:00:00\", \"2018-08-28T00:00:00\", \"2018-09-28T00:00:00\", \"2018-10-28T00:00:00\", \"2018-11-28T00:00:00\", \"2018-12-28T00:00:00\", \"2019-01-28T00:00:00\", \"2019-02-28T00:00:00\", \"2019-03-28T00:00:00\", \"2019-04-28T00:00:00\", \"2019-05-28T00:00:00\", \"2019-06-28T00:00:00\", \"2019-07-28T00:00:00\", \"2019-08-28T00:00:00\", \"2019-09-28T00:00:00\", \"2019-10-28T00:00:00\", \"2019-11-28T00:00:00\", \"2019-12-28T00:00:00\", \"2019-12-31T00:00:00\", \"2020-01-31T00:00:00\", \"2020-02-29T00:00:00\", \"2020-03-31T00:00:00\", \"2020-04-30T00:00:00\", \"2020-05-31T00:00:00\", \"2020-06-30T00:00:00\", \"2020-07-31T00:00:00\", \"2020-08-31T00:00:00\", \"2020-09-30T00:00:00\", \"2020-10-31T00:00:00\", \"2020-11-30T00:00:00\", \"2020-12-31T00:00:00\", \"2021-01-31T00:00:00\", \"2021-02-28T00:00:00\", \"2021-03-31T00:00:00\", \"2021-04-30T00:00:00\", \"2021-05-31T00:00:00\", \"2021-06-30T00:00:00\", \"2021-07-31T00:00:00\", \"2021-08-31T00:00:00\", \"2021-09-30T00:00:00\", \"2021-10-31T00:00:00\", \"2021-11-30T00:00:00\"], \"xaxis\": \"x\", \"y\": [1120.9817655837558, 1120.9546748814132, 1120.9293319663184, 1120.9022412639756, 1120.8760244552566, 1120.848933752914, 1120.8227169441952, 1120.7956262418527, 1120.7685355395097, 1120.7423186880285, 1120.7152279414984, 1120.6890110900172, 1120.6619203434868, 1120.6348295969565, 1120.6103605355743, 1120.5832697890437, 1120.5570529537574, 1120.5299622239615, 1120.5037453886753, 1120.4766546588796, 1120.4495639290838, 1120.4233470937975, 1120.3962563640016, 1120.3700395287153, 1120.3429488276772, 1120.3158581266391, 1120.2913891063467, 1120.2642984053086, 1120.2380815978522, 1120.210990896814, 1120.184774089358, 1120.1576833883198, 1120.1305929771543, 1120.1043764502201, 1120.0772860390546, 1120.0510695121202, 1120.0239791009546, 1119.996888689789, 1119.972419931317, 1119.945602587677, 1119.9196503196385, 1119.8928329759988, 1119.86688070796, 1119.8400633643205, 1119.8132460206805, 1119.7872937526417, 1119.7604764090022, 1119.7347012539506, 1119.7080669270636, 1119.6814326001768, 1119.6565166169603, 1119.6298822900737, 1119.604107135022, 1119.577472808135, 1119.5516976244678, 1119.5250632680113, 1119.4984289115548, 1119.4726537278873, 1119.4460193714308, 1119.4202441877633, 1119.3936098313065, 1119.3669754748503, 1119.3474155146168, 1119.3257598443583, 1119.3048027441082, 1119.2831470738497, 1119.2621899735993, 1119.2405343033408, 1119.2188786330823, 1119.1979215328322, 1119.1762674180245, 1119.1553118230493, 1119.1336577082413, 1119.1120035934334, 1119.092445038123, 1119.0707909233154, 1119.04983532834, 1119.0281811560812, 1119.0072255055081, 1118.9855713332493, 1118.9639171609906, 1118.9429615104177, 1118.9213073381588, 1118.9003516875857, 1118.878697515327, 1118.8570724798426, 1118.8375401897279, 1118.8159151542432, 1118.7949877005485, 1118.7733626650643, 1118.7524352113696, 1118.7308101758852, 1118.7091851404005, 1118.6882576832045, 1118.6666326441018, 1118.6457051869058, 1118.6240801478032, 1118.6024551087005, 1118.582225233411, 1118.5606001943083, 1118.5396729403033, 1118.518048111165, 1118.4971208571599, 1118.4754960280213, 1118.4538711988828, 1118.4329439448777, 1118.4113191157392, 1118.3903918617343, 1118.3687670065804, 1118.347142151426, 1118.3276100241899, 1118.305985169036, 1118.2850578898542, 1118.2634330347003, 1118.2425057555186, 1118.2208809003644, 1118.1992560447577, 1118.1783287651385, 1118.1567039095319, 1118.1357766299122, 1118.1141517743056, 1118.0925269186991, 1118.0729947910545, 1118.05136995754, 1118.0304426992998, 1118.0088178657852, 1117.987890607545, 1117.9662657740305, 1117.9446409405157, 1117.9237136822755, 1117.902088848761, 1117.8811616328865, 1117.859536843149, 1117.8379120534119, 1117.818379985262, 1117.7967551955246, 1117.7758279796499, 1117.7542031899127, 1117.7332759740377, 1117.711651260194, 1117.6900265463503, 1117.6690994039209, 1117.6474746900772, 1117.6265475476475, 1117.6049228338038, 1117.58329811996, 1117.5630684218913, 1117.5414435722312, 1117.5205162983666, 1117.4988914487064, 1117.4779641748419, 1117.4563393251817, 1117.4347144755218, 1117.413787201657, 1117.39216227609, 1117.3712349287666, 1117.3496100031991, 1117.3279850776319, 1117.3084528867969, 1117.2868279612294, 1117.2659006139063, 1117.2442755869063, 1117.2233481414223, 1117.2017231144223, 1117.1800980874225, 1117.1591706419385, 1117.1375456149387, 1117.1166181694548, 1117.0949931424548, 1117.073368072688, 1117.0538357516082, 1117.0322106818414, 1117.0112831949702, 1116.9896581252035, 1116.9687306383323, 1116.9471055685653, 1116.9254804987986, 1116.904454688907, 1116.8827280186858, 1116.8617022087942, 1116.8399755385728, 1116.8182488683517, 1116.7986247791196, 1116.7768981088984, 1116.7558722893145, 1116.7341456090783, 1116.7131197894944, 1116.6913931092581, 1116.6696664290216, 1116.6486406094377, 1116.6269139292012, 1116.6058881096176, 1116.5471792628864, 1116.4884704161552, 1116.4335492369553, 1116.374840390224, 1116.3180253772587, 1116.2593165305277, 1116.2025015175623, 1116.143792670831, 1116.0850838241001, 1116.0282688111345, 1115.9695599644035, 1115.9127449514378, 1115.854036104707, 1115.7953272579757, 1115.7422999125413, 1115.68359106581, 1115.6267760528447, 1115.5680672061135, 1115.511252193148, 1115.452543346417, 1115.393834499686, 1115.3370194867205, 1115.2783106399893, 1115.2214956270238, 1115.1627867802927, 1115.1040779335617, 1115.051050588127, 1114.992341741396, 1114.9355267284304, 1114.8768178816995, 1114.8200028687338, 1114.7612940220029, 1114.702585175272, 1114.6457701623065, 1114.5870613155753, 1114.5302463026098, 1114.4715374558787, 1114.4128286091475, 1114.359801263713, 1114.301092416982, 1114.2442774040164, 1114.1855685572855, 1114.1287535443198, 1114.0700446975886, 1114.0113358508577, 1113.954520837892, 1113.8958119911613, 1113.8389969781956, 1113.833315476899, 1113.774606630168, 1113.719685450968, 1113.6602063878008, 1113.6021428168342, 1113.5419351344656, 1113.483304663631, 1113.4226174661974, 1113.3617135326817, 1113.3028703443238, 1113.2422351268353, 1113.1829553492735, 1113.1212558340592, 1113.0602236943098, 1113.0050849762408, 1112.9440979484125, 1112.883710619782, 1112.821899397441, 1112.762542153635, 1112.7011368265798, 1112.6368418748227, 1112.575897685998, 1112.5134670313103, 1112.4532578265744], \"yaxis\": \"y\"}, {\"line\": {\"color\": \"#0072B2\", \"width\": 2}, \"mode\": \"lines\", \"name\": \"yearly\", \"type\": \"scatter\", \"x\": [\"2017-01-01T00:00:00\", \"2017-01-02T00:00:59.178082\", \"2017-01-03T00:01:58.356164\", \"2017-01-04T00:02:57.534246\", \"2017-01-05T00:03:56.712328\", \"2017-01-06T00:04:55.890411\", \"2017-01-07T00:05:55.068493\", \"2017-01-08T00:06:54.246575\", \"2017-01-09T00:07:53.424657\", \"2017-01-10T00:08:52.602739\", \"2017-01-11T00:09:51.780822\", \"2017-01-12T00:10:50.958904\", \"2017-01-13T00:11:50.136986\", \"2017-01-14T00:12:49.315068\", \"2017-01-15T00:13:48.493150\", \"2017-01-16T00:14:47.671232\", \"2017-01-17T00:15:46.849315\", \"2017-01-18T00:16:46.027397\", \"2017-01-19T00:17:45.205479\", \"2017-01-20T00:18:44.383561\", \"2017-01-21T00:19:43.561643\", \"2017-01-22T00:20:42.739726\", \"2017-01-23T00:21:41.917808\", \"2017-01-24T00:22:41.095890\", \"2017-01-25T00:23:40.273972\", \"2017-01-26T00:24:39.452054\", \"2017-01-27T00:25:38.630137\", \"2017-01-28T00:26:37.808219\", \"2017-01-29T00:27:36.986301\", \"2017-01-30T00:28:36.164383\", \"2017-01-31T00:29:35.342465\", \"2017-02-01T00:30:34.520547\", \"2017-02-02T00:31:33.698630\", \"2017-02-03T00:32:32.876712\", \"2017-02-04T00:33:32.054794\", \"2017-02-05T00:34:31.232876\", \"2017-02-06T00:35:30.410958\", \"2017-02-07T00:36:29.589041\", \"2017-02-08T00:37:28.767123\", \"2017-02-09T00:38:27.945205\", \"2017-02-10T00:39:27.123287\", \"2017-02-11T00:40:26.301369\", \"2017-02-12T00:41:25.479452\", \"2017-02-13T00:42:24.657534\", \"2017-02-14T00:43:23.835616\", \"2017-02-15T00:44:23.013698\", \"2017-02-16T00:45:22.191780\", \"2017-02-17T00:46:21.369862\", \"2017-02-18T00:47:20.547945\", \"2017-02-19T00:48:19.726027\", \"2017-02-20T00:49:18.904109\", \"2017-02-21T00:50:18.082191\", \"2017-02-22T00:51:17.260273\", \"2017-02-23T00:52:16.438356\", \"2017-02-24T00:53:15.616438\", \"2017-02-25T00:54:14.794520\", \"2017-02-26T00:55:13.972602\", \"2017-02-27T00:56:13.150684\", \"2017-02-28T00:57:12.328767\", \"2017-03-01T00:58:11.506849\", \"2017-03-02T00:59:10.684931\", \"2017-03-03T01:00:09.863013\", \"2017-03-04T01:01:09.041095\", \"2017-03-05T01:02:08.219177\", \"2017-03-06T01:03:07.397260\", \"2017-03-07T01:04:06.575342\", \"2017-03-08T01:05:05.753424\", \"2017-03-09T01:06:04.931506\", \"2017-03-10T01:07:04.109588\", \"2017-03-11T01:08:03.287671\", \"2017-03-12T01:09:02.465753\", \"2017-03-13T01:10:01.643835\", \"2017-03-14T01:11:00.821917\", \"2017-03-15T01:12:00\", \"2017-03-16T01:12:59.178082\", \"2017-03-17T01:13:58.356164\", \"2017-03-18T01:14:57.534246\", \"2017-03-19T01:15:56.712328\", \"2017-03-20T01:16:55.890411\", \"2017-03-21T01:17:55.068493\", \"2017-03-22T01:18:54.246575\", \"2017-03-23T01:19:53.424657\", \"2017-03-24T01:20:52.602739\", \"2017-03-25T01:21:51.780822\", \"2017-03-26T01:22:50.958904\", \"2017-03-27T01:23:50.136986\", \"2017-03-28T01:24:49.315068\", \"2017-03-29T01:25:48.493150\", \"2017-03-30T01:26:47.671232\", \"2017-03-31T01:27:46.849315\", \"2017-04-01T01:28:46.027397\", \"2017-04-02T01:29:45.205479\", \"2017-04-03T01:30:44.383561\", \"2017-04-04T01:31:43.561643\", \"2017-04-05T01:32:42.739726\", \"2017-04-06T01:33:41.917808\", \"2017-04-07T01:34:41.095890\", \"2017-04-08T01:35:40.273972\", \"2017-04-09T01:36:39.452054\", \"2017-04-10T01:37:38.630137\", \"2017-04-11T01:38:37.808219\", \"2017-04-12T01:39:36.986301\", \"2017-04-13T01:40:36.164383\", \"2017-04-14T01:41:35.342465\", \"2017-04-15T01:42:34.520547\", \"2017-04-16T01:43:33.698630\", \"2017-04-17T01:44:32.876712\", \"2017-04-18T01:45:32.054794\", \"2017-04-19T01:46:31.232876\", \"2017-04-20T01:47:30.410958\", \"2017-04-21T01:48:29.589041\", \"2017-04-22T01:49:28.767123\", \"2017-04-23T01:50:27.945205\", \"2017-04-24T01:51:27.123287\", \"2017-04-25T01:52:26.301369\", \"2017-04-26T01:53:25.479452\", \"2017-04-27T01:54:24.657534\", \"2017-04-28T01:55:23.835616\", \"2017-04-29T01:56:23.013698\", \"2017-04-30T01:57:22.191780\", \"2017-05-01T01:58:21.369862\", \"2017-05-02T01:59:20.547945\", \"2017-05-03T02:00:19.726027\", \"2017-05-04T02:01:18.904109\", \"2017-05-05T02:02:18.082191\", \"2017-05-06T02:03:17.260273\", \"2017-05-07T02:04:16.438356\", \"2017-05-08T02:05:15.616438\", \"2017-05-09T02:06:14.794520\", \"2017-05-10T02:07:13.972602\", \"2017-05-11T02:08:13.150684\", \"2017-05-12T02:09:12.328767\", \"2017-05-13T02:10:11.506849\", \"2017-05-14T02:11:10.684931\", \"2017-05-15T02:12:09.863013\", \"2017-05-16T02:13:09.041095\", \"2017-05-17T02:14:08.219177\", \"2017-05-18T02:15:07.397260\", \"2017-05-19T02:16:06.575342\", \"2017-05-20T02:17:05.753424\", \"2017-05-21T02:18:04.931506\", \"2017-05-22T02:19:04.109588\", \"2017-05-23T02:20:03.287671\", \"2017-05-24T02:21:02.465753\", \"2017-05-25T02:22:01.643835\", \"2017-05-26T02:23:00.821917\", \"2017-05-27T02:24:00\", \"2017-05-28T02:24:59.178082\", \"2017-05-29T02:25:58.356164\", \"2017-05-30T02:26:57.534246\", \"2017-05-31T02:27:56.712328\", \"2017-06-01T02:28:55.890411\", \"2017-06-02T02:29:55.068493\", \"2017-06-03T02:30:54.246575\", \"2017-06-04T02:31:53.424657\", \"2017-06-05T02:32:52.602739\", \"2017-06-06T02:33:51.780822\", \"2017-06-07T02:34:50.958904\", \"2017-06-08T02:35:50.136986\", \"2017-06-09T02:36:49.315068\", \"2017-06-10T02:37:48.493150\", \"2017-06-11T02:38:47.671232\", \"2017-06-12T02:39:46.849315\", \"2017-06-13T02:40:46.027397\", \"2017-06-14T02:41:45.205479\", \"2017-06-15T02:42:44.383561\", \"2017-06-16T02:43:43.561643\", \"2017-06-17T02:44:42.739726\", \"2017-06-18T02:45:41.917808\", \"2017-06-19T02:46:41.095890\", \"2017-06-20T02:47:40.273972\", \"2017-06-21T02:48:39.452054\", \"2017-06-22T02:49:38.630137\", \"2017-06-23T02:50:37.808219\", \"2017-06-24T02:51:36.986301\", \"2017-06-25T02:52:36.164383\", \"2017-06-26T02:53:35.342465\", \"2017-06-27T02:54:34.520547\", \"2017-06-28T02:55:33.698630\", \"2017-06-29T02:56:32.876712\", \"2017-06-30T02:57:32.054794\", \"2017-07-01T02:58:31.232876\", \"2017-07-02T02:59:30.410958\", \"2017-07-03T03:00:29.589041\", \"2017-07-04T03:01:28.767123\", \"2017-07-05T03:02:27.945205\", \"2017-07-06T03:03:27.123287\", \"2017-07-07T03:04:26.301369\", \"2017-07-08T03:05:25.479452\", \"2017-07-09T03:06:24.657534\", \"2017-07-10T03:07:23.835616\", \"2017-07-11T03:08:23.013698\", \"2017-07-12T03:09:22.191780\", \"2017-07-13T03:10:21.369862\", \"2017-07-14T03:11:20.547945\", \"2017-07-15T03:12:19.726027\", \"2017-07-16T03:13:18.904109\", \"2017-07-17T03:14:18.082191\", \"2017-07-18T03:15:17.260273\", \"2017-07-19T03:16:16.438356\", \"2017-07-20T03:17:15.616438\", \"2017-07-21T03:18:14.794520\", \"2017-07-22T03:19:13.972602\", \"2017-07-23T03:20:13.150684\", \"2017-07-24T03:21:12.328767\", \"2017-07-25T03:22:11.506849\", \"2017-07-26T03:23:10.684931\", \"2017-07-27T03:24:09.863013\", \"2017-07-28T03:25:09.041095\", \"2017-07-29T03:26:08.219177\", \"2017-07-30T03:27:07.397260\", \"2017-07-31T03:28:06.575342\", \"2017-08-01T03:29:05.753424\", \"2017-08-02T03:30:04.931506\", \"2017-08-03T03:31:04.109588\", \"2017-08-04T03:32:03.287671\", \"2017-08-05T03:33:02.465753\", \"2017-08-06T03:34:01.643835\", \"2017-08-07T03:35:00.821917\", \"2017-08-08T03:36:00\", \"2017-08-09T03:36:59.178082\", \"2017-08-10T03:37:58.356164\", \"2017-08-11T03:38:57.534246\", \"2017-08-12T03:39:56.712328\", \"2017-08-13T03:40:55.890411\", \"2017-08-14T03:41:55.068493\", \"2017-08-15T03:42:54.246575\", \"2017-08-16T03:43:53.424657\", \"2017-08-17T03:44:52.602739\", \"2017-08-18T03:45:51.780822\", \"2017-08-19T03:46:50.958904\", \"2017-08-20T03:47:50.136986\", \"2017-08-21T03:48:49.315068\", \"2017-08-22T03:49:48.493150\", \"2017-08-23T03:50:47.671232\", \"2017-08-24T03:51:46.849315\", \"2017-08-25T03:52:46.027397\", \"2017-08-26T03:53:45.205479\", \"2017-08-27T03:54:44.383561\", \"2017-08-28T03:55:43.561643\", \"2017-08-29T03:56:42.739726\", \"2017-08-30T03:57:41.917808\", \"2017-08-31T03:58:41.095890\", \"2017-09-01T03:59:40.273972\", \"2017-09-02T04:00:39.452054\", \"2017-09-03T04:01:38.630137\", \"2017-09-04T04:02:37.808219\", \"2017-09-05T04:03:36.986301\", \"2017-09-06T04:04:36.164383\", \"2017-09-07T04:05:35.342465\", \"2017-09-08T04:06:34.520547\", \"2017-09-09T04:07:33.698630\", \"2017-09-10T04:08:32.876712\", \"2017-09-11T04:09:32.054794\", \"2017-09-12T04:10:31.232876\", \"2017-09-13T04:11:30.410958\", \"2017-09-14T04:12:29.589041\", \"2017-09-15T04:13:28.767123\", \"2017-09-16T04:14:27.945205\", \"2017-09-17T04:15:27.123287\", \"2017-09-18T04:16:26.301369\", \"2017-09-19T04:17:25.479452\", \"2017-09-20T04:18:24.657534\", \"2017-09-21T04:19:23.835616\", \"2017-09-22T04:20:23.013698\", \"2017-09-23T04:21:22.191780\", \"2017-09-24T04:22:21.369862\", \"2017-09-25T04:23:20.547945\", \"2017-09-26T04:24:19.726027\", \"2017-09-27T04:25:18.904109\", \"2017-09-28T04:26:18.082191\", \"2017-09-29T04:27:17.260273\", \"2017-09-30T04:28:16.438356\", \"2017-10-01T04:29:15.616438\", \"2017-10-02T04:30:14.794520\", \"2017-10-03T04:31:13.972602\", \"2017-10-04T04:32:13.150684\", \"2017-10-05T04:33:12.328767\", \"2017-10-06T04:34:11.506849\", \"2017-10-07T04:35:10.684931\", \"2017-10-08T04:36:09.863013\", \"2017-10-09T04:37:09.041095\", \"2017-10-10T04:38:08.219177\", \"2017-10-11T04:39:07.397260\", \"2017-10-12T04:40:06.575342\", \"2017-10-13T04:41:05.753424\", \"2017-10-14T04:42:04.931506\", \"2017-10-15T04:43:04.109588\", \"2017-10-16T04:44:03.287671\", \"2017-10-17T04:45:02.465753\", \"2017-10-18T04:46:01.643835\", \"2017-10-19T04:47:00.821917\", \"2017-10-20T04:48:00\", \"2017-10-21T04:48:59.178082\", \"2017-10-22T04:49:58.356164\", \"2017-10-23T04:50:57.534246\", \"2017-10-24T04:51:56.712328\", \"2017-10-25T04:52:55.890411\", \"2017-10-26T04:53:55.068493\", \"2017-10-27T04:54:54.246575\", \"2017-10-28T04:55:53.424657\", \"2017-10-29T04:56:52.602739\", \"2017-10-30T04:57:51.780822\", \"2017-10-31T04:58:50.958904\", \"2017-11-01T04:59:50.136986\", \"2017-11-02T05:00:49.315068\", \"2017-11-03T05:01:48.493150\", \"2017-11-04T05:02:47.671232\", \"2017-11-05T05:03:46.849315\", \"2017-11-06T05:04:46.027397\", \"2017-11-07T05:05:45.205479\", \"2017-11-08T05:06:44.383561\", \"2017-11-09T05:07:43.561643\", \"2017-11-10T05:08:42.739726\", \"2017-11-11T05:09:41.917808\", \"2017-11-12T05:10:41.095890\", \"2017-11-13T05:11:40.273972\", \"2017-11-14T05:12:39.452054\", \"2017-11-15T05:13:38.630137\", \"2017-11-16T05:14:37.808219\", \"2017-11-17T05:15:36.986301\", \"2017-11-18T05:16:36.164383\", \"2017-11-19T05:17:35.342465\", \"2017-11-20T05:18:34.520547\", \"2017-11-21T05:19:33.698630\", \"2017-11-22T05:20:32.876712\", \"2017-11-23T05:21:32.054794\", \"2017-11-24T05:22:31.232876\", \"2017-11-25T05:23:30.410958\", \"2017-11-26T05:24:29.589041\", \"2017-11-27T05:25:28.767123\", \"2017-11-28T05:26:27.945205\", \"2017-11-29T05:27:27.123287\", \"2017-11-30T05:28:26.301369\", \"2017-12-01T05:29:25.479452\", \"2017-12-02T05:30:24.657534\", \"2017-12-03T05:31:23.835616\", \"2017-12-04T05:32:23.013698\", \"2017-12-05T05:33:22.191780\", \"2017-12-06T05:34:21.369862\", \"2017-12-07T05:35:20.547945\", \"2017-12-08T05:36:19.726027\", \"2017-12-09T05:37:18.904109\", \"2017-12-10T05:38:18.082191\", \"2017-12-11T05:39:17.260273\", \"2017-12-12T05:40:16.438356\", \"2017-12-13T05:41:15.616438\", \"2017-12-14T05:42:14.794520\", \"2017-12-15T05:43:13.972602\", \"2017-12-16T05:44:13.150684\", \"2017-12-17T05:45:12.328767\", \"2017-12-18T05:46:11.506849\", \"2017-12-19T05:47:10.684931\", \"2017-12-20T05:48:09.863013\", \"2017-12-21T05:49:09.041095\", \"2017-12-22T05:50:08.219177\", \"2017-12-23T05:51:07.397260\", \"2017-12-24T05:52:06.575342\", \"2017-12-25T05:53:05.753424\", \"2017-12-26T05:54:04.931506\", \"2017-12-27T05:55:04.109588\", \"2017-12-28T05:56:03.287671\", \"2017-12-29T05:57:02.465753\", \"2017-12-30T05:58:01.643835\", \"2017-12-31T05:59:00.821917\"], \"xaxis\": \"x2\", \"y\": [546.10993069097, 579.6363031310037, 609.5763876671455, 634.9666113467308, 654.9050894340019, 668.5790095587115, 675.290150089236, 674.4777707079561, 665.7381790599574, 648.8403638723034, 623.737189702552, 590.5717686157757, 549.6787562527442, 501.58046022812186, 446.977793641786, 386.736251568599, 321.8672296054116, 253.50513684956218, 182.88087723829756, 111.29237948016294, 40.072943774126365, -29.441759424394245, -95.94715918945106, -158.20282316028232, -215.0641715363682, -265.51200163615084, -308.67901265097885, -343.8725969531991, -370.5932616875416, -388.5481597174136, -397.65933915633605, -398.06646208533084, -390.1238917435025, -374.3921993491491, -351.6242925525135, -322.7465131559539, -288.83518810879855, -251.08924111647914, -210.79957907587436, -169.3160549932694, -128.0128746726908, -88.25335643136378, -51.35497032868014, -18.55557538372862, 9.018259705244535, 30.380023779067162, 44.708369174903865, 51.36790669371055, 49.925156688339904, 40.159254277906314, 22.067148018959948, -4.136820823508239, -38.02692104938272, -78.9774305172669, -126.17910288164914, -178.6602406701919, -235.31179365422577, -294.9157983906109, -356.1763909493308, -417.75256244667753, -478.2917875919138, -536.4636409533595, -590.9925243297108, -640.6886609645674, -684.4765673607744, -721.4202893374712, -750.7447834873376, -771.8529355156713, -784.3378298781661, -787.9900171444406, -782.7996628319119, -768.9536002332081, -746.827446108149, -716.9730682738054, -680.1018145689957, -637.0640201310069, -588.8254015960987, -536.441020367394, -481.0275506461809, -423.7346203254639, -365.71600343368, -308.10143167345444, -251.96976031045253, -198.32417152556715, -148.07002808739418, -101.99590414925896, -60.75822082257387, -24.869804946813147, 5.307426501988302, 29.565573261484626, 47.84968596373792, 60.25267934291194, 67.00648493997316, 68.46980271374997, 65.11289736397755, 57.499956772017924, 46.269584966586365, 32.114039139434254, 15.757838746284053, -2.06362554100442, -20.624873921279104, -39.2299375824269, -57.23025596083593, -74.04041648353564, -89.15136019607391, -102.14076396181478, -112.68040359412129, -120.54039935905877, -125.5903427328424, -127.79739812338431, -127.22156260784693, -124.00834795418992, -118.37921994546005, -110.62018832462296, -101.0689849733737, -90.10129713468814, -78.11653598479887, -65.52361856421189, -52.727223391898725, -40.11494790032751, -28.04575048910716, -16.840003223834334, -6.7714151094950354, 1.9389872278542288, 9.126712138697792, 14.685458826320751, 18.566624900117596, 20.776788890071746, 21.37335988893344, 20.458647125361008, 18.17265271680841, 14.684929493255815, 10.18587144381164, 4.877816279570899, -1.0336624682688582, -7.347912285425648, -13.876474952308856, -20.44918487391435, -26.91885272087857, -33.164354994130825, -39.0920170151458, -44.635247910072266, -49.75245887895957, -54.423367835796796, -58.64386182932145, -62.41965104923166, -65.75900244272093, -68.66488500431066, -71.1268910085497, -73.11331654599842, -74.5637898592082, -75.38282676795018, -75.43466903865652, -74.53972443811493, -72.47287749142512, -68.96387908773914, -63.699952932212895, -56.33067962512457, -46.47513733087634, -33.73119424794271, -17.68676517560948, 2.0672348151604694, 25.922579537325174, 54.23846762101881, 87.32576194920891, 125.43122885393221, 168.722297972047, 217.27287226421805, 271.05070953425246, 329.90687170962224, 393.56769646196267, 461.6296883704335, 533.5576551108705, 608.6863299704228, 686.2256275658757, 765.2695776823685, 844.8088754932978, 923.7468782378529, 1000.9187719092016, 1075.113529890593, 1145.0981919248825, 1209.6439092369767, 1267.553132812685, 1317.687269023044, 1358.9940919362969, 1390.5341861471532, 1411.5056986394836, 1421.2667033875448, 1419.3545277430396, 1405.5014542812125, 1379.6462941878947, 1341.9414264461552, 1292.7550085292107, 1232.668186095829, 1162.4672580458212, 1083.1308857333574, 995.8125674701143, 901.8187279802186, 802.5828935635658, 699.6365338549388, 594.5772470981115, 489.0350448358871, 384.6375515697838, 282.97497326485376, 185.56570437774303, 93.82343560172174, 9.026593807785716, -67.70910772223476, -135.45430544352934, -193.48519898605244, -241.29784412711558, -278.6171529817514, -305.4003653380304, -321.83489838339483, -328.3306286363373, -325.5068056456075, -314.17393798436103, -295.3111243338232, -270.039422362149, -239.59195231889288, -205.28151786881003, -168.46659127808883, -130.5165518161737, -92.77708395286501, -56.53663509035525, -22.994801330237536, 6.766545014120889, 31.808649295152907, 51.3571497095837, 64.81870770955119, 71.79259568751029, 72.0769825971511, 65.66980345962043, 52.76424660476774, 33.739038892745526, 9.143849982407549, -20.319731953850862, -53.82108247244761, -90.42660866107953, -129.12824750498802, -168.87357867599712, -208.59669756036834, -247.24898037774486, -283.8288836729723, -317.40995489455554, -347.1662881220975, -372.39473759064845, -392.5332991126864, -407.1751830256707, -416.07822855827834, -419.16944488112415, -416.54460468658704, -408.4629578880422, -395.3372718955992, -377.7195369484541, -356.2827964223814, -331.79966945348843, -305.11822360796776, -277.1359261828642, -248.7724520916736, -220.94215285947607, -194.52699439740633, -170.35075093948154, -149.15519954964688, -131.5789952904359, -118.139823453287, -109.22032474793514, -105.05817500039787, -105.7405761574144, -111.2032838973039, -121.23416279689062, -135.48112672740479, -153.46419384328686, -174.59126593672102, -198.17713447986318, -223.46512351991876, -249.65070529915212, -275.90637019365744, -301.4069997919124, -325.35498150843915, -347.00431531029403, -365.6829974210554, -380.81302116674607, -391.92740974079817, -398.6837872610081, -400.87410034207136, -398.4302192788111, -391.4252723550228, -380.07069502034096, -364.70910391101245, -345.8032301091752, -323.92126296191816, -299.71906177726606, -273.9197846267639, -247.29155867734198, -220.62387270468838, -194.70340813974718, -170.29003912080174, -148.0937242466829, -128.75298331331373, -112.81560222393796, -100.72214003053168, -92.7927258154592, -89.21753247813794, -90.05120249170304, -95.21138072631702, -104.48138510601305, -117.5169209087413, -133.85662269254712, -152.93609277105938, -174.10500033238316, -196.6467138083567, -219.79986370758496, -242.7811760630419, -264.80887960022363, -285.1259738341701, -303.02265096260675, -317.85719150536704, -329.0747012826723, -336.2231240965355, -338.9660483681449, -337.09192443867295, -330.51941931794215, -319.2987540163208, -303.6089916736347, -283.75136877736054, -260.13888309134245, -233.2824668420272, -203.7741787286041, -172.26794026579717, -139.45841803030518, -106.05871122692079, -72.77754184805076, -40.29666136871202, -9.249182857647003, 19.80047932464204, 46.37442766962381, 70.09629005208991, 90.70293587603838, 108.0525167949396, 122.12856080951784, 133.03996916843883, 141.01689129656677, 146.40258019148396, 149.64145552413254, 151.26372030386906, 151.86698581582976, 152.09545528736948, 152.61729645860416, 154.10089443218982, 157.19071692140093, 162.48354297748307, 170.5058027394384, 181.69274969592706, 196.37013901480265, 214.73901693995998, 236.86413902780149, 262.6664315090967, 291.91979330845083, 324.25240959172044, 359.1526147831356, 395.97920773882925, 433.97598806707373, 472.2901544690926, 509.9940871794966], \"yaxis\": \"y2\"}],\n",
              "                        {\"height\": 400, \"showlegend\": false, \"template\": {\"data\": {\"bar\": [{\"error_x\": {\"color\": \"#2a3f5f\"}, \"error_y\": {\"color\": \"#2a3f5f\"}, \"marker\": {\"line\": {\"color\": \"white\", \"width\": 0.5}}, \"type\": \"bar\"}], \"barpolar\": [{\"marker\": {\"line\": {\"color\": \"white\", \"width\": 0.5}}, \"type\": \"barpolar\"}], \"carpet\": [{\"aaxis\": {\"endlinecolor\": \"#2a3f5f\", \"gridcolor\": \"#C8D4E3\", \"linecolor\": \"#C8D4E3\", \"minorgridcolor\": \"#C8D4E3\", \"startlinecolor\": \"#2a3f5f\"}, \"baxis\": {\"endlinecolor\": \"#2a3f5f\", \"gridcolor\": \"#C8D4E3\", \"linecolor\": \"#C8D4E3\", \"minorgridcolor\": \"#C8D4E3\", \"startlinecolor\": \"#2a3f5f\"}, \"type\": \"carpet\"}], \"choropleth\": [{\"colorbar\": {\"outlinewidth\": 0, \"ticks\": \"\"}, \"type\": \"choropleth\"}], \"contour\": [{\"colorbar\": {\"outlinewidth\": 0, \"ticks\": \"\"}, \"colorscale\": [[0.0, \"#0d0887\"], [0.1111111111111111, \"#46039f\"], [0.2222222222222222, \"#7201a8\"], [0.3333333333333333, \"#9c179e\"], [0.4444444444444444, \"#bd3786\"], [0.5555555555555556, \"#d8576b\"], [0.6666666666666666, \"#ed7953\"], [0.7777777777777778, \"#fb9f3a\"], [0.8888888888888888, \"#fdca26\"], [1.0, \"#f0f921\"]], \"type\": \"contour\"}], \"contourcarpet\": [{\"colorbar\": {\"outlinewidth\": 0, \"ticks\": \"\"}, \"type\": \"contourcarpet\"}], \"heatmap\": [{\"colorbar\": {\"outlinewidth\": 0, \"ticks\": \"\"}, \"colorscale\": [[0.0, \"#0d0887\"], [0.1111111111111111, \"#46039f\"], [0.2222222222222222, \"#7201a8\"], [0.3333333333333333, \"#9c179e\"], [0.4444444444444444, \"#bd3786\"], [0.5555555555555556, \"#d8576b\"], [0.6666666666666666, \"#ed7953\"], [0.7777777777777778, \"#fb9f3a\"], [0.8888888888888888, \"#fdca26\"], [1.0, \"#f0f921\"]], \"type\": \"heatmap\"}], \"heatmapgl\": [{\"colorbar\": {\"outlinewidth\": 0, \"ticks\": \"\"}, \"colorscale\": [[0.0, \"#0d0887\"], [0.1111111111111111, \"#46039f\"], [0.2222222222222222, \"#7201a8\"], [0.3333333333333333, \"#9c179e\"], [0.4444444444444444, \"#bd3786\"], [0.5555555555555556, \"#d8576b\"], [0.6666666666666666, \"#ed7953\"], [0.7777777777777778, \"#fb9f3a\"], [0.8888888888888888, \"#fdca26\"], [1.0, \"#f0f921\"]], \"type\": \"heatmapgl\"}], \"histogram\": [{\"marker\": {\"colorbar\": {\"outlinewidth\": 0, \"ticks\": \"\"}}, \"type\": \"histogram\"}], \"histogram2d\": [{\"colorbar\": {\"outlinewidth\": 0, \"ticks\": \"\"}, \"colorscale\": [[0.0, \"#0d0887\"], [0.1111111111111111, \"#46039f\"], [0.2222222222222222, \"#7201a8\"], [0.3333333333333333, \"#9c179e\"], [0.4444444444444444, \"#bd3786\"], [0.5555555555555556, \"#d8576b\"], [0.6666666666666666, \"#ed7953\"], [0.7777777777777778, \"#fb9f3a\"], [0.8888888888888888, \"#fdca26\"], [1.0, \"#f0f921\"]], \"type\": \"histogram2d\"}], \"histogram2dcontour\": [{\"colorbar\": {\"outlinewidth\": 0, \"ticks\": \"\"}, \"colorscale\": [[0.0, \"#0d0887\"], [0.1111111111111111, \"#46039f\"], [0.2222222222222222, \"#7201a8\"], [0.3333333333333333, \"#9c179e\"], [0.4444444444444444, \"#bd3786\"], [0.5555555555555556, \"#d8576b\"], [0.6666666666666666, \"#ed7953\"], [0.7777777777777778, \"#fb9f3a\"], [0.8888888888888888, \"#fdca26\"], [1.0, \"#f0f921\"]], \"type\": \"histogram2dcontour\"}], \"mesh3d\": [{\"colorbar\": {\"outlinewidth\": 0, \"ticks\": \"\"}, \"type\": \"mesh3d\"}], \"parcoords\": [{\"line\": {\"colorbar\": {\"outlinewidth\": 0, \"ticks\": \"\"}}, \"type\": \"parcoords\"}], \"pie\": [{\"automargin\": true, \"type\": \"pie\"}], \"scatter\": [{\"marker\": {\"colorbar\": {\"outlinewidth\": 0, \"ticks\": \"\"}}, \"type\": \"scatter\"}], \"scatter3d\": [{\"line\": {\"colorbar\": {\"outlinewidth\": 0, \"ticks\": \"\"}}, \"marker\": {\"colorbar\": {\"outlinewidth\": 0, \"ticks\": \"\"}}, \"type\": \"scatter3d\"}], \"scattercarpet\": [{\"marker\": {\"colorbar\": {\"outlinewidth\": 0, \"ticks\": \"\"}}, \"type\": \"scattercarpet\"}], \"scattergeo\": [{\"marker\": {\"colorbar\": {\"outlinewidth\": 0, \"ticks\": \"\"}}, \"type\": \"scattergeo\"}], \"scattergl\": [{\"marker\": {\"colorbar\": {\"outlinewidth\": 0, \"ticks\": \"\"}}, \"type\": \"scattergl\"}], \"scattermapbox\": [{\"marker\": {\"colorbar\": {\"outlinewidth\": 0, \"ticks\": \"\"}}, \"type\": \"scattermapbox\"}], \"scatterpolar\": [{\"marker\": {\"colorbar\": {\"outlinewidth\": 0, \"ticks\": \"\"}}, \"type\": \"scatterpolar\"}], \"scatterpolargl\": [{\"marker\": {\"colorbar\": {\"outlinewidth\": 0, \"ticks\": \"\"}}, \"type\": \"scatterpolargl\"}], \"scatterternary\": [{\"marker\": {\"colorbar\": {\"outlinewidth\": 0, \"ticks\": \"\"}}, \"type\": \"scatterternary\"}], \"surface\": [{\"colorbar\": {\"outlinewidth\": 0, \"ticks\": \"\"}, \"colorscale\": [[0.0, \"#0d0887\"], [0.1111111111111111, \"#46039f\"], [0.2222222222222222, \"#7201a8\"], [0.3333333333333333, \"#9c179e\"], [0.4444444444444444, \"#bd3786\"], [0.5555555555555556, \"#d8576b\"], [0.6666666666666666, \"#ed7953\"], [0.7777777777777778, \"#fb9f3a\"], [0.8888888888888888, \"#fdca26\"], [1.0, \"#f0f921\"]], \"type\": \"surface\"}], \"table\": [{\"cells\": {\"fill\": {\"color\": \"#EBF0F8\"}, \"line\": {\"color\": \"white\"}}, \"header\": {\"fill\": {\"color\": \"#C8D4E3\"}, \"line\": {\"color\": \"white\"}}, \"type\": \"table\"}]}, \"layout\": {\"annotationdefaults\": {\"arrowcolor\": \"#2a3f5f\", \"arrowhead\": 0, \"arrowwidth\": 1}, \"coloraxis\": {\"colorbar\": {\"outlinewidth\": 0, \"ticks\": \"\"}}, \"colorscale\": {\"diverging\": [[0, \"#8e0152\"], [0.1, \"#c51b7d\"], [0.2, \"#de77ae\"], [0.3, \"#f1b6da\"], [0.4, \"#fde0ef\"], [0.5, \"#f7f7f7\"], [0.6, \"#e6f5d0\"], [0.7, \"#b8e186\"], [0.8, \"#7fbc41\"], [0.9, \"#4d9221\"], [1, \"#276419\"]], \"sequential\": [[0.0, \"#0d0887\"], [0.1111111111111111, \"#46039f\"], [0.2222222222222222, \"#7201a8\"], [0.3333333333333333, \"#9c179e\"], [0.4444444444444444, \"#bd3786\"], [0.5555555555555556, \"#d8576b\"], [0.6666666666666666, \"#ed7953\"], [0.7777777777777778, \"#fb9f3a\"], [0.8888888888888888, \"#fdca26\"], [1.0, \"#f0f921\"]], \"sequentialminus\": [[0.0, \"#0d0887\"], [0.1111111111111111, \"#46039f\"], [0.2222222222222222, \"#7201a8\"], [0.3333333333333333, \"#9c179e\"], [0.4444444444444444, \"#bd3786\"], [0.5555555555555556, \"#d8576b\"], [0.6666666666666666, \"#ed7953\"], [0.7777777777777778, \"#fb9f3a\"], [0.8888888888888888, \"#fdca26\"], [1.0, \"#f0f921\"]]}, \"colorway\": [\"#636efa\", \"#EF553B\", \"#00cc96\", \"#ab63fa\", \"#FFA15A\", \"#19d3f3\", \"#FF6692\", \"#B6E880\", \"#FF97FF\", \"#FECB52\"], \"font\": {\"color\": \"#2a3f5f\"}, \"geo\": {\"bgcolor\": \"white\", \"lakecolor\": \"white\", \"landcolor\": \"white\", \"showlakes\": true, \"showland\": true, \"subunitcolor\": \"#C8D4E3\"}, \"hoverlabel\": {\"align\": \"left\"}, \"hovermode\": \"closest\", \"mapbox\": {\"style\": \"light\"}, \"paper_bgcolor\": \"white\", \"plot_bgcolor\": \"white\", \"polar\": {\"angularaxis\": {\"gridcolor\": \"#EBF0F8\", \"linecolor\": \"#EBF0F8\", \"ticks\": \"\"}, \"bgcolor\": \"white\", \"radialaxis\": {\"gridcolor\": \"#EBF0F8\", \"linecolor\": \"#EBF0F8\", \"ticks\": \"\"}}, \"scene\": {\"xaxis\": {\"backgroundcolor\": \"white\", \"gridcolor\": \"#DFE8F3\", \"gridwidth\": 2, \"linecolor\": \"#EBF0F8\", \"showbackground\": true, \"ticks\": \"\", \"zerolinecolor\": \"#EBF0F8\"}, \"yaxis\": {\"backgroundcolor\": \"white\", \"gridcolor\": \"#DFE8F3\", \"gridwidth\": 2, \"linecolor\": \"#EBF0F8\", \"showbackground\": true, \"ticks\": \"\", \"zerolinecolor\": \"#EBF0F8\"}, \"zaxis\": {\"backgroundcolor\": \"white\", \"gridcolor\": \"#DFE8F3\", \"gridwidth\": 2, \"linecolor\": \"#EBF0F8\", \"showbackground\": true, \"ticks\": \"\", \"zerolinecolor\": \"#EBF0F8\"}}, \"shapedefaults\": {\"line\": {\"color\": \"#2a3f5f\"}}, \"ternary\": {\"aaxis\": {\"gridcolor\": \"#DFE8F3\", \"linecolor\": \"#A2B1C6\", \"ticks\": \"\"}, \"baxis\": {\"gridcolor\": \"#DFE8F3\", \"linecolor\": \"#A2B1C6\", \"ticks\": \"\"}, \"bgcolor\": \"white\", \"caxis\": {\"gridcolor\": \"#DFE8F3\", \"linecolor\": \"#A2B1C6\", \"ticks\": \"\"}}, \"title\": {\"x\": 0.05}, \"xaxis\": {\"automargin\": true, \"gridcolor\": \"#EBF0F8\", \"linecolor\": \"#EBF0F8\", \"ticks\": \"\", \"title\": {\"standoff\": 15}, \"zerolinecolor\": \"#EBF0F8\", \"zerolinewidth\": 2}, \"yaxis\": {\"automargin\": true, \"gridcolor\": \"#EBF0F8\", \"linecolor\": \"#EBF0F8\", \"ticks\": \"\", \"title\": {\"standoff\": 15}, \"zerolinecolor\": \"#EBF0F8\", \"zerolinewidth\": 2}}}, \"title\": {\"text\": \"Detalhes do Hist\\u00f3rico de Vendas\"}, \"width\": 900, \"xaxis\": {\"anchor\": \"y\", \"domain\": [0.0, 1.0], \"range\": [\"1998-12-25T03:36:00\", \"2023-01-02T20:24:00\"], \"type\": \"date\"}, \"xaxis2\": {\"anchor\": \"y2\", \"domain\": [0.0, 1.0], \"range\": [\"2016-12-13T18:54:02.958904115\", \"2018-01-18T11:04:57.863013581\"], \"tickformat\": \"%B %e\", \"type\": \"date\"}, \"yaxis\": {\"anchor\": \"x\", \"domain\": [0.575, 1.0], \"rangemode\": \"normal\", \"title\": {\"text\": \"trend\"}, \"zerolinecolor\": \"#AAA\"}, \"yaxis2\": {\"anchor\": \"x2\", \"domain\": [0.0, 0.425], \"title\": {\"text\": \"yearly\"}, \"zerolinecolor\": \"#AAA\"}},\n",
              "                        {\"responsive\": true}\n",
              "                    ).then(function(){\n",
              "                            \n",
              "var gd = document.getElementById('af8b21a9-d89a-4a11-8622-b477230247ec');\n",
              "var x = new MutationObserver(function (mutations, observer) {{\n",
              "        var display = window.getComputedStyle(gd).display;\n",
              "        if (!display || display === 'none') {{\n",
              "            console.log([gd, 'removed!']);\n",
              "            Plotly.purge(gd);\n",
              "            observer.disconnect();\n",
              "        }}\n",
              "}});\n",
              "\n",
              "// Listen for the removal of the full notebook cells\n",
              "var notebookContainer = gd.closest('#notebook-container');\n",
              "if (notebookContainer) {{\n",
              "    x.observe(notebookContainer, {childList: true});\n",
              "}}\n",
              "\n",
              "// Listen for the clearing of the current output cell\n",
              "var outputEl = gd.closest('.output');\n",
              "if (outputEl) {{\n",
              "    x.observe(outputEl, {childList: true});\n",
              "}}\n",
              "\n",
              "                        })\n",
              "                };\n",
              "                \n",
              "            </script>\n",
              "        </div>\n",
              "</body>\n",
              "</html>"
            ]
          },
          "metadata": {
            "tags": []
          }
        }
      ]
    },
    {
      "cell_type": "markdown",
      "metadata": {
        "id": "PkOgEtq1L9Gd"
      },
      "source": [
        "# **Prediction Scikit-Learn**"
      ]
    },
    {
      "cell_type": "code",
      "metadata": {
        "id": "Dryp9-UkL81e"
      },
      "source": [
        "# ML Algorithms sklearn\n",
        "from sklearn.ensemble import RandomForestRegressor, GradientBoostingRegressor\n",
        "from sklearn.tree import DecisionTreeRegressor\n",
        "from sklearn.linear_model import LinearRegression, LogisticRegression\n",
        "from sklearn.svm import SVR\n",
        "from sklearn.naive_bayes import GaussianNB\n",
        "from sklearn.dummy import DummyRegressor\n",
        "from sklearn.metrics import mean_absolute_error, mean_squared_error\n",
        "from sklearn.model_selection import train_test_split"
      ],
      "execution_count": 15,
      "outputs": []
    },
    {
      "cell_type": "code",
      "metadata": {
        "id": "2iEuf27wMzpo"
      },
      "source": [
        "regressors = [\n",
        "        DecisionTreeRegressor(),\n",
        "        RandomForestRegressor(),\n",
        "        SVR(),\n",
        "        LinearRegression(),\n",
        "        GradientBoostingRegressor(),\n",
        "        DummyRegressor(),\n",
        "        LogisticRegression(),\n",
        "        GaussianNB()\n",
        "    ]"
      ],
      "execution_count": 16,
      "outputs": []
    },
    {
      "cell_type": "code",
      "metadata": {
        "id": "CSVruy7HNLl3"
      },
      "source": [
        "vendasK = vendas.copy()\n",
        "vendasK['mes'] = pd.DatetimeIndex(vendasK.ds).month\n",
        "vendasK['ano'] = pd.DatetimeIndex(vendasK.ds).year"
      ],
      "execution_count": 17,
      "outputs": []
    },
    {
      "cell_type": "code",
      "metadata": {
        "id": "pKM3FY8OM28Q"
      },
      "source": [
        "X = vendasK[['mes', 'ano', 'vvt']]\n",
        "y = vendasK.y\n",
        "Xtreino, Xteste, ytreino, yteste = train_test_split(X, y, test_size=0.3, random_state=123)"
      ],
      "execution_count": 18,
      "outputs": []
    },
    {
      "cell_type": "code",
      "metadata": {
        "id": "T5Uq3S4WNBXB"
      },
      "source": [
        "reg = []\n",
        "mae = []\n",
        "sco = []\n",
        "rmse = []\n",
        "for regressor in regressors:\n",
        "    modelo = RandomForestRegressor()\n",
        "    modelo.fit(Xtreino, np.array(ytreino))\n",
        "    sco.append(modelo.score(Xtreino, ytreino))\n",
        "    previsao = modelo.predict(Xteste)\n",
        "    mae.append(round(mean_absolute_error(yteste, previsao), 2))\n",
        "    rmse.append(round(mean_squared_error(yteste, previsao, squared=False), 2))\n",
        "    reg.append(regressor)"
      ],
      "execution_count": 19,
      "outputs": []
    },
    {
      "cell_type": "code",
      "metadata": {
        "id": "D0AleqagNOOg"
      },
      "source": [
        "meuMae = pd.DataFrame(columns=['Regressor', 'mae', 'rmse', 'score'])\n",
        "meuMae['Regressor'] = reg\n",
        "meuMae['mae'] = mae\n",
        "meuMae['rmse'] = rmse\n",
        "meuMae['score'] = sco"
      ],
      "execution_count": 20,
      "outputs": []
    },
    {
      "cell_type": "code",
      "metadata": {
        "id": "DBVcRJDtNP2e",
        "outputId": "903a3d6d-523a-473a-977e-6fb8305fe781",
        "colab": {
          "base_uri": "https://localhost:8080/",
          "height": 297
        }
      },
      "source": [
        "meuMae = meuMae.sort_values(by='rmse', ascending=True)\n",
        "meuMae"
      ],
      "execution_count": 21,
      "outputs": [
        {
          "output_type": "execute_result",
          "data": {
            "text/html": [
              "<div>\n",
              "<style scoped>\n",
              "    .dataframe tbody tr th:only-of-type {\n",
              "        vertical-align: middle;\n",
              "    }\n",
              "\n",
              "    .dataframe tbody tr th {\n",
              "        vertical-align: top;\n",
              "    }\n",
              "\n",
              "    .dataframe thead th {\n",
              "        text-align: right;\n",
              "    }\n",
              "</style>\n",
              "<table border=\"1\" class=\"dataframe\">\n",
              "  <thead>\n",
              "    <tr style=\"text-align: right;\">\n",
              "      <th></th>\n",
              "      <th>Regressor</th>\n",
              "      <th>mae</th>\n",
              "      <th>rmse</th>\n",
              "      <th>score</th>\n",
              "    </tr>\n",
              "  </thead>\n",
              "  <tbody>\n",
              "    <tr>\n",
              "      <th>0</th>\n",
              "      <td>DecisionTreeRegressor(ccp_alpha=0.0, criterion...</td>\n",
              "      <td>0.75</td>\n",
              "      <td>2.57</td>\n",
              "      <td>0.999959</td>\n",
              "    </tr>\n",
              "    <tr>\n",
              "      <th>2</th>\n",
              "      <td>SVR(C=1.0, cache_size=200, coef0=0.0, degree=3...</td>\n",
              "      <td>0.83</td>\n",
              "      <td>2.58</td>\n",
              "      <td>0.999959</td>\n",
              "    </tr>\n",
              "    <tr>\n",
              "      <th>5</th>\n",
              "      <td>DummyRegressor(constant=None, quantile=None, s...</td>\n",
              "      <td>0.97</td>\n",
              "      <td>2.84</td>\n",
              "      <td>0.999959</td>\n",
              "    </tr>\n",
              "    <tr>\n",
              "      <th>7</th>\n",
              "      <td>GaussianNB(priors=None, var_smoothing=1e-09)</td>\n",
              "      <td>1.39</td>\n",
              "      <td>4.83</td>\n",
              "      <td>0.999911</td>\n",
              "    </tr>\n",
              "    <tr>\n",
              "      <th>4</th>\n",
              "      <td>GradientBoostingRegressor(alpha=0.9, ccp_alpha...</td>\n",
              "      <td>1.39</td>\n",
              "      <td>6.01</td>\n",
              "      <td>0.999856</td>\n",
              "    </tr>\n",
              "    <tr>\n",
              "      <th>6</th>\n",
              "      <td>LogisticRegression(C=1.0, class_weight=None, d...</td>\n",
              "      <td>1.72</td>\n",
              "      <td>6.24</td>\n",
              "      <td>0.999767</td>\n",
              "    </tr>\n",
              "    <tr>\n",
              "      <th>3</th>\n",
              "      <td>LinearRegression(copy_X=True, fit_intercept=Tr...</td>\n",
              "      <td>2.08</td>\n",
              "      <td>7.55</td>\n",
              "      <td>0.999802</td>\n",
              "    </tr>\n",
              "    <tr>\n",
              "      <th>1</th>\n",
              "      <td>RandomForestRegressor(bootstrap=True, ccp_alph...</td>\n",
              "      <td>2.22</td>\n",
              "      <td>8.98</td>\n",
              "      <td>0.999609</td>\n",
              "    </tr>\n",
              "  </tbody>\n",
              "</table>\n",
              "</div>"
            ],
            "text/plain": [
              "                                           Regressor   mae  rmse     score\n",
              "0  DecisionTreeRegressor(ccp_alpha=0.0, criterion...  0.75  2.57  0.999959\n",
              "2  SVR(C=1.0, cache_size=200, coef0=0.0, degree=3...  0.83  2.58  0.999959\n",
              "5  DummyRegressor(constant=None, quantile=None, s...  0.97  2.84  0.999959\n",
              "7       GaussianNB(priors=None, var_smoothing=1e-09)  1.39  4.83  0.999911\n",
              "4  GradientBoostingRegressor(alpha=0.9, ccp_alpha...  1.39  6.01  0.999856\n",
              "6  LogisticRegression(C=1.0, class_weight=None, d...  1.72  6.24  0.999767\n",
              "3  LinearRegression(copy_X=True, fit_intercept=Tr...  2.08  7.55  0.999802\n",
              "1  RandomForestRegressor(bootstrap=True, ccp_alph...  2.22  8.98  0.999609"
            ]
          },
          "metadata": {
            "tags": []
          },
          "execution_count": 21
        }
      ]
    },
    {
      "cell_type": "code",
      "metadata": {
        "id": "uEsW8eXKNT4p",
        "outputId": "675dd1d4-409a-49d8-fec4-87e5f20d54b6",
        "colab": {
          "base_uri": "https://localhost:8080/",
          "height": 86
        }
      },
      "source": [
        "f'Best Regressor: {meuMae[\"Regressor\"].values[0]}'"
      ],
      "execution_count": 22,
      "outputs": [
        {
          "output_type": "execute_result",
          "data": {
            "application/vnd.google.colaboratory.intrinsic+json": {
              "type": "string"
            },
            "text/plain": [
              "\"Best Regressor: DecisionTreeRegressor(ccp_alpha=0.0, criterion='mse', max_depth=None,\\n                      max_features=None, max_leaf_nodes=None,\\n                      min_impurity_decrease=0.0, min_impurity_split=None,\\n                      min_samples_leaf=1, min_samples_split=2,\\n                      min_weight_fraction_leaf=0.0, presort='deprecated',\\n                      random_state=None, splitter='best')\""
            ]
          },
          "metadata": {
            "tags": []
          },
          "execution_count": 22
        }
      ]
    },
    {
      "cell_type": "code",
      "metadata": {
        "id": "6FB7RmIyNdHO"
      },
      "source": [
        "model = RandomForestRegressor() # OR meuMae[\"Regressor\"].values[1]"
      ],
      "execution_count": 31,
      "outputs": []
    },
    {
      "cell_type": "code",
      "metadata": {
        "id": "7POInjLmNgZc",
        "outputId": "baa9a190-f370-4237-9620-ca47e948ffe2",
        "colab": {
          "base_uri": "https://localhost:8080/"
        }
      },
      "source": [
        "model.fit(X, y)"
      ],
      "execution_count": 32,
      "outputs": [
        {
          "output_type": "execute_result",
          "data": {
            "text/plain": [
              "RandomForestRegressor(bootstrap=True, ccp_alpha=0.0, criterion='mse',\n",
              "                      max_depth=None, max_features='auto', max_leaf_nodes=None,\n",
              "                      max_samples=None, min_impurity_decrease=0.0,\n",
              "                      min_impurity_split=None, min_samples_leaf=1,\n",
              "                      min_samples_split=2, min_weight_fraction_leaf=0.0,\n",
              "                      n_estimators=100, n_jobs=None, oob_score=False,\n",
              "                      random_state=None, verbose=0, warm_start=False)"
            ]
          },
          "metadata": {
            "tags": []
          },
          "execution_count": 32
        }
      ]
    },
    {
      "cell_type": "code",
      "metadata": {
        "id": "sA29MdhSNmck"
      },
      "source": [
        "pVendas = vendasK.copy()\n",
        "rMes = range(1, 13)\n",
        "rAno = range(2020, 2022)\n",
        "for year in rAno:\n",
        "  for m in rMes:\n",
        "    vvt = 0\n",
        "    if year % 2 == 0 and m < 7:\n",
        "      i += i*0.1\n",
        "      vvt = 1\n",
        "    valFeatures = [m, year, vvt]\n",
        "    predict = float(model.predict([valFeatures]))\n",
        "    pVendas = pVendas.append({'mes': m, 'ano': year, 'y': predict, 'vvt': vvt}, ignore_index=True)\n"
      ],
      "execution_count": 33,
      "outputs": []
    },
    {
      "cell_type": "code",
      "metadata": {
        "id": "AaYMY_-ttEJj"
      },
      "source": [
        "pVendas['ds'] = pVendas.apply(lambda x: f'{int(x.ano)}-{int(x.mes)}-28', axis=1)"
      ],
      "execution_count": 34,
      "outputs": []
    },
    {
      "cell_type": "code",
      "metadata": {
        "id": "lWP9hCo5u4Ps"
      },
      "source": [
        "pVendas['ds'] = pVendas.ds.astype('datetime64[ns]')"
      ],
      "execution_count": 35,
      "outputs": []
    },
    {
      "cell_type": "code",
      "metadata": {
        "id": "HMrNcjBzu9J6",
        "outputId": "c64b84e7-93b0-465b-e8e6-3a5caf91ddc6",
        "colab": {
          "base_uri": "https://localhost:8080/"
        }
      },
      "source": [
        "pVendas.info()"
      ],
      "execution_count": 36,
      "outputs": [
        {
          "output_type": "stream",
          "text": [
            "<class 'pandas.core.frame.DataFrame'>\n",
            "RangeIndex: 264 entries, 0 to 263\n",
            "Data columns (total 5 columns):\n",
            " #   Column  Non-Null Count  Dtype         \n",
            "---  ------  --------------  -----         \n",
            " 0   ds      264 non-null    datetime64[ns]\n",
            " 1   vvt     264 non-null    float64       \n",
            " 2   y       264 non-null    float64       \n",
            " 3   mes     264 non-null    float64       \n",
            " 4   ano     264 non-null    float64       \n",
            "dtypes: datetime64[ns](1), float64(4)\n",
            "memory usage: 10.4 KB\n"
          ],
          "name": "stdout"
        }
      ]
    },
    {
      "cell_type": "code",
      "metadata": {
        "id": "qXH2XlFNsQ-s",
        "outputId": "9cc88deb-bac4-48f5-c3fe-402595c775fb",
        "colab": {
          "base_uri": "https://localhost:8080/",
          "height": 542
        }
      },
      "source": [
        "x = pVendas.ds\n",
        "real = pVendas.y[pVendas.ano < 2020]\n",
        "pred = pVendas[pVendas.ano >= 2020]\n",
        "\n",
        "fig = go.Figure()\n",
        "fig.add_trace(go.Scatter(x=x, y=real,\n",
        "                    mode='lines+markers',\n",
        "                    name='Realizado'))\n",
        "\n",
        "fig.add_trace(go.Scatter(x=pred.ds, y=pred.y,\n",
        "                    mode='lines+markers',\n",
        "                    name='Previsao'))\n",
        "fig.update_layout(template=goTemplates[1],  title=\"Historico + Previsao de Vendas\")\n",
        "\n",
        "fig.show()"
      ],
      "execution_count": 37,
      "outputs": [
        {
          "output_type": "display_data",
          "data": {
            "text/html": [
              "<html>\n",
              "<head><meta charset=\"utf-8\" /></head>\n",
              "<body>\n",
              "    <div>\n",
              "            <script src=\"https://cdnjs.cloudflare.com/ajax/libs/mathjax/2.7.5/MathJax.js?config=TeX-AMS-MML_SVG\"></script><script type=\"text/javascript\">if (window.MathJax) {MathJax.Hub.Config({SVG: {font: \"STIX-Web\"}});}</script>\n",
              "                <script type=\"text/javascript\">window.PlotlyConfig = {MathJaxConfig: 'local'};</script>\n",
              "        <script src=\"https://cdn.plot.ly/plotly-latest.min.js\"></script>    \n",
              "            <div id=\"0fe6916c-b01f-497e-95f5-91927c1d4cdb\" class=\"plotly-graph-div\" style=\"height:525px; width:100%;\"></div>\n",
              "            <script type=\"text/javascript\">\n",
              "                \n",
              "                    window.PLOTLYENV=window.PLOTLYENV || {};\n",
              "                    \n",
              "                if (document.getElementById(\"0fe6916c-b01f-497e-95f5-91927c1d4cdb\")) {\n",
              "                    Plotly.newPlot(\n",
              "                        '0fe6916c-b01f-497e-95f5-91927c1d4cdb',\n",
              "                        [{\"mode\": \"lines+markers\", \"name\": \"Realizado\", \"type\": \"scatter\", \"x\": [\"2000-01-28T00:00:00\", \"2000-02-28T00:00:00\", \"2000-03-28T00:00:00\", \"2000-04-28T00:00:00\", \"2000-05-28T00:00:00\", \"2000-06-28T00:00:00\", \"2000-07-28T00:00:00\", \"2000-08-28T00:00:00\", \"2000-09-28T00:00:00\", \"2000-10-28T00:00:00\", \"2000-11-28T00:00:00\", \"2000-12-28T00:00:00\", \"2001-01-28T00:00:00\", \"2001-02-28T00:00:00\", \"2001-03-28T00:00:00\", \"2001-04-28T00:00:00\", \"2001-05-28T00:00:00\", \"2001-06-28T00:00:00\", \"2001-07-28T00:00:00\", \"2001-08-28T00:00:00\", \"2001-09-28T00:00:00\", \"2001-10-28T00:00:00\", \"2001-11-28T00:00:00\", \"2001-12-28T00:00:00\", \"2002-01-28T00:00:00\", \"2002-02-28T00:00:00\", \"2002-03-28T00:00:00\", \"2002-04-28T00:00:00\", \"2002-05-28T00:00:00\", \"2002-06-28T00:00:00\", \"2002-07-28T00:00:00\", \"2002-08-28T00:00:00\", \"2002-09-28T00:00:00\", \"2002-10-28T00:00:00\", \"2002-11-28T00:00:00\", \"2002-12-28T00:00:00\", \"2003-01-28T00:00:00\", \"2003-02-28T00:00:00\", \"2003-03-28T00:00:00\", \"2003-04-28T00:00:00\", \"2003-05-28T00:00:00\", \"2003-06-28T00:00:00\", \"2003-07-28T00:00:00\", \"2003-08-28T00:00:00\", \"2003-09-28T00:00:00\", \"2003-10-28T00:00:00\", \"2003-11-28T00:00:00\", \"2003-12-28T00:00:00\", \"2004-01-28T00:00:00\", \"2004-02-28T00:00:00\", \"2004-03-28T00:00:00\", \"2004-04-28T00:00:00\", \"2004-05-28T00:00:00\", \"2004-06-28T00:00:00\", \"2004-07-28T00:00:00\", \"2004-08-28T00:00:00\", \"2004-09-28T00:00:00\", \"2004-10-28T00:00:00\", \"2004-11-28T00:00:00\", \"2004-12-28T00:00:00\", \"2005-01-28T00:00:00\", \"2005-02-28T00:00:00\", \"2005-03-28T00:00:00\", \"2005-04-28T00:00:00\", \"2005-05-28T00:00:00\", \"2005-06-28T00:00:00\", \"2005-07-28T00:00:00\", \"2005-08-28T00:00:00\", \"2005-09-28T00:00:00\", \"2005-10-28T00:00:00\", \"2005-11-28T00:00:00\", \"2005-12-28T00:00:00\", \"2006-01-28T00:00:00\", \"2006-02-28T00:00:00\", \"2006-03-28T00:00:00\", \"2006-04-28T00:00:00\", \"2006-05-28T00:00:00\", \"2006-06-28T00:00:00\", \"2006-07-28T00:00:00\", \"2006-08-28T00:00:00\", \"2006-09-28T00:00:00\", \"2006-10-28T00:00:00\", \"2006-11-28T00:00:00\", \"2006-12-28T00:00:00\", \"2007-01-28T00:00:00\", \"2007-02-28T00:00:00\", \"2007-03-28T00:00:00\", \"2007-04-28T00:00:00\", \"2007-05-28T00:00:00\", \"2007-06-28T00:00:00\", \"2007-07-28T00:00:00\", \"2007-08-28T00:00:00\", \"2007-09-28T00:00:00\", \"2007-10-28T00:00:00\", \"2007-11-28T00:00:00\", \"2007-12-28T00:00:00\", \"2008-01-28T00:00:00\", \"2008-02-28T00:00:00\", \"2008-03-28T00:00:00\", \"2008-04-28T00:00:00\", \"2008-05-28T00:00:00\", \"2008-06-28T00:00:00\", \"2008-07-28T00:00:00\", \"2008-08-28T00:00:00\", \"2008-09-28T00:00:00\", \"2008-10-28T00:00:00\", \"2008-11-28T00:00:00\", \"2008-12-28T00:00:00\", \"2009-01-28T00:00:00\", \"2009-02-28T00:00:00\", \"2009-03-28T00:00:00\", \"2009-04-28T00:00:00\", \"2009-05-28T00:00:00\", \"2009-06-28T00:00:00\", \"2009-07-28T00:00:00\", \"2009-08-28T00:00:00\", \"2009-09-28T00:00:00\", \"2009-10-28T00:00:00\", \"2009-11-28T00:00:00\", \"2009-12-28T00:00:00\", \"2010-01-28T00:00:00\", \"2010-02-28T00:00:00\", \"2010-03-28T00:00:00\", \"2010-04-28T00:00:00\", \"2010-05-28T00:00:00\", \"2010-06-28T00:00:00\", \"2010-07-28T00:00:00\", \"2010-08-28T00:00:00\", \"2010-09-28T00:00:00\", \"2010-10-28T00:00:00\", \"2010-11-28T00:00:00\", \"2010-12-28T00:00:00\", \"2011-01-28T00:00:00\", \"2011-02-28T00:00:00\", \"2011-03-28T00:00:00\", \"2011-04-28T00:00:00\", \"2011-05-28T00:00:00\", \"2011-06-28T00:00:00\", \"2011-07-28T00:00:00\", \"2011-08-28T00:00:00\", \"2011-09-28T00:00:00\", \"2011-10-28T00:00:00\", \"2011-11-28T00:00:00\", \"2011-12-28T00:00:00\", \"2012-01-28T00:00:00\", \"2012-02-28T00:00:00\", \"2012-03-28T00:00:00\", \"2012-04-28T00:00:00\", \"2012-05-28T00:00:00\", \"2012-06-28T00:00:00\", \"2012-07-28T00:00:00\", \"2012-08-28T00:00:00\", \"2012-09-28T00:00:00\", \"2012-10-28T00:00:00\", \"2012-11-28T00:00:00\", \"2012-12-28T00:00:00\", \"2013-01-28T00:00:00\", \"2013-02-28T00:00:00\", \"2013-03-28T00:00:00\", \"2013-04-28T00:00:00\", \"2013-05-28T00:00:00\", \"2013-06-28T00:00:00\", \"2013-07-28T00:00:00\", \"2013-08-28T00:00:00\", \"2013-09-28T00:00:00\", \"2013-10-28T00:00:00\", \"2013-11-28T00:00:00\", \"2013-12-28T00:00:00\", \"2014-01-28T00:00:00\", \"2014-02-28T00:00:00\", \"2014-03-28T00:00:00\", \"2014-04-28T00:00:00\", \"2014-05-28T00:00:00\", \"2014-06-28T00:00:00\", \"2014-07-28T00:00:00\", \"2014-08-28T00:00:00\", \"2014-09-28T00:00:00\", \"2014-10-28T00:00:00\", \"2014-11-28T00:00:00\", \"2014-12-28T00:00:00\", \"2015-01-28T00:00:00\", \"2015-02-28T00:00:00\", \"2015-03-28T00:00:00\", \"2015-04-28T00:00:00\", \"2015-05-28T00:00:00\", \"2015-06-28T00:00:00\", \"2015-07-28T00:00:00\", \"2015-08-28T00:00:00\", \"2015-09-28T00:00:00\", \"2015-10-28T00:00:00\", \"2015-11-28T00:00:00\", \"2015-12-28T00:00:00\", \"2016-01-28T00:00:00\", \"2016-02-28T00:00:00\", \"2016-03-28T00:00:00\", \"2016-04-28T00:00:00\", \"2016-05-28T00:00:00\", \"2016-06-28T00:00:00\", \"2016-07-28T00:00:00\", \"2016-08-28T00:00:00\", \"2016-09-28T00:00:00\", \"2016-10-28T00:00:00\", \"2016-11-28T00:00:00\", \"2016-12-28T00:00:00\", \"2017-01-28T00:00:00\", \"2017-02-28T00:00:00\", \"2017-03-28T00:00:00\", \"2017-04-28T00:00:00\", \"2017-05-28T00:00:00\", \"2017-06-28T00:00:00\", \"2017-07-28T00:00:00\", \"2017-08-28T00:00:00\", \"2017-09-28T00:00:00\", \"2017-10-28T00:00:00\", \"2017-11-28T00:00:00\", \"2017-12-28T00:00:00\", \"2018-01-28T00:00:00\", \"2018-02-28T00:00:00\", \"2018-03-28T00:00:00\", \"2018-04-28T00:00:00\", \"2018-05-28T00:00:00\", \"2018-06-28T00:00:00\", \"2018-07-28T00:00:00\", \"2018-08-28T00:00:00\", \"2018-09-28T00:00:00\", \"2018-10-28T00:00:00\", \"2018-11-28T00:00:00\", \"2018-12-28T00:00:00\", \"2019-01-28T00:00:00\", \"2019-02-28T00:00:00\", \"2019-03-28T00:00:00\", \"2019-04-28T00:00:00\", \"2019-05-28T00:00:00\", \"2019-06-28T00:00:00\", \"2019-07-28T00:00:00\", \"2019-08-28T00:00:00\", \"2019-09-28T00:00:00\", \"2019-10-28T00:00:00\", \"2019-11-28T00:00:00\", \"2019-12-28T00:00:00\", \"2020-01-28T00:00:00\", \"2020-02-28T00:00:00\", \"2020-03-28T00:00:00\", \"2020-04-28T00:00:00\", \"2020-05-28T00:00:00\", \"2020-06-28T00:00:00\", \"2020-07-28T00:00:00\", \"2020-08-28T00:00:00\", \"2020-09-28T00:00:00\", \"2020-10-28T00:00:00\", \"2020-11-28T00:00:00\", \"2020-12-28T00:00:00\", \"2021-01-28T00:00:00\", \"2021-02-28T00:00:00\", \"2021-03-28T00:00:00\", \"2021-04-28T00:00:00\", \"2021-05-28T00:00:00\", \"2021-06-28T00:00:00\", \"2021-07-28T00:00:00\", \"2021-08-28T00:00:00\", \"2021-09-28T00:00:00\", \"2021-10-28T00:00:00\", \"2021-11-28T00:00:00\", \"2021-12-28T00:00:00\"], \"y\": [825.0, 825.0, 1100.0, 1100.0, 1100.0, 2200.0, 1000.0, 1000.0, 1000.0, 1000.0, 1000.0, 1500.0, 750.0, 750.0, 1000.0, 1000.0, 1000.0, 2000.0, 1000.0, 1000.0, 1000.0, 1000.0, 1000.0, 1500.0, 825.0, 825.0, 1100.0, 1100.0, 1100.0, 2200.0, 1000.0, 1000.0, 1000.0, 1000.0, 1000.0, 1500.0, 750.0, 750.0, 1000.0, 1000.0, 1000.0, 2000.0, 1000.0, 1000.0, 1000.0, 1000.0, 1000.0, 1500.0, 825.0, 825.0, 1100.0, 1100.0, 1100.0, 2200.0, 1000.0, 1000.0, 1000.0, 1000.0, 1000.0, 1500.0, 750.0, 750.0, 1000.0, 1000.0, 1000.0, 2000.0, 1000.0, 1000.0, 1000.0, 1000.0, 1000.0, 1500.0, 825.0, 825.0, 1100.0, 1100.0, 1100.0, 2200.0, 1000.0, 1000.0, 1000.0, 1000.0, 1000.0, 1500.0, 750.0, 750.0, 1000.0, 1000.0, 1000.0, 2000.0, 1000.0, 1000.0, 1000.0, 1000.0, 1000.0, 1500.0, 825.0, 825.0, 1100.0, 1100.0, 1100.0, 2200.0, 1000.0, 1000.0, 1000.0, 1000.0, 1000.0, 1500.0, 750.0, 750.0, 1000.0, 1000.0, 1000.0, 2000.0, 1000.0, 1000.0, 1000.0, 1000.0, 1000.0, 1500.0, 825.0, 825.0, 1100.0, 1100.0, 1100.0, 2200.0, 1000.0, 1000.0, 1000.0, 1000.0, 1000.0, 1500.0, 750.0, 750.0, 1000.0, 1000.0, 1000.0, 2000.0, 1000.0, 1000.0, 1000.0, 1000.0, 1000.0, 1500.0, 825.0, 825.0, 1100.0, 1100.0, 1100.0, 2200.0, 1000.0, 1000.0, 1000.0, 1000.0, 1000.0, 1500.0, 750.0, 750.0, 1000.0, 1000.0, 1000.0, 2000.0, 1000.0, 1000.0, 1000.0, 1000.0, 1000.0, 1500.0, 825.0, 825.0, 1100.0, 1100.0, 1100.0, 2200.0, 1000.0, 1000.0, 1000.0, 1000.0, 1000.0, 1500.0, 750.0, 750.0, 1000.0, 1000.0, 1000.0, 2000.0, 1000.0, 1000.0, 1000.0, 1000.0, 1000.0, 1500.0, 825.0, 825.0, 1100.0, 1100.0, 1100.0, 2200.0, 1000.0, 1000.0, 1000.0, 1000.0, 1000.0, 1500.0, 750.0, 750.0, 1000.0, 1000.0, 1000.0, 2000.0, 1000.0, 1000.0, 1000.0, 1000.0, 1000.0, 1500.0, 825.0, 825.0, 1100.0, 1100.0, 1100.0, 2200.0, 1000.0, 1000.0, 1000.0, 1000.0, 1000.0, 1500.0, 750.0, 750.0, 1000.0, 1000.0, 1000.0, 2000.0, 1000.0, 1000.0, 1000.0, 1000.0, 1000.0, 1500.0]}, {\"mode\": \"lines+markers\", \"name\": \"Previsao\", \"type\": \"scatter\", \"x\": [\"2020-01-28T00:00:00\", \"2020-02-28T00:00:00\", \"2020-03-28T00:00:00\", \"2020-04-28T00:00:00\", \"2020-05-28T00:00:00\", \"2020-06-28T00:00:00\", \"2020-07-28T00:00:00\", \"2020-08-28T00:00:00\", \"2020-09-28T00:00:00\", \"2020-10-28T00:00:00\", \"2020-11-28T00:00:00\", \"2020-12-28T00:00:00\", \"2021-01-28T00:00:00\", \"2021-02-28T00:00:00\", \"2021-03-28T00:00:00\", \"2021-04-28T00:00:00\", \"2021-05-28T00:00:00\", \"2021-06-28T00:00:00\", \"2021-07-28T00:00:00\", \"2021-08-28T00:00:00\", \"2021-09-28T00:00:00\", \"2021-10-28T00:00:00\", \"2021-11-28T00:00:00\", \"2021-12-28T00:00:00\"], \"y\": [825.0, 825.0, 1100.0, 1100.0, 1100.0, 2200.0, 1000.0, 1000.0, 1000.0, 1000.0, 1000.0, 1500.0, 750.0, 750.0, 1000.0, 1000.0, 1000.0, 2000.0, 1000.0, 1000.0, 1000.0, 1000.0, 1000.0, 1500.0]}],\n",
              "                        {\"template\": {\"data\": {\"bar\": [{\"error_x\": {\"color\": \"#2a3f5f\"}, \"error_y\": {\"color\": \"#2a3f5f\"}, \"marker\": {\"line\": {\"color\": \"white\", \"width\": 0.5}}, \"type\": \"bar\"}], \"barpolar\": [{\"marker\": {\"line\": {\"color\": \"white\", \"width\": 0.5}}, \"type\": \"barpolar\"}], \"carpet\": [{\"aaxis\": {\"endlinecolor\": \"#2a3f5f\", \"gridcolor\": \"#C8D4E3\", \"linecolor\": \"#C8D4E3\", \"minorgridcolor\": \"#C8D4E3\", \"startlinecolor\": \"#2a3f5f\"}, \"baxis\": {\"endlinecolor\": \"#2a3f5f\", \"gridcolor\": \"#C8D4E3\", \"linecolor\": \"#C8D4E3\", \"minorgridcolor\": \"#C8D4E3\", \"startlinecolor\": \"#2a3f5f\"}, \"type\": \"carpet\"}], \"choropleth\": [{\"colorbar\": {\"outlinewidth\": 0, \"ticks\": \"\"}, \"type\": \"choropleth\"}], \"contour\": [{\"colorbar\": {\"outlinewidth\": 0, \"ticks\": \"\"}, \"colorscale\": [[0.0, \"#0d0887\"], [0.1111111111111111, \"#46039f\"], [0.2222222222222222, \"#7201a8\"], [0.3333333333333333, \"#9c179e\"], [0.4444444444444444, \"#bd3786\"], [0.5555555555555556, \"#d8576b\"], [0.6666666666666666, \"#ed7953\"], [0.7777777777777778, \"#fb9f3a\"], [0.8888888888888888, \"#fdca26\"], [1.0, \"#f0f921\"]], \"type\": \"contour\"}], \"contourcarpet\": [{\"colorbar\": {\"outlinewidth\": 0, \"ticks\": \"\"}, \"type\": \"contourcarpet\"}], \"heatmap\": [{\"colorbar\": {\"outlinewidth\": 0, \"ticks\": \"\"}, \"colorscale\": [[0.0, \"#0d0887\"], [0.1111111111111111, \"#46039f\"], [0.2222222222222222, \"#7201a8\"], [0.3333333333333333, \"#9c179e\"], [0.4444444444444444, \"#bd3786\"], [0.5555555555555556, \"#d8576b\"], [0.6666666666666666, \"#ed7953\"], [0.7777777777777778, \"#fb9f3a\"], [0.8888888888888888, \"#fdca26\"], [1.0, \"#f0f921\"]], \"type\": \"heatmap\"}], \"heatmapgl\": [{\"colorbar\": {\"outlinewidth\": 0, \"ticks\": \"\"}, \"colorscale\": [[0.0, \"#0d0887\"], [0.1111111111111111, \"#46039f\"], [0.2222222222222222, \"#7201a8\"], [0.3333333333333333, \"#9c179e\"], [0.4444444444444444, \"#bd3786\"], [0.5555555555555556, \"#d8576b\"], [0.6666666666666666, \"#ed7953\"], [0.7777777777777778, \"#fb9f3a\"], [0.8888888888888888, \"#fdca26\"], [1.0, \"#f0f921\"]], \"type\": \"heatmapgl\"}], \"histogram\": [{\"marker\": {\"colorbar\": {\"outlinewidth\": 0, \"ticks\": \"\"}}, \"type\": \"histogram\"}], \"histogram2d\": [{\"colorbar\": {\"outlinewidth\": 0, \"ticks\": \"\"}, \"colorscale\": [[0.0, \"#0d0887\"], [0.1111111111111111, \"#46039f\"], [0.2222222222222222, \"#7201a8\"], [0.3333333333333333, \"#9c179e\"], [0.4444444444444444, \"#bd3786\"], [0.5555555555555556, \"#d8576b\"], [0.6666666666666666, \"#ed7953\"], [0.7777777777777778, \"#fb9f3a\"], [0.8888888888888888, \"#fdca26\"], [1.0, \"#f0f921\"]], \"type\": \"histogram2d\"}], \"histogram2dcontour\": [{\"colorbar\": {\"outlinewidth\": 0, \"ticks\": \"\"}, \"colorscale\": [[0.0, \"#0d0887\"], [0.1111111111111111, \"#46039f\"], [0.2222222222222222, \"#7201a8\"], [0.3333333333333333, \"#9c179e\"], [0.4444444444444444, \"#bd3786\"], [0.5555555555555556, \"#d8576b\"], [0.6666666666666666, \"#ed7953\"], [0.7777777777777778, \"#fb9f3a\"], [0.8888888888888888, \"#fdca26\"], [1.0, \"#f0f921\"]], \"type\": \"histogram2dcontour\"}], \"mesh3d\": [{\"colorbar\": {\"outlinewidth\": 0, \"ticks\": \"\"}, \"type\": \"mesh3d\"}], \"parcoords\": [{\"line\": {\"colorbar\": {\"outlinewidth\": 0, \"ticks\": \"\"}}, \"type\": \"parcoords\"}], \"pie\": [{\"automargin\": true, \"type\": \"pie\"}], \"scatter\": [{\"marker\": {\"colorbar\": {\"outlinewidth\": 0, \"ticks\": \"\"}}, \"type\": \"scatter\"}], \"scatter3d\": [{\"line\": {\"colorbar\": {\"outlinewidth\": 0, \"ticks\": \"\"}}, \"marker\": {\"colorbar\": {\"outlinewidth\": 0, \"ticks\": \"\"}}, \"type\": \"scatter3d\"}], \"scattercarpet\": [{\"marker\": {\"colorbar\": {\"outlinewidth\": 0, \"ticks\": \"\"}}, \"type\": \"scattercarpet\"}], \"scattergeo\": [{\"marker\": {\"colorbar\": {\"outlinewidth\": 0, \"ticks\": \"\"}}, \"type\": \"scattergeo\"}], \"scattergl\": [{\"marker\": {\"colorbar\": {\"outlinewidth\": 0, \"ticks\": \"\"}}, \"type\": \"scattergl\"}], \"scattermapbox\": [{\"marker\": {\"colorbar\": {\"outlinewidth\": 0, \"ticks\": \"\"}}, \"type\": \"scattermapbox\"}], \"scatterpolar\": [{\"marker\": {\"colorbar\": {\"outlinewidth\": 0, \"ticks\": \"\"}}, \"type\": \"scatterpolar\"}], \"scatterpolargl\": [{\"marker\": {\"colorbar\": {\"outlinewidth\": 0, \"ticks\": \"\"}}, \"type\": \"scatterpolargl\"}], \"scatterternary\": [{\"marker\": {\"colorbar\": {\"outlinewidth\": 0, \"ticks\": \"\"}}, \"type\": \"scatterternary\"}], \"surface\": [{\"colorbar\": {\"outlinewidth\": 0, \"ticks\": \"\"}, \"colorscale\": [[0.0, \"#0d0887\"], [0.1111111111111111, \"#46039f\"], [0.2222222222222222, \"#7201a8\"], [0.3333333333333333, \"#9c179e\"], [0.4444444444444444, \"#bd3786\"], [0.5555555555555556, \"#d8576b\"], [0.6666666666666666, \"#ed7953\"], [0.7777777777777778, \"#fb9f3a\"], [0.8888888888888888, \"#fdca26\"], [1.0, \"#f0f921\"]], \"type\": \"surface\"}], \"table\": [{\"cells\": {\"fill\": {\"color\": \"#EBF0F8\"}, \"line\": {\"color\": \"white\"}}, \"header\": {\"fill\": {\"color\": \"#C8D4E3\"}, \"line\": {\"color\": \"white\"}}, \"type\": \"table\"}]}, \"layout\": {\"annotationdefaults\": {\"arrowcolor\": \"#2a3f5f\", \"arrowhead\": 0, \"arrowwidth\": 1}, \"coloraxis\": {\"colorbar\": {\"outlinewidth\": 0, \"ticks\": \"\"}}, \"colorscale\": {\"diverging\": [[0, \"#8e0152\"], [0.1, \"#c51b7d\"], [0.2, \"#de77ae\"], [0.3, \"#f1b6da\"], [0.4, \"#fde0ef\"], [0.5, \"#f7f7f7\"], [0.6, \"#e6f5d0\"], [0.7, \"#b8e186\"], [0.8, \"#7fbc41\"], [0.9, \"#4d9221\"], [1, \"#276419\"]], \"sequential\": [[0.0, \"#0d0887\"], [0.1111111111111111, \"#46039f\"], [0.2222222222222222, \"#7201a8\"], [0.3333333333333333, \"#9c179e\"], [0.4444444444444444, \"#bd3786\"], [0.5555555555555556, \"#d8576b\"], [0.6666666666666666, \"#ed7953\"], [0.7777777777777778, \"#fb9f3a\"], [0.8888888888888888, \"#fdca26\"], [1.0, \"#f0f921\"]], \"sequentialminus\": [[0.0, \"#0d0887\"], [0.1111111111111111, \"#46039f\"], [0.2222222222222222, \"#7201a8\"], [0.3333333333333333, \"#9c179e\"], [0.4444444444444444, \"#bd3786\"], [0.5555555555555556, \"#d8576b\"], [0.6666666666666666, \"#ed7953\"], [0.7777777777777778, \"#fb9f3a\"], [0.8888888888888888, \"#fdca26\"], [1.0, \"#f0f921\"]]}, \"colorway\": [\"#636efa\", \"#EF553B\", \"#00cc96\", \"#ab63fa\", \"#FFA15A\", \"#19d3f3\", \"#FF6692\", \"#B6E880\", \"#FF97FF\", \"#FECB52\"], \"font\": {\"color\": \"#2a3f5f\"}, \"geo\": {\"bgcolor\": \"white\", \"lakecolor\": \"white\", \"landcolor\": \"white\", \"showlakes\": true, \"showland\": true, \"subunitcolor\": \"#C8D4E3\"}, \"hoverlabel\": {\"align\": \"left\"}, \"hovermode\": \"closest\", \"mapbox\": {\"style\": \"light\"}, \"paper_bgcolor\": \"white\", \"plot_bgcolor\": \"white\", \"polar\": {\"angularaxis\": {\"gridcolor\": \"#EBF0F8\", \"linecolor\": \"#EBF0F8\", \"ticks\": \"\"}, \"bgcolor\": \"white\", \"radialaxis\": {\"gridcolor\": \"#EBF0F8\", \"linecolor\": \"#EBF0F8\", \"ticks\": \"\"}}, \"scene\": {\"xaxis\": {\"backgroundcolor\": \"white\", \"gridcolor\": \"#DFE8F3\", \"gridwidth\": 2, \"linecolor\": \"#EBF0F8\", \"showbackground\": true, \"ticks\": \"\", \"zerolinecolor\": \"#EBF0F8\"}, \"yaxis\": {\"backgroundcolor\": \"white\", \"gridcolor\": \"#DFE8F3\", \"gridwidth\": 2, \"linecolor\": \"#EBF0F8\", \"showbackground\": true, \"ticks\": \"\", \"zerolinecolor\": \"#EBF0F8\"}, \"zaxis\": {\"backgroundcolor\": \"white\", \"gridcolor\": \"#DFE8F3\", \"gridwidth\": 2, \"linecolor\": \"#EBF0F8\", \"showbackground\": true, \"ticks\": \"\", \"zerolinecolor\": \"#EBF0F8\"}}, \"shapedefaults\": {\"line\": {\"color\": \"#2a3f5f\"}}, \"ternary\": {\"aaxis\": {\"gridcolor\": \"#DFE8F3\", \"linecolor\": \"#A2B1C6\", \"ticks\": \"\"}, \"baxis\": {\"gridcolor\": \"#DFE8F3\", \"linecolor\": \"#A2B1C6\", \"ticks\": \"\"}, \"bgcolor\": \"white\", \"caxis\": {\"gridcolor\": \"#DFE8F3\", \"linecolor\": \"#A2B1C6\", \"ticks\": \"\"}}, \"title\": {\"x\": 0.05}, \"xaxis\": {\"automargin\": true, \"gridcolor\": \"#EBF0F8\", \"linecolor\": \"#EBF0F8\", \"ticks\": \"\", \"title\": {\"standoff\": 15}, \"zerolinecolor\": \"#EBF0F8\", \"zerolinewidth\": 2}, \"yaxis\": {\"automargin\": true, \"gridcolor\": \"#EBF0F8\", \"linecolor\": \"#EBF0F8\", \"ticks\": \"\", \"title\": {\"standoff\": 15}, \"zerolinecolor\": \"#EBF0F8\", \"zerolinewidth\": 2}}}, \"title\": {\"text\": \"Historico + Previsao de Vendas\"}},\n",
              "                        {\"responsive\": true}\n",
              "                    ).then(function(){\n",
              "                            \n",
              "var gd = document.getElementById('0fe6916c-b01f-497e-95f5-91927c1d4cdb');\n",
              "var x = new MutationObserver(function (mutations, observer) {{\n",
              "        var display = window.getComputedStyle(gd).display;\n",
              "        if (!display || display === 'none') {{\n",
              "            console.log([gd, 'removed!']);\n",
              "            Plotly.purge(gd);\n",
              "            observer.disconnect();\n",
              "        }}\n",
              "}});\n",
              "\n",
              "// Listen for the removal of the full notebook cells\n",
              "var notebookContainer = gd.closest('#notebook-container');\n",
              "if (notebookContainer) {{\n",
              "    x.observe(notebookContainer, {childList: true});\n",
              "}}\n",
              "\n",
              "// Listen for the clearing of the current output cell\n",
              "var outputEl = gd.closest('.output');\n",
              "if (outputEl) {{\n",
              "    x.observe(outputEl, {childList: true});\n",
              "}}\n",
              "\n",
              "                        })\n",
              "                };\n",
              "                \n",
              "            </script>\n",
              "        </div>\n",
              "</body>\n",
              "</html>"
            ]
          },
          "metadata": {
            "tags": []
          }
        }
      ]
    },
    {
      "cell_type": "code",
      "metadata": {
        "id": "bddDbh1NiIj3",
        "outputId": "d4d9afb4-d63e-480b-de12-b060d392a633",
        "colab": {
          "base_uri": "https://localhost:8080/",
          "height": 1000
        }
      },
      "source": [
        "pVendas.tail(48)"
      ],
      "execution_count": 30,
      "outputs": [
        {
          "output_type": "execute_result",
          "data": {
            "text/html": [
              "<div>\n",
              "<style scoped>\n",
              "    .dataframe tbody tr th:only-of-type {\n",
              "        vertical-align: middle;\n",
              "    }\n",
              "\n",
              "    .dataframe tbody tr th {\n",
              "        vertical-align: top;\n",
              "    }\n",
              "\n",
              "    .dataframe thead th {\n",
              "        text-align: right;\n",
              "    }\n",
              "</style>\n",
              "<table border=\"1\" class=\"dataframe\">\n",
              "  <thead>\n",
              "    <tr style=\"text-align: right;\">\n",
              "      <th></th>\n",
              "      <th>ds</th>\n",
              "      <th>vvt</th>\n",
              "      <th>y</th>\n",
              "      <th>mes</th>\n",
              "      <th>ano</th>\n",
              "    </tr>\n",
              "  </thead>\n",
              "  <tbody>\n",
              "    <tr>\n",
              "      <th>216</th>\n",
              "      <td>2018-01-28</td>\n",
              "      <td>1.0</td>\n",
              "      <td>825.000000</td>\n",
              "      <td>1.0</td>\n",
              "      <td>2018.0</td>\n",
              "    </tr>\n",
              "    <tr>\n",
              "      <th>217</th>\n",
              "      <td>2018-02-28</td>\n",
              "      <td>1.0</td>\n",
              "      <td>825.000000</td>\n",
              "      <td>2.0</td>\n",
              "      <td>2018.0</td>\n",
              "    </tr>\n",
              "    <tr>\n",
              "      <th>218</th>\n",
              "      <td>2018-03-28</td>\n",
              "      <td>1.0</td>\n",
              "      <td>1100.000000</td>\n",
              "      <td>3.0</td>\n",
              "      <td>2018.0</td>\n",
              "    </tr>\n",
              "    <tr>\n",
              "      <th>219</th>\n",
              "      <td>2018-04-28</td>\n",
              "      <td>1.0</td>\n",
              "      <td>1100.000000</td>\n",
              "      <td>4.0</td>\n",
              "      <td>2018.0</td>\n",
              "    </tr>\n",
              "    <tr>\n",
              "      <th>220</th>\n",
              "      <td>2018-05-28</td>\n",
              "      <td>1.0</td>\n",
              "      <td>1100.000000</td>\n",
              "      <td>5.0</td>\n",
              "      <td>2018.0</td>\n",
              "    </tr>\n",
              "    <tr>\n",
              "      <th>221</th>\n",
              "      <td>2018-06-28</td>\n",
              "      <td>1.0</td>\n",
              "      <td>2200.000000</td>\n",
              "      <td>6.0</td>\n",
              "      <td>2018.0</td>\n",
              "    </tr>\n",
              "    <tr>\n",
              "      <th>222</th>\n",
              "      <td>2018-07-28</td>\n",
              "      <td>0.0</td>\n",
              "      <td>1000.000000</td>\n",
              "      <td>7.0</td>\n",
              "      <td>2018.0</td>\n",
              "    </tr>\n",
              "    <tr>\n",
              "      <th>223</th>\n",
              "      <td>2018-08-28</td>\n",
              "      <td>0.0</td>\n",
              "      <td>1000.000000</td>\n",
              "      <td>8.0</td>\n",
              "      <td>2018.0</td>\n",
              "    </tr>\n",
              "    <tr>\n",
              "      <th>224</th>\n",
              "      <td>2018-09-28</td>\n",
              "      <td>0.0</td>\n",
              "      <td>1000.000000</td>\n",
              "      <td>9.0</td>\n",
              "      <td>2018.0</td>\n",
              "    </tr>\n",
              "    <tr>\n",
              "      <th>225</th>\n",
              "      <td>2018-10-28</td>\n",
              "      <td>0.0</td>\n",
              "      <td>1000.000000</td>\n",
              "      <td>10.0</td>\n",
              "      <td>2018.0</td>\n",
              "    </tr>\n",
              "    <tr>\n",
              "      <th>226</th>\n",
              "      <td>2018-11-28</td>\n",
              "      <td>0.0</td>\n",
              "      <td>1000.000000</td>\n",
              "      <td>11.0</td>\n",
              "      <td>2018.0</td>\n",
              "    </tr>\n",
              "    <tr>\n",
              "      <th>227</th>\n",
              "      <td>2018-12-28</td>\n",
              "      <td>0.0</td>\n",
              "      <td>1500.000000</td>\n",
              "      <td>12.0</td>\n",
              "      <td>2018.0</td>\n",
              "    </tr>\n",
              "    <tr>\n",
              "      <th>228</th>\n",
              "      <td>2019-01-28</td>\n",
              "      <td>0.0</td>\n",
              "      <td>750.000000</td>\n",
              "      <td>1.0</td>\n",
              "      <td>2019.0</td>\n",
              "    </tr>\n",
              "    <tr>\n",
              "      <th>229</th>\n",
              "      <td>2019-02-28</td>\n",
              "      <td>0.0</td>\n",
              "      <td>750.000000</td>\n",
              "      <td>2.0</td>\n",
              "      <td>2019.0</td>\n",
              "    </tr>\n",
              "    <tr>\n",
              "      <th>230</th>\n",
              "      <td>2019-03-28</td>\n",
              "      <td>0.0</td>\n",
              "      <td>1000.000000</td>\n",
              "      <td>3.0</td>\n",
              "      <td>2019.0</td>\n",
              "    </tr>\n",
              "    <tr>\n",
              "      <th>231</th>\n",
              "      <td>2019-04-28</td>\n",
              "      <td>0.0</td>\n",
              "      <td>1000.000000</td>\n",
              "      <td>4.0</td>\n",
              "      <td>2019.0</td>\n",
              "    </tr>\n",
              "    <tr>\n",
              "      <th>232</th>\n",
              "      <td>2019-05-28</td>\n",
              "      <td>0.0</td>\n",
              "      <td>1000.000000</td>\n",
              "      <td>5.0</td>\n",
              "      <td>2019.0</td>\n",
              "    </tr>\n",
              "    <tr>\n",
              "      <th>233</th>\n",
              "      <td>2019-06-28</td>\n",
              "      <td>0.0</td>\n",
              "      <td>2000.000000</td>\n",
              "      <td>6.0</td>\n",
              "      <td>2019.0</td>\n",
              "    </tr>\n",
              "    <tr>\n",
              "      <th>234</th>\n",
              "      <td>2019-07-28</td>\n",
              "      <td>0.0</td>\n",
              "      <td>1000.000000</td>\n",
              "      <td>7.0</td>\n",
              "      <td>2019.0</td>\n",
              "    </tr>\n",
              "    <tr>\n",
              "      <th>235</th>\n",
              "      <td>2019-08-28</td>\n",
              "      <td>0.0</td>\n",
              "      <td>1000.000000</td>\n",
              "      <td>8.0</td>\n",
              "      <td>2019.0</td>\n",
              "    </tr>\n",
              "    <tr>\n",
              "      <th>236</th>\n",
              "      <td>2019-09-28</td>\n",
              "      <td>0.0</td>\n",
              "      <td>1000.000000</td>\n",
              "      <td>9.0</td>\n",
              "      <td>2019.0</td>\n",
              "    </tr>\n",
              "    <tr>\n",
              "      <th>237</th>\n",
              "      <td>2019-10-28</td>\n",
              "      <td>0.0</td>\n",
              "      <td>1000.000000</td>\n",
              "      <td>10.0</td>\n",
              "      <td>2019.0</td>\n",
              "    </tr>\n",
              "    <tr>\n",
              "      <th>238</th>\n",
              "      <td>2019-11-28</td>\n",
              "      <td>0.0</td>\n",
              "      <td>1000.000000</td>\n",
              "      <td>11.0</td>\n",
              "      <td>2019.0</td>\n",
              "    </tr>\n",
              "    <tr>\n",
              "      <th>239</th>\n",
              "      <td>2019-12-28</td>\n",
              "      <td>0.0</td>\n",
              "      <td>1500.000000</td>\n",
              "      <td>12.0</td>\n",
              "      <td>2019.0</td>\n",
              "    </tr>\n",
              "    <tr>\n",
              "      <th>240</th>\n",
              "      <td>2020-01-28</td>\n",
              "      <td>1.0</td>\n",
              "      <td>1000.099132</td>\n",
              "      <td>1.0</td>\n",
              "      <td>2020.0</td>\n",
              "    </tr>\n",
              "    <tr>\n",
              "      <th>241</th>\n",
              "      <td>2020-02-28</td>\n",
              "      <td>1.0</td>\n",
              "      <td>1000.099229</td>\n",
              "      <td>2.0</td>\n",
              "      <td>2020.0</td>\n",
              "    </tr>\n",
              "    <tr>\n",
              "      <th>242</th>\n",
              "      <td>2020-03-28</td>\n",
              "      <td>1.0</td>\n",
              "      <td>1000.099325</td>\n",
              "      <td>3.0</td>\n",
              "      <td>2020.0</td>\n",
              "    </tr>\n",
              "    <tr>\n",
              "      <th>243</th>\n",
              "      <td>2020-04-28</td>\n",
              "      <td>1.0</td>\n",
              "      <td>1000.099422</td>\n",
              "      <td>4.0</td>\n",
              "      <td>2020.0</td>\n",
              "    </tr>\n",
              "    <tr>\n",
              "      <th>244</th>\n",
              "      <td>2020-05-28</td>\n",
              "      <td>1.0</td>\n",
              "      <td>1000.099519</td>\n",
              "      <td>5.0</td>\n",
              "      <td>2020.0</td>\n",
              "    </tr>\n",
              "    <tr>\n",
              "      <th>245</th>\n",
              "      <td>2020-06-28</td>\n",
              "      <td>1.0</td>\n",
              "      <td>1000.099616</td>\n",
              "      <td>6.0</td>\n",
              "      <td>2020.0</td>\n",
              "    </tr>\n",
              "    <tr>\n",
              "      <th>246</th>\n",
              "      <td>2020-07-28</td>\n",
              "      <td>0.0</td>\n",
              "      <td>1000.099698</td>\n",
              "      <td>7.0</td>\n",
              "      <td>2020.0</td>\n",
              "    </tr>\n",
              "    <tr>\n",
              "      <th>247</th>\n",
              "      <td>2020-08-28</td>\n",
              "      <td>0.0</td>\n",
              "      <td>1000.099795</td>\n",
              "      <td>8.0</td>\n",
              "      <td>2020.0</td>\n",
              "    </tr>\n",
              "    <tr>\n",
              "      <th>248</th>\n",
              "      <td>2020-09-28</td>\n",
              "      <td>0.0</td>\n",
              "      <td>1000.099892</td>\n",
              "      <td>9.0</td>\n",
              "      <td>2020.0</td>\n",
              "    </tr>\n",
              "    <tr>\n",
              "      <th>249</th>\n",
              "      <td>2020-10-28</td>\n",
              "      <td>0.0</td>\n",
              "      <td>1000.099989</td>\n",
              "      <td>10.0</td>\n",
              "      <td>2020.0</td>\n",
              "    </tr>\n",
              "    <tr>\n",
              "      <th>250</th>\n",
              "      <td>2020-11-28</td>\n",
              "      <td>0.0</td>\n",
              "      <td>1000.100086</td>\n",
              "      <td>11.0</td>\n",
              "      <td>2020.0</td>\n",
              "    </tr>\n",
              "    <tr>\n",
              "      <th>251</th>\n",
              "      <td>2020-12-28</td>\n",
              "      <td>0.0</td>\n",
              "      <td>1000.100183</td>\n",
              "      <td>12.0</td>\n",
              "      <td>2020.0</td>\n",
              "    </tr>\n",
              "    <tr>\n",
              "      <th>252</th>\n",
              "      <td>2021-01-28</td>\n",
              "      <td>0.0</td>\n",
              "      <td>1000.099102</td>\n",
              "      <td>1.0</td>\n",
              "      <td>2021.0</td>\n",
              "    </tr>\n",
              "    <tr>\n",
              "      <th>253</th>\n",
              "      <td>2021-02-28</td>\n",
              "      <td>0.0</td>\n",
              "      <td>1000.099199</td>\n",
              "      <td>2.0</td>\n",
              "      <td>2021.0</td>\n",
              "    </tr>\n",
              "    <tr>\n",
              "      <th>254</th>\n",
              "      <td>2021-03-28</td>\n",
              "      <td>0.0</td>\n",
              "      <td>1000.099296</td>\n",
              "      <td>3.0</td>\n",
              "      <td>2021.0</td>\n",
              "    </tr>\n",
              "    <tr>\n",
              "      <th>255</th>\n",
              "      <td>2021-04-28</td>\n",
              "      <td>0.0</td>\n",
              "      <td>1000.099393</td>\n",
              "      <td>4.0</td>\n",
              "      <td>2021.0</td>\n",
              "    </tr>\n",
              "    <tr>\n",
              "      <th>256</th>\n",
              "      <td>2021-05-28</td>\n",
              "      <td>0.0</td>\n",
              "      <td>1000.099489</td>\n",
              "      <td>5.0</td>\n",
              "      <td>2021.0</td>\n",
              "    </tr>\n",
              "    <tr>\n",
              "      <th>257</th>\n",
              "      <td>2021-06-28</td>\n",
              "      <td>0.0</td>\n",
              "      <td>1000.099586</td>\n",
              "      <td>6.0</td>\n",
              "      <td>2021.0</td>\n",
              "    </tr>\n",
              "    <tr>\n",
              "      <th>258</th>\n",
              "      <td>2021-07-28</td>\n",
              "      <td>0.0</td>\n",
              "      <td>1000.099683</td>\n",
              "      <td>7.0</td>\n",
              "      <td>2021.0</td>\n",
              "    </tr>\n",
              "    <tr>\n",
              "      <th>259</th>\n",
              "      <td>2021-08-28</td>\n",
              "      <td>0.0</td>\n",
              "      <td>1000.099780</td>\n",
              "      <td>8.0</td>\n",
              "      <td>2021.0</td>\n",
              "    </tr>\n",
              "    <tr>\n",
              "      <th>260</th>\n",
              "      <td>2021-09-28</td>\n",
              "      <td>0.0</td>\n",
              "      <td>1000.099877</td>\n",
              "      <td>9.0</td>\n",
              "      <td>2021.0</td>\n",
              "    </tr>\n",
              "    <tr>\n",
              "      <th>261</th>\n",
              "      <td>2021-10-28</td>\n",
              "      <td>0.0</td>\n",
              "      <td>1000.099974</td>\n",
              "      <td>10.0</td>\n",
              "      <td>2021.0</td>\n",
              "    </tr>\n",
              "    <tr>\n",
              "      <th>262</th>\n",
              "      <td>2021-11-28</td>\n",
              "      <td>0.0</td>\n",
              "      <td>1000.100071</td>\n",
              "      <td>11.0</td>\n",
              "      <td>2021.0</td>\n",
              "    </tr>\n",
              "    <tr>\n",
              "      <th>263</th>\n",
              "      <td>2021-12-28</td>\n",
              "      <td>0.0</td>\n",
              "      <td>1000.100168</td>\n",
              "      <td>12.0</td>\n",
              "      <td>2021.0</td>\n",
              "    </tr>\n",
              "  </tbody>\n",
              "</table>\n",
              "</div>"
            ],
            "text/plain": [
              "            ds  vvt            y   mes     ano\n",
              "216 2018-01-28  1.0   825.000000   1.0  2018.0\n",
              "217 2018-02-28  1.0   825.000000   2.0  2018.0\n",
              "218 2018-03-28  1.0  1100.000000   3.0  2018.0\n",
              "219 2018-04-28  1.0  1100.000000   4.0  2018.0\n",
              "220 2018-05-28  1.0  1100.000000   5.0  2018.0\n",
              "221 2018-06-28  1.0  2200.000000   6.0  2018.0\n",
              "222 2018-07-28  0.0  1000.000000   7.0  2018.0\n",
              "223 2018-08-28  0.0  1000.000000   8.0  2018.0\n",
              "224 2018-09-28  0.0  1000.000000   9.0  2018.0\n",
              "225 2018-10-28  0.0  1000.000000  10.0  2018.0\n",
              "226 2018-11-28  0.0  1000.000000  11.0  2018.0\n",
              "227 2018-12-28  0.0  1500.000000  12.0  2018.0\n",
              "228 2019-01-28  0.0   750.000000   1.0  2019.0\n",
              "229 2019-02-28  0.0   750.000000   2.0  2019.0\n",
              "230 2019-03-28  0.0  1000.000000   3.0  2019.0\n",
              "231 2019-04-28  0.0  1000.000000   4.0  2019.0\n",
              "232 2019-05-28  0.0  1000.000000   5.0  2019.0\n",
              "233 2019-06-28  0.0  2000.000000   6.0  2019.0\n",
              "234 2019-07-28  0.0  1000.000000   7.0  2019.0\n",
              "235 2019-08-28  0.0  1000.000000   8.0  2019.0\n",
              "236 2019-09-28  0.0  1000.000000   9.0  2019.0\n",
              "237 2019-10-28  0.0  1000.000000  10.0  2019.0\n",
              "238 2019-11-28  0.0  1000.000000  11.0  2019.0\n",
              "239 2019-12-28  0.0  1500.000000  12.0  2019.0\n",
              "240 2020-01-28  1.0  1000.099132   1.0  2020.0\n",
              "241 2020-02-28  1.0  1000.099229   2.0  2020.0\n",
              "242 2020-03-28  1.0  1000.099325   3.0  2020.0\n",
              "243 2020-04-28  1.0  1000.099422   4.0  2020.0\n",
              "244 2020-05-28  1.0  1000.099519   5.0  2020.0\n",
              "245 2020-06-28  1.0  1000.099616   6.0  2020.0\n",
              "246 2020-07-28  0.0  1000.099698   7.0  2020.0\n",
              "247 2020-08-28  0.0  1000.099795   8.0  2020.0\n",
              "248 2020-09-28  0.0  1000.099892   9.0  2020.0\n",
              "249 2020-10-28  0.0  1000.099989  10.0  2020.0\n",
              "250 2020-11-28  0.0  1000.100086  11.0  2020.0\n",
              "251 2020-12-28  0.0  1000.100183  12.0  2020.0\n",
              "252 2021-01-28  0.0  1000.099102   1.0  2021.0\n",
              "253 2021-02-28  0.0  1000.099199   2.0  2021.0\n",
              "254 2021-03-28  0.0  1000.099296   3.0  2021.0\n",
              "255 2021-04-28  0.0  1000.099393   4.0  2021.0\n",
              "256 2021-05-28  0.0  1000.099489   5.0  2021.0\n",
              "257 2021-06-28  0.0  1000.099586   6.0  2021.0\n",
              "258 2021-07-28  0.0  1000.099683   7.0  2021.0\n",
              "259 2021-08-28  0.0  1000.099780   8.0  2021.0\n",
              "260 2021-09-28  0.0  1000.099877   9.0  2021.0\n",
              "261 2021-10-28  0.0  1000.099974  10.0  2021.0\n",
              "262 2021-11-28  0.0  1000.100071  11.0  2021.0\n",
              "263 2021-12-28  0.0  1000.100168  12.0  2021.0"
            ]
          },
          "metadata": {
            "tags": []
          },
          "execution_count": 30
        }
      ]
    }
  ]
}