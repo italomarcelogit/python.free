{
  "nbformat": 4,
  "nbformat_minor": 0,
  "metadata": {
    "colab": {
      "name": "NLP - NLTK - BASIC - Get Sentiment",
      "provenance": [],
      "authorship_tag": "ABX9TyMWNwo2YOW3uFuCqQpr8gw/",
      "include_colab_link": true
    },
    "kernelspec": {
      "name": "python3",
      "display_name": "Python 3"
    }
  },
  "cells": [
    {
      "cell_type": "markdown",
      "metadata": {
        "id": "view-in-github",
        "colab_type": "text"
      },
      "source": [
        "<a href=\"https://colab.research.google.com/github/italomarcelogit/python.free/blob/master/NLP_NLTK_BASIC_Get_Sentiment.ipynb\" target=\"_parent\"><img src=\"https://colab.research.google.com/assets/colab-badge.svg\" alt=\"Open In Colab\"/></a>"
      ]
    },
    {
      "cell_type": "code",
      "metadata": {
        "id": "Ifk5EZ8t393z"
      },
      "source": [
        "import pandas as pd\n",
        "import numpy as np\n",
        "import requests\n",
        "\n"
      ],
      "execution_count": 1,
      "outputs": []
    },
    {
      "cell_type": "code",
      "metadata": {
        "id": "0tEXBthT49Ru",
        "outputId": "6dded109-024f-4d82-8876-65a14e1bfb80",
        "colab": {
          "base_uri": "https://localhost:8080/",
          "height": 241
        }
      },
      "source": [
        "!pip install feedparser"
      ],
      "execution_count": 2,
      "outputs": [
        {
          "output_type": "stream",
          "text": [
            "Collecting feedparser\n",
            "\u001b[?25l  Downloading https://files.pythonhosted.org/packages/2c/84/df6de99cba01afc82344c9cb3a79df100a00ac33396120f8aa66c72f0d84/feedparser-6.0.1-py2.py3-none-any.whl (80kB)\n",
            "\r\u001b[K     |████                            | 10kB 17.8MB/s eta 0:00:01\r\u001b[K     |████████                        | 20kB 6.2MB/s eta 0:00:01\r\u001b[K     |████████████▏                   | 30kB 7.4MB/s eta 0:00:01\r\u001b[K     |████████████████▏               | 40kB 7.9MB/s eta 0:00:01\r\u001b[K     |████████████████████▎           | 51kB 7.0MB/s eta 0:00:01\r\u001b[K     |████████████████████████▎       | 61kB 7.7MB/s eta 0:00:01\r\u001b[K     |████████████████████████████▍   | 71kB 8.1MB/s eta 0:00:01\r\u001b[K     |████████████████████████████████| 81kB 4.9MB/s \n",
            "\u001b[?25hCollecting sgmllib3k\n",
            "  Downloading https://files.pythonhosted.org/packages/9e/bd/3704a8c3e0942d711c1299ebf7b9091930adae6675d7c8f476a7ce48653c/sgmllib3k-1.0.0.tar.gz\n",
            "Building wheels for collected packages: sgmllib3k\n",
            "  Building wheel for sgmllib3k (setup.py) ... \u001b[?25l\u001b[?25hdone\n",
            "  Created wheel for sgmllib3k: filename=sgmllib3k-1.0.0-cp36-none-any.whl size=6067 sha256=7614ab0b3e4e459fb3fb29fa18949e8a2056e7a17e66dba4981a5932b533a39b\n",
            "  Stored in directory: /root/.cache/pip/wheels/f1/80/5a/444ba08a550cdd241bd9baf8bae44be750efe370adb944506a\n",
            "Successfully built sgmllib3k\n",
            "Installing collected packages: sgmllib3k, feedparser\n",
            "Successfully installed feedparser-6.0.1 sgmllib3k-1.0.0\n"
          ],
          "name": "stdout"
        }
      ]
    },
    {
      "cell_type": "code",
      "metadata": {
        "id": "crY5wWPZ5Ty-"
      },
      "source": [
        "import feedparser"
      ],
      "execution_count": 3,
      "outputs": []
    },
    {
      "cell_type": "code",
      "metadata": {
        "id": "JBB1fh585wbs"
      },
      "source": [
        "rssurl = 'https://news.google.com/rss/search?q=apple'\n",
        "news = feedparser.parse(rssurl)"
      ],
      "execution_count": 4,
      "outputs": []
    },
    {
      "cell_type": "code",
      "metadata": {
        "id": "mZDmcrLi5z39"
      },
      "source": [
        "df=pd.json_normalize(news.entries)"
      ],
      "execution_count": 5,
      "outputs": []
    },
    {
      "cell_type": "code",
      "metadata": {
        "id": "A4U7a56-7F9G",
        "outputId": "224783de-2d67-4898-d39f-d0850ce095a3",
        "colab": {
          "base_uri": "https://localhost:8080/",
          "height": 340
        }
      },
      "source": [
        "df.isnull().sum()"
      ],
      "execution_count": 6,
      "outputs": [
        {
          "output_type": "execute_result",
          "data": {
            "text/plain": [
              "title                        0\n",
              "links                        0\n",
              "link                         0\n",
              "id                           0\n",
              "guidislink                   0\n",
              "published                    0\n",
              "published_parsed             0\n",
              "summary                      0\n",
              "title_detail.type            0\n",
              "title_detail.language      100\n",
              "title_detail.base            0\n",
              "title_detail.value           0\n",
              "summary_detail.type          0\n",
              "summary_detail.language    100\n",
              "summary_detail.base          0\n",
              "summary_detail.value         0\n",
              "source.href                  0\n",
              "source.title                 0\n",
              "dtype: int64"
            ]
          },
          "metadata": {
            "tags": []
          },
          "execution_count": 6
        }
      ]
    },
    {
      "cell_type": "code",
      "metadata": {
        "id": "aOH-Xykf5znI",
        "outputId": "7bcd39b9-d6b5-466b-8743-12c7b92b3b74",
        "colab": {
          "base_uri": "https://localhost:8080/",
          "height": 119
        }
      },
      "source": [
        "df.link.head()"
      ],
      "execution_count": 7,
      "outputs": [
        {
          "output_type": "execute_result",
          "data": {
            "text/plain": [
              "0    https://www.macrumors.com/2020/10/01/apple-q4-...\n",
              "1    https://www.apple.com/newsroom/2020/09/apple-b...\n",
              "2    https://www.macrumors.com/2020/09/30/apple-wat...\n",
              "3    https://9to5mac.com/2020/10/01/apple-catches-e...\n",
              "4    https://www.macrumors.com/2020/10/01/apple-pul...\n",
              "Name: link, dtype: object"
            ]
          },
          "metadata": {
            "tags": []
          },
          "execution_count": 7
        }
      ]
    },
    {
      "cell_type": "code",
      "metadata": {
        "id": "liI0dL7rWfq0",
        "outputId": "55ce2db6-fe5f-49e1-8605-868d6f10e803",
        "colab": {
          "base_uri": "https://localhost:8080/",
          "height": 52
        }
      },
      "source": [
        "df.link[3]"
      ],
      "execution_count": 8,
      "outputs": [
        {
          "output_type": "execute_result",
          "data": {
            "application/vnd.google.colaboratory.intrinsic+json": {
              "type": "string"
            },
            "text/plain": [
              "'https://9to5mac.com/2020/10/01/apple-catches-electronics-recycler-illegally-reselling-over-100000-iphones-ipads-apple-watches/'"
            ]
          },
          "metadata": {
            "tags": []
          },
          "execution_count": 8
        }
      ]
    },
    {
      "cell_type": "code",
      "metadata": {
        "id": "IUOXNBst7aKr"
      },
      "source": [
        "from bs4 import BeautifulSoup"
      ],
      "execution_count": 9,
      "outputs": []
    },
    {
      "cell_type": "code",
      "metadata": {
        "id": "JAYyzOD47lTV"
      },
      "source": [
        "article = requests.get(df.link[3])"
      ],
      "execution_count": 10,
      "outputs": []
    },
    {
      "cell_type": "code",
      "metadata": {
        "id": "F6ahA4u87xEV"
      },
      "source": [
        "articles = BeautifulSoup(article.content, 'lxml')\n",
        "# article_body = articles.findAll('body')\n",
        "# pagecopy = articles.findAll(class_=\"pagebody-copy\")\n",
        "# for EachPart in articles.select('div[class*=\"message-cell \"]'):\n",
        "#     print(EachPart)"
      ],
      "execution_count": 11,
      "outputs": []
    },
    {
      "cell_type": "code",
      "metadata": {
        "id": "Ire1DglZMaUd"
      },
      "source": [
        "\n",
        "pagecopy = articles.find_all('p')\n",
        "rows = []\n",
        "for pc in pagecopy:\n",
        "  row=''\n",
        "  for txt in pc.strings:\n",
        "    row += txt\n",
        "  rows.append(row)"
      ],
      "execution_count": 12,
      "outputs": []
    },
    {
      "cell_type": "code",
      "metadata": {
        "id": "XEgAKB_NScU9",
        "outputId": "d3820c0d-a7a2-454b-84ec-1ead127ee0e5",
        "colab": {
          "base_uri": "https://localhost:8080/",
          "height": 102
        }
      },
      "source": [
        "from textblob import TextBlob\n",
        "import nltk\n",
        "\n",
        "# update textblob\n",
        "nltk.download('punkt')\n",
        "nltk.download('averaged_perceptron_tagger')\n",
        "\n",
        "# setup cores\n",
        "colors = ['PowderBlue', 'Tomato', 'MidnightBlue', 'Goldenrod', 'MediumOrchid',\n",
        "          'Salmon', 'Lime', 'PapayaWhip', 'DeepSkyBlue', 'LightPink']\n",
        "\n",
        "# setup estrutura de graficos\n",
        "# pie\n",
        "explode = (0.01, 0.01)\n",
        "labels = ['Positivo', 'Negativo']\n"
      ],
      "execution_count": 13,
      "outputs": [
        {
          "output_type": "stream",
          "text": [
            "[nltk_data] Downloading package punkt to /root/nltk_data...\n",
            "[nltk_data]   Unzipping tokenizers/punkt.zip.\n",
            "[nltk_data] Downloading package averaged_perceptron_tagger to\n",
            "[nltk_data]     /root/nltk_data...\n",
            "[nltk_data]   Unzipping taggers/averaged_perceptron_tagger.zip.\n"
          ],
          "name": "stdout"
        }
      ]
    },
    {
      "cell_type": "code",
      "metadata": {
        "id": "h9GuZzN0TW76"
      },
      "source": [
        "pos = 0\n",
        "neg = 0\n",
        "for r in rows:\n",
        "  txt = TextBlob(r)\n",
        "  polarity = txt.sentiment.polarity\n",
        "  if polarity != 0:\n",
        "    if polarity > 0:\n",
        "        pos += 1\n",
        "    else:\n",
        "        neg += 1"
      ],
      "execution_count": 14,
      "outputs": []
    },
    {
      "cell_type": "code",
      "metadata": {
        "id": "yT-TuHJLUHTh",
        "outputId": "367c8776-add8-4068-a41e-4713f608568d",
        "colab": {
          "base_uri": "https://localhost:8080/",
          "height": 264
        }
      },
      "source": [
        "import matplotlib.pyplot as plt\n",
        "\n",
        "plt.pie([pos, neg], labels=labels, colors=colors, startangle=90, explode = explode, autopct = '%1.2f%%')\n",
        "\n",
        "plt.axis('equal') # Try commenting this out.\n",
        "plt.title('Polarity')\n",
        "plt.show()"
      ],
      "execution_count": 15,
      "outputs": [
        {
          "output_type": "display_data",
          "data": {
            "image/png": "[encoded data removed]",
            "text/plain": [
              "<Figure size 432x288 with 1 Axes>"
            ]
          },
          "metadata": {
            "tags": []
          }
        }
      ]
    }
  ]
}