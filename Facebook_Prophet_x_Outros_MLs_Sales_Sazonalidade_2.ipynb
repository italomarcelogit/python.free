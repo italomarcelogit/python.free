{
  "nbformat": 4,
  "nbformat_minor": 0,
  "metadata": {
    "colab": {
      "name": "Facebook Prophet x Outros MLs - Sales  - Sazonalidade 2",
      "provenance": [],
      "collapsed_sections": [],
      "authorship_tag": "ABX9TyMJ/VCAao0pN4BiI2GP6fgV",
      "include_colab_link": true
    },
    "kernelspec": {
      "name": "python3",
      "display_name": "Python 3"
    }
  },
  "cells": [
    {
      "cell_type": "markdown",
      "metadata": {
        "id": "view-in-github",
        "colab_type": "text"
      },
      "source": [
        "<a href=\"https://colab.research.google.com/github/italomarcelogit/python.free/blob/master/Facebook_Prophet_x_Outros_MLs_Sales_Sazonalidade_2.ipynb\" target=\"_parent\"><img src=\"https://colab.research.google.com/assets/colab-badge.svg\" alt=\"Open In Colab\"/></a>"
      ]
    },
    {
      "cell_type": "markdown",
      "metadata": {
        "id": "NWFuNn1-n9EL"
      },
      "source": [
        "# **Libraries**"
      ]
    },
    {
      "cell_type": "code",
      "metadata": {
        "id": "IhwePzIhP94E"
      },
      "source": [
        "import pandas as pd\n",
        "import numpy as np\n",
        "from fbprophet import Prophet\n",
        "from fbprophet.plot import plot_components_plotly, plot_plotly\n",
        "import plotly.graph_objects as go"
      ],
      "execution_count": 1,
      "outputs": []
    },
    {
      "cell_type": "markdown",
      "metadata": {
        "id": "tOTx7Y2ToCsr"
      },
      "source": [
        "# **Data**"
      ]
    },
    {
      "cell_type": "markdown",
      "metadata": {
        "id": "PJh2PJLQO0bQ"
      },
      "source": [
        "**Gerando dados de venda onde:**\n",
        "\n",
        "\n",
        "*   de janeiro e fevereiro, o acumulado de venda é de 750 (k, m, etc)\n",
        "*   junho, o acumulado de venda é de 2000 (k, m, etc)\n",
        "*   dezembro, o acumulado de venda é de 900 (k, m, etc)\n",
        "*   o restante dos meses, o acumulado é de 1000 (k, m, etc)\n",
        "\n"
      ]
    },
    {
      "cell_type": "code",
      "metadata": {
        "id": "LKZlFqQAiff8"
      },
      "source": [
        "vendas = pd.DataFrame()\n",
        "for y in range(2000, 2020):\n",
        "  for m in range(1,13):\n",
        "    if m < 3: # jan e fev == 750\n",
        "      i = 750\n",
        "    elif m == 6: # jun == 2000\n",
        "      i = 2000\n",
        "    elif m == 12: # dez == 900\n",
        "      i = 1500\n",
        "    else:\n",
        "      i = 1000\n",
        "    s = {'ds': f'{y}-{m}-28', 'y': i}\n",
        "    vendas = vendas.append(s, ignore_index=True)"
      ],
      "execution_count": 2,
      "outputs": []
    },
    {
      "cell_type": "code",
      "metadata": {
        "id": "iiGjTCPPi5d8",
        "outputId": "81de3ed9-fc9f-4d09-e67d-df80a6e80594",
        "colab": {
          "base_uri": "https://localhost:8080/"
        }
      },
      "source": [
        "vendas.y.sum()"
      ],
      "execution_count": 3,
      "outputs": [
        {
          "output_type": "execute_result",
          "data": {
            "text/plain": [
              "260000.0"
            ]
          },
          "metadata": {
            "tags": []
          },
          "execution_count": 3
        }
      ]
    },
    {
      "cell_type": "code",
      "metadata": {
        "id": "S6IDwKjSJyPn",
        "outputId": "6cf0512a-4b43-4735-c33d-a4857d78a3ef",
        "colab": {
          "base_uri": "https://localhost:8080/",
          "height": 204
        }
      },
      "source": [
        "vendas.head()"
      ],
      "execution_count": 4,
      "outputs": [
        {
          "output_type": "execute_result",
          "data": {
            "text/html": [
              "<div>\n",
              "<style scoped>\n",
              "    .dataframe tbody tr th:only-of-type {\n",
              "        vertical-align: middle;\n",
              "    }\n",
              "\n",
              "    .dataframe tbody tr th {\n",
              "        vertical-align: top;\n",
              "    }\n",
              "\n",
              "    .dataframe thead th {\n",
              "        text-align: right;\n",
              "    }\n",
              "</style>\n",
              "<table border=\"1\" class=\"dataframe\">\n",
              "  <thead>\n",
              "    <tr style=\"text-align: right;\">\n",
              "      <th></th>\n",
              "      <th>ds</th>\n",
              "      <th>y</th>\n",
              "    </tr>\n",
              "  </thead>\n",
              "  <tbody>\n",
              "    <tr>\n",
              "      <th>0</th>\n",
              "      <td>2000-1-28</td>\n",
              "      <td>750.0</td>\n",
              "    </tr>\n",
              "    <tr>\n",
              "      <th>1</th>\n",
              "      <td>2000-2-28</td>\n",
              "      <td>750.0</td>\n",
              "    </tr>\n",
              "    <tr>\n",
              "      <th>2</th>\n",
              "      <td>2000-3-28</td>\n",
              "      <td>1000.0</td>\n",
              "    </tr>\n",
              "    <tr>\n",
              "      <th>3</th>\n",
              "      <td>2000-4-28</td>\n",
              "      <td>1000.0</td>\n",
              "    </tr>\n",
              "    <tr>\n",
              "      <th>4</th>\n",
              "      <td>2000-5-28</td>\n",
              "      <td>1000.0</td>\n",
              "    </tr>\n",
              "  </tbody>\n",
              "</table>\n",
              "</div>"
            ],
            "text/plain": [
              "          ds       y\n",
              "0  2000-1-28   750.0\n",
              "1  2000-2-28   750.0\n",
              "2  2000-3-28  1000.0\n",
              "3  2000-4-28  1000.0\n",
              "4  2000-5-28  1000.0"
            ]
          },
          "metadata": {
            "tags": []
          },
          "execution_count": 4
        }
      ]
    },
    {
      "cell_type": "code",
      "metadata": {
        "id": "FVGfI2TlyAR7"
      },
      "source": [
        "database = pd.DataFrame()\n",
        "database['ds'] = vendas.ds.astype('datetime64[ns]')\n",
        "database['y'] = vendas.y"
      ],
      "execution_count": 5,
      "outputs": []
    },
    {
      "cell_type": "code",
      "metadata": {
        "id": "7lceoHT0Sovk",
        "outputId": "e9858fb4-8a41-45fe-97dc-6605c98da475",
        "colab": {
          "base_uri": "https://localhost:8080/",
          "height": 542
        }
      },
      "source": [
        "fig = go.Figure()\n",
        "fig.add_trace(go.Scatter(x=database.ds, y=database.y,\n",
        "                    mode='lines+markers',\n",
        "                    name='total vendas'))\n",
        "\n",
        "fig.update_layout(\n",
        "    title=\"Histórico de Vendas\")"
      ],
      "execution_count": 6,
      "outputs": [
        {
          "output_type": "display_data",
          "data": {
            "text/html": [
              "<html>\n",
              "<head><meta charset=\"utf-8\" /></head>\n",
              "<body>\n",
              "    <div>\n",
              "            <script src=\"https://cdnjs.cloudflare.com/ajax/libs/mathjax/2.7.5/MathJax.js?config=TeX-AMS-MML_SVG\"></script><script type=\"text/javascript\">if (window.MathJax) {MathJax.Hub.Config({SVG: {font: \"STIX-Web\"}});}</script>\n",
              "                <script type=\"text/javascript\">window.PlotlyConfig = {MathJaxConfig: 'local'};</script>\n",
              "        <script src=\"https://cdn.plot.ly/plotly-latest.min.js\"></script>    \n",
              "            <div id=\"36cce0a5-0756-44a0-95ac-38782fbf58d4\" class=\"plotly-graph-div\" style=\"height:525px; width:100%;\"></div>\n",
              "            <script type=\"text/javascript\">\n",
              "                \n",
              "                    window.PLOTLYENV=window.PLOTLYENV || {};\n",
              "                    \n",
              "                if (document.getElementById(\"36cce0a5-0756-44a0-95ac-38782fbf58d4\")) {\n",
              "                    Plotly.newPlot(\n",
              "                        '36cce0a5-0756-44a0-95ac-38782fbf58d4',\n",
              "                        [{\"mode\": \"lines+markers\", \"name\": \"total vendas\", \"type\": \"scatter\", \"x\": [\"2000-01-28T00:00:00\", \"2000-02-28T00:00:00\", \"2000-03-28T00:00:00\", \"2000-04-28T00:00:00\", \"2000-05-28T00:00:00\", \"2000-06-28T00:00:00\", \"2000-07-28T00:00:00\", \"2000-08-28T00:00:00\", \"2000-09-28T00:00:00\", \"2000-10-28T00:00:00\", \"2000-11-28T00:00:00\", \"2000-12-28T00:00:00\", \"2001-01-28T00:00:00\", \"2001-02-28T00:00:00\", \"2001-03-28T00:00:00\", \"2001-04-28T00:00:00\", \"2001-05-28T00:00:00\", \"2001-06-28T00:00:00\", \"2001-07-28T00:00:00\", \"2001-08-28T00:00:00\", \"2001-09-28T00:00:00\", \"2001-10-28T00:00:00\", \"2001-11-28T00:00:00\", \"2001-12-28T00:00:00\", \"2002-01-28T00:00:00\", \"2002-02-28T00:00:00\", \"2002-03-28T00:00:00\", \"2002-04-28T00:00:00\", \"2002-05-28T00:00:00\", \"2002-06-28T00:00:00\", \"2002-07-28T00:00:00\", \"2002-08-28T00:00:00\", \"2002-09-28T00:00:00\", \"2002-10-28T00:00:00\", \"2002-11-28T00:00:00\", \"2002-12-28T00:00:00\", \"2003-01-28T00:00:00\", \"2003-02-28T00:00:00\", \"2003-03-28T00:00:00\", \"2003-04-28T00:00:00\", \"2003-05-28T00:00:00\", \"2003-06-28T00:00:00\", \"2003-07-28T00:00:00\", \"2003-08-28T00:00:00\", \"2003-09-28T00:00:00\", \"2003-10-28T00:00:00\", \"2003-11-28T00:00:00\", \"2003-12-28T00:00:00\", \"2004-01-28T00:00:00\", \"2004-02-28T00:00:00\", \"2004-03-28T00:00:00\", \"2004-04-28T00:00:00\", \"2004-05-28T00:00:00\", \"2004-06-28T00:00:00\", \"2004-07-28T00:00:00\", \"2004-08-28T00:00:00\", \"2004-09-28T00:00:00\", \"2004-10-28T00:00:00\", \"2004-11-28T00:00:00\", \"2004-12-28T00:00:00\", \"2005-01-28T00:00:00\", \"2005-02-28T00:00:00\", \"2005-03-28T00:00:00\", \"2005-04-28T00:00:00\", \"2005-05-28T00:00:00\", \"2005-06-28T00:00:00\", \"2005-07-28T00:00:00\", \"2005-08-28T00:00:00\", \"2005-09-28T00:00:00\", \"2005-10-28T00:00:00\", \"2005-11-28T00:00:00\", \"2005-12-28T00:00:00\", \"2006-01-28T00:00:00\", \"2006-02-28T00:00:00\", \"2006-03-28T00:00:00\", \"2006-04-28T00:00:00\", \"2006-05-28T00:00:00\", \"2006-06-28T00:00:00\", \"2006-07-28T00:00:00\", \"2006-08-28T00:00:00\", \"2006-09-28T00:00:00\", \"2006-10-28T00:00:00\", \"2006-11-28T00:00:00\", \"2006-12-28T00:00:00\", \"2007-01-28T00:00:00\", \"2007-02-28T00:00:00\", \"2007-03-28T00:00:00\", \"2007-04-28T00:00:00\", \"2007-05-28T00:00:00\", \"2007-06-28T00:00:00\", \"2007-07-28T00:00:00\", \"2007-08-28T00:00:00\", \"2007-09-28T00:00:00\", \"2007-10-28T00:00:00\", \"2007-11-28T00:00:00\", \"2007-12-28T00:00:00\", \"2008-01-28T00:00:00\", \"2008-02-28T00:00:00\", \"2008-03-28T00:00:00\", \"2008-04-28T00:00:00\", \"2008-05-28T00:00:00\", \"2008-06-28T00:00:00\", \"2008-07-28T00:00:00\", \"2008-08-28T00:00:00\", \"2008-09-28T00:00:00\", \"2008-10-28T00:00:00\", \"2008-11-28T00:00:00\", \"2008-12-28T00:00:00\", \"2009-01-28T00:00:00\", \"2009-02-28T00:00:00\", \"2009-03-28T00:00:00\", \"2009-04-28T00:00:00\", \"2009-05-28T00:00:00\", \"2009-06-28T00:00:00\", \"2009-07-28T00:00:00\", \"2009-08-28T00:00:00\", \"2009-09-28T00:00:00\", \"2009-10-28T00:00:00\", \"2009-11-28T00:00:00\", \"2009-12-28T00:00:00\", \"2010-01-28T00:00:00\", \"2010-02-28T00:00:00\", \"2010-03-28T00:00:00\", \"2010-04-28T00:00:00\", \"2010-05-28T00:00:00\", \"2010-06-28T00:00:00\", \"2010-07-28T00:00:00\", \"2010-08-28T00:00:00\", \"2010-09-28T00:00:00\", \"2010-10-28T00:00:00\", \"2010-11-28T00:00:00\", \"2010-12-28T00:00:00\", \"2011-01-28T00:00:00\", \"2011-02-28T00:00:00\", \"2011-03-28T00:00:00\", \"2011-04-28T00:00:00\", \"2011-05-28T00:00:00\", \"2011-06-28T00:00:00\", \"2011-07-28T00:00:00\", \"2011-08-28T00:00:00\", \"2011-09-28T00:00:00\", \"2011-10-28T00:00:00\", \"2011-11-28T00:00:00\", \"2011-12-28T00:00:00\", \"2012-01-28T00:00:00\", \"2012-02-28T00:00:00\", \"2012-03-28T00:00:00\", \"2012-04-28T00:00:00\", \"2012-05-28T00:00:00\", \"2012-06-28T00:00:00\", \"2012-07-28T00:00:00\", \"2012-08-28T00:00:00\", \"2012-09-28T00:00:00\", \"2012-10-28T00:00:00\", \"2012-11-28T00:00:00\", \"2012-12-28T00:00:00\", \"2013-01-28T00:00:00\", \"2013-02-28T00:00:00\", \"2013-03-28T00:00:00\", \"2013-04-28T00:00:00\", \"2013-05-28T00:00:00\", \"2013-06-28T00:00:00\", \"2013-07-28T00:00:00\", \"2013-08-28T00:00:00\", \"2013-09-28T00:00:00\", \"2013-10-28T00:00:00\", \"2013-11-28T00:00:00\", \"2013-12-28T00:00:00\", \"2014-01-28T00:00:00\", \"2014-02-28T00:00:00\", \"2014-03-28T00:00:00\", \"2014-04-28T00:00:00\", \"2014-05-28T00:00:00\", \"2014-06-28T00:00:00\", \"2014-07-28T00:00:00\", \"2014-08-28T00:00:00\", \"2014-09-28T00:00:00\", \"2014-10-28T00:00:00\", \"2014-11-28T00:00:00\", \"2014-12-28T00:00:00\", \"2015-01-28T00:00:00\", \"2015-02-28T00:00:00\", \"2015-03-28T00:00:00\", \"2015-04-28T00:00:00\", \"2015-05-28T00:00:00\", \"2015-06-28T00:00:00\", \"2015-07-28T00:00:00\", \"2015-08-28T00:00:00\", \"2015-09-28T00:00:00\", \"2015-10-28T00:00:00\", \"2015-11-28T00:00:00\", \"2015-12-28T00:00:00\", \"2016-01-28T00:00:00\", \"2016-02-28T00:00:00\", \"2016-03-28T00:00:00\", \"2016-04-28T00:00:00\", \"2016-05-28T00:00:00\", \"2016-06-28T00:00:00\", \"2016-07-28T00:00:00\", \"2016-08-28T00:00:00\", \"2016-09-28T00:00:00\", \"2016-10-28T00:00:00\", \"2016-11-28T00:00:00\", \"2016-12-28T00:00:00\", \"2017-01-28T00:00:00\", \"2017-02-28T00:00:00\", \"2017-03-28T00:00:00\", \"2017-04-28T00:00:00\", \"2017-05-28T00:00:00\", \"2017-06-28T00:00:00\", \"2017-07-28T00:00:00\", \"2017-08-28T00:00:00\", \"2017-09-28T00:00:00\", \"2017-10-28T00:00:00\", \"2017-11-28T00:00:00\", \"2017-12-28T00:00:00\", \"2018-01-28T00:00:00\", \"2018-02-28T00:00:00\", \"2018-03-28T00:00:00\", \"2018-04-28T00:00:00\", \"2018-05-28T00:00:00\", \"2018-06-28T00:00:00\", \"2018-07-28T00:00:00\", \"2018-08-28T00:00:00\", \"2018-09-28T00:00:00\", \"2018-10-28T00:00:00\", \"2018-11-28T00:00:00\", \"2018-12-28T00:00:00\", \"2019-01-28T00:00:00\", \"2019-02-28T00:00:00\", \"2019-03-28T00:00:00\", \"2019-04-28T00:00:00\", \"2019-05-28T00:00:00\", \"2019-06-28T00:00:00\", \"2019-07-28T00:00:00\", \"2019-08-28T00:00:00\", \"2019-09-28T00:00:00\", \"2019-10-28T00:00:00\", \"2019-11-28T00:00:00\", \"2019-12-28T00:00:00\"], \"y\": [750.0, 750.0, 1000.0, 1000.0, 1000.0, 2000.0, 1000.0, 1000.0, 1000.0, 1000.0, 1000.0, 1500.0, 750.0, 750.0, 1000.0, 1000.0, 1000.0, 2000.0, 1000.0, 1000.0, 1000.0, 1000.0, 1000.0, 1500.0, 750.0, 750.0, 1000.0, 1000.0, 1000.0, 2000.0, 1000.0, 1000.0, 1000.0, 1000.0, 1000.0, 1500.0, 750.0, 750.0, 1000.0, 1000.0, 1000.0, 2000.0, 1000.0, 1000.0, 1000.0, 1000.0, 1000.0, 1500.0, 750.0, 750.0, 1000.0, 1000.0, 1000.0, 2000.0, 1000.0, 1000.0, 1000.0, 1000.0, 1000.0, 1500.0, 750.0, 750.0, 1000.0, 1000.0, 1000.0, 2000.0, 1000.0, 1000.0, 1000.0, 1000.0, 1000.0, 1500.0, 750.0, 750.0, 1000.0, 1000.0, 1000.0, 2000.0, 1000.0, 1000.0, 1000.0, 1000.0, 1000.0, 1500.0, 750.0, 750.0, 1000.0, 1000.0, 1000.0, 2000.0, 1000.0, 1000.0, 1000.0, 1000.0, 1000.0, 1500.0, 750.0, 750.0, 1000.0, 1000.0, 1000.0, 2000.0, 1000.0, 1000.0, 1000.0, 1000.0, 1000.0, 1500.0, 750.0, 750.0, 1000.0, 1000.0, 1000.0, 2000.0, 1000.0, 1000.0, 1000.0, 1000.0, 1000.0, 1500.0, 750.0, 750.0, 1000.0, 1000.0, 1000.0, 2000.0, 1000.0, 1000.0, 1000.0, 1000.0, 1000.0, 1500.0, 750.0, 750.0, 1000.0, 1000.0, 1000.0, 2000.0, 1000.0, 1000.0, 1000.0, 1000.0, 1000.0, 1500.0, 750.0, 750.0, 1000.0, 1000.0, 1000.0, 2000.0, 1000.0, 1000.0, 1000.0, 1000.0, 1000.0, 1500.0, 750.0, 750.0, 1000.0, 1000.0, 1000.0, 2000.0, 1000.0, 1000.0, 1000.0, 1000.0, 1000.0, 1500.0, 750.0, 750.0, 1000.0, 1000.0, 1000.0, 2000.0, 1000.0, 1000.0, 1000.0, 1000.0, 1000.0, 1500.0, 750.0, 750.0, 1000.0, 1000.0, 1000.0, 2000.0, 1000.0, 1000.0, 1000.0, 1000.0, 1000.0, 1500.0, 750.0, 750.0, 1000.0, 1000.0, 1000.0, 2000.0, 1000.0, 1000.0, 1000.0, 1000.0, 1000.0, 1500.0, 750.0, 750.0, 1000.0, 1000.0, 1000.0, 2000.0, 1000.0, 1000.0, 1000.0, 1000.0, 1000.0, 1500.0, 750.0, 750.0, 1000.0, 1000.0, 1000.0, 2000.0, 1000.0, 1000.0, 1000.0, 1000.0, 1000.0, 1500.0, 750.0, 750.0, 1000.0, 1000.0, 1000.0, 2000.0, 1000.0, 1000.0, 1000.0, 1000.0, 1000.0, 1500.0]}],\n",
              "                        {\"template\": {\"data\": {\"bar\": [{\"error_x\": {\"color\": \"#2a3f5f\"}, \"error_y\": {\"color\": \"#2a3f5f\"}, \"marker\": {\"line\": {\"color\": \"#E5ECF6\", \"width\": 0.5}}, \"type\": \"bar\"}], \"barpolar\": [{\"marker\": {\"line\": {\"color\": \"#E5ECF6\", \"width\": 0.5}}, \"type\": \"barpolar\"}], \"carpet\": [{\"aaxis\": {\"endlinecolor\": \"#2a3f5f\", \"gridcolor\": \"white\", \"linecolor\": \"white\", \"minorgridcolor\": \"white\", \"startlinecolor\": \"#2a3f5f\"}, \"baxis\": {\"endlinecolor\": \"#2a3f5f\", \"gridcolor\": \"white\", \"linecolor\": \"white\", \"minorgridcolor\": \"white\", \"startlinecolor\": \"#2a3f5f\"}, \"type\": \"carpet\"}], \"choropleth\": [{\"colorbar\": {\"outlinewidth\": 0, \"ticks\": \"\"}, \"type\": \"choropleth\"}], \"contour\": [{\"colorbar\": {\"outlinewidth\": 0, \"ticks\": \"\"}, \"colorscale\": [[0.0, \"#0d0887\"], [0.1111111111111111, \"#46039f\"], [0.2222222222222222, \"#7201a8\"], [0.3333333333333333, \"#9c179e\"], [0.4444444444444444, \"#bd3786\"], [0.5555555555555556, \"#d8576b\"], [0.6666666666666666, \"#ed7953\"], [0.7777777777777778, \"#fb9f3a\"], [0.8888888888888888, \"#fdca26\"], [1.0, \"#f0f921\"]], \"type\": \"contour\"}], \"contourcarpet\": [{\"colorbar\": {\"outlinewidth\": 0, \"ticks\": \"\"}, \"type\": \"contourcarpet\"}], \"heatmap\": [{\"colorbar\": {\"outlinewidth\": 0, \"ticks\": \"\"}, \"colorscale\": [[0.0, \"#0d0887\"], [0.1111111111111111, \"#46039f\"], [0.2222222222222222, \"#7201a8\"], [0.3333333333333333, \"#9c179e\"], [0.4444444444444444, \"#bd3786\"], [0.5555555555555556, \"#d8576b\"], [0.6666666666666666, \"#ed7953\"], [0.7777777777777778, \"#fb9f3a\"], [0.8888888888888888, \"#fdca26\"], [1.0, \"#f0f921\"]], \"type\": \"heatmap\"}], \"heatmapgl\": [{\"colorbar\": {\"outlinewidth\": 0, \"ticks\": \"\"}, \"colorscale\": [[0.0, \"#0d0887\"], [0.1111111111111111, \"#46039f\"], [0.2222222222222222, \"#7201a8\"], [0.3333333333333333, \"#9c179e\"], [0.4444444444444444, \"#bd3786\"], [0.5555555555555556, \"#d8576b\"], [0.6666666666666666, \"#ed7953\"], [0.7777777777777778, \"#fb9f3a\"], [0.8888888888888888, \"#fdca26\"], [1.0, \"#f0f921\"]], \"type\": \"heatmapgl\"}], \"histogram\": [{\"marker\": {\"colorbar\": {\"outlinewidth\": 0, \"ticks\": \"\"}}, \"type\": \"histogram\"}], \"histogram2d\": [{\"colorbar\": {\"outlinewidth\": 0, \"ticks\": \"\"}, \"colorscale\": [[0.0, \"#0d0887\"], [0.1111111111111111, \"#46039f\"], [0.2222222222222222, \"#7201a8\"], [0.3333333333333333, \"#9c179e\"], [0.4444444444444444, \"#bd3786\"], [0.5555555555555556, \"#d8576b\"], [0.6666666666666666, \"#ed7953\"], [0.7777777777777778, \"#fb9f3a\"], [0.8888888888888888, \"#fdca26\"], [1.0, \"#f0f921\"]], \"type\": \"histogram2d\"}], \"histogram2dcontour\": [{\"colorbar\": {\"outlinewidth\": 0, \"ticks\": \"\"}, \"colorscale\": [[0.0, \"#0d0887\"], [0.1111111111111111, \"#46039f\"], [0.2222222222222222, \"#7201a8\"], [0.3333333333333333, \"#9c179e\"], [0.4444444444444444, \"#bd3786\"], [0.5555555555555556, \"#d8576b\"], [0.6666666666666666, \"#ed7953\"], [0.7777777777777778, \"#fb9f3a\"], [0.8888888888888888, \"#fdca26\"], [1.0, \"#f0f921\"]], \"type\": \"histogram2dcontour\"}], \"mesh3d\": [{\"colorbar\": {\"outlinewidth\": 0, \"ticks\": \"\"}, \"type\": \"mesh3d\"}], \"parcoords\": [{\"line\": {\"colorbar\": {\"outlinewidth\": 0, \"ticks\": \"\"}}, \"type\": \"parcoords\"}], \"pie\": [{\"automargin\": true, \"type\": \"pie\"}], \"scatter\": [{\"marker\": {\"colorbar\": {\"outlinewidth\": 0, \"ticks\": \"\"}}, \"type\": \"scatter\"}], \"scatter3d\": [{\"line\": {\"colorbar\": {\"outlinewidth\": 0, \"ticks\": \"\"}}, \"marker\": {\"colorbar\": {\"outlinewidth\": 0, \"ticks\": \"\"}}, \"type\": \"scatter3d\"}], \"scattercarpet\": [{\"marker\": {\"colorbar\": {\"outlinewidth\": 0, \"ticks\": \"\"}}, \"type\": \"scattercarpet\"}], \"scattergeo\": [{\"marker\": {\"colorbar\": {\"outlinewidth\": 0, \"ticks\": \"\"}}, \"type\": \"scattergeo\"}], \"scattergl\": [{\"marker\": {\"colorbar\": {\"outlinewidth\": 0, \"ticks\": \"\"}}, \"type\": \"scattergl\"}], \"scattermapbox\": [{\"marker\": {\"colorbar\": {\"outlinewidth\": 0, \"ticks\": \"\"}}, \"type\": \"scattermapbox\"}], \"scatterpolar\": [{\"marker\": {\"colorbar\": {\"outlinewidth\": 0, \"ticks\": \"\"}}, \"type\": \"scatterpolar\"}], \"scatterpolargl\": [{\"marker\": {\"colorbar\": {\"outlinewidth\": 0, \"ticks\": \"\"}}, \"type\": \"scatterpolargl\"}], \"scatterternary\": [{\"marker\": {\"colorbar\": {\"outlinewidth\": 0, \"ticks\": \"\"}}, \"type\": \"scatterternary\"}], \"surface\": [{\"colorbar\": {\"outlinewidth\": 0, \"ticks\": \"\"}, \"colorscale\": [[0.0, \"#0d0887\"], [0.1111111111111111, \"#46039f\"], [0.2222222222222222, \"#7201a8\"], [0.3333333333333333, \"#9c179e\"], [0.4444444444444444, \"#bd3786\"], [0.5555555555555556, \"#d8576b\"], [0.6666666666666666, \"#ed7953\"], [0.7777777777777778, \"#fb9f3a\"], [0.8888888888888888, \"#fdca26\"], [1.0, \"#f0f921\"]], \"type\": \"surface\"}], \"table\": [{\"cells\": {\"fill\": {\"color\": \"#EBF0F8\"}, \"line\": {\"color\": \"white\"}}, \"header\": {\"fill\": {\"color\": \"#C8D4E3\"}, \"line\": {\"color\": \"white\"}}, \"type\": \"table\"}]}, \"layout\": {\"annotationdefaults\": {\"arrowcolor\": \"#2a3f5f\", \"arrowhead\": 0, \"arrowwidth\": 1}, \"coloraxis\": {\"colorbar\": {\"outlinewidth\": 0, \"ticks\": \"\"}}, \"colorscale\": {\"diverging\": [[0, \"#8e0152\"], [0.1, \"#c51b7d\"], [0.2, \"#de77ae\"], [0.3, \"#f1b6da\"], [0.4, \"#fde0ef\"], [0.5, \"#f7f7f7\"], [0.6, \"#e6f5d0\"], [0.7, \"#b8e186\"], [0.8, \"#7fbc41\"], [0.9, \"#4d9221\"], [1, \"#276419\"]], \"sequential\": [[0.0, \"#0d0887\"], [0.1111111111111111, \"#46039f\"], [0.2222222222222222, \"#7201a8\"], [0.3333333333333333, \"#9c179e\"], [0.4444444444444444, \"#bd3786\"], [0.5555555555555556, \"#d8576b\"], [0.6666666666666666, \"#ed7953\"], [0.7777777777777778, \"#fb9f3a\"], [0.8888888888888888, \"#fdca26\"], [1.0, \"#f0f921\"]], \"sequentialminus\": [[0.0, \"#0d0887\"], [0.1111111111111111, \"#46039f\"], [0.2222222222222222, \"#7201a8\"], [0.3333333333333333, \"#9c179e\"], [0.4444444444444444, \"#bd3786\"], [0.5555555555555556, \"#d8576b\"], [0.6666666666666666, \"#ed7953\"], [0.7777777777777778, \"#fb9f3a\"], [0.8888888888888888, \"#fdca26\"], [1.0, \"#f0f921\"]]}, \"colorway\": [\"#636efa\", \"#EF553B\", \"#00cc96\", \"#ab63fa\", \"#FFA15A\", \"#19d3f3\", \"#FF6692\", \"#B6E880\", \"#FF97FF\", \"#FECB52\"], \"font\": {\"color\": \"#2a3f5f\"}, \"geo\": {\"bgcolor\": \"white\", \"lakecolor\": \"white\", \"landcolor\": \"#E5ECF6\", \"showlakes\": true, \"showland\": true, \"subunitcolor\": \"white\"}, \"hoverlabel\": {\"align\": \"left\"}, \"hovermode\": \"closest\", \"mapbox\": {\"style\": \"light\"}, \"paper_bgcolor\": \"white\", \"plot_bgcolor\": \"#E5ECF6\", \"polar\": {\"angularaxis\": {\"gridcolor\": \"white\", \"linecolor\": \"white\", \"ticks\": \"\"}, \"bgcolor\": \"#E5ECF6\", \"radialaxis\": {\"gridcolor\": \"white\", \"linecolor\": \"white\", \"ticks\": \"\"}}, \"scene\": {\"xaxis\": {\"backgroundcolor\": \"#E5ECF6\", \"gridcolor\": \"white\", \"gridwidth\": 2, \"linecolor\": \"white\", \"showbackground\": true, \"ticks\": \"\", \"zerolinecolor\": \"white\"}, \"yaxis\": {\"backgroundcolor\": \"#E5ECF6\", \"gridcolor\": \"white\", \"gridwidth\": 2, \"linecolor\": \"white\", \"showbackground\": true, \"ticks\": \"\", \"zerolinecolor\": \"white\"}, \"zaxis\": {\"backgroundcolor\": \"#E5ECF6\", \"gridcolor\": \"white\", \"gridwidth\": 2, \"linecolor\": \"white\", \"showbackground\": true, \"ticks\": \"\", \"zerolinecolor\": \"white\"}}, \"shapedefaults\": {\"line\": {\"color\": \"#2a3f5f\"}}, \"ternary\": {\"aaxis\": {\"gridcolor\": \"white\", \"linecolor\": \"white\", \"ticks\": \"\"}, \"baxis\": {\"gridcolor\": \"white\", \"linecolor\": \"white\", \"ticks\": \"\"}, \"bgcolor\": \"#E5ECF6\", \"caxis\": {\"gridcolor\": \"white\", \"linecolor\": \"white\", \"ticks\": \"\"}}, \"title\": {\"x\": 0.05}, \"xaxis\": {\"automargin\": true, \"gridcolor\": \"white\", \"linecolor\": \"white\", \"ticks\": \"\", \"title\": {\"standoff\": 15}, \"zerolinecolor\": \"white\", \"zerolinewidth\": 2}, \"yaxis\": {\"automargin\": true, \"gridcolor\": \"white\", \"linecolor\": \"white\", \"ticks\": \"\", \"title\": {\"standoff\": 15}, \"zerolinecolor\": \"white\", \"zerolinewidth\": 2}}}, \"title\": {\"text\": \"Hist\\u00f3rico de Vendas\"}},\n",
              "                        {\"responsive\": true}\n",
              "                    ).then(function(){\n",
              "                            \n",
              "var gd = document.getElementById('36cce0a5-0756-44a0-95ac-38782fbf58d4');\n",
              "var x = new MutationObserver(function (mutations, observer) {{\n",
              "        var display = window.getComputedStyle(gd).display;\n",
              "        if (!display || display === 'none') {{\n",
              "            console.log([gd, 'removed!']);\n",
              "            Plotly.purge(gd);\n",
              "            observer.disconnect();\n",
              "        }}\n",
              "}});\n",
              "\n",
              "// Listen for the removal of the full notebook cells\n",
              "var notebookContainer = gd.closest('#notebook-container');\n",
              "if (notebookContainer) {{\n",
              "    x.observe(notebookContainer, {childList: true});\n",
              "}}\n",
              "\n",
              "// Listen for the clearing of the current output cell\n",
              "var outputEl = gd.closest('.output');\n",
              "if (outputEl) {{\n",
              "    x.observe(outputEl, {childList: true});\n",
              "}}\n",
              "\n",
              "                        })\n",
              "                };\n",
              "                \n",
              "            </script>\n",
              "        </div>\n",
              "</body>\n",
              "</html>"
            ]
          },
          "metadata": {
            "tags": []
          }
        }
      ]
    },
    {
      "cell_type": "markdown",
      "metadata": {
        "id": "_T1SEiwSwyXv"
      },
      "source": [
        "# **Predictions - fbProphet**"
      ]
    },
    {
      "cell_type": "markdown",
      "metadata": {
        "id": "JiHAKEmhy85f"
      },
      "source": [
        "**Instantiating a new Prophet object**"
      ]
    },
    {
      "cell_type": "code",
      "metadata": {
        "id": "emXEXtSrRLSm"
      },
      "source": [
        "m = Prophet()\n"
      ],
      "execution_count": 7,
      "outputs": []
    },
    {
      "cell_type": "code",
      "metadata": {
        "id": "txo4lvk0RPkP",
        "outputId": "a9ce3f8a-efbd-42f1-add2-bac950960d43",
        "colab": {
          "base_uri": "https://localhost:8080/"
        }
      },
      "source": [
        "m.fit(database)"
      ],
      "execution_count": 8,
      "outputs": [
        {
          "output_type": "stream",
          "text": [
            "INFO:numexpr.utils:NumExpr defaulting to 2 threads.\n",
            "INFO:fbprophet:Disabling weekly seasonality. Run prophet with weekly_seasonality=True to override this.\n",
            "INFO:fbprophet:Disabling daily seasonality. Run prophet with daily_seasonality=True to override this.\n"
          ],
          "name": "stderr"
        },
        {
          "output_type": "execute_result",
          "data": {
            "text/plain": [
              "<fbprophet.forecaster.Prophet at 0x7f36a33f7668>"
            ]
          },
          "metadata": {
            "tags": []
          },
          "execution_count": 8
        }
      ]
    },
    {
      "cell_type": "code",
      "metadata": {
        "id": "8Evc4bRkRRxU"
      },
      "source": [
        "f = m.make_future_dataframe(periods=13, freq='M')"
      ],
      "execution_count": 9,
      "outputs": []
    },
    {
      "cell_type": "code",
      "metadata": {
        "id": "ZwS2JtpqRlG5"
      },
      "source": [
        "p = m.predict(f)"
      ],
      "execution_count": 10,
      "outputs": []
    },
    {
      "cell_type": "code",
      "metadata": {
        "id": "l0Md8L6TIKFo",
        "outputId": "d89c3ba9-60ca-4723-b861-d9929855b386",
        "colab": {
          "base_uri": "https://localhost:8080/",
          "height": 421
        }
      },
      "source": [
        "# baseTeste = pd.DataFrame(p[['ds', 'yhat', 'yhat_lower', 'yhat_upper']])\n",
        "# baseTeste['y'] = database.y\n",
        "# baseTeste.tail(12)\n",
        "pd.DataFrame(p[['ds', 'yhat', 'yhat_lower', 'yhat_upper']]).tail(12)"
      ],
      "execution_count": 11,
      "outputs": [
        {
          "output_type": "execute_result",
          "data": {
            "text/html": [
              "<div>\n",
              "<style scoped>\n",
              "    .dataframe tbody tr th:only-of-type {\n",
              "        vertical-align: middle;\n",
              "    }\n",
              "\n",
              "    .dataframe tbody tr th {\n",
              "        vertical-align: top;\n",
              "    }\n",
              "\n",
              "    .dataframe thead th {\n",
              "        text-align: right;\n",
              "    }\n",
              "</style>\n",
              "<table border=\"1\" class=\"dataframe\">\n",
              "  <thead>\n",
              "    <tr style=\"text-align: right;\">\n",
              "      <th></th>\n",
              "      <th>ds</th>\n",
              "      <th>yhat</th>\n",
              "      <th>yhat_lower</th>\n",
              "      <th>yhat_upper</th>\n",
              "    </tr>\n",
              "  </thead>\n",
              "  <tbody>\n",
              "    <tr>\n",
              "      <th>241</th>\n",
              "      <td>2020-01-31</td>\n",
              "      <td>757.777222</td>\n",
              "      <td>756.989064</td>\n",
              "      <td>758.500646</td>\n",
              "    </tr>\n",
              "    <tr>\n",
              "      <th>242</th>\n",
              "      <td>2020-02-29</td>\n",
              "      <td>751.655879</td>\n",
              "      <td>750.868096</td>\n",
              "      <td>752.417973</td>\n",
              "    </tr>\n",
              "    <tr>\n",
              "      <th>243</th>\n",
              "      <td>2020-03-31</td>\n",
              "      <td>1008.547703</td>\n",
              "      <td>1007.769166</td>\n",
              "      <td>1009.333843</td>\n",
              "    </tr>\n",
              "    <tr>\n",
              "      <th>244</th>\n",
              "      <td>2020-04-30</td>\n",
              "      <td>1007.781829</td>\n",
              "      <td>1007.014212</td>\n",
              "      <td>1008.587607</td>\n",
              "    </tr>\n",
              "    <tr>\n",
              "      <th>245</th>\n",
              "      <td>2020-05-31</td>\n",
              "      <td>1020.574079</td>\n",
              "      <td>1019.801631</td>\n",
              "      <td>1021.423308</td>\n",
              "    </tr>\n",
              "    <tr>\n",
              "      <th>246</th>\n",
              "      <td>2020-06-30</td>\n",
              "      <td>1982.248588</td>\n",
              "      <td>1981.388695</td>\n",
              "      <td>1983.104378</td>\n",
              "    </tr>\n",
              "    <tr>\n",
              "      <th>247</th>\n",
              "      <td>2020-07-31</td>\n",
              "      <td>1009.917261</td>\n",
              "      <td>1009.015041</td>\n",
              "      <td>1010.835627</td>\n",
              "    </tr>\n",
              "    <tr>\n",
              "      <th>248</th>\n",
              "      <td>2020-08-31</td>\n",
              "      <td>998.944565</td>\n",
              "      <td>997.991804</td>\n",
              "      <td>999.907133</td>\n",
              "    </tr>\n",
              "    <tr>\n",
              "      <th>249</th>\n",
              "      <td>2020-09-30</td>\n",
              "      <td>995.553454</td>\n",
              "      <td>994.564287</td>\n",
              "      <td>996.547843</td>\n",
              "    </tr>\n",
              "    <tr>\n",
              "      <th>250</th>\n",
              "      <td>2020-10-31</td>\n",
              "      <td>994.110369</td>\n",
              "      <td>993.011358</td>\n",
              "      <td>995.152457</td>\n",
              "    </tr>\n",
              "    <tr>\n",
              "      <th>251</th>\n",
              "      <td>2020-11-30</td>\n",
              "      <td>999.249314</td>\n",
              "      <td>998.065231</td>\n",
              "      <td>1000.390503</td>\n",
              "    </tr>\n",
              "    <tr>\n",
              "      <th>252</th>\n",
              "      <td>2020-12-31</td>\n",
              "      <td>1473.451305</td>\n",
              "      <td>1472.148993</td>\n",
              "      <td>1474.687674</td>\n",
              "    </tr>\n",
              "  </tbody>\n",
              "</table>\n",
              "</div>"
            ],
            "text/plain": [
              "            ds         yhat   yhat_lower   yhat_upper\n",
              "241 2020-01-31   757.777222   756.989064   758.500646\n",
              "242 2020-02-29   751.655879   750.868096   752.417973\n",
              "243 2020-03-31  1008.547703  1007.769166  1009.333843\n",
              "244 2020-04-30  1007.781829  1007.014212  1008.587607\n",
              "245 2020-05-31  1020.574079  1019.801631  1021.423308\n",
              "246 2020-06-30  1982.248588  1981.388695  1983.104378\n",
              "247 2020-07-31  1009.917261  1009.015041  1010.835627\n",
              "248 2020-08-31   998.944565   997.991804   999.907133\n",
              "249 2020-09-30   995.553454   994.564287   996.547843\n",
              "250 2020-10-31   994.110369   993.011358   995.152457\n",
              "251 2020-11-30   999.249314   998.065231  1000.390503\n",
              "252 2020-12-31  1473.451305  1472.148993  1474.687674"
            ]
          },
          "metadata": {
            "tags": []
          },
          "execution_count": 11
        }
      ]
    },
    {
      "cell_type": "code",
      "metadata": {
        "id": "eGbU4Qh7SKvo",
        "outputId": "c89c6f45-1c9c-477f-8af2-b4c663000f27",
        "colab": {
          "base_uri": "https://localhost:8080/",
          "height": 637
        }
      },
      "source": [
        "gp=plot_plotly(m, p)\n",
        "gp.update_layout(\n",
        "    title=\"Histórico de Vendas\")"
      ],
      "execution_count": 12,
      "outputs": [
        {
          "output_type": "display_data",
          "data": {
            "text/html": [
              "<html>\n",
              "<head><meta charset=\"utf-8\" /></head>\n",
              "<body>\n",
              "    <div>\n",
              "            <script src=\"https://cdnjs.cloudflare.com/ajax/libs/mathjax/2.7.5/MathJax.js?config=TeX-AMS-MML_SVG\"></script><script type=\"text/javascript\">if (window.MathJax) {MathJax.Hub.Config({SVG: {font: \"STIX-Web\"}});}</script>\n",
              "                <script type=\"text/javascript\">window.PlotlyConfig = {MathJaxConfig: 'local'};</script>\n",
              "        <script src=\"https://cdn.plot.ly/plotly-latest.min.js\"></script>    \n",
              "            <div id=\"3bc2a219-f029-402b-b15b-590bb114847b\" class=\"plotly-graph-div\" style=\"height:600px; width:900px;\"></div>\n",
              "            <script type=\"text/javascript\">\n",
              "                \n",
              "                    window.PLOTLYENV=window.PLOTLYENV || {};\n",
              "                    \n",
              "                if (document.getElementById(\"3bc2a219-f029-402b-b15b-590bb114847b\")) {\n",
              "                    Plotly.newPlot(\n",
              "                        '3bc2a219-f029-402b-b15b-590bb114847b',\n",
              "                        [{\"marker\": {\"color\": \"black\", \"size\": 4}, \"mode\": \"markers\", \"name\": \"Actual\", \"type\": \"scatter\", \"x\": [\"2000-01-28T00:00:00\", \"2000-02-28T00:00:00\", \"2000-03-28T00:00:00\", \"2000-04-28T00:00:00\", \"2000-05-28T00:00:00\", \"2000-06-28T00:00:00\", \"2000-07-28T00:00:00\", \"2000-08-28T00:00:00\", \"2000-09-28T00:00:00\", \"2000-10-28T00:00:00\", \"2000-11-28T00:00:00\", \"2000-12-28T00:00:00\", \"2001-01-28T00:00:00\", \"2001-02-28T00:00:00\", \"2001-03-28T00:00:00\", \"2001-04-28T00:00:00\", \"2001-05-28T00:00:00\", \"2001-06-28T00:00:00\", \"2001-07-28T00:00:00\", \"2001-08-28T00:00:00\", \"2001-09-28T00:00:00\", \"2001-10-28T00:00:00\", \"2001-11-28T00:00:00\", \"2001-12-28T00:00:00\", \"2002-01-28T00:00:00\", \"2002-02-28T00:00:00\", \"2002-03-28T00:00:00\", \"2002-04-28T00:00:00\", \"2002-05-28T00:00:00\", \"2002-06-28T00:00:00\", \"2002-07-28T00:00:00\", \"2002-08-28T00:00:00\", \"2002-09-28T00:00:00\", \"2002-10-28T00:00:00\", \"2002-11-28T00:00:00\", \"2002-12-28T00:00:00\", \"2003-01-28T00:00:00\", \"2003-02-28T00:00:00\", \"2003-03-28T00:00:00\", \"2003-04-28T00:00:00\", \"2003-05-28T00:00:00\", \"2003-06-28T00:00:00\", \"2003-07-28T00:00:00\", \"2003-08-28T00:00:00\", \"2003-09-28T00:00:00\", \"2003-10-28T00:00:00\", \"2003-11-28T00:00:00\", \"2003-12-28T00:00:00\", \"2004-01-28T00:00:00\", \"2004-02-28T00:00:00\", \"2004-03-28T00:00:00\", \"2004-04-28T00:00:00\", \"2004-05-28T00:00:00\", \"2004-06-28T00:00:00\", \"2004-07-28T00:00:00\", \"2004-08-28T00:00:00\", \"2004-09-28T00:00:00\", \"2004-10-28T00:00:00\", \"2004-11-28T00:00:00\", \"2004-12-28T00:00:00\", \"2005-01-28T00:00:00\", \"2005-02-28T00:00:00\", \"2005-03-28T00:00:00\", \"2005-04-28T00:00:00\", \"2005-05-28T00:00:00\", \"2005-06-28T00:00:00\", \"2005-07-28T00:00:00\", \"2005-08-28T00:00:00\", \"2005-09-28T00:00:00\", \"2005-10-28T00:00:00\", \"2005-11-28T00:00:00\", \"2005-12-28T00:00:00\", \"2006-01-28T00:00:00\", \"2006-02-28T00:00:00\", \"2006-03-28T00:00:00\", \"2006-04-28T00:00:00\", \"2006-05-28T00:00:00\", \"2006-06-28T00:00:00\", \"2006-07-28T00:00:00\", \"2006-08-28T00:00:00\", \"2006-09-28T00:00:00\", \"2006-10-28T00:00:00\", \"2006-11-28T00:00:00\", \"2006-12-28T00:00:00\", \"2007-01-28T00:00:00\", \"2007-02-28T00:00:00\", \"2007-03-28T00:00:00\", \"2007-04-28T00:00:00\", \"2007-05-28T00:00:00\", \"2007-06-28T00:00:00\", \"2007-07-28T00:00:00\", \"2007-08-28T00:00:00\", \"2007-09-28T00:00:00\", \"2007-10-28T00:00:00\", \"2007-11-28T00:00:00\", \"2007-12-28T00:00:00\", \"2008-01-28T00:00:00\", \"2008-02-28T00:00:00\", \"2008-03-28T00:00:00\", \"2008-04-28T00:00:00\", \"2008-05-28T00:00:00\", \"2008-06-28T00:00:00\", \"2008-07-28T00:00:00\", \"2008-08-28T00:00:00\", \"2008-09-28T00:00:00\", \"2008-10-28T00:00:00\", \"2008-11-28T00:00:00\", \"2008-12-28T00:00:00\", \"2009-01-28T00:00:00\", \"2009-02-28T00:00:00\", \"2009-03-28T00:00:00\", \"2009-04-28T00:00:00\", \"2009-05-28T00:00:00\", \"2009-06-28T00:00:00\", \"2009-07-28T00:00:00\", \"2009-08-28T00:00:00\", \"2009-09-28T00:00:00\", \"2009-10-28T00:00:00\", \"2009-11-28T00:00:00\", \"2009-12-28T00:00:00\", \"2010-01-28T00:00:00\", \"2010-02-28T00:00:00\", \"2010-03-28T00:00:00\", \"2010-04-28T00:00:00\", \"2010-05-28T00:00:00\", \"2010-06-28T00:00:00\", \"2010-07-28T00:00:00\", \"2010-08-28T00:00:00\", \"2010-09-28T00:00:00\", \"2010-10-28T00:00:00\", \"2010-11-28T00:00:00\", \"2010-12-28T00:00:00\", \"2011-01-28T00:00:00\", \"2011-02-28T00:00:00\", \"2011-03-28T00:00:00\", \"2011-04-28T00:00:00\", \"2011-05-28T00:00:00\", \"2011-06-28T00:00:00\", \"2011-07-28T00:00:00\", \"2011-08-28T00:00:00\", \"2011-09-28T00:00:00\", \"2011-10-28T00:00:00\", \"2011-11-28T00:00:00\", \"2011-12-28T00:00:00\", \"2012-01-28T00:00:00\", \"2012-02-28T00:00:00\", \"2012-03-28T00:00:00\", \"2012-04-28T00:00:00\", \"2012-05-28T00:00:00\", \"2012-06-28T00:00:00\", \"2012-07-28T00:00:00\", \"2012-08-28T00:00:00\", \"2012-09-28T00:00:00\", \"2012-10-28T00:00:00\", \"2012-11-28T00:00:00\", \"2012-12-28T00:00:00\", \"2013-01-28T00:00:00\", \"2013-02-28T00:00:00\", \"2013-03-28T00:00:00\", \"2013-04-28T00:00:00\", \"2013-05-28T00:00:00\", \"2013-06-28T00:00:00\", \"2013-07-28T00:00:00\", \"2013-08-28T00:00:00\", \"2013-09-28T00:00:00\", \"2013-10-28T00:00:00\", \"2013-11-28T00:00:00\", \"2013-12-28T00:00:00\", \"2014-01-28T00:00:00\", \"2014-02-28T00:00:00\", \"2014-03-28T00:00:00\", \"2014-04-28T00:00:00\", \"2014-05-28T00:00:00\", \"2014-06-28T00:00:00\", \"2014-07-28T00:00:00\", \"2014-08-28T00:00:00\", \"2014-09-28T00:00:00\", \"2014-10-28T00:00:00\", \"2014-11-28T00:00:00\", \"2014-12-28T00:00:00\", \"2015-01-28T00:00:00\", \"2015-02-28T00:00:00\", \"2015-03-28T00:00:00\", \"2015-04-28T00:00:00\", \"2015-05-28T00:00:00\", \"2015-06-28T00:00:00\", \"2015-07-28T00:00:00\", \"2015-08-28T00:00:00\", \"2015-09-28T00:00:00\", \"2015-10-28T00:00:00\", \"2015-11-28T00:00:00\", \"2015-12-28T00:00:00\", \"2016-01-28T00:00:00\", \"2016-02-28T00:00:00\", \"2016-03-28T00:00:00\", \"2016-04-28T00:00:00\", \"2016-05-28T00:00:00\", \"2016-06-28T00:00:00\", \"2016-07-28T00:00:00\", \"2016-08-28T00:00:00\", \"2016-09-28T00:00:00\", \"2016-10-28T00:00:00\", \"2016-11-28T00:00:00\", \"2016-12-28T00:00:00\", \"2017-01-28T00:00:00\", \"2017-02-28T00:00:00\", \"2017-03-28T00:00:00\", \"2017-04-28T00:00:00\", \"2017-05-28T00:00:00\", \"2017-06-28T00:00:00\", \"2017-07-28T00:00:00\", \"2017-08-28T00:00:00\", \"2017-09-28T00:00:00\", \"2017-10-28T00:00:00\", \"2017-11-28T00:00:00\", \"2017-12-28T00:00:00\", \"2018-01-28T00:00:00\", \"2018-02-28T00:00:00\", \"2018-03-28T00:00:00\", \"2018-04-28T00:00:00\", \"2018-05-28T00:00:00\", \"2018-06-28T00:00:00\", \"2018-07-28T00:00:00\", \"2018-08-28T00:00:00\", \"2018-09-28T00:00:00\", \"2018-10-28T00:00:00\", \"2018-11-28T00:00:00\", \"2018-12-28T00:00:00\", \"2019-01-28T00:00:00\", \"2019-02-28T00:00:00\", \"2019-03-28T00:00:00\", \"2019-04-28T00:00:00\", \"2019-05-28T00:00:00\", \"2019-06-28T00:00:00\", \"2019-07-28T00:00:00\", \"2019-08-28T00:00:00\", \"2019-09-28T00:00:00\", \"2019-10-28T00:00:00\", \"2019-11-28T00:00:00\", \"2019-12-28T00:00:00\"], \"y\": [750.0, 750.0, 1000.0, 1000.0, 1000.0, 2000.0, 1000.0, 1000.0, 1000.0, 1000.0, 1000.0, 1500.0, 750.0, 750.0, 1000.0, 1000.0, 1000.0, 2000.0, 1000.0, 1000.0, 1000.0, 1000.0, 1000.0, 1500.0, 750.0, 750.0, 1000.0, 1000.0, 1000.0, 2000.0, 1000.0, 1000.0, 1000.0, 1000.0, 1000.0, 1500.0, 750.0, 750.0, 1000.0, 1000.0, 1000.0, 2000.0, 1000.0, 1000.0, 1000.0, 1000.0, 1000.0, 1500.0, 750.0, 750.0, 1000.0, 1000.0, 1000.0, 2000.0, 1000.0, 1000.0, 1000.0, 1000.0, 1000.0, 1500.0, 750.0, 750.0, 1000.0, 1000.0, 1000.0, 2000.0, 1000.0, 1000.0, 1000.0, 1000.0, 1000.0, 1500.0, 750.0, 750.0, 1000.0, 1000.0, 1000.0, 2000.0, 1000.0, 1000.0, 1000.0, 1000.0, 1000.0, 1500.0, 750.0, 750.0, 1000.0, 1000.0, 1000.0, 2000.0, 1000.0, 1000.0, 1000.0, 1000.0, 1000.0, 1500.0, 750.0, 750.0, 1000.0, 1000.0, 1000.0, 2000.0, 1000.0, 1000.0, 1000.0, 1000.0, 1000.0, 1500.0, 750.0, 750.0, 1000.0, 1000.0, 1000.0, 2000.0, 1000.0, 1000.0, 1000.0, 1000.0, 1000.0, 1500.0, 750.0, 750.0, 1000.0, 1000.0, 1000.0, 2000.0, 1000.0, 1000.0, 1000.0, 1000.0, 1000.0, 1500.0, 750.0, 750.0, 1000.0, 1000.0, 1000.0, 2000.0, 1000.0, 1000.0, 1000.0, 1000.0, 1000.0, 1500.0, 750.0, 750.0, 1000.0, 1000.0, 1000.0, 2000.0, 1000.0, 1000.0, 1000.0, 1000.0, 1000.0, 1500.0, 750.0, 750.0, 1000.0, 1000.0, 1000.0, 2000.0, 1000.0, 1000.0, 1000.0, 1000.0, 1000.0, 1500.0, 750.0, 750.0, 1000.0, 1000.0, 1000.0, 2000.0, 1000.0, 1000.0, 1000.0, 1000.0, 1000.0, 1500.0, 750.0, 750.0, 1000.0, 1000.0, 1000.0, 2000.0, 1000.0, 1000.0, 1000.0, 1000.0, 1000.0, 1500.0, 750.0, 750.0, 1000.0, 1000.0, 1000.0, 2000.0, 1000.0, 1000.0, 1000.0, 1000.0, 1000.0, 1500.0, 750.0, 750.0, 1000.0, 1000.0, 1000.0, 2000.0, 1000.0, 1000.0, 1000.0, 1000.0, 1000.0, 1500.0, 750.0, 750.0, 1000.0, 1000.0, 1000.0, 2000.0, 1000.0, 1000.0, 1000.0, 1000.0, 1000.0, 1500.0, 750.0, 750.0, 1000.0, 1000.0, 1000.0, 2000.0, 1000.0, 1000.0, 1000.0, 1000.0, 1000.0, 1500.0]}, {\"hoverinfo\": \"skip\", \"line\": {\"width\": 0}, \"mode\": \"lines\", \"type\": \"scatter\", \"x\": [\"2000-01-28T00:00:00\", \"2000-02-28T00:00:00\", \"2000-03-28T00:00:00\", \"2000-04-28T00:00:00\", \"2000-05-28T00:00:00\", \"2000-06-28T00:00:00\", \"2000-07-28T00:00:00\", \"2000-08-28T00:00:00\", \"2000-09-28T00:00:00\", \"2000-10-28T00:00:00\", \"2000-11-28T00:00:00\", \"2000-12-28T00:00:00\", \"2001-01-28T00:00:00\", \"2001-02-28T00:00:00\", \"2001-03-28T00:00:00\", \"2001-04-28T00:00:00\", \"2001-05-28T00:00:00\", \"2001-06-28T00:00:00\", \"2001-07-28T00:00:00\", \"2001-08-28T00:00:00\", \"2001-09-28T00:00:00\", \"2001-10-28T00:00:00\", \"2001-11-28T00:00:00\", \"2001-12-28T00:00:00\", \"2002-01-28T00:00:00\", \"2002-02-28T00:00:00\", \"2002-03-28T00:00:00\", \"2002-04-28T00:00:00\", \"2002-05-28T00:00:00\", \"2002-06-28T00:00:00\", \"2002-07-28T00:00:00\", \"2002-08-28T00:00:00\", \"2002-09-28T00:00:00\", \"2002-10-28T00:00:00\", \"2002-11-28T00:00:00\", \"2002-12-28T00:00:00\", \"2003-01-28T00:00:00\", \"2003-02-28T00:00:00\", \"2003-03-28T00:00:00\", \"2003-04-28T00:00:00\", \"2003-05-28T00:00:00\", \"2003-06-28T00:00:00\", \"2003-07-28T00:00:00\", \"2003-08-28T00:00:00\", \"2003-09-28T00:00:00\", \"2003-10-28T00:00:00\", \"2003-11-28T00:00:00\", \"2003-12-28T00:00:00\", \"2004-01-28T00:00:00\", \"2004-02-28T00:00:00\", \"2004-03-28T00:00:00\", \"2004-04-28T00:00:00\", \"2004-05-28T00:00:00\", \"2004-06-28T00:00:00\", \"2004-07-28T00:00:00\", \"2004-08-28T00:00:00\", \"2004-09-28T00:00:00\", \"2004-10-28T00:00:00\", \"2004-11-28T00:00:00\", \"2004-12-28T00:00:00\", \"2005-01-28T00:00:00\", \"2005-02-28T00:00:00\", \"2005-03-28T00:00:00\", \"2005-04-28T00:00:00\", \"2005-05-28T00:00:00\", \"2005-06-28T00:00:00\", \"2005-07-28T00:00:00\", \"2005-08-28T00:00:00\", \"2005-09-28T00:00:00\", \"2005-10-28T00:00:00\", \"2005-11-28T00:00:00\", \"2005-12-28T00:00:00\", \"2006-01-28T00:00:00\", \"2006-02-28T00:00:00\", \"2006-03-28T00:00:00\", \"2006-04-28T00:00:00\", \"2006-05-28T00:00:00\", \"2006-06-28T00:00:00\", \"2006-07-28T00:00:00\", \"2006-08-28T00:00:00\", \"2006-09-28T00:00:00\", \"2006-10-28T00:00:00\", \"2006-11-28T00:00:00\", \"2006-12-28T00:00:00\", \"2007-01-28T00:00:00\", \"2007-02-28T00:00:00\", \"2007-03-28T00:00:00\", \"2007-04-28T00:00:00\", \"2007-05-28T00:00:00\", \"2007-06-28T00:00:00\", \"2007-07-28T00:00:00\", \"2007-08-28T00:00:00\", \"2007-09-28T00:00:00\", \"2007-10-28T00:00:00\", \"2007-11-28T00:00:00\", \"2007-12-28T00:00:00\", \"2008-01-28T00:00:00\", \"2008-02-28T00:00:00\", \"2008-03-28T00:00:00\", \"2008-04-28T00:00:00\", \"2008-05-28T00:00:00\", \"2008-06-28T00:00:00\", \"2008-07-28T00:00:00\", \"2008-08-28T00:00:00\", \"2008-09-28T00:00:00\", \"2008-10-28T00:00:00\", \"2008-11-28T00:00:00\", \"2008-12-28T00:00:00\", \"2009-01-28T00:00:00\", \"2009-02-28T00:00:00\", \"2009-03-28T00:00:00\", \"2009-04-28T00:00:00\", \"2009-05-28T00:00:00\", \"2009-06-28T00:00:00\", \"2009-07-28T00:00:00\", \"2009-08-28T00:00:00\", \"2009-09-28T00:00:00\", \"2009-10-28T00:00:00\", \"2009-11-28T00:00:00\", \"2009-12-28T00:00:00\", \"2010-01-28T00:00:00\", \"2010-02-28T00:00:00\", \"2010-03-28T00:00:00\", \"2010-04-28T00:00:00\", \"2010-05-28T00:00:00\", \"2010-06-28T00:00:00\", \"2010-07-28T00:00:00\", \"2010-08-28T00:00:00\", \"2010-09-28T00:00:00\", \"2010-10-28T00:00:00\", \"2010-11-28T00:00:00\", \"2010-12-28T00:00:00\", \"2011-01-28T00:00:00\", \"2011-02-28T00:00:00\", \"2011-03-28T00:00:00\", \"2011-04-28T00:00:00\", \"2011-05-28T00:00:00\", \"2011-06-28T00:00:00\", \"2011-07-28T00:00:00\", \"2011-08-28T00:00:00\", \"2011-09-28T00:00:00\", \"2011-10-28T00:00:00\", \"2011-11-28T00:00:00\", \"2011-12-28T00:00:00\", \"2012-01-28T00:00:00\", \"2012-02-28T00:00:00\", \"2012-03-28T00:00:00\", \"2012-04-28T00:00:00\", \"2012-05-28T00:00:00\", \"2012-06-28T00:00:00\", \"2012-07-28T00:00:00\", \"2012-08-28T00:00:00\", \"2012-09-28T00:00:00\", \"2012-10-28T00:00:00\", \"2012-11-28T00:00:00\", \"2012-12-28T00:00:00\", \"2013-01-28T00:00:00\", \"2013-02-28T00:00:00\", \"2013-03-28T00:00:00\", \"2013-04-28T00:00:00\", \"2013-05-28T00:00:00\", \"2013-06-28T00:00:00\", \"2013-07-28T00:00:00\", \"2013-08-28T00:00:00\", \"2013-09-28T00:00:00\", \"2013-10-28T00:00:00\", \"2013-11-28T00:00:00\", \"2013-12-28T00:00:00\", \"2014-01-28T00:00:00\", \"2014-02-28T00:00:00\", \"2014-03-28T00:00:00\", \"2014-04-28T00:00:00\", \"2014-05-28T00:00:00\", \"2014-06-28T00:00:00\", \"2014-07-28T00:00:00\", \"2014-08-28T00:00:00\", \"2014-09-28T00:00:00\", \"2014-10-28T00:00:00\", \"2014-11-28T00:00:00\", \"2014-12-28T00:00:00\", \"2015-01-28T00:00:00\", \"2015-02-28T00:00:00\", \"2015-03-28T00:00:00\", \"2015-04-28T00:00:00\", \"2015-05-28T00:00:00\", \"2015-06-28T00:00:00\", \"2015-07-28T00:00:00\", \"2015-08-28T00:00:00\", \"2015-09-28T00:00:00\", \"2015-10-28T00:00:00\", \"2015-11-28T00:00:00\", \"2015-12-28T00:00:00\", \"2016-01-28T00:00:00\", \"2016-02-28T00:00:00\", \"2016-03-28T00:00:00\", \"2016-04-28T00:00:00\", \"2016-05-28T00:00:00\", \"2016-06-28T00:00:00\", \"2016-07-28T00:00:00\", \"2016-08-28T00:00:00\", \"2016-09-28T00:00:00\", \"2016-10-28T00:00:00\", \"2016-11-28T00:00:00\", \"2016-12-28T00:00:00\", \"2017-01-28T00:00:00\", \"2017-02-28T00:00:00\", \"2017-03-28T00:00:00\", \"2017-04-28T00:00:00\", \"2017-05-28T00:00:00\", \"2017-06-28T00:00:00\", \"2017-07-28T00:00:00\", \"2017-08-28T00:00:00\", \"2017-09-28T00:00:00\", \"2017-10-28T00:00:00\", \"2017-11-28T00:00:00\", \"2017-12-28T00:00:00\", \"2018-01-28T00:00:00\", \"2018-02-28T00:00:00\", \"2018-03-28T00:00:00\", \"2018-04-28T00:00:00\", \"2018-05-28T00:00:00\", \"2018-06-28T00:00:00\", \"2018-07-28T00:00:00\", \"2018-08-28T00:00:00\", \"2018-09-28T00:00:00\", \"2018-10-28T00:00:00\", \"2018-11-28T00:00:00\", \"2018-12-28T00:00:00\", \"2019-01-28T00:00:00\", \"2019-02-28T00:00:00\", \"2019-03-28T00:00:00\", \"2019-04-28T00:00:00\", \"2019-05-28T00:00:00\", \"2019-06-28T00:00:00\", \"2019-07-28T00:00:00\", \"2019-08-28T00:00:00\", \"2019-09-28T00:00:00\", \"2019-10-28T00:00:00\", \"2019-11-28T00:00:00\", \"2019-12-28T00:00:00\", \"2019-12-31T00:00:00\", \"2020-01-31T00:00:00\", \"2020-02-29T00:00:00\", \"2020-03-31T00:00:00\", \"2020-04-30T00:00:00\", \"2020-05-31T00:00:00\", \"2020-06-30T00:00:00\", \"2020-07-31T00:00:00\", \"2020-08-31T00:00:00\", \"2020-09-30T00:00:00\", \"2020-10-31T00:00:00\", \"2020-11-30T00:00:00\", \"2020-12-31T00:00:00\"], \"y\": [748.6601447274248, 748.1371102567949, 1000.3535390720854, 1000.2718752292329, 999.9413011802482, 1999.2288096715374, 999.2137378154833, 998.9147651663557, 998.741973345591, 998.7175261695502, 998.9324077627614, 1499.0518317839037, 749.6477333787213, 750.0892756782943, 999.5647406729582, 999.3986768820309, 999.2314909567854, 1999.3383432052767, 998.968960046099, 999.013052913985, 998.9367734629691, 999.03014105815, 999.1634947286052, 1499.527229519904, 749.4766971137984, 749.5954090880399, 998.873773351684, 998.9387901751621, 998.9689394465958, 1999.3704296570068, 999.1535532353008, 999.2908357516861, 999.4405474317335, 999.5702372938647, 999.5577828581954, 1499.644081191767, 749.4470275310506, 749.3198977366798, 998.456268251242, 998.6259623261001, 998.9796192449542, 1999.0437744944288, 999.6440670982731, 999.8535767872272, 999.9037197340938, 999.7003306238712, 999.2503726090044, 1498.7890839180461, 748.6424079732067, 748.1757773085689, 1000.368463309283, 1000.2641269879997, 999.9468870986872, 1999.2713797627691, 999.0509554760621, 998.668189420936, 998.3956793696016, 998.4555185754315, 998.8248183600049, 1498.9809505790547, 749.6475569616233, 750.1057484577194, 999.6869815746336, 999.5973766806743, 999.3738103145797, 1999.50574327457, 999.0805342811002, 999.0593595267646, 998.9586595819195, 999.0163251162953, 999.1121684937461, 1499.3625581120157, 749.3539538568098, 749.5883346843822, 998.890417842605, 998.9095306372965, 998.9838298912831, 1999.4964708433313, 999.4058489933636, 999.6439135471567, 999.7126379147545, 999.7178027474472, 999.6028471394245, 1499.7192261684024, 749.4108577140041, 749.1867941763957, 998.0699072552997, 998.2632118953459, 998.7111241579632, 1998.8607599082486, 999.528646669513, 999.7435921239913, 999.8496477420686, 999.8260403445071, 999.5432210602205, 1498.9921128037802, 748.7186968358207, 748.2787085257247, 1000.3794061447404, 1000.1741017997456, 999.7946820808108, 1999.025963103221, 998.8697512801443, 998.479704953638, 998.3522164209545, 998.4329063318849, 998.7514865616456, 1499.0853936723984, 749.7248067727635, 750.2967950696543, 999.8583248482996, 999.6698549957041, 999.4757900419334, 1999.5555018132823, 999.1415585027105, 999.0123316092316, 998.9426081135072, 998.9998805278778, 999.1334214449805, 1499.3612385580232, 749.4085727194965, 749.6340430829142, 998.9624864732292, 998.9779997366365, 999.065888454171, 1999.5160695386735, 999.4122148214298, 999.5813530374901, 999.6595637554841, 999.699279974855, 999.5796579908971, 1499.5563152582845, 749.2136563578454, 748.983849743967, 997.9719747765429, 998.2853659170088, 998.7142216452772, 1998.9019775355255, 999.642218385829, 999.9416392591269, 1000.1076482073111, 999.9301593820006, 999.6247333531421, 1498.9186433449909, 748.6395357327909, 748.0708896141335, 1000.1928910783555, 1000.1215231599501, 999.8309209145266, 1999.1336984179836, 999.0329148832575, 998.7432413784915, 998.6416598368639, 998.7835588827696, 998.992209856246, 1499.208432448486, 749.8076600915792, 750.258851169127, 999.6885356264272, 999.4761958108022, 999.1900449062521, 1999.3512657465924, 998.9719364378168, 998.9538331250844, 998.9870242996539, 999.0120538037202, 999.0735945843375, 1499.4061134918393, 749.4968548274226, 749.6862526900192, 998.9951499660439, 998.9924602153562, 999.0532487150537, 1999.4552016048133, 999.2881034156306, 999.461734956264, 999.4475855162756, 999.5630134582851, 999.4101923019062, 1499.5035190943179, 749.2236942311006, 749.0496413746464, 998.1961320838373, 998.5177259777665, 998.9825960253652, 1999.1839904091735, 999.9211052192319, 1000.0804498975798, 1000.3127485082082, 1000.0945906546444, 999.8599805668198, 1499.1855504807838, 748.9252417328926, 748.4118310884687, 1000.4336807889907, 1000.1661740999555, 999.8566901200761, 1999.077311730381, 998.8637434505513, 998.4930603212409, 998.2357731757496, 998.3434707132039, 998.5768875670772, 1498.8789388634623, 749.5946606123048, 750.0999397401933, 999.6715462089431, 999.5626898053562, 999.3642649752733, 1999.4185959620163, 998.9571992919007, 998.9516047204085, 998.9218280322841, 998.8910881518912, 998.9615320285426, 1499.290516259262, 749.2592960916368, 749.4891795858815, 998.7602199563878, 998.8569993678045, 998.9720194409872, 1999.365028123454, 999.2957704777489, 999.4633167559971, 999.537851191986, 999.5056536862589, 999.4291728117236, 1499.4293416081805, 749.0773866067731, 748.933190222266, 997.9306160293273, 998.2246713259435, 998.7703357377261, 1998.9583676509203, 999.7838821055793, 1000.0274810242687, 1000.2076958561572, 1000.1256746992384, 999.883518100419, 1499.2796732210188, 1483.0358494478082, 756.9890635513012, 750.8680955218509, 1007.7691662563836, 1007.0142124336434, 1019.801630987163, 1981.3886951228055, 1009.0150405734012, 997.9918037361527, 994.5642865473521, 993.0113582863648, 998.0652311728372, 1472.1489929023535]}, {\"fill\": \"tonexty\", \"fillcolor\": \"rgba(0, 114, 178, 0.2)\", \"line\": {\"color\": \"#0072B2\", \"width\": 2}, \"mode\": \"lines\", \"name\": \"Predicted\", \"type\": \"scatter\", \"x\": [\"2000-01-28T00:00:00\", \"2000-02-28T00:00:00\", \"2000-03-28T00:00:00\", \"2000-04-28T00:00:00\", \"2000-05-28T00:00:00\", \"2000-06-28T00:00:00\", \"2000-07-28T00:00:00\", \"2000-08-28T00:00:00\", \"2000-09-28T00:00:00\", \"2000-10-28T00:00:00\", \"2000-11-28T00:00:00\", \"2000-12-28T00:00:00\", \"2001-01-28T00:00:00\", \"2001-02-28T00:00:00\", \"2001-03-28T00:00:00\", \"2001-04-28T00:00:00\", \"2001-05-28T00:00:00\", \"2001-06-28T00:00:00\", \"2001-07-28T00:00:00\", \"2001-08-28T00:00:00\", \"2001-09-28T00:00:00\", \"2001-10-28T00:00:00\", \"2001-11-28T00:00:00\", \"2001-12-28T00:00:00\", \"2002-01-28T00:00:00\", \"2002-02-28T00:00:00\", \"2002-03-28T00:00:00\", \"2002-04-28T00:00:00\", \"2002-05-28T00:00:00\", \"2002-06-28T00:00:00\", \"2002-07-28T00:00:00\", \"2002-08-28T00:00:00\", \"2002-09-28T00:00:00\", \"2002-10-28T00:00:00\", \"2002-11-28T00:00:00\", \"2002-12-28T00:00:00\", \"2003-01-28T00:00:00\", \"2003-02-28T00:00:00\", \"2003-03-28T00:00:00\", \"2003-04-28T00:00:00\", \"2003-05-28T00:00:00\", \"2003-06-28T00:00:00\", \"2003-07-28T00:00:00\", \"2003-08-28T00:00:00\", \"2003-09-28T00:00:00\", \"2003-10-28T00:00:00\", \"2003-11-28T00:00:00\", \"2003-12-28T00:00:00\", \"2004-01-28T00:00:00\", \"2004-02-28T00:00:00\", \"2004-03-28T00:00:00\", \"2004-04-28T00:00:00\", \"2004-05-28T00:00:00\", \"2004-06-28T00:00:00\", \"2004-07-28T00:00:00\", \"2004-08-28T00:00:00\", \"2004-09-28T00:00:00\", \"2004-10-28T00:00:00\", \"2004-11-28T00:00:00\", \"2004-12-28T00:00:00\", \"2005-01-28T00:00:00\", \"2005-02-28T00:00:00\", \"2005-03-28T00:00:00\", \"2005-04-28T00:00:00\", \"2005-05-28T00:00:00\", \"2005-06-28T00:00:00\", \"2005-07-28T00:00:00\", \"2005-08-28T00:00:00\", \"2005-09-28T00:00:00\", \"2005-10-28T00:00:00\", \"2005-11-28T00:00:00\", \"2005-12-28T00:00:00\", \"2006-01-28T00:00:00\", \"2006-02-28T00:00:00\", \"2006-03-28T00:00:00\", \"2006-04-28T00:00:00\", \"2006-05-28T00:00:00\", \"2006-06-28T00:00:00\", \"2006-07-28T00:00:00\", \"2006-08-28T00:00:00\", \"2006-09-28T00:00:00\", \"2006-10-28T00:00:00\", \"2006-11-28T00:00:00\", \"2006-12-28T00:00:00\", \"2007-01-28T00:00:00\", \"2007-02-28T00:00:00\", \"2007-03-28T00:00:00\", \"2007-04-28T00:00:00\", \"2007-05-28T00:00:00\", \"2007-06-28T00:00:00\", \"2007-07-28T00:00:00\", \"2007-08-28T00:00:00\", \"2007-09-28T00:00:00\", \"2007-10-28T00:00:00\", \"2007-11-28T00:00:00\", \"2007-12-28T00:00:00\", \"2008-01-28T00:00:00\", \"2008-02-28T00:00:00\", \"2008-03-28T00:00:00\", \"2008-04-28T00:00:00\", \"2008-05-28T00:00:00\", \"2008-06-28T00:00:00\", \"2008-07-28T00:00:00\", \"2008-08-28T00:00:00\", \"2008-09-28T00:00:00\", \"2008-10-28T00:00:00\", \"2008-11-28T00:00:00\", \"2008-12-28T00:00:00\", \"2009-01-28T00:00:00\", \"2009-02-28T00:00:00\", \"2009-03-28T00:00:00\", \"2009-04-28T00:00:00\", \"2009-05-28T00:00:00\", \"2009-06-28T00:00:00\", \"2009-07-28T00:00:00\", \"2009-08-28T00:00:00\", \"2009-09-28T00:00:00\", \"2009-10-28T00:00:00\", \"2009-11-28T00:00:00\", \"2009-12-28T00:00:00\", \"2010-01-28T00:00:00\", \"2010-02-28T00:00:00\", \"2010-03-28T00:00:00\", \"2010-04-28T00:00:00\", \"2010-05-28T00:00:00\", \"2010-06-28T00:00:00\", \"2010-07-28T00:00:00\", \"2010-08-28T00:00:00\", \"2010-09-28T00:00:00\", \"2010-10-28T00:00:00\", \"2010-11-28T00:00:00\", \"2010-12-28T00:00:00\", \"2011-01-28T00:00:00\", \"2011-02-28T00:00:00\", \"2011-03-28T00:00:00\", \"2011-04-28T00:00:00\", \"2011-05-28T00:00:00\", \"2011-06-28T00:00:00\", \"2011-07-28T00:00:00\", \"2011-08-28T00:00:00\", \"2011-09-28T00:00:00\", \"2011-10-28T00:00:00\", \"2011-11-28T00:00:00\", \"2011-12-28T00:00:00\", \"2012-01-28T00:00:00\", \"2012-02-28T00:00:00\", \"2012-03-28T00:00:00\", \"2012-04-28T00:00:00\", \"2012-05-28T00:00:00\", \"2012-06-28T00:00:00\", \"2012-07-28T00:00:00\", \"2012-08-28T00:00:00\", \"2012-09-28T00:00:00\", \"2012-10-28T00:00:00\", \"2012-11-28T00:00:00\", \"2012-12-28T00:00:00\", \"2013-01-28T00:00:00\", \"2013-02-28T00:00:00\", \"2013-03-28T00:00:00\", \"2013-04-28T00:00:00\", \"2013-05-28T00:00:00\", \"2013-06-28T00:00:00\", \"2013-07-28T00:00:00\", \"2013-08-28T00:00:00\", \"2013-09-28T00:00:00\", \"2013-10-28T00:00:00\", \"2013-11-28T00:00:00\", \"2013-12-28T00:00:00\", \"2014-01-28T00:00:00\", \"2014-02-28T00:00:00\", \"2014-03-28T00:00:00\", \"2014-04-28T00:00:00\", \"2014-05-28T00:00:00\", \"2014-06-28T00:00:00\", \"2014-07-28T00:00:00\", \"2014-08-28T00:00:00\", \"2014-09-28T00:00:00\", \"2014-10-28T00:00:00\", \"2014-11-28T00:00:00\", \"2014-12-28T00:00:00\", \"2015-01-28T00:00:00\", \"2015-02-28T00:00:00\", \"2015-03-28T00:00:00\", \"2015-04-28T00:00:00\", \"2015-05-28T00:00:00\", \"2015-06-28T00:00:00\", \"2015-07-28T00:00:00\", \"2015-08-28T00:00:00\", \"2015-09-28T00:00:00\", \"2015-10-28T00:00:00\", \"2015-11-28T00:00:00\", \"2015-12-28T00:00:00\", \"2016-01-28T00:00:00\", \"2016-02-28T00:00:00\", \"2016-03-28T00:00:00\", \"2016-04-28T00:00:00\", \"2016-05-28T00:00:00\", \"2016-06-28T00:00:00\", \"2016-07-28T00:00:00\", \"2016-08-28T00:00:00\", \"2016-09-28T00:00:00\", \"2016-10-28T00:00:00\", \"2016-11-28T00:00:00\", \"2016-12-28T00:00:00\", \"2017-01-28T00:00:00\", \"2017-02-28T00:00:00\", \"2017-03-28T00:00:00\", \"2017-04-28T00:00:00\", \"2017-05-28T00:00:00\", \"2017-06-28T00:00:00\", \"2017-07-28T00:00:00\", \"2017-08-28T00:00:00\", \"2017-09-28T00:00:00\", \"2017-10-28T00:00:00\", \"2017-11-28T00:00:00\", \"2017-12-28T00:00:00\", \"2018-01-28T00:00:00\", \"2018-02-28T00:00:00\", \"2018-03-28T00:00:00\", \"2018-04-28T00:00:00\", \"2018-05-28T00:00:00\", \"2018-06-28T00:00:00\", \"2018-07-28T00:00:00\", \"2018-08-28T00:00:00\", \"2018-09-28T00:00:00\", \"2018-10-28T00:00:00\", \"2018-11-28T00:00:00\", \"2018-12-28T00:00:00\", \"2019-01-28T00:00:00\", \"2019-02-28T00:00:00\", \"2019-03-28T00:00:00\", \"2019-04-28T00:00:00\", \"2019-05-28T00:00:00\", \"2019-06-28T00:00:00\", \"2019-07-28T00:00:00\", \"2019-08-28T00:00:00\", \"2019-09-28T00:00:00\", \"2019-10-28T00:00:00\", \"2019-11-28T00:00:00\", \"2019-12-28T00:00:00\", \"2019-12-31T00:00:00\", \"2020-01-31T00:00:00\", \"2020-02-29T00:00:00\", \"2020-03-31T00:00:00\", \"2020-04-30T00:00:00\", \"2020-05-31T00:00:00\", \"2020-06-30T00:00:00\", \"2020-07-31T00:00:00\", \"2020-08-31T00:00:00\", \"2020-09-30T00:00:00\", \"2020-10-31T00:00:00\", \"2020-11-30T00:00:00\", \"2020-12-31T00:00:00\"], \"y\": [749.3543207862067, 748.9064387452681, 1001.0770847837748, 1000.9513071395855, 1000.6989722518733, 1999.994355838436, 999.9134176350125, 999.617217918718, 999.4939454884792, 999.4514483103443, 999.6749348420981, 1499.8557785453033, 750.4340672376118, 750.8599707950789, 1000.3103986792561, 1000.0932887339234, 999.9527958518149, 2000.104579442711, 999.7040875689594, 999.7020113639305, 999.6973220490491, 999.7756521088312, 999.9158418895539, 1500.278467230605, 750.2063605617765, 750.3609736028362, 999.6532086876603, 999.6689030863677, 999.7074457503204, 2000.1077055193118, 999.9285265257676, 1000.0595510428832, 1000.2334104093203, 1000.3076029687395, 1000.2893924900505, 1500.39018218182, 750.1498516145864, 750.0866300221669, 999.1777670856522, 999.3471312958675, 999.6783636330456, 1999.7792742928102, 1000.420641712138, 1000.5714889102799, 1000.6183886357135, 1000.4075017652691, 999.9925749162404, 1499.4851076606012, 749.3566245587554, 748.917916579067, 1001.0971448038721, 1000.9805412209391, 1000.7370844569945, 2000.0416421047794, 999.8322170340375, 999.4032475548426, 999.1472053617181, 999.1734943441527, 999.4680599084746, 1499.7176897722175, 750.3670574970943, 750.8640400871316, 1000.4173912238936, 1000.3142320225033, 1000.136101410793, 2000.248992681114, 999.8108630777594, 999.7698945521599, 999.7263129166979, 999.7670052469086, 999.8434091456928, 1500.144306213891, 750.1085624714311, 750.2995384388463, 999.6246174571596, 999.67667478228, 999.750407374953, 2000.2307301155577, 1000.1290314171497, 1000.3401189058577, 1000.4544609214598, 1000.4710560445865, 1000.3933282150585, 1500.4365204705161, 750.136672552464, 749.8940306286879, 998.8231106187028, 999.0477444639015, 999.4324635446098, 1999.5886438393757, 1000.2834980022378, 1000.4896148353691, 1000.5917841957751, 1000.5491009732234, 1000.3079845603744, 1499.7215226516516, 749.5114117416175, 748.9910759537347, 1001.0939426805681, 1000.8957112894094, 1000.572560945493, 1999.7947685606396, 999.6430149010013, 999.2736392132599, 999.0771908116133, 999.1611512051262, 999.51531056092, 1499.8226118357757, 750.4906469179895, 751.0062968653575, 1000.5377860049374, 1000.4104224495153, 1000.2088682694027, 2000.2975551857055, 999.8360020139555, 999.7708291343303, 999.7146869211388, 999.743223853559, 999.8319607359832, 1500.1447929496562, 750.1213821908243, 750.3246911418994, 999.6609096293049, 999.7265279612853, 999.8133841090249, 2000.2635678112583, 1000.132702301519, 1000.3136507518615, 1000.3978537291138, 1000.3852820408893, 1000.2774151729978, 1500.2624441822604, 749.9024942431085, 749.7196532787435, 998.7027470385788, 998.9871818431551, 999.4297728200753, 1999.6457540742178, 1000.398480133283, 1000.6476387875618, 1000.7928499691227, 1000.677103217526, 1000.3604878245887, 1499.700962386817, 749.4153524967355, 748.8195177288355, 1000.9841035532687, 1000.8518477492481, 1000.5932436745676, 1999.8821491012516, 999.7949417108504, 999.4922638347108, 999.3625132446244, 999.5110199073936, 999.7450885068853, 1499.9361729208167, 750.5250436808922, 750.9615293060854, 1000.4215151869435, 1000.2149873093708, 999.9368224948964, 2000.07780840336, 999.6668671594961, 999.653993272019, 999.6385062746847, 999.7063869643929, 999.8357790626721, 1500.1879550336107, 750.2051994906441, 750.3738424371837, 999.6787496946947, 999.7084739989383, 999.7605939907462, 2000.1748836652296, 1000.009281999605, 1000.1543364221703, 1000.2026453716586, 1000.2374108863829, 1000.1784591281861, 1500.2398217752502, 749.9587499285218, 749.8547870565815, 998.9091255450302, 999.2724384420109, 999.6946091657975, 1999.8894894917091, 1000.6217952976367, 1000.8666121619091, 1001.0074815534795, 1000.8875330696326, 1000.5665758867137, 1499.9028487166934, 749.6613969558894, 749.1097203172379, 1001.1832681836961, 1000.953695941764, 1000.6009146691924, 1999.7925036580295, 999.6111190697172, 999.2111247557112, 998.9840577277512, 999.0383871926069, 999.3619279220906, 1499.639598268275, 750.3179411583478, 750.8438989135417, 1000.3846983311628, 1000.2676425836165, 1000.0760637014093, 2000.1750584255437, 999.7234805516816, 999.6686154799127, 999.6111372982555, 999.6383813579653, 999.7257822719337, 1500.0373216128942, 750.0125748855883, 750.2145478682216, 999.5495596744199, 999.6126140147146, 999.6969888801323, 2000.1446085906891, 1000.0112617986651, 1000.1896462573098, 1000.2712852428505, 1000.2562322723386, 1000.1458014127662, 1500.1573455746109, 749.8247946264692, 749.6693526531346, 998.6771938887124, 998.9890276843121, 999.4581338138371, 1999.7015140590047, 1000.480755270658, 1000.7740720542187, 1000.963441365057, 1000.8904282869121, 1000.6179710232987, 1500.001179258995, 1483.7546704492693, 757.7772218115238, 751.6558790154229, 1008.5477029665886, 1007.7818290667793, 1020.5740792331057, 1982.2485878466116, 1009.9172613213698, 998.9445647169038, 995.5534537241846, 994.1103691779304, 999.2493139090774, 1473.4513046143043]}, {\"fill\": \"tonexty\", \"fillcolor\": \"rgba(0, 114, 178, 0.2)\", \"hoverinfo\": \"skip\", \"line\": {\"width\": 0}, \"mode\": \"lines\", \"type\": \"scatter\", \"x\": [\"2000-01-28T00:00:00\", \"2000-02-28T00:00:00\", \"2000-03-28T00:00:00\", \"2000-04-28T00:00:00\", \"2000-05-28T00:00:00\", \"2000-06-28T00:00:00\", \"2000-07-28T00:00:00\", \"2000-08-28T00:00:00\", \"2000-09-28T00:00:00\", \"2000-10-28T00:00:00\", \"2000-11-28T00:00:00\", \"2000-12-28T00:00:00\", \"2001-01-28T00:00:00\", \"2001-02-28T00:00:00\", \"2001-03-28T00:00:00\", \"2001-04-28T00:00:00\", \"2001-05-28T00:00:00\", \"2001-06-28T00:00:00\", \"2001-07-28T00:00:00\", \"2001-08-28T00:00:00\", \"2001-09-28T00:00:00\", \"2001-10-28T00:00:00\", \"2001-11-28T00:00:00\", \"2001-12-28T00:00:00\", \"2002-01-28T00:00:00\", \"2002-02-28T00:00:00\", \"2002-03-28T00:00:00\", \"2002-04-28T00:00:00\", \"2002-05-28T00:00:00\", \"2002-06-28T00:00:00\", \"2002-07-28T00:00:00\", \"2002-08-28T00:00:00\", \"2002-09-28T00:00:00\", \"2002-10-28T00:00:00\", \"2002-11-28T00:00:00\", \"2002-12-28T00:00:00\", \"2003-01-28T00:00:00\", \"2003-02-28T00:00:00\", \"2003-03-28T00:00:00\", \"2003-04-28T00:00:00\", \"2003-05-28T00:00:00\", \"2003-06-28T00:00:00\", \"2003-07-28T00:00:00\", \"2003-08-28T00:00:00\", \"2003-09-28T00:00:00\", \"2003-10-28T00:00:00\", \"2003-11-28T00:00:00\", \"2003-12-28T00:00:00\", \"2004-01-28T00:00:00\", \"2004-02-28T00:00:00\", \"2004-03-28T00:00:00\", \"2004-04-28T00:00:00\", \"2004-05-28T00:00:00\", \"2004-06-28T00:00:00\", \"2004-07-28T00:00:00\", \"2004-08-28T00:00:00\", \"2004-09-28T00:00:00\", \"2004-10-28T00:00:00\", \"2004-11-28T00:00:00\", \"2004-12-28T00:00:00\", \"2005-01-28T00:00:00\", \"2005-02-28T00:00:00\", \"2005-03-28T00:00:00\", \"2005-04-28T00:00:00\", \"2005-05-28T00:00:00\", \"2005-06-28T00:00:00\", \"2005-07-28T00:00:00\", \"2005-08-28T00:00:00\", \"2005-09-28T00:00:00\", \"2005-10-28T00:00:00\", \"2005-11-28T00:00:00\", \"2005-12-28T00:00:00\", \"2006-01-28T00:00:00\", \"2006-02-28T00:00:00\", \"2006-03-28T00:00:00\", \"2006-04-28T00:00:00\", \"2006-05-28T00:00:00\", \"2006-06-28T00:00:00\", \"2006-07-28T00:00:00\", \"2006-08-28T00:00:00\", \"2006-09-28T00:00:00\", \"2006-10-28T00:00:00\", \"2006-11-28T00:00:00\", \"2006-12-28T00:00:00\", \"2007-01-28T00:00:00\", \"2007-02-28T00:00:00\", \"2007-03-28T00:00:00\", \"2007-04-28T00:00:00\", \"2007-05-28T00:00:00\", \"2007-06-28T00:00:00\", \"2007-07-28T00:00:00\", \"2007-08-28T00:00:00\", \"2007-09-28T00:00:00\", \"2007-10-28T00:00:00\", \"2007-11-28T00:00:00\", \"2007-12-28T00:00:00\", \"2008-01-28T00:00:00\", \"2008-02-28T00:00:00\", \"2008-03-28T00:00:00\", \"2008-04-28T00:00:00\", \"2008-05-28T00:00:00\", \"2008-06-28T00:00:00\", \"2008-07-28T00:00:00\", \"2008-08-28T00:00:00\", \"2008-09-28T00:00:00\", \"2008-10-28T00:00:00\", \"2008-11-28T00:00:00\", \"2008-12-28T00:00:00\", \"2009-01-28T00:00:00\", \"2009-02-28T00:00:00\", \"2009-03-28T00:00:00\", \"2009-04-28T00:00:00\", \"2009-05-28T00:00:00\", \"2009-06-28T00:00:00\", \"2009-07-28T00:00:00\", \"2009-08-28T00:00:00\", \"2009-09-28T00:00:00\", \"2009-10-28T00:00:00\", \"2009-11-28T00:00:00\", \"2009-12-28T00:00:00\", \"2010-01-28T00:00:00\", \"2010-02-28T00:00:00\", \"2010-03-28T00:00:00\", \"2010-04-28T00:00:00\", \"2010-05-28T00:00:00\", \"2010-06-28T00:00:00\", \"2010-07-28T00:00:00\", \"2010-08-28T00:00:00\", \"2010-09-28T00:00:00\", \"2010-10-28T00:00:00\", \"2010-11-28T00:00:00\", \"2010-12-28T00:00:00\", \"2011-01-28T00:00:00\", \"2011-02-28T00:00:00\", \"2011-03-28T00:00:00\", \"2011-04-28T00:00:00\", \"2011-05-28T00:00:00\", \"2011-06-28T00:00:00\", \"2011-07-28T00:00:00\", \"2011-08-28T00:00:00\", \"2011-09-28T00:00:00\", \"2011-10-28T00:00:00\", \"2011-11-28T00:00:00\", \"2011-12-28T00:00:00\", \"2012-01-28T00:00:00\", \"2012-02-28T00:00:00\", \"2012-03-28T00:00:00\", \"2012-04-28T00:00:00\", \"2012-05-28T00:00:00\", \"2012-06-28T00:00:00\", \"2012-07-28T00:00:00\", \"2012-08-28T00:00:00\", \"2012-09-28T00:00:00\", \"2012-10-28T00:00:00\", \"2012-11-28T00:00:00\", \"2012-12-28T00:00:00\", \"2013-01-28T00:00:00\", \"2013-02-28T00:00:00\", \"2013-03-28T00:00:00\", \"2013-04-28T00:00:00\", \"2013-05-28T00:00:00\", \"2013-06-28T00:00:00\", \"2013-07-28T00:00:00\", \"2013-08-28T00:00:00\", \"2013-09-28T00:00:00\", \"2013-10-28T00:00:00\", \"2013-11-28T00:00:00\", \"2013-12-28T00:00:00\", \"2014-01-28T00:00:00\", \"2014-02-28T00:00:00\", \"2014-03-28T00:00:00\", \"2014-04-28T00:00:00\", \"2014-05-28T00:00:00\", \"2014-06-28T00:00:00\", \"2014-07-28T00:00:00\", \"2014-08-28T00:00:00\", \"2014-09-28T00:00:00\", \"2014-10-28T00:00:00\", \"2014-11-28T00:00:00\", \"2014-12-28T00:00:00\", \"2015-01-28T00:00:00\", \"2015-02-28T00:00:00\", \"2015-03-28T00:00:00\", \"2015-04-28T00:00:00\", \"2015-05-28T00:00:00\", \"2015-06-28T00:00:00\", \"2015-07-28T00:00:00\", \"2015-08-28T00:00:00\", \"2015-09-28T00:00:00\", \"2015-10-28T00:00:00\", \"2015-11-28T00:00:00\", \"2015-12-28T00:00:00\", \"2016-01-28T00:00:00\", \"2016-02-28T00:00:00\", \"2016-03-28T00:00:00\", \"2016-04-28T00:00:00\", \"2016-05-28T00:00:00\", \"2016-06-28T00:00:00\", \"2016-07-28T00:00:00\", \"2016-08-28T00:00:00\", \"2016-09-28T00:00:00\", \"2016-10-28T00:00:00\", \"2016-11-28T00:00:00\", \"2016-12-28T00:00:00\", \"2017-01-28T00:00:00\", \"2017-02-28T00:00:00\", \"2017-03-28T00:00:00\", \"2017-04-28T00:00:00\", \"2017-05-28T00:00:00\", \"2017-06-28T00:00:00\", \"2017-07-28T00:00:00\", \"2017-08-28T00:00:00\", \"2017-09-28T00:00:00\", \"2017-10-28T00:00:00\", \"2017-11-28T00:00:00\", \"2017-12-28T00:00:00\", \"2018-01-28T00:00:00\", \"2018-02-28T00:00:00\", \"2018-03-28T00:00:00\", \"2018-04-28T00:00:00\", \"2018-05-28T00:00:00\", \"2018-06-28T00:00:00\", \"2018-07-28T00:00:00\", \"2018-08-28T00:00:00\", \"2018-09-28T00:00:00\", \"2018-10-28T00:00:00\", \"2018-11-28T00:00:00\", \"2018-12-28T00:00:00\", \"2019-01-28T00:00:00\", \"2019-02-28T00:00:00\", \"2019-03-28T00:00:00\", \"2019-04-28T00:00:00\", \"2019-05-28T00:00:00\", \"2019-06-28T00:00:00\", \"2019-07-28T00:00:00\", \"2019-08-28T00:00:00\", \"2019-09-28T00:00:00\", \"2019-10-28T00:00:00\", \"2019-11-28T00:00:00\", \"2019-12-28T00:00:00\", \"2019-12-31T00:00:00\", \"2020-01-31T00:00:00\", \"2020-02-29T00:00:00\", \"2020-03-31T00:00:00\", \"2020-04-30T00:00:00\", \"2020-05-31T00:00:00\", \"2020-06-30T00:00:00\", \"2020-07-31T00:00:00\", \"2020-08-31T00:00:00\", \"2020-09-30T00:00:00\", \"2020-10-31T00:00:00\", \"2020-11-30T00:00:00\", \"2020-12-31T00:00:00\"], \"y\": [750.1699454221663, 749.7013562170484, 1001.772606285165, 1001.7467569326112, 1001.4579877711343, 2000.6728005680402, 1000.6301378031303, 1000.3481255192578, 1000.2437665686832, 1000.2101534443141, 1000.3726067488687, 1500.5881343003334, 751.1604771060257, 751.6203311671482, 1001.0813142725381, 1000.8151599800067, 1000.651987541808, 2000.8185477725528, 1000.4642371981416, 1000.4325078710226, 1000.427215458589, 1000.5457384592913, 1000.6236458880115, 1500.9865312338468, 750.9922366316654, 751.1137347416064, 1000.3575654520938, 1000.4778347812261, 1000.423863625373, 2000.8711726233494, 1000.6942491254595, 1000.7772550853044, 1000.9803133969223, 1001.02901080588, 1000.9977910958883, 1501.1026076653152, 750.9168742619851, 750.8142725512976, 999.924185458529, 1000.099988178108, 1000.4319105855609, 2000.5124406208297, 1001.1754880601409, 1001.2868544571941, 1001.3603525593417, 1001.1491883898595, 1000.71145952206, 1500.1905053527253, 750.1514455219268, 749.6815035504654, 1001.796853038742, 1001.6756850594137, 1001.4411856270291, 2000.740898323263, 1000.6006778315251, 1000.1151890004435, 999.9094058568041, 999.9045425652233, 1000.197459117476, 1500.4244958541253, 751.0212108600632, 751.6675100762968, 1001.144955931544, 1001.0161114199075, 1000.8322511705428, 2001.0129308970936, 1000.5352308715848, 1000.4795698842134, 1000.4589586103251, 1000.5219233366045, 1000.5771423754305, 1500.8499989011416, 750.8252562694074, 751.069572217133, 1000.3755593327704, 1000.3855044426537, 1000.5083157771192, 2001.0010049525283, 1000.8591285102136, 1001.1062250118568, 1001.1949259502403, 1001.215597375337, 1001.1609433238407, 1501.194564289618, 750.9203436140214, 750.6662038563252, 999.59910067278, 999.7879033708532, 1000.1322942129302, 2000.3475948957605, 1001.0399164580316, 1001.2412642384978, 1001.2901526474352, 1001.2945487235919, 1001.0434508395476, 1500.51427980148, 750.3116673702211, 749.7360589405678, 1001.8465569172233, 1001.6838228421326, 1001.3087239356731, 2000.5287302957104, 1000.3599796879535, 999.9935150290207, 999.8140975587419, 999.9790957574842, 1000.2303861377538, 1500.5092268077378, 751.2188359409218, 751.762858315354, 1001.3235438378645, 1001.1620472590295, 1000.9020097590997, 2001.028231869508, 1000.5564159041368, 1000.503647912919, 1000.4623489522086, 1000.4512385210887, 1000.5901898098, 1500.86789080665, 750.9224634835622, 751.0387873878366, 1000.3845460346643, 1000.5093981655408, 1000.5143673446311, 2000.9628645215898, 1000.9425195092151, 1001.0518700140377, 1001.1802962456652, 1001.0862988007727, 1001.0509339773166, 1501.0233713305836, 750.63200774819, 750.4535191354319, 999.53537878189, 999.7283261029004, 1000.2085280013947, 2000.3792214793073, 1001.1535877960139, 1001.3974705907323, 1001.5292727366761, 1001.3890396545385, 1001.1204713308139, 1500.443753493461, 750.1448244205866, 749.5770343237538, 1001.7355627979422, 1001.5623401305736, 1001.3356419854864, 2000.6185722614598, 1000.5143295641304, 1000.2116977609501, 1000.0841691136724, 1000.3057902977329, 1000.4748836261251, 1500.6619163512912, 751.2892966932425, 751.6859040084539, 1001.1336363624973, 1000.9715558129686, 1000.70184225537, 2000.833233664796, 1000.4186973021451, 1000.410617499657, 1000.3539284390989, 1000.4191366903672, 1000.6207640318337, 1500.931416251137, 750.9567463789394, 751.1033620122016, 1000.390926677664, 1000.4682357575625, 1000.4894455316169, 2000.9627602653252, 1000.7398236107717, 1000.9384156772118, 1000.9400407725773, 1000.9172454474424, 1000.9290698174149, 1500.945951527082, 750.6997727732714, 750.5771144208018, 999.7219185355567, 1000.042176361741, 1000.4412263590781, 2000.6688713518795, 1001.3658323604617, 1001.574036243282, 1001.7240711636108, 1001.5858833483206, 1001.2987757703199, 1500.6439604769007, 750.3974317788739, 749.8131055918142, 1001.9178401994448, 1001.6558831074592, 1001.312027838082, 2000.5417743723046, 1000.3384855112711, 999.9742959665804, 999.7352136838663, 999.7516681206863, 1000.0691031904784, 1500.3535260437588, 751.086374369757, 751.6031243525263, 1001.0528933554718, 1001.0590637798621, 1000.7801390042753, 2000.9369402104344, 1000.4646309416214, 1000.44459012365, 1000.3797710910386, 1000.3809207224477, 1000.4777760077257, 1500.8548608589917, 750.8059846216513, 750.93001102345, 1000.2334867380804, 1000.3928695762886, 1000.373073101415, 2000.8679213671837, 1000.7933918646198, 1000.9489678401769, 1001.0266102622746, 1001.0040981462718, 1000.882075290567, 1500.8963917499107, 750.5255557118888, 750.4490441402054, 999.383634429656, 999.7179207813722, 1000.1830989886666, 2000.478541621254, 1001.2492388962327, 1001.4808558234542, 1001.7146303830473, 1001.6537926706592, 1001.3751161253603, 1500.7512527866152, 1484.513639601062, 758.5006457617943, 752.4179725657237, 1009.3338434693487, 1008.5876074871421, 1021.4233080452398, 1983.1043779535823, 1010.8356266520407, 999.9071330128625, 996.5478428380701, 995.1524567276633, 1000.3905034812508, 1474.68767397264]}],\n",
              "                        {\"height\": 600, \"showlegend\": false, \"template\": {\"data\": {\"bar\": [{\"error_x\": {\"color\": \"#2a3f5f\"}, \"error_y\": {\"color\": \"#2a3f5f\"}, \"marker\": {\"line\": {\"color\": \"#E5ECF6\", \"width\": 0.5}}, \"type\": \"bar\"}], \"barpolar\": [{\"marker\": {\"line\": {\"color\": \"#E5ECF6\", \"width\": 0.5}}, \"type\": \"barpolar\"}], \"carpet\": [{\"aaxis\": {\"endlinecolor\": \"#2a3f5f\", \"gridcolor\": \"white\", \"linecolor\": \"white\", \"minorgridcolor\": \"white\", \"startlinecolor\": \"#2a3f5f\"}, \"baxis\": {\"endlinecolor\": \"#2a3f5f\", \"gridcolor\": \"white\", \"linecolor\": \"white\", \"minorgridcolor\": \"white\", \"startlinecolor\": \"#2a3f5f\"}, \"type\": \"carpet\"}], \"choropleth\": [{\"colorbar\": {\"outlinewidth\": 0, \"ticks\": \"\"}, \"type\": \"choropleth\"}], \"contour\": [{\"colorbar\": {\"outlinewidth\": 0, \"ticks\": \"\"}, \"colorscale\": [[0.0, \"#0d0887\"], [0.1111111111111111, \"#46039f\"], [0.2222222222222222, \"#7201a8\"], [0.3333333333333333, \"#9c179e\"], [0.4444444444444444, \"#bd3786\"], [0.5555555555555556, \"#d8576b\"], [0.6666666666666666, \"#ed7953\"], [0.7777777777777778, \"#fb9f3a\"], [0.8888888888888888, \"#fdca26\"], [1.0, \"#f0f921\"]], \"type\": \"contour\"}], \"contourcarpet\": [{\"colorbar\": {\"outlinewidth\": 0, \"ticks\": \"\"}, \"type\": \"contourcarpet\"}], \"heatmap\": [{\"colorbar\": {\"outlinewidth\": 0, \"ticks\": \"\"}, \"colorscale\": [[0.0, \"#0d0887\"], [0.1111111111111111, \"#46039f\"], [0.2222222222222222, \"#7201a8\"], [0.3333333333333333, \"#9c179e\"], [0.4444444444444444, \"#bd3786\"], [0.5555555555555556, \"#d8576b\"], [0.6666666666666666, \"#ed7953\"], [0.7777777777777778, \"#fb9f3a\"], [0.8888888888888888, \"#fdca26\"], [1.0, \"#f0f921\"]], \"type\": \"heatmap\"}], \"heatmapgl\": [{\"colorbar\": {\"outlinewidth\": 0, \"ticks\": \"\"}, \"colorscale\": [[0.0, \"#0d0887\"], [0.1111111111111111, \"#46039f\"], [0.2222222222222222, \"#7201a8\"], [0.3333333333333333, \"#9c179e\"], [0.4444444444444444, \"#bd3786\"], [0.5555555555555556, \"#d8576b\"], [0.6666666666666666, \"#ed7953\"], [0.7777777777777778, \"#fb9f3a\"], [0.8888888888888888, \"#fdca26\"], [1.0, \"#f0f921\"]], \"type\": \"heatmapgl\"}], \"histogram\": [{\"marker\": {\"colorbar\": {\"outlinewidth\": 0, \"ticks\": \"\"}}, \"type\": \"histogram\"}], \"histogram2d\": [{\"colorbar\": {\"outlinewidth\": 0, \"ticks\": \"\"}, \"colorscale\": [[0.0, \"#0d0887\"], [0.1111111111111111, \"#46039f\"], [0.2222222222222222, \"#7201a8\"], [0.3333333333333333, \"#9c179e\"], [0.4444444444444444, \"#bd3786\"], [0.5555555555555556, \"#d8576b\"], [0.6666666666666666, \"#ed7953\"], [0.7777777777777778, \"#fb9f3a\"], [0.8888888888888888, \"#fdca26\"], [1.0, \"#f0f921\"]], \"type\": \"histogram2d\"}], \"histogram2dcontour\": [{\"colorbar\": {\"outlinewidth\": 0, \"ticks\": \"\"}, \"colorscale\": [[0.0, \"#0d0887\"], [0.1111111111111111, \"#46039f\"], [0.2222222222222222, \"#7201a8\"], [0.3333333333333333, \"#9c179e\"], [0.4444444444444444, \"#bd3786\"], [0.5555555555555556, \"#d8576b\"], [0.6666666666666666, \"#ed7953\"], [0.7777777777777778, \"#fb9f3a\"], [0.8888888888888888, \"#fdca26\"], [1.0, \"#f0f921\"]], \"type\": \"histogram2dcontour\"}], \"mesh3d\": [{\"colorbar\": {\"outlinewidth\": 0, \"ticks\": \"\"}, \"type\": \"mesh3d\"}], \"parcoords\": [{\"line\": {\"colorbar\": {\"outlinewidth\": 0, \"ticks\": \"\"}}, \"type\": \"parcoords\"}], \"pie\": [{\"automargin\": true, \"type\": \"pie\"}], \"scatter\": [{\"marker\": {\"colorbar\": {\"outlinewidth\": 0, \"ticks\": \"\"}}, \"type\": \"scatter\"}], \"scatter3d\": [{\"line\": {\"colorbar\": {\"outlinewidth\": 0, \"ticks\": \"\"}}, \"marker\": {\"colorbar\": {\"outlinewidth\": 0, \"ticks\": \"\"}}, \"type\": \"scatter3d\"}], \"scattercarpet\": [{\"marker\": {\"colorbar\": {\"outlinewidth\": 0, \"ticks\": \"\"}}, \"type\": \"scattercarpet\"}], \"scattergeo\": [{\"marker\": {\"colorbar\": {\"outlinewidth\": 0, \"ticks\": \"\"}}, \"type\": \"scattergeo\"}], \"scattergl\": [{\"marker\": {\"colorbar\": {\"outlinewidth\": 0, \"ticks\": \"\"}}, \"type\": \"scattergl\"}], \"scattermapbox\": [{\"marker\": {\"colorbar\": {\"outlinewidth\": 0, \"ticks\": \"\"}}, \"type\": \"scattermapbox\"}], \"scatterpolar\": [{\"marker\": {\"colorbar\": {\"outlinewidth\": 0, \"ticks\": \"\"}}, \"type\": \"scatterpolar\"}], \"scatterpolargl\": [{\"marker\": {\"colorbar\": {\"outlinewidth\": 0, \"ticks\": \"\"}}, \"type\": \"scatterpolargl\"}], \"scatterternary\": [{\"marker\": {\"colorbar\": {\"outlinewidth\": 0, \"ticks\": \"\"}}, \"type\": \"scatterternary\"}], \"surface\": [{\"colorbar\": {\"outlinewidth\": 0, \"ticks\": \"\"}, \"colorscale\": [[0.0, \"#0d0887\"], [0.1111111111111111, \"#46039f\"], [0.2222222222222222, \"#7201a8\"], [0.3333333333333333, \"#9c179e\"], [0.4444444444444444, \"#bd3786\"], [0.5555555555555556, \"#d8576b\"], [0.6666666666666666, \"#ed7953\"], [0.7777777777777778, \"#fb9f3a\"], [0.8888888888888888, \"#fdca26\"], [1.0, \"#f0f921\"]], \"type\": \"surface\"}], \"table\": [{\"cells\": {\"fill\": {\"color\": \"#EBF0F8\"}, \"line\": {\"color\": \"white\"}}, \"header\": {\"fill\": {\"color\": \"#C8D4E3\"}, \"line\": {\"color\": \"white\"}}, \"type\": \"table\"}]}, \"layout\": {\"annotationdefaults\": {\"arrowcolor\": \"#2a3f5f\", \"arrowhead\": 0, \"arrowwidth\": 1}, \"coloraxis\": {\"colorbar\": {\"outlinewidth\": 0, \"ticks\": \"\"}}, \"colorscale\": {\"diverging\": [[0, \"#8e0152\"], [0.1, \"#c51b7d\"], [0.2, \"#de77ae\"], [0.3, \"#f1b6da\"], [0.4, \"#fde0ef\"], [0.5, \"#f7f7f7\"], [0.6, \"#e6f5d0\"], [0.7, \"#b8e186\"], [0.8, \"#7fbc41\"], [0.9, \"#4d9221\"], [1, \"#276419\"]], \"sequential\": [[0.0, \"#0d0887\"], [0.1111111111111111, \"#46039f\"], [0.2222222222222222, \"#7201a8\"], [0.3333333333333333, \"#9c179e\"], [0.4444444444444444, \"#bd3786\"], [0.5555555555555556, \"#d8576b\"], [0.6666666666666666, \"#ed7953\"], [0.7777777777777778, \"#fb9f3a\"], [0.8888888888888888, \"#fdca26\"], [1.0, \"#f0f921\"]], \"sequentialminus\": [[0.0, \"#0d0887\"], [0.1111111111111111, \"#46039f\"], [0.2222222222222222, \"#7201a8\"], [0.3333333333333333, \"#9c179e\"], [0.4444444444444444, \"#bd3786\"], [0.5555555555555556, \"#d8576b\"], [0.6666666666666666, \"#ed7953\"], [0.7777777777777778, \"#fb9f3a\"], [0.8888888888888888, \"#fdca26\"], [1.0, \"#f0f921\"]]}, \"colorway\": [\"#636efa\", \"#EF553B\", \"#00cc96\", \"#ab63fa\", \"#FFA15A\", \"#19d3f3\", \"#FF6692\", \"#B6E880\", \"#FF97FF\", \"#FECB52\"], \"font\": {\"color\": \"#2a3f5f\"}, \"geo\": {\"bgcolor\": \"white\", \"lakecolor\": \"white\", \"landcolor\": \"#E5ECF6\", \"showlakes\": true, \"showland\": true, \"subunitcolor\": \"white\"}, \"hoverlabel\": {\"align\": \"left\"}, \"hovermode\": \"closest\", \"mapbox\": {\"style\": \"light\"}, \"paper_bgcolor\": \"white\", \"plot_bgcolor\": \"#E5ECF6\", \"polar\": {\"angularaxis\": {\"gridcolor\": \"white\", \"linecolor\": \"white\", \"ticks\": \"\"}, \"bgcolor\": \"#E5ECF6\", \"radialaxis\": {\"gridcolor\": \"white\", \"linecolor\": \"white\", \"ticks\": \"\"}}, \"scene\": {\"xaxis\": {\"backgroundcolor\": \"#E5ECF6\", \"gridcolor\": \"white\", \"gridwidth\": 2, \"linecolor\": \"white\", \"showbackground\": true, \"ticks\": \"\", \"zerolinecolor\": \"white\"}, \"yaxis\": {\"backgroundcolor\": \"#E5ECF6\", \"gridcolor\": \"white\", \"gridwidth\": 2, \"linecolor\": \"white\", \"showbackground\": true, \"ticks\": \"\", \"zerolinecolor\": \"white\"}, \"zaxis\": {\"backgroundcolor\": \"#E5ECF6\", \"gridcolor\": \"white\", \"gridwidth\": 2, \"linecolor\": \"white\", \"showbackground\": true, \"ticks\": \"\", \"zerolinecolor\": \"white\"}}, \"shapedefaults\": {\"line\": {\"color\": \"#2a3f5f\"}}, \"ternary\": {\"aaxis\": {\"gridcolor\": \"white\", \"linecolor\": \"white\", \"ticks\": \"\"}, \"baxis\": {\"gridcolor\": \"white\", \"linecolor\": \"white\", \"ticks\": \"\"}, \"bgcolor\": \"#E5ECF6\", \"caxis\": {\"gridcolor\": \"white\", \"linecolor\": \"white\", \"ticks\": \"\"}}, \"title\": {\"x\": 0.05}, \"xaxis\": {\"automargin\": true, \"gridcolor\": \"white\", \"linecolor\": \"white\", \"ticks\": \"\", \"title\": {\"standoff\": 15}, \"zerolinecolor\": \"white\", \"zerolinewidth\": 2}, \"yaxis\": {\"automargin\": true, \"gridcolor\": \"white\", \"linecolor\": \"white\", \"ticks\": \"\", \"title\": {\"standoff\": 15}, \"zerolinecolor\": \"white\", \"zerolinewidth\": 2}}}, \"title\": {\"text\": \"Hist\\u00f3rico de Vendas\"}, \"width\": 900, \"xaxis\": {\"rangeselector\": {\"buttons\": [{\"count\": 7, \"label\": \"1w\", \"step\": \"day\", \"stepmode\": \"backward\"}, {\"count\": 1, \"label\": \"1m\", \"step\": \"month\", \"stepmode\": \"backward\"}, {\"count\": 6, \"label\": \"6m\", \"step\": \"month\", \"stepmode\": \"backward\"}, {\"count\": 1, \"label\": \"1y\", \"step\": \"year\", \"stepmode\": \"backward\"}, {\"step\": \"all\"}]}, \"rangeslider\": {\"visible\": true}, \"title\": {\"text\": \"ds\"}, \"type\": \"date\"}, \"yaxis\": {\"title\": {\"text\": \"y\"}}},\n",
              "                        {\"responsive\": true}\n",
              "                    ).then(function(){\n",
              "                            \n",
              "var gd = document.getElementById('3bc2a219-f029-402b-b15b-590bb114847b');\n",
              "var x = new MutationObserver(function (mutations, observer) {{\n",
              "        var display = window.getComputedStyle(gd).display;\n",
              "        if (!display || display === 'none') {{\n",
              "            console.log([gd, 'removed!']);\n",
              "            Plotly.purge(gd);\n",
              "            observer.disconnect();\n",
              "        }}\n",
              "}});\n",
              "\n",
              "// Listen for the removal of the full notebook cells\n",
              "var notebookContainer = gd.closest('#notebook-container');\n",
              "if (notebookContainer) {{\n",
              "    x.observe(notebookContainer, {childList: true});\n",
              "}}\n",
              "\n",
              "// Listen for the clearing of the current output cell\n",
              "var outputEl = gd.closest('.output');\n",
              "if (outputEl) {{\n",
              "    x.observe(outputEl, {childList: true});\n",
              "}}\n",
              "\n",
              "                        })\n",
              "                };\n",
              "                \n",
              "            </script>\n",
              "        </div>\n",
              "</body>\n",
              "</html>"
            ]
          },
          "metadata": {
            "tags": []
          }
        }
      ]
    },
    {
      "cell_type": "code",
      "metadata": {
        "id": "IbTaXkbmTJT5",
        "outputId": "f34589b1-6640-4625-efe1-4c33eb347895",
        "colab": {
          "base_uri": "https://localhost:8080/",
          "height": 437
        }
      },
      "source": [
        "gp=plot_components_plotly(m, p)\n",
        "gp.update_layout(\n",
        "    title=\"Detalhes do Histórico de Vendas\")"
      ],
      "execution_count": 13,
      "outputs": [
        {
          "output_type": "display_data",
          "data": {
            "text/html": [
              "<html>\n",
              "<head><meta charset=\"utf-8\" /></head>\n",
              "<body>\n",
              "    <div>\n",
              "            <script src=\"https://cdnjs.cloudflare.com/ajax/libs/mathjax/2.7.5/MathJax.js?config=TeX-AMS-MML_SVG\"></script><script type=\"text/javascript\">if (window.MathJax) {MathJax.Hub.Config({SVG: {font: \"STIX-Web\"}});}</script>\n",
              "                <script type=\"text/javascript\">window.PlotlyConfig = {MathJaxConfig: 'local'};</script>\n",
              "        <script src=\"https://cdn.plot.ly/plotly-latest.min.js\"></script>    \n",
              "            <div id=\"74d45f4d-7cc3-48de-9a70-893a10cc3dac\" class=\"plotly-graph-div\" style=\"height:400px; width:900px;\"></div>\n",
              "            <script type=\"text/javascript\">\n",
              "                \n",
              "                    window.PLOTLYENV=window.PLOTLYENV || {};\n",
              "                    \n",
              "                if (document.getElementById(\"74d45f4d-7cc3-48de-9a70-893a10cc3dac\")) {\n",
              "                    Plotly.newPlot(\n",
              "                        '74d45f4d-7cc3-48de-9a70-893a10cc3dac',\n",
              "                        [{\"line\": {\"color\": \"#0072B2\", \"width\": 2}, \"mode\": \"lines\", \"name\": \"trend\", \"type\": \"scatter\", \"x\": [\"2000-01-28T00:00:00\", \"2000-02-28T00:00:00\", \"2000-03-28T00:00:00\", \"2000-04-28T00:00:00\", \"2000-05-28T00:00:00\", \"2000-06-28T00:00:00\", \"2000-07-28T00:00:00\", \"2000-08-28T00:00:00\", \"2000-09-28T00:00:00\", \"2000-10-28T00:00:00\", \"2000-11-28T00:00:00\", \"2000-12-28T00:00:00\", \"2001-01-28T00:00:00\", \"2001-02-28T00:00:00\", \"2001-03-28T00:00:00\", \"2001-04-28T00:00:00\", \"2001-05-28T00:00:00\", \"2001-06-28T00:00:00\", \"2001-07-28T00:00:00\", \"2001-08-28T00:00:00\", \"2001-09-28T00:00:00\", \"2001-10-28T00:00:00\", \"2001-11-28T00:00:00\", \"2001-12-28T00:00:00\", \"2002-01-28T00:00:00\", \"2002-02-28T00:00:00\", \"2002-03-28T00:00:00\", \"2002-04-28T00:00:00\", \"2002-05-28T00:00:00\", \"2002-06-28T00:00:00\", \"2002-07-28T00:00:00\", \"2002-08-28T00:00:00\", \"2002-09-28T00:00:00\", \"2002-10-28T00:00:00\", \"2002-11-28T00:00:00\", \"2002-12-28T00:00:00\", \"2003-01-28T00:00:00\", \"2003-02-28T00:00:00\", \"2003-03-28T00:00:00\", \"2003-04-28T00:00:00\", \"2003-05-28T00:00:00\", \"2003-06-28T00:00:00\", \"2003-07-28T00:00:00\", \"2003-08-28T00:00:00\", \"2003-09-28T00:00:00\", \"2003-10-28T00:00:00\", \"2003-11-28T00:00:00\", \"2003-12-28T00:00:00\", \"2004-01-28T00:00:00\", \"2004-02-28T00:00:00\", \"2004-03-28T00:00:00\", \"2004-04-28T00:00:00\", \"2004-05-28T00:00:00\", \"2004-06-28T00:00:00\", \"2004-07-28T00:00:00\", \"2004-08-28T00:00:00\", \"2004-09-28T00:00:00\", \"2004-10-28T00:00:00\", \"2004-11-28T00:00:00\", \"2004-12-28T00:00:00\", \"2005-01-28T00:00:00\", \"2005-02-28T00:00:00\", \"2005-03-28T00:00:00\", \"2005-04-28T00:00:00\", \"2005-05-28T00:00:00\", \"2005-06-28T00:00:00\", \"2005-07-28T00:00:00\", \"2005-08-28T00:00:00\", \"2005-09-28T00:00:00\", \"2005-10-28T00:00:00\", \"2005-11-28T00:00:00\", \"2005-12-28T00:00:00\", \"2006-01-28T00:00:00\", \"2006-02-28T00:00:00\", \"2006-03-28T00:00:00\", \"2006-04-28T00:00:00\", \"2006-05-28T00:00:00\", \"2006-06-28T00:00:00\", \"2006-07-28T00:00:00\", \"2006-08-28T00:00:00\", \"2006-09-28T00:00:00\", \"2006-10-28T00:00:00\", \"2006-11-28T00:00:00\", \"2006-12-28T00:00:00\", \"2007-01-28T00:00:00\", \"2007-02-28T00:00:00\", \"2007-03-28T00:00:00\", \"2007-04-28T00:00:00\", \"2007-05-28T00:00:00\", \"2007-06-28T00:00:00\", \"2007-07-28T00:00:00\", \"2007-08-28T00:00:00\", \"2007-09-28T00:00:00\", \"2007-10-28T00:00:00\", \"2007-11-28T00:00:00\", \"2007-12-28T00:00:00\", \"2008-01-28T00:00:00\", \"2008-02-28T00:00:00\", \"2008-03-28T00:00:00\", \"2008-04-28T00:00:00\", \"2008-05-28T00:00:00\", \"2008-06-28T00:00:00\", \"2008-07-28T00:00:00\", \"2008-08-28T00:00:00\", \"2008-09-28T00:00:00\", \"2008-10-28T00:00:00\", \"2008-11-28T00:00:00\", \"2008-12-28T00:00:00\", \"2009-01-28T00:00:00\", \"2009-02-28T00:00:00\", \"2009-03-28T00:00:00\", \"2009-04-28T00:00:00\", \"2009-05-28T00:00:00\", \"2009-06-28T00:00:00\", \"2009-07-28T00:00:00\", \"2009-08-28T00:00:00\", \"2009-09-28T00:00:00\", \"2009-10-28T00:00:00\", \"2009-11-28T00:00:00\", \"2009-12-28T00:00:00\", \"2010-01-28T00:00:00\", \"2010-02-28T00:00:00\", \"2010-03-28T00:00:00\", \"2010-04-28T00:00:00\", \"2010-05-28T00:00:00\", \"2010-06-28T00:00:00\", \"2010-07-28T00:00:00\", \"2010-08-28T00:00:00\", \"2010-09-28T00:00:00\", \"2010-10-28T00:00:00\", \"2010-11-28T00:00:00\", \"2010-12-28T00:00:00\", \"2011-01-28T00:00:00\", \"2011-02-28T00:00:00\", \"2011-03-28T00:00:00\", \"2011-04-28T00:00:00\", \"2011-05-28T00:00:00\", \"2011-06-28T00:00:00\", \"2011-07-28T00:00:00\", \"2011-08-28T00:00:00\", \"2011-09-28T00:00:00\", \"2011-10-28T00:00:00\", \"2011-11-28T00:00:00\", \"2011-12-28T00:00:00\", \"2012-01-28T00:00:00\", \"2012-02-28T00:00:00\", \"2012-03-28T00:00:00\", \"2012-04-28T00:00:00\", \"2012-05-28T00:00:00\", \"2012-06-28T00:00:00\", \"2012-07-28T00:00:00\", \"2012-08-28T00:00:00\", \"2012-09-28T00:00:00\", \"2012-10-28T00:00:00\", \"2012-11-28T00:00:00\", \"2012-12-28T00:00:00\", \"2013-01-28T00:00:00\", \"2013-02-28T00:00:00\", \"2013-03-28T00:00:00\", \"2013-04-28T00:00:00\", \"2013-05-28T00:00:00\", \"2013-06-28T00:00:00\", \"2013-07-28T00:00:00\", \"2013-08-28T00:00:00\", \"2013-09-28T00:00:00\", \"2013-10-28T00:00:00\", \"2013-11-28T00:00:00\", \"2013-12-28T00:00:00\", \"2014-01-28T00:00:00\", \"2014-02-28T00:00:00\", \"2014-03-28T00:00:00\", \"2014-04-28T00:00:00\", \"2014-05-28T00:00:00\", \"2014-06-28T00:00:00\", \"2014-07-28T00:00:00\", \"2014-08-28T00:00:00\", \"2014-09-28T00:00:00\", \"2014-10-28T00:00:00\", \"2014-11-28T00:00:00\", \"2014-12-28T00:00:00\", \"2015-01-28T00:00:00\", \"2015-02-28T00:00:00\", \"2015-03-28T00:00:00\", \"2015-04-28T00:00:00\", \"2015-05-28T00:00:00\", \"2015-06-28T00:00:00\", \"2015-07-28T00:00:00\", \"2015-08-28T00:00:00\", \"2015-09-28T00:00:00\", \"2015-10-28T00:00:00\", \"2015-11-28T00:00:00\", \"2015-12-28T00:00:00\", \"2016-01-28T00:00:00\", \"2016-02-28T00:00:00\", \"2016-03-28T00:00:00\", \"2016-04-28T00:00:00\", \"2016-05-28T00:00:00\", \"2016-06-28T00:00:00\", \"2016-07-28T00:00:00\", \"2016-08-28T00:00:00\", \"2016-09-28T00:00:00\", \"2016-10-28T00:00:00\", \"2016-11-28T00:00:00\", \"2016-12-28T00:00:00\", \"2017-01-28T00:00:00\", \"2017-02-28T00:00:00\", \"2017-03-28T00:00:00\", \"2017-04-28T00:00:00\", \"2017-05-28T00:00:00\", \"2017-06-28T00:00:00\", \"2017-07-28T00:00:00\", \"2017-08-28T00:00:00\", \"2017-09-28T00:00:00\", \"2017-10-28T00:00:00\", \"2017-11-28T00:00:00\", \"2017-12-28T00:00:00\", \"2018-01-28T00:00:00\", \"2018-02-28T00:00:00\", \"2018-03-28T00:00:00\", \"2018-04-28T00:00:00\", \"2018-05-28T00:00:00\", \"2018-06-28T00:00:00\", \"2018-07-28T00:00:00\", \"2018-08-28T00:00:00\", \"2018-09-28T00:00:00\", \"2018-10-28T00:00:00\", \"2018-11-28T00:00:00\", \"2018-12-28T00:00:00\", \"2019-01-28T00:00:00\", \"2019-02-28T00:00:00\", \"2019-03-28T00:00:00\", \"2019-04-28T00:00:00\", \"2019-05-28T00:00:00\", \"2019-06-28T00:00:00\", \"2019-07-28T00:00:00\", \"2019-08-28T00:00:00\", \"2019-09-28T00:00:00\", \"2019-10-28T00:00:00\", \"2019-11-28T00:00:00\", \"2019-12-28T00:00:00\", \"2019-12-31T00:00:00\", \"2020-01-31T00:00:00\", \"2020-02-29T00:00:00\", \"2020-03-31T00:00:00\", \"2020-04-30T00:00:00\", \"2020-05-31T00:00:00\", \"2020-06-30T00:00:00\", \"2020-07-31T00:00:00\", \"2020-08-31T00:00:00\", \"2020-09-30T00:00:00\", \"2020-10-31T00:00:00\", \"2020-11-30T00:00:00\", \"2020-12-31T00:00:00\"], \"xaxis\": \"x\", \"y\": [1083.4297056997568, 1083.5355867087087, 1083.634636684825, 1083.7405176937768, 1083.8429831863107, 1083.9488641952626, 1084.0513296877966, 1084.1572106967485, 1084.2630917057006, 1084.1682841703614, 1084.0703163838448, 1083.9755088485058, 1083.8775410619887, 1083.7795732754719, 1083.6910862424888, 1083.593118455972, 1083.646223563705, 1083.7010988416957, 1083.7542039494285, 1083.8090792274193, 1083.8639545054098, 1083.9170596131428, 1083.9719348911337, 1084.0250399988665, 1083.9797664685525, 1083.9344929382385, 1083.8936007173097, 1083.8483271869957, 1083.8045140931433, 1083.7592405628293, 1083.7154274689772, 1083.6701539386634, 1083.7644607308036, 1083.855725368359, 1083.9500321604994, 1084.0412967980546, 1084.1356035901952, 1084.2299103823357, 1084.3150907107206, 1084.17470753655, 1084.038852851869, 1083.8984696776984, 1083.7626149930172, 1083.6222318188466, 1083.4818486446761, 1083.345993959995, 1083.2056107858245, 1083.3169544021312, 1083.432009472315, 1083.5470645424987, 1083.6546967049287, 1083.7697517751124, 1083.8810953914192, 1083.9961504616028, 1083.9701290868193, 1083.9432403328763, 1083.916351578933, 1083.8903302041492, 1083.863441450206, 1083.8374200754222, 1083.810531321479, 1083.7836425675357, 1083.7980787871347, 1083.8140617445474, 1083.8295291226887, 1083.8455120801016, 1083.860979458243, 1083.876962415656, 1083.8929453730686, 1083.90841275121, 1083.899502147265, 1083.8908789821562, 1083.8819683782108, 1083.8730577742654, 1083.865009486831, 1083.8560988828854, 1083.847475717777, 1083.8822651590779, 1083.9159323603365, 1083.9507218016374, 1083.985511242938, 1084.0191784441965, 1084.0539678854975, 1084.087635086756, 1084.1224245280569, 1084.037310988867, 1083.9604342437922, 1083.875320704602, 1083.7929527634506, 1083.7078392242604, 1083.6254712831087, 1083.5403577439188, 1083.4552442047288, 1083.4875931679528, 1083.521020429951, 1083.553369393175, 1083.5867966551732, 1083.620223917171, 1083.651494581621, 1083.6849218436193, 1083.7165718799336, 1083.7492769174587, 1083.7809269537731, 1083.8136319912978, 1083.8463370288227, 1083.8779870651372, 1083.910692102662, 1083.9423421389765, 1083.9341207423674, 1083.9258993457584, 1083.9184735681758, 1083.910252171567, 1083.9022959812999, 1083.8940745846908, 1083.8861183944239, 1083.8778969978148, 1083.881319377513, 1083.884631357866, 1083.8880537375642, 1083.8913657179173, 1083.8947880976152, 1083.8982104773133, 1083.9013016589763, 1083.9059520619082, 1083.9104524518425, 1083.9151028547747, 1083.919603244709, 1083.924253647641, 1083.928904050573, 1083.9334044405073, 1083.9380548434394, 1083.9135587984872, 1083.888246218703, 1083.8629336389188, 1083.84007066363, 1083.8147580838458, 1083.7902620388934, 1083.7649494591092, 1083.7404534141567, 1083.698381696117, 1083.6563099780772, 1083.615595412232, 1083.573523694192, 1083.5328091283473, 1083.4907374103072, 1083.4486656922675, 1083.5416554543208, 1083.6410583034121, 1083.7372546089846, 1083.8366574580757, 1083.9328537636482, 1084.0322566127395, 1084.1316594618308, 1084.2278557674033, 1084.140470048635, 1084.0559032240205, 1083.968517505252, 1083.8811317864836, 1083.8022027501768, 1083.7148170314083, 1083.6302502067938, 1083.6743278023428, 1083.716983539971, 1083.7610611355199, 1083.805138731069, 1083.847794468697, 1083.8918720642462, 1083.934527801874, 1083.9786053974233, 1083.9473617725962, 1083.919141724365, 1083.8878980995378, 1083.857662333576, 1083.8264187087486, 1083.7961829427868, 1083.7649393179595, 1083.7336956931324, 1083.7855332859988, 1083.8390987986272, 1083.8909363914936, 1083.9445019041223, 1083.998067416751, 1084.0464491700927, 1084.1000146827214, 1084.0550983846265, 1084.0086848765948, 1083.9637685784999, 1083.9173550704686, 1083.870941562437, 1083.8260252643422, 1083.7796117563105, 1083.7346954582156, 1083.7367818694486, 1083.7388682806813, 1083.7408200847383, 1083.742906495971, 1083.744925603616, 1083.747012014849, 1083.7490311224938, 1083.751117533727, 1083.7532039449598, 1083.7552230526046, 1083.7573094638376, 1083.7593285714825, 1083.7614149827152, 1083.7635013939484, 1083.7653858944168, 1083.7674723056498, 1083.7694914132946, 1083.7715778245276, 1083.7735969321725, 1083.7756833434053, 1083.7777697546385, 1083.7797888622833, 1083.781875273516, 1083.783894381161, 1083.785980792394, 1083.7880672036272, 1083.7899517040955, 1083.7920381153285, 1083.7940572229732, 1083.7961436342064, 1083.7981627418512, 1083.800249153084, 1083.8023355643172, 1083.8043546719618, 1083.8064410831948, 1083.8084601908397, 1083.8105466020727, 1083.8126330133055, 1083.814517513774, 1083.816603925007, 1083.8186230326519, 1083.8207094438849, 1083.8227285515297, 1083.8248149627627, 1083.8269013739957, 1083.8289204816406, 1083.8310068928736, 1083.8330260005182, 1083.8332279112828, 1083.8353143225156, 1083.8372661265726, 1083.8393525378053, 1083.8413716454502, 1083.8434580566832, 1083.845477164328, 1083.847563575561, 1083.849649986794, 1083.8516690944389, 1083.8537555056719, 1083.8557746133167, 1083.8578610245495], \"yaxis\": \"y\"}, {\"line\": {\"color\": \"rgba(0, 114, 178, 0.2)\", \"width\": 0}, \"mode\": \"lines\", \"name\": \"trend_upper\", \"type\": \"scatter\", \"x\": [\"2000-01-28T00:00:00\", \"2000-02-28T00:00:00\", \"2000-03-28T00:00:00\", \"2000-04-28T00:00:00\", \"2000-05-28T00:00:00\", \"2000-06-28T00:00:00\", \"2000-07-28T00:00:00\", \"2000-08-28T00:00:00\", \"2000-09-28T00:00:00\", \"2000-10-28T00:00:00\", \"2000-11-28T00:00:00\", \"2000-12-28T00:00:00\", \"2001-01-28T00:00:00\", \"2001-02-28T00:00:00\", \"2001-03-28T00:00:00\", \"2001-04-28T00:00:00\", \"2001-05-28T00:00:00\", \"2001-06-28T00:00:00\", \"2001-07-28T00:00:00\", \"2001-08-28T00:00:00\", \"2001-09-28T00:00:00\", \"2001-10-28T00:00:00\", \"2001-11-28T00:00:00\", \"2001-12-28T00:00:00\", \"2002-01-28T00:00:00\", \"2002-02-28T00:00:00\", \"2002-03-28T00:00:00\", \"2002-04-28T00:00:00\", \"2002-05-28T00:00:00\", \"2002-06-28T00:00:00\", \"2002-07-28T00:00:00\", \"2002-08-28T00:00:00\", \"2002-09-28T00:00:00\", \"2002-10-28T00:00:00\", \"2002-11-28T00:00:00\", \"2002-12-28T00:00:00\", \"2003-01-28T00:00:00\", \"2003-02-28T00:00:00\", \"2003-03-28T00:00:00\", \"2003-04-28T00:00:00\", \"2003-05-28T00:00:00\", \"2003-06-28T00:00:00\", \"2003-07-28T00:00:00\", \"2003-08-28T00:00:00\", \"2003-09-28T00:00:00\", \"2003-10-28T00:00:00\", \"2003-11-28T00:00:00\", \"2003-12-28T00:00:00\", \"2004-01-28T00:00:00\", \"2004-02-28T00:00:00\", \"2004-03-28T00:00:00\", \"2004-04-28T00:00:00\", \"2004-05-28T00:00:00\", \"2004-06-28T00:00:00\", \"2004-07-28T00:00:00\", \"2004-08-28T00:00:00\", \"2004-09-28T00:00:00\", \"2004-10-28T00:00:00\", \"2004-11-28T00:00:00\", \"2004-12-28T00:00:00\", \"2005-01-28T00:00:00\", \"2005-02-28T00:00:00\", \"2005-03-28T00:00:00\", \"2005-04-28T00:00:00\", \"2005-05-28T00:00:00\", \"2005-06-28T00:00:00\", \"2005-07-28T00:00:00\", \"2005-08-28T00:00:00\", \"2005-09-28T00:00:00\", \"2005-10-28T00:00:00\", \"2005-11-28T00:00:00\", \"2005-12-28T00:00:00\", \"2006-01-28T00:00:00\", \"2006-02-28T00:00:00\", \"2006-03-28T00:00:00\", \"2006-04-28T00:00:00\", \"2006-05-28T00:00:00\", \"2006-06-28T00:00:00\", \"2006-07-28T00:00:00\", \"2006-08-28T00:00:00\", \"2006-09-28T00:00:00\", \"2006-10-28T00:00:00\", \"2006-11-28T00:00:00\", \"2006-12-28T00:00:00\", \"2007-01-28T00:00:00\", \"2007-02-28T00:00:00\", \"2007-03-28T00:00:00\", \"2007-04-28T00:00:00\", \"2007-05-28T00:00:00\", \"2007-06-28T00:00:00\", \"2007-07-28T00:00:00\", \"2007-08-28T00:00:00\", \"2007-09-28T00:00:00\", \"2007-10-28T00:00:00\", \"2007-11-28T00:00:00\", \"2007-12-28T00:00:00\", \"2008-01-28T00:00:00\", \"2008-02-28T00:00:00\", \"2008-03-28T00:00:00\", \"2008-04-28T00:00:00\", \"2008-05-28T00:00:00\", \"2008-06-28T00:00:00\", \"2008-07-28T00:00:00\", \"2008-08-28T00:00:00\", \"2008-09-28T00:00:00\", \"2008-10-28T00:00:00\", \"2008-11-28T00:00:00\", \"2008-12-28T00:00:00\", \"2009-01-28T00:00:00\", \"2009-02-28T00:00:00\", \"2009-03-28T00:00:00\", \"2009-04-28T00:00:00\", \"2009-05-28T00:00:00\", \"2009-06-28T00:00:00\", \"2009-07-28T00:00:00\", \"2009-08-28T00:00:00\", \"2009-09-28T00:00:00\", \"2009-10-28T00:00:00\", \"2009-11-28T00:00:00\", \"2009-12-28T00:00:00\", \"2010-01-28T00:00:00\", \"2010-02-28T00:00:00\", \"2010-03-28T00:00:00\", \"2010-04-28T00:00:00\", \"2010-05-28T00:00:00\", \"2010-06-28T00:00:00\", \"2010-07-28T00:00:00\", \"2010-08-28T00:00:00\", \"2010-09-28T00:00:00\", \"2010-10-28T00:00:00\", \"2010-11-28T00:00:00\", \"2010-12-28T00:00:00\", \"2011-01-28T00:00:00\", \"2011-02-28T00:00:00\", \"2011-03-28T00:00:00\", \"2011-04-28T00:00:00\", \"2011-05-28T00:00:00\", \"2011-06-28T00:00:00\", \"2011-07-28T00:00:00\", \"2011-08-28T00:00:00\", \"2011-09-28T00:00:00\", \"2011-10-28T00:00:00\", \"2011-11-28T00:00:00\", \"2011-12-28T00:00:00\", \"2012-01-28T00:00:00\", \"2012-02-28T00:00:00\", \"2012-03-28T00:00:00\", \"2012-04-28T00:00:00\", \"2012-05-28T00:00:00\", \"2012-06-28T00:00:00\", \"2012-07-28T00:00:00\", \"2012-08-28T00:00:00\", \"2012-09-28T00:00:00\", \"2012-10-28T00:00:00\", \"2012-11-28T00:00:00\", \"2012-12-28T00:00:00\", \"2013-01-28T00:00:00\", \"2013-02-28T00:00:00\", \"2013-03-28T00:00:00\", \"2013-04-28T00:00:00\", \"2013-05-28T00:00:00\", \"2013-06-28T00:00:00\", \"2013-07-28T00:00:00\", \"2013-08-28T00:00:00\", \"2013-09-28T00:00:00\", \"2013-10-28T00:00:00\", \"2013-11-28T00:00:00\", \"2013-12-28T00:00:00\", \"2014-01-28T00:00:00\", \"2014-02-28T00:00:00\", \"2014-03-28T00:00:00\", \"2014-04-28T00:00:00\", \"2014-05-28T00:00:00\", \"2014-06-28T00:00:00\", \"2014-07-28T00:00:00\", \"2014-08-28T00:00:00\", \"2014-09-28T00:00:00\", \"2014-10-28T00:00:00\", \"2014-11-28T00:00:00\", \"2014-12-28T00:00:00\", \"2015-01-28T00:00:00\", \"2015-02-28T00:00:00\", \"2015-03-28T00:00:00\", \"2015-04-28T00:00:00\", \"2015-05-28T00:00:00\", \"2015-06-28T00:00:00\", \"2015-07-28T00:00:00\", \"2015-08-28T00:00:00\", \"2015-09-28T00:00:00\", \"2015-10-28T00:00:00\", \"2015-11-28T00:00:00\", \"2015-12-28T00:00:00\", \"2016-01-28T00:00:00\", \"2016-02-28T00:00:00\", \"2016-03-28T00:00:00\", \"2016-04-28T00:00:00\", \"2016-05-28T00:00:00\", \"2016-06-28T00:00:00\", \"2016-07-28T00:00:00\", \"2016-08-28T00:00:00\", \"2016-09-28T00:00:00\", \"2016-10-28T00:00:00\", \"2016-11-28T00:00:00\", \"2016-12-28T00:00:00\", \"2017-01-28T00:00:00\", \"2017-02-28T00:00:00\", \"2017-03-28T00:00:00\", \"2017-04-28T00:00:00\", \"2017-05-28T00:00:00\", \"2017-06-28T00:00:00\", \"2017-07-28T00:00:00\", \"2017-08-28T00:00:00\", \"2017-09-28T00:00:00\", \"2017-10-28T00:00:00\", \"2017-11-28T00:00:00\", \"2017-12-28T00:00:00\", \"2018-01-28T00:00:00\", \"2018-02-28T00:00:00\", \"2018-03-28T00:00:00\", \"2018-04-28T00:00:00\", \"2018-05-28T00:00:00\", \"2018-06-28T00:00:00\", \"2018-07-28T00:00:00\", \"2018-08-28T00:00:00\", \"2018-09-28T00:00:00\", \"2018-10-28T00:00:00\", \"2018-11-28T00:00:00\", \"2018-12-28T00:00:00\", \"2019-01-28T00:00:00\", \"2019-02-28T00:00:00\", \"2019-03-28T00:00:00\", \"2019-04-28T00:00:00\", \"2019-05-28T00:00:00\", \"2019-06-28T00:00:00\", \"2019-07-28T00:00:00\", \"2019-08-28T00:00:00\", \"2019-09-28T00:00:00\", \"2019-10-28T00:00:00\", \"2019-11-28T00:00:00\", \"2019-12-28T00:00:00\", \"2019-12-31T00:00:00\", \"2020-01-31T00:00:00\", \"2020-02-29T00:00:00\", \"2020-03-31T00:00:00\", \"2020-04-30T00:00:00\", \"2020-05-31T00:00:00\", \"2020-06-30T00:00:00\", \"2020-07-31T00:00:00\", \"2020-08-31T00:00:00\", \"2020-09-30T00:00:00\", \"2020-10-31T00:00:00\", \"2020-11-30T00:00:00\", \"2020-12-31T00:00:00\"], \"xaxis\": \"x\", \"y\": [1083.4297056997568, 1083.5355867087087, 1083.634636684825, 1083.7405176937768, 1083.8429831863107, 1083.9488641952626, 1084.0513296877966, 1084.1572106967485, 1084.2630917057006, 1084.1682841703614, 1084.0703163838448, 1083.9755088485058, 1083.8775410619887, 1083.7795732754719, 1083.6910862424888, 1083.593118455972, 1083.646223563705, 1083.7010988416957, 1083.7542039494285, 1083.8090792274193, 1083.8639545054098, 1083.9170596131428, 1083.9719348911337, 1084.0250399988665, 1083.9797664685525, 1083.9344929382385, 1083.8936007173097, 1083.8483271869957, 1083.8045140931433, 1083.7592405628293, 1083.7154274689772, 1083.6701539386634, 1083.7644607308036, 1083.855725368359, 1083.9500321604994, 1084.0412967980546, 1084.1356035901952, 1084.2299103823357, 1084.3150907107206, 1084.17470753655, 1084.038852851869, 1083.8984696776984, 1083.7626149930172, 1083.6222318188466, 1083.4818486446761, 1083.345993959995, 1083.2056107858245, 1083.3169544021312, 1083.432009472315, 1083.5470645424987, 1083.6546967049287, 1083.7697517751124, 1083.8810953914192, 1083.9961504616028, 1083.9701290868193, 1083.9432403328763, 1083.916351578933, 1083.8903302041492, 1083.863441450206, 1083.8374200754222, 1083.810531321479, 1083.7836425675357, 1083.7980787871347, 1083.8140617445474, 1083.8295291226887, 1083.8455120801016, 1083.860979458243, 1083.876962415656, 1083.8929453730686, 1083.90841275121, 1083.899502147265, 1083.8908789821562, 1083.8819683782108, 1083.8730577742654, 1083.865009486831, 1083.8560988828854, 1083.847475717777, 1083.8822651590779, 1083.9159323603365, 1083.9507218016374, 1083.985511242938, 1084.0191784441965, 1084.0539678854975, 1084.087635086756, 1084.1224245280569, 1084.037310988867, 1083.9604342437922, 1083.875320704602, 1083.7929527634506, 1083.7078392242604, 1083.6254712831087, 1083.5403577439188, 1083.4552442047288, 1083.4875931679528, 1083.521020429951, 1083.553369393175, 1083.5867966551732, 1083.620223917171, 1083.651494581621, 1083.6849218436193, 1083.7165718799336, 1083.7492769174587, 1083.7809269537731, 1083.8136319912978, 1083.8463370288227, 1083.8779870651372, 1083.910692102662, 1083.9423421389765, 1083.9341207423674, 1083.9258993457584, 1083.9184735681758, 1083.910252171567, 1083.9022959812999, 1083.8940745846908, 1083.8861183944239, 1083.8778969978148, 1083.881319377513, 1083.884631357866, 1083.8880537375642, 1083.8913657179173, 1083.8947880976152, 1083.8982104773133, 1083.9013016589763, 1083.9059520619082, 1083.9104524518425, 1083.9151028547747, 1083.919603244709, 1083.924253647641, 1083.928904050573, 1083.9334044405073, 1083.9380548434394, 1083.9135587984872, 1083.888246218703, 1083.8629336389188, 1083.84007066363, 1083.8147580838458, 1083.7902620388934, 1083.7649494591092, 1083.7404534141567, 1083.698381696117, 1083.6563099780772, 1083.615595412232, 1083.573523694192, 1083.5328091283473, 1083.4907374103072, 1083.4486656922675, 1083.5416554543208, 1083.6410583034121, 1083.7372546089846, 1083.8366574580757, 1083.9328537636482, 1084.0322566127395, 1084.1316594618308, 1084.2278557674033, 1084.140470048635, 1084.0559032240205, 1083.968517505252, 1083.8811317864836, 1083.8022027501768, 1083.7148170314083, 1083.6302502067938, 1083.6743278023428, 1083.716983539971, 1083.7610611355199, 1083.805138731069, 1083.847794468697, 1083.8918720642462, 1083.934527801874, 1083.9786053974233, 1083.9473617725962, 1083.919141724365, 1083.8878980995378, 1083.857662333576, 1083.8264187087486, 1083.7961829427868, 1083.7649393179595, 1083.7336956931324, 1083.7855332859988, 1083.8390987986272, 1083.8909363914936, 1083.9445019041223, 1083.998067416751, 1084.0464491700927, 1084.1000146827214, 1084.0550983846265, 1084.0086848765948, 1083.9637685784999, 1083.9173550704686, 1083.870941562437, 1083.8260252643422, 1083.7796117563105, 1083.7346954582156, 1083.7367818694486, 1083.7388682806813, 1083.7408200847383, 1083.742906495971, 1083.744925603616, 1083.747012014849, 1083.7490311224938, 1083.751117533727, 1083.7532039449598, 1083.7552230526046, 1083.7573094638376, 1083.7593285714825, 1083.7614149827152, 1083.7635013939484, 1083.7653858944168, 1083.7674723056498, 1083.7694914132946, 1083.7715778245276, 1083.7735969321725, 1083.7756833434053, 1083.7777697546385, 1083.7797888622833, 1083.781875273516, 1083.783894381161, 1083.785980792394, 1083.7880672036272, 1083.7899517040955, 1083.7920381153285, 1083.7940572229732, 1083.7961436342064, 1083.7981627418512, 1083.800249153084, 1083.8023355643172, 1083.8043546719618, 1083.8064410831948, 1083.8084601908397, 1083.8105466020727, 1083.8126330133055, 1083.814517513774, 1083.816603925007, 1083.8186230326519, 1083.8207094438849, 1083.8227285515297, 1083.8248149627627, 1083.8269013739957, 1083.8289204816406, 1083.8310068928736, 1083.8330260005182, 1083.8332279112828, 1083.8353143225156, 1083.8409350349607, 1083.8788883225443, 1083.9533887413127, 1084.033459612858, 1084.1270527155668, 1084.2518297892411, 1084.3664038384509, 1084.4697148853918, 1084.6120008405458, 1084.7266597832825, 1084.8915789814134], \"yaxis\": \"y\"}, {\"fill\": \"tonexty\", \"fillcolor\": \"rgba(0, 114, 178, 0.2)\", \"line\": {\"color\": \"rgba(0, 114, 178, 0.2)\", \"width\": 0}, \"mode\": \"lines\", \"name\": \"trend_lower\", \"type\": \"scatter\", \"x\": [\"2000-01-28T00:00:00\", \"2000-02-28T00:00:00\", \"2000-03-28T00:00:00\", \"2000-04-28T00:00:00\", \"2000-05-28T00:00:00\", \"2000-06-28T00:00:00\", \"2000-07-28T00:00:00\", \"2000-08-28T00:00:00\", \"2000-09-28T00:00:00\", \"2000-10-28T00:00:00\", \"2000-11-28T00:00:00\", \"2000-12-28T00:00:00\", \"2001-01-28T00:00:00\", \"2001-02-28T00:00:00\", \"2001-03-28T00:00:00\", \"2001-04-28T00:00:00\", \"2001-05-28T00:00:00\", \"2001-06-28T00:00:00\", \"2001-07-28T00:00:00\", \"2001-08-28T00:00:00\", \"2001-09-28T00:00:00\", \"2001-10-28T00:00:00\", \"2001-11-28T00:00:00\", \"2001-12-28T00:00:00\", \"2002-01-28T00:00:00\", \"2002-02-28T00:00:00\", \"2002-03-28T00:00:00\", \"2002-04-28T00:00:00\", \"2002-05-28T00:00:00\", \"2002-06-28T00:00:00\", \"2002-07-28T00:00:00\", \"2002-08-28T00:00:00\", \"2002-09-28T00:00:00\", \"2002-10-28T00:00:00\", \"2002-11-28T00:00:00\", \"2002-12-28T00:00:00\", \"2003-01-28T00:00:00\", \"2003-02-28T00:00:00\", \"2003-03-28T00:00:00\", \"2003-04-28T00:00:00\", \"2003-05-28T00:00:00\", \"2003-06-28T00:00:00\", \"2003-07-28T00:00:00\", \"2003-08-28T00:00:00\", \"2003-09-28T00:00:00\", \"2003-10-28T00:00:00\", \"2003-11-28T00:00:00\", \"2003-12-28T00:00:00\", \"2004-01-28T00:00:00\", \"2004-02-28T00:00:00\", \"2004-03-28T00:00:00\", \"2004-04-28T00:00:00\", \"2004-05-28T00:00:00\", \"2004-06-28T00:00:00\", \"2004-07-28T00:00:00\", \"2004-08-28T00:00:00\", \"2004-09-28T00:00:00\", \"2004-10-28T00:00:00\", \"2004-11-28T00:00:00\", \"2004-12-28T00:00:00\", \"2005-01-28T00:00:00\", \"2005-02-28T00:00:00\", \"2005-03-28T00:00:00\", \"2005-04-28T00:00:00\", \"2005-05-28T00:00:00\", \"2005-06-28T00:00:00\", \"2005-07-28T00:00:00\", \"2005-08-28T00:00:00\", \"2005-09-28T00:00:00\", \"2005-10-28T00:00:00\", \"2005-11-28T00:00:00\", \"2005-12-28T00:00:00\", \"2006-01-28T00:00:00\", \"2006-02-28T00:00:00\", \"2006-03-28T00:00:00\", \"2006-04-28T00:00:00\", \"2006-05-28T00:00:00\", \"2006-06-28T00:00:00\", \"2006-07-28T00:00:00\", \"2006-08-28T00:00:00\", \"2006-09-28T00:00:00\", \"2006-10-28T00:00:00\", \"2006-11-28T00:00:00\", \"2006-12-28T00:00:00\", \"2007-01-28T00:00:00\", \"2007-02-28T00:00:00\", \"2007-03-28T00:00:00\", \"2007-04-28T00:00:00\", \"2007-05-28T00:00:00\", \"2007-06-28T00:00:00\", \"2007-07-28T00:00:00\", \"2007-08-28T00:00:00\", \"2007-09-28T00:00:00\", \"2007-10-28T00:00:00\", \"2007-11-28T00:00:00\", \"2007-12-28T00:00:00\", \"2008-01-28T00:00:00\", \"2008-02-28T00:00:00\", \"2008-03-28T00:00:00\", \"2008-04-28T00:00:00\", \"2008-05-28T00:00:00\", \"2008-06-28T00:00:00\", \"2008-07-28T00:00:00\", \"2008-08-28T00:00:00\", \"2008-09-28T00:00:00\", \"2008-10-28T00:00:00\", \"2008-11-28T00:00:00\", \"2008-12-28T00:00:00\", \"2009-01-28T00:00:00\", \"2009-02-28T00:00:00\", \"2009-03-28T00:00:00\", \"2009-04-28T00:00:00\", \"2009-05-28T00:00:00\", \"2009-06-28T00:00:00\", \"2009-07-28T00:00:00\", \"2009-08-28T00:00:00\", \"2009-09-28T00:00:00\", \"2009-10-28T00:00:00\", \"2009-11-28T00:00:00\", \"2009-12-28T00:00:00\", \"2010-01-28T00:00:00\", \"2010-02-28T00:00:00\", \"2010-03-28T00:00:00\", \"2010-04-28T00:00:00\", \"2010-05-28T00:00:00\", \"2010-06-28T00:00:00\", \"2010-07-28T00:00:00\", \"2010-08-28T00:00:00\", \"2010-09-28T00:00:00\", \"2010-10-28T00:00:00\", \"2010-11-28T00:00:00\", \"2010-12-28T00:00:00\", \"2011-01-28T00:00:00\", \"2011-02-28T00:00:00\", \"2011-03-28T00:00:00\", \"2011-04-28T00:00:00\", \"2011-05-28T00:00:00\", \"2011-06-28T00:00:00\", \"2011-07-28T00:00:00\", \"2011-08-28T00:00:00\", \"2011-09-28T00:00:00\", \"2011-10-28T00:00:00\", \"2011-11-28T00:00:00\", \"2011-12-28T00:00:00\", \"2012-01-28T00:00:00\", \"2012-02-28T00:00:00\", \"2012-03-28T00:00:00\", \"2012-04-28T00:00:00\", \"2012-05-28T00:00:00\", \"2012-06-28T00:00:00\", \"2012-07-28T00:00:00\", \"2012-08-28T00:00:00\", \"2012-09-28T00:00:00\", \"2012-10-28T00:00:00\", \"2012-11-28T00:00:00\", \"2012-12-28T00:00:00\", \"2013-01-28T00:00:00\", \"2013-02-28T00:00:00\", \"2013-03-28T00:00:00\", \"2013-04-28T00:00:00\", \"2013-05-28T00:00:00\", \"2013-06-28T00:00:00\", \"2013-07-28T00:00:00\", \"2013-08-28T00:00:00\", \"2013-09-28T00:00:00\", \"2013-10-28T00:00:00\", \"2013-11-28T00:00:00\", \"2013-12-28T00:00:00\", \"2014-01-28T00:00:00\", \"2014-02-28T00:00:00\", \"2014-03-28T00:00:00\", \"2014-04-28T00:00:00\", \"2014-05-28T00:00:00\", \"2014-06-28T00:00:00\", \"2014-07-28T00:00:00\", \"2014-08-28T00:00:00\", \"2014-09-28T00:00:00\", \"2014-10-28T00:00:00\", \"2014-11-28T00:00:00\", \"2014-12-28T00:00:00\", \"2015-01-28T00:00:00\", \"2015-02-28T00:00:00\", \"2015-03-28T00:00:00\", \"2015-04-28T00:00:00\", \"2015-05-28T00:00:00\", \"2015-06-28T00:00:00\", \"2015-07-28T00:00:00\", \"2015-08-28T00:00:00\", \"2015-09-28T00:00:00\", \"2015-10-28T00:00:00\", \"2015-11-28T00:00:00\", \"2015-12-28T00:00:00\", \"2016-01-28T00:00:00\", \"2016-02-28T00:00:00\", \"2016-03-28T00:00:00\", \"2016-04-28T00:00:00\", \"2016-05-28T00:00:00\", \"2016-06-28T00:00:00\", \"2016-07-28T00:00:00\", \"2016-08-28T00:00:00\", \"2016-09-28T00:00:00\", \"2016-10-28T00:00:00\", \"2016-11-28T00:00:00\", \"2016-12-28T00:00:00\", \"2017-01-28T00:00:00\", \"2017-02-28T00:00:00\", \"2017-03-28T00:00:00\", \"2017-04-28T00:00:00\", \"2017-05-28T00:00:00\", \"2017-06-28T00:00:00\", \"2017-07-28T00:00:00\", \"2017-08-28T00:00:00\", \"2017-09-28T00:00:00\", \"2017-10-28T00:00:00\", \"2017-11-28T00:00:00\", \"2017-12-28T00:00:00\", \"2018-01-28T00:00:00\", \"2018-02-28T00:00:00\", \"2018-03-28T00:00:00\", \"2018-04-28T00:00:00\", \"2018-05-28T00:00:00\", \"2018-06-28T00:00:00\", \"2018-07-28T00:00:00\", \"2018-08-28T00:00:00\", \"2018-09-28T00:00:00\", \"2018-10-28T00:00:00\", \"2018-11-28T00:00:00\", \"2018-12-28T00:00:00\", \"2019-01-28T00:00:00\", \"2019-02-28T00:00:00\", \"2019-03-28T00:00:00\", \"2019-04-28T00:00:00\", \"2019-05-28T00:00:00\", \"2019-06-28T00:00:00\", \"2019-07-28T00:00:00\", \"2019-08-28T00:00:00\", \"2019-09-28T00:00:00\", \"2019-10-28T00:00:00\", \"2019-11-28T00:00:00\", \"2019-12-28T00:00:00\", \"2019-12-31T00:00:00\", \"2020-01-31T00:00:00\", \"2020-02-29T00:00:00\", \"2020-03-31T00:00:00\", \"2020-04-30T00:00:00\", \"2020-05-31T00:00:00\", \"2020-06-30T00:00:00\", \"2020-07-31T00:00:00\", \"2020-08-31T00:00:00\", \"2020-09-30T00:00:00\", \"2020-10-31T00:00:00\", \"2020-11-30T00:00:00\", \"2020-12-31T00:00:00\"], \"xaxis\": \"x\", \"y\": [1083.4297056997568, 1083.5355867087087, 1083.634636684825, 1083.7405176937768, 1083.8429831863107, 1083.9488641952626, 1084.0513296877966, 1084.1572106967485, 1084.2630917057006, 1084.1682841703614, 1084.0703163838448, 1083.9755088485058, 1083.8775410619887, 1083.7795732754719, 1083.6910862424888, 1083.593118455972, 1083.646223563705, 1083.7010988416957, 1083.7542039494285, 1083.8090792274193, 1083.8639545054098, 1083.9170596131428, 1083.9719348911337, 1084.0250399988665, 1083.9797664685525, 1083.9344929382385, 1083.8936007173097, 1083.8483271869957, 1083.8045140931433, 1083.7592405628293, 1083.7154274689772, 1083.6701539386634, 1083.7644607308036, 1083.855725368359, 1083.9500321604994, 1084.0412967980546, 1084.1356035901952, 1084.2299103823357, 1084.3150907107206, 1084.17470753655, 1084.038852851869, 1083.8984696776984, 1083.7626149930172, 1083.6222318188466, 1083.4818486446761, 1083.345993959995, 1083.2056107858245, 1083.3169544021312, 1083.432009472315, 1083.5470645424987, 1083.6546967049287, 1083.7697517751124, 1083.8810953914192, 1083.9961504616028, 1083.9701290868193, 1083.9432403328763, 1083.916351578933, 1083.8903302041492, 1083.863441450206, 1083.8374200754222, 1083.810531321479, 1083.7836425675357, 1083.7980787871347, 1083.8140617445474, 1083.8295291226887, 1083.8455120801016, 1083.860979458243, 1083.876962415656, 1083.8929453730686, 1083.90841275121, 1083.899502147265, 1083.8908789821562, 1083.8819683782108, 1083.8730577742654, 1083.865009486831, 1083.8560988828854, 1083.847475717777, 1083.8822651590779, 1083.9159323603365, 1083.9507218016374, 1083.985511242938, 1084.0191784441965, 1084.0539678854975, 1084.087635086756, 1084.1224245280569, 1084.037310988867, 1083.9604342437922, 1083.875320704602, 1083.7929527634506, 1083.7078392242604, 1083.6254712831087, 1083.5403577439188, 1083.4552442047288, 1083.4875931679528, 1083.521020429951, 1083.553369393175, 1083.5867966551732, 1083.620223917171, 1083.651494581621, 1083.6849218436193, 1083.7165718799336, 1083.7492769174587, 1083.7809269537731, 1083.8136319912978, 1083.8463370288227, 1083.8779870651372, 1083.910692102662, 1083.9423421389765, 1083.9341207423674, 1083.9258993457584, 1083.9184735681758, 1083.910252171567, 1083.9022959812999, 1083.8940745846908, 1083.8861183944239, 1083.8778969978148, 1083.881319377513, 1083.884631357866, 1083.8880537375642, 1083.8913657179173, 1083.8947880976152, 1083.8982104773133, 1083.9013016589763, 1083.9059520619082, 1083.9104524518425, 1083.9151028547747, 1083.919603244709, 1083.924253647641, 1083.928904050573, 1083.9334044405073, 1083.9380548434394, 1083.9135587984872, 1083.888246218703, 1083.8629336389188, 1083.84007066363, 1083.8147580838458, 1083.7902620388934, 1083.7649494591092, 1083.7404534141567, 1083.698381696117, 1083.6563099780772, 1083.615595412232, 1083.573523694192, 1083.5328091283473, 1083.4907374103072, 1083.4486656922675, 1083.5416554543208, 1083.6410583034121, 1083.7372546089846, 1083.8366574580757, 1083.9328537636482, 1084.0322566127395, 1084.1316594618308, 1084.2278557674033, 1084.140470048635, 1084.0559032240205, 1083.968517505252, 1083.8811317864836, 1083.8022027501768, 1083.7148170314083, 1083.6302502067938, 1083.6743278023428, 1083.716983539971, 1083.7610611355199, 1083.805138731069, 1083.847794468697, 1083.8918720642462, 1083.934527801874, 1083.9786053974233, 1083.9473617725962, 1083.919141724365, 1083.8878980995378, 1083.857662333576, 1083.8264187087486, 1083.7961829427868, 1083.7649393179595, 1083.7336956931324, 1083.7855332859988, 1083.8390987986272, 1083.8909363914936, 1083.9445019041223, 1083.998067416751, 1084.0464491700927, 1084.1000146827214, 1084.0550983846265, 1084.0086848765948, 1083.9637685784999, 1083.9173550704686, 1083.870941562437, 1083.8260252643422, 1083.7796117563105, 1083.7346954582156, 1083.7367818694486, 1083.7388682806813, 1083.7408200847383, 1083.742906495971, 1083.744925603616, 1083.747012014849, 1083.7490311224938, 1083.751117533727, 1083.7532039449598, 1083.7552230526046, 1083.7573094638376, 1083.7593285714825, 1083.7614149827152, 1083.7635013939484, 1083.7653858944168, 1083.7674723056498, 1083.7694914132946, 1083.7715778245276, 1083.7735969321725, 1083.7756833434053, 1083.7777697546385, 1083.7797888622833, 1083.781875273516, 1083.783894381161, 1083.785980792394, 1083.7880672036272, 1083.7899517040955, 1083.7920381153285, 1083.7940572229732, 1083.7961436342064, 1083.7981627418512, 1083.800249153084, 1083.8023355643172, 1083.8043546719618, 1083.8064410831948, 1083.8084601908397, 1083.8105466020727, 1083.8126330133055, 1083.814517513774, 1083.816603925007, 1083.8186230326519, 1083.8207094438849, 1083.8227285515297, 1083.8248149627627, 1083.8269013739957, 1083.8289204816406, 1083.8310068928736, 1083.8330260005182, 1083.8332279112828, 1083.8353143225156, 1083.8372661265726, 1083.816329915518, 1083.748924564875, 1083.6641196312437, 1083.568720303653, 1083.4719078998112, 1083.357438874985, 1083.2297651729166, 1083.1184952927304, 1082.999835054559, 1082.8804031709255], \"yaxis\": \"y\"}, {\"line\": {\"color\": \"#0072B2\", \"width\": 2}, \"mode\": \"lines\", \"name\": \"yearly\", \"type\": \"scatter\", \"x\": [\"2017-01-01T00:00:00\", \"2017-01-02T00:00:59.178082\", \"2017-01-03T00:01:58.356164\", \"2017-01-04T00:02:57.534246\", \"2017-01-05T00:03:56.712328\", \"2017-01-06T00:04:55.890411\", \"2017-01-07T00:05:55.068493\", \"2017-01-08T00:06:54.246575\", \"2017-01-09T00:07:53.424657\", \"2017-01-10T00:08:52.602739\", \"2017-01-11T00:09:51.780822\", \"2017-01-12T00:10:50.958904\", \"2017-01-13T00:11:50.136986\", \"2017-01-14T00:12:49.315068\", \"2017-01-15T00:13:48.493150\", \"2017-01-16T00:14:47.671232\", \"2017-01-17T00:15:46.849315\", \"2017-01-18T00:16:46.027397\", \"2017-01-19T00:17:45.205479\", \"2017-01-20T00:18:44.383561\", \"2017-01-21T00:19:43.561643\", \"2017-01-22T00:20:42.739726\", \"2017-01-23T00:21:41.917808\", \"2017-01-24T00:22:41.095890\", \"2017-01-25T00:23:40.273972\", \"2017-01-26T00:24:39.452054\", \"2017-01-27T00:25:38.630137\", \"2017-01-28T00:26:37.808219\", \"2017-01-29T00:27:36.986301\", \"2017-01-30T00:28:36.164383\", \"2017-01-31T00:29:35.342465\", \"2017-02-01T00:30:34.520547\", \"2017-02-02T00:31:33.698630\", \"2017-02-03T00:32:32.876712\", \"2017-02-04T00:33:32.054794\", \"2017-02-05T00:34:31.232876\", \"2017-02-06T00:35:30.410958\", \"2017-02-07T00:36:29.589041\", \"2017-02-08T00:37:28.767123\", \"2017-02-09T00:38:27.945205\", \"2017-02-10T00:39:27.123287\", \"2017-02-11T00:40:26.301369\", \"2017-02-12T00:41:25.479452\", \"2017-02-13T00:42:24.657534\", \"2017-02-14T00:43:23.835616\", \"2017-02-15T00:44:23.013698\", \"2017-02-16T00:45:22.191780\", \"2017-02-17T00:46:21.369862\", \"2017-02-18T00:47:20.547945\", \"2017-02-19T00:48:19.726027\", \"2017-02-20T00:49:18.904109\", \"2017-02-21T00:50:18.082191\", \"2017-02-22T00:51:17.260273\", \"2017-02-23T00:52:16.438356\", \"2017-02-24T00:53:15.616438\", \"2017-02-25T00:54:14.794520\", \"2017-02-26T00:55:13.972602\", \"2017-02-27T00:56:13.150684\", \"2017-02-28T00:57:12.328767\", \"2017-03-01T00:58:11.506849\", \"2017-03-02T00:59:10.684931\", \"2017-03-03T01:00:09.863013\", \"2017-03-04T01:01:09.041095\", \"2017-03-05T01:02:08.219177\", \"2017-03-06T01:03:07.397260\", \"2017-03-07T01:04:06.575342\", \"2017-03-08T01:05:05.753424\", \"2017-03-09T01:06:04.931506\", \"2017-03-10T01:07:04.109588\", \"2017-03-11T01:08:03.287671\", \"2017-03-12T01:09:02.465753\", \"2017-03-13T01:10:01.643835\", \"2017-03-14T01:11:00.821917\", \"2017-03-15T01:12:00\", \"2017-03-16T01:12:59.178082\", \"2017-03-17T01:13:58.356164\", \"2017-03-18T01:14:57.534246\", \"2017-03-19T01:15:56.712328\", \"2017-03-20T01:16:55.890411\", \"2017-03-21T01:17:55.068493\", \"2017-03-22T01:18:54.246575\", \"2017-03-23T01:19:53.424657\", \"2017-03-24T01:20:52.602739\", \"2017-03-25T01:21:51.780822\", \"2017-03-26T01:22:50.958904\", \"2017-03-27T01:23:50.136986\", \"2017-03-28T01:24:49.315068\", \"2017-03-29T01:25:48.493150\", \"2017-03-30T01:26:47.671232\", \"2017-03-31T01:27:46.849315\", \"2017-04-01T01:28:46.027397\", \"2017-04-02T01:29:45.205479\", \"2017-04-03T01:30:44.383561\", \"2017-04-04T01:31:43.561643\", \"2017-04-05T01:32:42.739726\", \"2017-04-06T01:33:41.917808\", \"2017-04-07T01:34:41.095890\", \"2017-04-08T01:35:40.273972\", \"2017-04-09T01:36:39.452054\", \"2017-04-10T01:37:38.630137\", \"2017-04-11T01:38:37.808219\", \"2017-04-12T01:39:36.986301\", \"2017-04-13T01:40:36.164383\", \"2017-04-14T01:41:35.342465\", \"2017-04-15T01:42:34.520547\", \"2017-04-16T01:43:33.698630\", \"2017-04-17T01:44:32.876712\", \"2017-04-18T01:45:32.054794\", \"2017-04-19T01:46:31.232876\", \"2017-04-20T01:47:30.410958\", \"2017-04-21T01:48:29.589041\", \"2017-04-22T01:49:28.767123\", \"2017-04-23T01:50:27.945205\", \"2017-04-24T01:51:27.123287\", \"2017-04-25T01:52:26.301369\", \"2017-04-26T01:53:25.479452\", \"2017-04-27T01:54:24.657534\", \"2017-04-28T01:55:23.835616\", \"2017-04-29T01:56:23.013698\", \"2017-04-30T01:57:22.191780\", \"2017-05-01T01:58:21.369862\", \"2017-05-02T01:59:20.547945\", \"2017-05-03T02:00:19.726027\", \"2017-05-04T02:01:18.904109\", \"2017-05-05T02:02:18.082191\", \"2017-05-06T02:03:17.260273\", \"2017-05-07T02:04:16.438356\", \"2017-05-08T02:05:15.616438\", \"2017-05-09T02:06:14.794520\", \"2017-05-10T02:07:13.972602\", \"2017-05-11T02:08:13.150684\", \"2017-05-12T02:09:12.328767\", \"2017-05-13T02:10:11.506849\", \"2017-05-14T02:11:10.684931\", \"2017-05-15T02:12:09.863013\", \"2017-05-16T02:13:09.041095\", \"2017-05-17T02:14:08.219177\", \"2017-05-18T02:15:07.397260\", \"2017-05-19T02:16:06.575342\", \"2017-05-20T02:17:05.753424\", \"2017-05-21T02:18:04.931506\", \"2017-05-22T02:19:04.109588\", \"2017-05-23T02:20:03.287671\", \"2017-05-24T02:21:02.465753\", \"2017-05-25T02:22:01.643835\", \"2017-05-26T02:23:00.821917\", \"2017-05-27T02:24:00\", \"2017-05-28T02:24:59.178082\", \"2017-05-29T02:25:58.356164\", \"2017-05-30T02:26:57.534246\", \"2017-05-31T02:27:56.712328\", \"2017-06-01T02:28:55.890411\", \"2017-06-02T02:29:55.068493\", \"2017-06-03T02:30:54.246575\", \"2017-06-04T02:31:53.424657\", \"2017-06-05T02:32:52.602739\", \"2017-06-06T02:33:51.780822\", \"2017-06-07T02:34:50.958904\", \"2017-06-08T02:35:50.136986\", \"2017-06-09T02:36:49.315068\", \"2017-06-10T02:37:48.493150\", \"2017-06-11T02:38:47.671232\", \"2017-06-12T02:39:46.849315\", \"2017-06-13T02:40:46.027397\", \"2017-06-14T02:41:45.205479\", \"2017-06-15T02:42:44.383561\", \"2017-06-16T02:43:43.561643\", \"2017-06-17T02:44:42.739726\", \"2017-06-18T02:45:41.917808\", \"2017-06-19T02:46:41.095890\", \"2017-06-20T02:47:40.273972\", \"2017-06-21T02:48:39.452054\", \"2017-06-22T02:49:38.630137\", \"2017-06-23T02:50:37.808219\", \"2017-06-24T02:51:36.986301\", \"2017-06-25T02:52:36.164383\", \"2017-06-26T02:53:35.342465\", \"2017-06-27T02:54:34.520547\", \"2017-06-28T02:55:33.698630\", \"2017-06-29T02:56:32.876712\", \"2017-06-30T02:57:32.054794\", \"2017-07-01T02:58:31.232876\", \"2017-07-02T02:59:30.410958\", \"2017-07-03T03:00:29.589041\", \"2017-07-04T03:01:28.767123\", \"2017-07-05T03:02:27.945205\", \"2017-07-06T03:03:27.123287\", \"2017-07-07T03:04:26.301369\", \"2017-07-08T03:05:25.479452\", \"2017-07-09T03:06:24.657534\", \"2017-07-10T03:07:23.835616\", \"2017-07-11T03:08:23.013698\", \"2017-07-12T03:09:22.191780\", \"2017-07-13T03:10:21.369862\", \"2017-07-14T03:11:20.547945\", \"2017-07-15T03:12:19.726027\", \"2017-07-16T03:13:18.904109\", \"2017-07-17T03:14:18.082191\", \"2017-07-18T03:15:17.260273\", \"2017-07-19T03:16:16.438356\", \"2017-07-20T03:17:15.616438\", \"2017-07-21T03:18:14.794520\", \"2017-07-22T03:19:13.972602\", \"2017-07-23T03:20:13.150684\", \"2017-07-24T03:21:12.328767\", \"2017-07-25T03:22:11.506849\", \"2017-07-26T03:23:10.684931\", \"2017-07-27T03:24:09.863013\", \"2017-07-28T03:25:09.041095\", \"2017-07-29T03:26:08.219177\", \"2017-07-30T03:27:07.397260\", \"2017-07-31T03:28:06.575342\", \"2017-08-01T03:29:05.753424\", \"2017-08-02T03:30:04.931506\", \"2017-08-03T03:31:04.109588\", \"2017-08-04T03:32:03.287671\", \"2017-08-05T03:33:02.465753\", \"2017-08-06T03:34:01.643835\", \"2017-08-07T03:35:00.821917\", \"2017-08-08T03:36:00\", \"2017-08-09T03:36:59.178082\", \"2017-08-10T03:37:58.356164\", \"2017-08-11T03:38:57.534246\", \"2017-08-12T03:39:56.712328\", \"2017-08-13T03:40:55.890411\", \"2017-08-14T03:41:55.068493\", \"2017-08-15T03:42:54.246575\", \"2017-08-16T03:43:53.424657\", \"2017-08-17T03:44:52.602739\", \"2017-08-18T03:45:51.780822\", \"2017-08-19T03:46:50.958904\", \"2017-08-20T03:47:50.136986\", \"2017-08-21T03:48:49.315068\", \"2017-08-22T03:49:48.493150\", \"2017-08-23T03:50:47.671232\", \"2017-08-24T03:51:46.849315\", \"2017-08-25T03:52:46.027397\", \"2017-08-26T03:53:45.205479\", \"2017-08-27T03:54:44.383561\", \"2017-08-28T03:55:43.561643\", \"2017-08-29T03:56:42.739726\", \"2017-08-30T03:57:41.917808\", \"2017-08-31T03:58:41.095890\", \"2017-09-01T03:59:40.273972\", \"2017-09-02T04:00:39.452054\", \"2017-09-03T04:01:38.630137\", \"2017-09-04T04:02:37.808219\", \"2017-09-05T04:03:36.986301\", \"2017-09-06T04:04:36.164383\", \"2017-09-07T04:05:35.342465\", \"2017-09-08T04:06:34.520547\", \"2017-09-09T04:07:33.698630\", \"2017-09-10T04:08:32.876712\", \"2017-09-11T04:09:32.054794\", \"2017-09-12T04:10:31.232876\", \"2017-09-13T04:11:30.410958\", \"2017-09-14T04:12:29.589041\", \"2017-09-15T04:13:28.767123\", \"2017-09-16T04:14:27.945205\", \"2017-09-17T04:15:27.123287\", \"2017-09-18T04:16:26.301369\", \"2017-09-19T04:17:25.479452\", \"2017-09-20T04:18:24.657534\", \"2017-09-21T04:19:23.835616\", \"2017-09-22T04:20:23.013698\", \"2017-09-23T04:21:22.191780\", \"2017-09-24T04:22:21.369862\", \"2017-09-25T04:23:20.547945\", \"2017-09-26T04:24:19.726027\", \"2017-09-27T04:25:18.904109\", \"2017-09-28T04:26:18.082191\", \"2017-09-29T04:27:17.260273\", \"2017-09-30T04:28:16.438356\", \"2017-10-01T04:29:15.616438\", \"2017-10-02T04:30:14.794520\", \"2017-10-03T04:31:13.972602\", \"2017-10-04T04:32:13.150684\", \"2017-10-05T04:33:12.328767\", \"2017-10-06T04:34:11.506849\", \"2017-10-07T04:35:10.684931\", \"2017-10-08T04:36:09.863013\", \"2017-10-09T04:37:09.041095\", \"2017-10-10T04:38:08.219177\", \"2017-10-11T04:39:07.397260\", \"2017-10-12T04:40:06.575342\", \"2017-10-13T04:41:05.753424\", \"2017-10-14T04:42:04.931506\", \"2017-10-15T04:43:04.109588\", \"2017-10-16T04:44:03.287671\", \"2017-10-17T04:45:02.465753\", \"2017-10-18T04:46:01.643835\", \"2017-10-19T04:47:00.821917\", \"2017-10-20T04:48:00\", \"2017-10-21T04:48:59.178082\", \"2017-10-22T04:49:58.356164\", \"2017-10-23T04:50:57.534246\", \"2017-10-24T04:51:56.712328\", \"2017-10-25T04:52:55.890411\", \"2017-10-26T04:53:55.068493\", \"2017-10-27T04:54:54.246575\", \"2017-10-28T04:55:53.424657\", \"2017-10-29T04:56:52.602739\", \"2017-10-30T04:57:51.780822\", \"2017-10-31T04:58:50.958904\", \"2017-11-01T04:59:50.136986\", \"2017-11-02T05:00:49.315068\", \"2017-11-03T05:01:48.493150\", \"2017-11-04T05:02:47.671232\", \"2017-11-05T05:03:46.849315\", \"2017-11-06T05:04:46.027397\", \"2017-11-07T05:05:45.205479\", \"2017-11-08T05:06:44.383561\", \"2017-11-09T05:07:43.561643\", \"2017-11-10T05:08:42.739726\", \"2017-11-11T05:09:41.917808\", \"2017-11-12T05:10:41.095890\", \"2017-11-13T05:11:40.273972\", \"2017-11-14T05:12:39.452054\", \"2017-11-15T05:13:38.630137\", \"2017-11-16T05:14:37.808219\", \"2017-11-17T05:15:36.986301\", \"2017-11-18T05:16:36.164383\", \"2017-11-19T05:17:35.342465\", \"2017-11-20T05:18:34.520547\", \"2017-11-21T05:19:33.698630\", \"2017-11-22T05:20:32.876712\", \"2017-11-23T05:21:32.054794\", \"2017-11-24T05:22:31.232876\", \"2017-11-25T05:23:30.410958\", \"2017-11-26T05:24:29.589041\", \"2017-11-27T05:25:28.767123\", \"2017-11-28T05:26:27.945205\", \"2017-11-29T05:27:27.123287\", \"2017-11-30T05:28:26.301369\", \"2017-12-01T05:29:25.479452\", \"2017-12-02T05:30:24.657534\", \"2017-12-03T05:31:23.835616\", \"2017-12-04T05:32:23.013698\", \"2017-12-05T05:33:22.191780\", \"2017-12-06T05:34:21.369862\", \"2017-12-07T05:35:20.547945\", \"2017-12-08T05:36:19.726027\", \"2017-12-09T05:37:18.904109\", \"2017-12-10T05:38:18.082191\", \"2017-12-11T05:39:17.260273\", \"2017-12-12T05:40:16.438356\", \"2017-12-13T05:41:15.616438\", \"2017-12-14T05:42:14.794520\", \"2017-12-15T05:43:13.972602\", \"2017-12-16T05:44:13.150684\", \"2017-12-17T05:45:12.328767\", \"2017-12-18T05:46:11.506849\", \"2017-12-19T05:47:10.684931\", \"2017-12-20T05:48:09.863013\", \"2017-12-21T05:49:09.041095\", \"2017-12-22T05:50:08.219177\", \"2017-12-23T05:51:07.397260\", \"2017-12-24T05:52:06.575342\", \"2017-12-25T05:53:05.753424\", \"2017-12-26T05:54:04.931506\", \"2017-12-27T05:55:04.109588\", \"2017-12-28T05:56:03.287671\", \"2017-12-29T05:57:02.465753\", \"2017-12-30T05:58:01.643835\", \"2017-12-31T05:59:00.821917\"], \"xaxis\": \"x2\", \"y\": [372.0516089598815, 350.3659462096129, 324.8118384549245, 295.7190935617187, 263.47587799157196, 228.52082577332067, 191.3340620571887, 152.42735537666204, 112.33363374500588, 71.5961146131467, 30.757307157460527, -9.651852862947173, -49.12248035650212, -87.1775863730592, -123.38106553895396, -157.34562250610432, -188.73946280762883, -217.29160609848068, -242.7957156973805, -265.1123766577129, -284.16979423837097, -299.96292456090754, -312.5510883681106, -322.05415610136396, -328.6474270268131, -332.55535597104034, -334.04430760484195, -333.4145394854671, -330.99163073971164, -327.1175829971696, -322.1418237922207, -316.4123401406866, -310.2671615272486, -304.0263974356209, -297.98501529386624, -292.406520903844, -287.5176758006695, -283.50435537346516, -280.5086188604259, -278.62702845021533, -277.91022062568703, -278.36369952680013, -279.9497903841339, -282.5906618319952, -286.1722999110753, -290.54929446003086, -295.55028091298374, -300.9838676525852, -306.6448712682203, -312.32067943533815, -317.7975636120122, -322.86677114727337, -327.3302383760952, -331.00578237716576, -333.7316487227542, -335.3703150911578, -335.81147530991854, -334.9741544753839, -332.80793244583487, -329.2932794338433, -324.44103285111976, -318.29106826022036, -310.9102386010405, -302.3896742187455, -292.8415511517516, -282.39544629527603, -271.1944052063668, -259.39085136480935, -247.14246467420287, -234.60815204182506, -221.9442242872116, -209.30088177087165, -196.81909650265942, -184.627961610374, -172.84256056475556, -161.56238908686703, -150.87034289715513, -140.83226505261771, -131.4970281865756, -122.89711012320107, -115.04960657873733, -107.95761245972133, -101.61189393642258, -95.99276728530471, -91.07209756119062, -86.81533051691257, -83.18347473149161, -80.1349574349259, -77.62728673182507, -75.61846442796339, -74.06810699078095, -72.93824679950069, -72.19380119741926, -71.80271236127828, -71.73577606371002, -71.96619145638216, -72.4688765180936, -73.21960431978147, -74.19402336254792, -75.36663063364973, -76.70976848811436, -78.19271589470867, -79.78094098455146, -81.43557532476851, -83.11316113174908, -84.76571104831349, -86.34110655993429, -87.78384609194188, -89.03613786595903, -90.03931628346645, -90.73554456195436, -91.0697511867657, -90.99173404971941, -90.45835448594323, -89.43573427745407, -87.90136249501157, -85.84601611608683, -83.27539890960054, -80.2114072255597, -76.69293905271536, -72.77617387138052, -68.53426518089367, -64.0564047413544, -59.44623706500986, -54.81962395593217, -50.30178127667502, -46.02383292515777, -42.118849487708545, -38.717460455199685, -35.943148504614555, -33.9073514555425, -32.70451146582823, -32.407221266613526, -33.06162328197708, -34.68321898728781, -37.25324260437303, -40.715745135231685, -44.97552185262186, -49.89699891767682, -55.30417312511089, -60.98167338500978, -66.67698405164712, -72.10383933247854, -76.94676557237946, -80.86671510132204, -83.5077024852649, -84.50432238718149, -83.48999876124901, -80.10578868242534, -74.00954158557195, -64.88519681181803, -52.45198976864861, -36.4733302041136, -16.765115436091612, 6.796752959557565, 34.2698684858423, 65.64003638003496, 100.81738483787771, 139.6340186767049, 181.84332924593994, 227.12103645667747, 275.0679979132849, 325.2147773273584, 377.02792074705184, 429.91784580881506, 483.24820734502254, 536.3465633898821, 588.5161300027041, 639.048382349776, 687.2362340711385, 732.3875078012856, 773.8383974693098, 810.9666180330356, 843.203940871316, 870.0478231639731, 891.0718570938062, 905.9347892131246, 914.3878912912196, 916.2805006565637, 911.563589587865, 900.2912686607247, 882.6201769956954, 858.8067618675592, 829.2024998708663, 794.2471605245526, 754.4602595904522, 710.4308922944564, 662.8061749499694, 612.2785562346387, 559.5722856858422, 505.4293462017371, 450.595168975313, 395.8044530230062, 341.76740726005744, 289.156720991323, 238.59554910293068, 190.64677164679495, 145.8037546346562, 104.48280057184684, 67.01743455263356, 33.65462577214155, 4.55299623887509, -20.216980395167074, -40.67083541296291, -56.90610927422981, -69.09663962397781, -77.48530899858673, -82.37546299226513, -84.12123861287772, -83.11706496134053, -79.78661371076875, -74.57148481020548, -67.91991328143958, -60.27577600168579, -52.068163249452276, -43.70175901571067, -35.54824729230957, -27.93892955180551, -21.158702362781444, -15.441504587572256, -10.967301999668909, -7.860634599680623, -6.1907095741415255, -5.972981879390174, -7.1721259460816, -9.706266994860599, -13.452309841895545, -18.252177617715834, -23.919753136944884, -30.24830218636754, -37.018151002010676, -44.00438976161327, -50.984379912356346, -57.74485529608099, -64.08842486395719, -69.83930766952686, -74.84815804377506, -78.99586952469892, -82.19627928140811, -84.397729438333, -85.58347682665969, -85.77097724076346, -85.01010325316331, -83.38038510659537, -80.98739130524375, -77.95838853145845, -74.4374388102009, -70.58010497879933, -66.54794318973379, -62.502963252806964, -58.60223414667799, -54.99280319780554, -51.80708360489645, -49.15884667535435, -47.13993297934756, -45.81777135026575, -45.23376709929246, -45.402591843354166, -46.312377891652694, -47.925791109550296, -50.181928472167215, -52.99896098094836, -56.2774200034921, -59.90400607995632, -63.75578436352655, -67.70462054576774, -71.62170561911363, -75.3820172745311, -78.86857007444343, -81.97631559084671, -84.61556712187176, -86.71484091759294, -88.22302648105111, -89.11082176273383, -89.37139417876058, -89.02025453376608, -88.09435727073974, -86.65046616074338, -84.76284875721699, -82.52038490921146, -80.02319365332303, -77.37889829115811, -74.69866092297566, -72.09312478307348, -69.6684052142402, -67.52226793382289, -65.7406264799655, -64.39447960512179, -63.53739425943923, -63.203621186713605, -63.406908625906674, -64.1400558806078, -65.37522334726464, -67.0649897912119, -69.14412207439413, -71.53199798719382, -74.13560012945753, -76.85297866473776, -79.57706390046845, -82.19969659732182, -84.61573512406068, -86.72709437189046, -88.44657189344693, -89.70132205892534, -90.4358490021939, -90.61440348408736, -90.22268711651479, -89.26878912660983, -87.78330534166564, -85.81861559287834, -83.44732345811268, -80.75989032219904, -77.86152325196178, -74.86840228102088, -71.90335654755195, -69.09111953278641, -66.55331072849995, -64.4033038198631, -62.7411494474506, -61.64872348533271, -61.185269371272746, -61.383495333371606, -62.2463745307755, -63.74477845815004, -65.81605191791331, -68.36361202665013, -71.25762480793182, -74.33678174555239, -77.41116612131681, -80.26616598390487, -82.66735815812446, -84.3662567744037, -85.10679130742372, -84.63235393720709, -82.69323497256947, -79.05424878406822, -73.50234173023908, -65.85396832935444, -55.96202266496907, -43.72211879447922, -29.078026647532212, -12.026088292400699, 7.381536933995118, 29.0349216786693, 52.7658052763397, 78.34846973988793, 105.50207550894832, 133.89443695463206, 163.14717909591604, 192.84217945442668, 222.52916347362896, 251.73428947938442, 279.9695306633912, 306.74263784662645, 331.5674485305749, 353.97429548358696, 373.5202622570781, 389.7990337528267, 402.4500973201969, 411.1670636866791, 415.70489698066785, 415.88586870420124, 411.60408107990975, 402.8284399543667, 389.60399546323055], \"yaxis\": \"y2\"}],\n",
              "                        {\"height\": 400, \"showlegend\": false, \"template\": {\"data\": {\"bar\": [{\"error_x\": {\"color\": \"#2a3f5f\"}, \"error_y\": {\"color\": \"#2a3f5f\"}, \"marker\": {\"line\": {\"color\": \"#E5ECF6\", \"width\": 0.5}}, \"type\": \"bar\"}], \"barpolar\": [{\"marker\": {\"line\": {\"color\": \"#E5ECF6\", \"width\": 0.5}}, \"type\": \"barpolar\"}], \"carpet\": [{\"aaxis\": {\"endlinecolor\": \"#2a3f5f\", \"gridcolor\": \"white\", \"linecolor\": \"white\", \"minorgridcolor\": \"white\", \"startlinecolor\": \"#2a3f5f\"}, \"baxis\": {\"endlinecolor\": \"#2a3f5f\", \"gridcolor\": \"white\", \"linecolor\": \"white\", \"minorgridcolor\": \"white\", \"startlinecolor\": \"#2a3f5f\"}, \"type\": \"carpet\"}], \"choropleth\": [{\"colorbar\": {\"outlinewidth\": 0, \"ticks\": \"\"}, \"type\": \"choropleth\"}], \"contour\": [{\"colorbar\": {\"outlinewidth\": 0, \"ticks\": \"\"}, \"colorscale\": [[0.0, \"#0d0887\"], [0.1111111111111111, \"#46039f\"], [0.2222222222222222, \"#7201a8\"], [0.3333333333333333, \"#9c179e\"], [0.4444444444444444, \"#bd3786\"], [0.5555555555555556, \"#d8576b\"], [0.6666666666666666, \"#ed7953\"], [0.7777777777777778, \"#fb9f3a\"], [0.8888888888888888, \"#fdca26\"], [1.0, \"#f0f921\"]], \"type\": \"contour\"}], \"contourcarpet\": [{\"colorbar\": {\"outlinewidth\": 0, \"ticks\": \"\"}, \"type\": \"contourcarpet\"}], \"heatmap\": [{\"colorbar\": {\"outlinewidth\": 0, \"ticks\": \"\"}, \"colorscale\": [[0.0, \"#0d0887\"], [0.1111111111111111, \"#46039f\"], [0.2222222222222222, \"#7201a8\"], [0.3333333333333333, \"#9c179e\"], [0.4444444444444444, \"#bd3786\"], [0.5555555555555556, \"#d8576b\"], [0.6666666666666666, \"#ed7953\"], [0.7777777777777778, \"#fb9f3a\"], [0.8888888888888888, \"#fdca26\"], [1.0, \"#f0f921\"]], \"type\": \"heatmap\"}], \"heatmapgl\": [{\"colorbar\": {\"outlinewidth\": 0, \"ticks\": \"\"}, \"colorscale\": [[0.0, \"#0d0887\"], [0.1111111111111111, \"#46039f\"], [0.2222222222222222, \"#7201a8\"], [0.3333333333333333, \"#9c179e\"], [0.4444444444444444, \"#bd3786\"], [0.5555555555555556, \"#d8576b\"], [0.6666666666666666, \"#ed7953\"], [0.7777777777777778, \"#fb9f3a\"], [0.8888888888888888, \"#fdca26\"], [1.0, \"#f0f921\"]], \"type\": \"heatmapgl\"}], \"histogram\": [{\"marker\": {\"colorbar\": {\"outlinewidth\": 0, \"ticks\": \"\"}}, \"type\": \"histogram\"}], \"histogram2d\": [{\"colorbar\": {\"outlinewidth\": 0, \"ticks\": \"\"}, \"colorscale\": [[0.0, \"#0d0887\"], [0.1111111111111111, \"#46039f\"], [0.2222222222222222, \"#7201a8\"], [0.3333333333333333, \"#9c179e\"], [0.4444444444444444, \"#bd3786\"], [0.5555555555555556, \"#d8576b\"], [0.6666666666666666, \"#ed7953\"], [0.7777777777777778, \"#fb9f3a\"], [0.8888888888888888, \"#fdca26\"], [1.0, \"#f0f921\"]], \"type\": \"histogram2d\"}], \"histogram2dcontour\": [{\"colorbar\": {\"outlinewidth\": 0, \"ticks\": \"\"}, \"colorscale\": [[0.0, \"#0d0887\"], [0.1111111111111111, \"#46039f\"], [0.2222222222222222, \"#7201a8\"], [0.3333333333333333, \"#9c179e\"], [0.4444444444444444, \"#bd3786\"], [0.5555555555555556, \"#d8576b\"], [0.6666666666666666, \"#ed7953\"], [0.7777777777777778, \"#fb9f3a\"], [0.8888888888888888, \"#fdca26\"], [1.0, \"#f0f921\"]], \"type\": \"histogram2dcontour\"}], \"mesh3d\": [{\"colorbar\": {\"outlinewidth\": 0, \"ticks\": \"\"}, \"type\": \"mesh3d\"}], \"parcoords\": [{\"line\": {\"colorbar\": {\"outlinewidth\": 0, \"ticks\": \"\"}}, \"type\": \"parcoords\"}], \"pie\": [{\"automargin\": true, \"type\": \"pie\"}], \"scatter\": [{\"marker\": {\"colorbar\": {\"outlinewidth\": 0, \"ticks\": \"\"}}, \"type\": \"scatter\"}], \"scatter3d\": [{\"line\": {\"colorbar\": {\"outlinewidth\": 0, \"ticks\": \"\"}}, \"marker\": {\"colorbar\": {\"outlinewidth\": 0, \"ticks\": \"\"}}, \"type\": \"scatter3d\"}], \"scattercarpet\": [{\"marker\": {\"colorbar\": {\"outlinewidth\": 0, \"ticks\": \"\"}}, \"type\": \"scattercarpet\"}], \"scattergeo\": [{\"marker\": {\"colorbar\": {\"outlinewidth\": 0, \"ticks\": \"\"}}, \"type\": \"scattergeo\"}], \"scattergl\": [{\"marker\": {\"colorbar\": {\"outlinewidth\": 0, \"ticks\": \"\"}}, \"type\": \"scattergl\"}], \"scattermapbox\": [{\"marker\": {\"colorbar\": {\"outlinewidth\": 0, \"ticks\": \"\"}}, \"type\": \"scattermapbox\"}], \"scatterpolar\": [{\"marker\": {\"colorbar\": {\"outlinewidth\": 0, \"ticks\": \"\"}}, \"type\": \"scatterpolar\"}], \"scatterpolargl\": [{\"marker\": {\"colorbar\": {\"outlinewidth\": 0, \"ticks\": \"\"}}, \"type\": \"scatterpolargl\"}], \"scatterternary\": [{\"marker\": {\"colorbar\": {\"outlinewidth\": 0, \"ticks\": \"\"}}, \"type\": \"scatterternary\"}], \"surface\": [{\"colorbar\": {\"outlinewidth\": 0, \"ticks\": \"\"}, \"colorscale\": [[0.0, \"#0d0887\"], [0.1111111111111111, \"#46039f\"], [0.2222222222222222, \"#7201a8\"], [0.3333333333333333, \"#9c179e\"], [0.4444444444444444, \"#bd3786\"], [0.5555555555555556, \"#d8576b\"], [0.6666666666666666, \"#ed7953\"], [0.7777777777777778, \"#fb9f3a\"], [0.8888888888888888, \"#fdca26\"], [1.0, \"#f0f921\"]], \"type\": \"surface\"}], \"table\": [{\"cells\": {\"fill\": {\"color\": \"#EBF0F8\"}, \"line\": {\"color\": \"white\"}}, \"header\": {\"fill\": {\"color\": \"#C8D4E3\"}, \"line\": {\"color\": \"white\"}}, \"type\": \"table\"}]}, \"layout\": {\"annotationdefaults\": {\"arrowcolor\": \"#2a3f5f\", \"arrowhead\": 0, \"arrowwidth\": 1}, \"coloraxis\": {\"colorbar\": {\"outlinewidth\": 0, \"ticks\": \"\"}}, \"colorscale\": {\"diverging\": [[0, \"#8e0152\"], [0.1, \"#c51b7d\"], [0.2, \"#de77ae\"], [0.3, \"#f1b6da\"], [0.4, \"#fde0ef\"], [0.5, \"#f7f7f7\"], [0.6, \"#e6f5d0\"], [0.7, \"#b8e186\"], [0.8, \"#7fbc41\"], [0.9, \"#4d9221\"], [1, \"#276419\"]], \"sequential\": [[0.0, \"#0d0887\"], [0.1111111111111111, \"#46039f\"], [0.2222222222222222, \"#7201a8\"], [0.3333333333333333, \"#9c179e\"], [0.4444444444444444, \"#bd3786\"], [0.5555555555555556, \"#d8576b\"], [0.6666666666666666, \"#ed7953\"], [0.7777777777777778, \"#fb9f3a\"], [0.8888888888888888, \"#fdca26\"], [1.0, \"#f0f921\"]], \"sequentialminus\": [[0.0, \"#0d0887\"], [0.1111111111111111, \"#46039f\"], [0.2222222222222222, \"#7201a8\"], [0.3333333333333333, \"#9c179e\"], [0.4444444444444444, \"#bd3786\"], [0.5555555555555556, \"#d8576b\"], [0.6666666666666666, \"#ed7953\"], [0.7777777777777778, \"#fb9f3a\"], [0.8888888888888888, \"#fdca26\"], [1.0, \"#f0f921\"]]}, \"colorway\": [\"#636efa\", \"#EF553B\", \"#00cc96\", \"#ab63fa\", \"#FFA15A\", \"#19d3f3\", \"#FF6692\", \"#B6E880\", \"#FF97FF\", \"#FECB52\"], \"font\": {\"color\": \"#2a3f5f\"}, \"geo\": {\"bgcolor\": \"white\", \"lakecolor\": \"white\", \"landcolor\": \"#E5ECF6\", \"showlakes\": true, \"showland\": true, \"subunitcolor\": \"white\"}, \"hoverlabel\": {\"align\": \"left\"}, \"hovermode\": \"closest\", \"mapbox\": {\"style\": \"light\"}, \"paper_bgcolor\": \"white\", \"plot_bgcolor\": \"#E5ECF6\", \"polar\": {\"angularaxis\": {\"gridcolor\": \"white\", \"linecolor\": \"white\", \"ticks\": \"\"}, \"bgcolor\": \"#E5ECF6\", \"radialaxis\": {\"gridcolor\": \"white\", \"linecolor\": \"white\", \"ticks\": \"\"}}, \"scene\": {\"xaxis\": {\"backgroundcolor\": \"#E5ECF6\", \"gridcolor\": \"white\", \"gridwidth\": 2, \"linecolor\": \"white\", \"showbackground\": true, \"ticks\": \"\", \"zerolinecolor\": \"white\"}, \"yaxis\": {\"backgroundcolor\": \"#E5ECF6\", \"gridcolor\": \"white\", \"gridwidth\": 2, \"linecolor\": \"white\", \"showbackground\": true, \"ticks\": \"\", \"zerolinecolor\": \"white\"}, \"zaxis\": {\"backgroundcolor\": \"#E5ECF6\", \"gridcolor\": \"white\", \"gridwidth\": 2, \"linecolor\": \"white\", \"showbackground\": true, \"ticks\": \"\", \"zerolinecolor\": \"white\"}}, \"shapedefaults\": {\"line\": {\"color\": \"#2a3f5f\"}}, \"ternary\": {\"aaxis\": {\"gridcolor\": \"white\", \"linecolor\": \"white\", \"ticks\": \"\"}, \"baxis\": {\"gridcolor\": \"white\", \"linecolor\": \"white\", \"ticks\": \"\"}, \"bgcolor\": \"#E5ECF6\", \"caxis\": {\"gridcolor\": \"white\", \"linecolor\": \"white\", \"ticks\": \"\"}}, \"title\": {\"x\": 0.05}, \"xaxis\": {\"automargin\": true, \"gridcolor\": \"white\", \"linecolor\": \"white\", \"ticks\": \"\", \"title\": {\"standoff\": 15}, \"zerolinecolor\": \"white\", \"zerolinewidth\": 2}, \"yaxis\": {\"automargin\": true, \"gridcolor\": \"white\", \"linecolor\": \"white\", \"ticks\": \"\", \"title\": {\"standoff\": 15}, \"zerolinecolor\": \"white\", \"zerolinewidth\": 2}}}, \"title\": {\"text\": \"Detalhes do Hist\\u00f3rico de Vendas\"}, \"width\": 900, \"xaxis\": {\"anchor\": \"y\", \"domain\": [0.0, 1.0], \"range\": [\"1999-01-10T20:24:00\", \"2022-01-17T03:36:00\"], \"type\": \"date\"}, \"xaxis2\": {\"anchor\": \"y2\", \"domain\": [0.0, 1.0], \"range\": [\"2016-12-13T18:54:02.958904115\", \"2018-01-18T11:04:57.863013581\"], \"tickformat\": \"%B %e\", \"type\": \"date\"}, \"yaxis\": {\"anchor\": \"x\", \"domain\": [0.575, 1.0], \"rangemode\": \"normal\", \"title\": {\"text\": \"trend\"}, \"zerolinecolor\": \"#AAA\"}, \"yaxis2\": {\"anchor\": \"x2\", \"domain\": [0.0, 0.425], \"title\": {\"text\": \"yearly\"}, \"zerolinecolor\": \"#AAA\"}},\n",
              "                        {\"responsive\": true}\n",
              "                    ).then(function(){\n",
              "                            \n",
              "var gd = document.getElementById('74d45f4d-7cc3-48de-9a70-893a10cc3dac');\n",
              "var x = new MutationObserver(function (mutations, observer) {{\n",
              "        var display = window.getComputedStyle(gd).display;\n",
              "        if (!display || display === 'none') {{\n",
              "            console.log([gd, 'removed!']);\n",
              "            Plotly.purge(gd);\n",
              "            observer.disconnect();\n",
              "        }}\n",
              "}});\n",
              "\n",
              "// Listen for the removal of the full notebook cells\n",
              "var notebookContainer = gd.closest('#notebook-container');\n",
              "if (notebookContainer) {{\n",
              "    x.observe(notebookContainer, {childList: true});\n",
              "}}\n",
              "\n",
              "// Listen for the clearing of the current output cell\n",
              "var outputEl = gd.closest('.output');\n",
              "if (outputEl) {{\n",
              "    x.observe(outputEl, {childList: true});\n",
              "}}\n",
              "\n",
              "                        })\n",
              "                };\n",
              "                \n",
              "            </script>\n",
              "        </div>\n",
              "</body>\n",
              "</html>"
            ]
          },
          "metadata": {
            "tags": []
          }
        }
      ]
    },
    {
      "cell_type": "markdown",
      "metadata": {
        "id": "PkOgEtq1L9Gd"
      },
      "source": [
        "# **Prediction Scikit-Learn**"
      ]
    },
    {
      "cell_type": "code",
      "metadata": {
        "id": "Dryp9-UkL81e"
      },
      "source": [
        "# ML Algorithms sklearn\n",
        "from sklearn.ensemble import RandomForestRegressor, GradientBoostingRegressor\n",
        "from sklearn.tree import DecisionTreeRegressor\n",
        "from sklearn.linear_model import LinearRegression, LogisticRegression\n",
        "from sklearn.svm import SVR\n",
        "from sklearn.naive_bayes import GaussianNB\n",
        "from sklearn.dummy import DummyRegressor\n",
        "from sklearn.metrics import mean_absolute_error\n",
        "from sklearn.model_selection import train_test_split"
      ],
      "execution_count": 14,
      "outputs": []
    },
    {
      "cell_type": "code",
      "metadata": {
        "id": "2iEuf27wMzpo"
      },
      "source": [
        "regressors = [\n",
        "        DecisionTreeRegressor(),\n",
        "        RandomForestRegressor(),\n",
        "        SVR(),\n",
        "        LinearRegression(),\n",
        "        GradientBoostingRegressor(),\n",
        "        DummyRegressor(),\n",
        "        LogisticRegression(),\n",
        "        GaussianNB()\n",
        "    ]"
      ],
      "execution_count": 15,
      "outputs": []
    },
    {
      "cell_type": "code",
      "metadata": {
        "id": "CSVruy7HNLl3"
      },
      "source": [
        "vendasK = vendas.copy()\n",
        "vendasK['mes'] = pd.DatetimeIndex(vendasK.ds).month\n",
        "vendasK['ano'] = pd.DatetimeIndex(vendasK.ds).year"
      ],
      "execution_count": 16,
      "outputs": []
    },
    {
      "cell_type": "code",
      "metadata": {
        "id": "pKM3FY8OM28Q"
      },
      "source": [
        "X = vendasK[['mes', 'ano']]\n",
        "y = vendasK.y\n",
        "Xtreino, Xteste, ytreino, yteste = train_test_split(X, y, test_size=0.3, random_state=123)"
      ],
      "execution_count": 17,
      "outputs": []
    },
    {
      "cell_type": "code",
      "metadata": {
        "id": "T5Uq3S4WNBXB"
      },
      "source": [
        "reg = []\n",
        "mae = []\n",
        "sco = []\n",
        "for regressor in regressors:\n",
        "    modelo = RandomForestRegressor()\n",
        "    modelo.fit(Xtreino, np.array(ytreino))\n",
        "    sco.append(modelo.score(Xtreino, ytreino))\n",
        "    previsao = modelo.predict(Xteste)\n",
        "    mae.append(round(mean_absolute_error(yteste, previsao), 2))\n",
        "    reg.append(regressor)"
      ],
      "execution_count": 30,
      "outputs": []
    },
    {
      "cell_type": "code",
      "metadata": {
        "id": "D0AleqagNOOg"
      },
      "source": [
        "meuMae = pd.DataFrame(columns=['Regressor', 'mae', 'score'])\n",
        "meuMae['Regressor'] = reg\n",
        "meuMae['mae'] = mae\n",
        "meuMae['score'] = sco"
      ],
      "execution_count": 31,
      "outputs": []
    },
    {
      "cell_type": "code",
      "metadata": {
        "id": "DBVcRJDtNP2e",
        "outputId": "831e6963-eda8-456e-b630-32480870a3ad",
        "colab": {
          "base_uri": "https://localhost:8080/",
          "height": 297
        }
      },
      "source": [
        "meuMae = meuMae.sort_values(by='score', ascending=False)\n",
        "meuMae"
      ],
      "execution_count": 32,
      "outputs": [
        {
          "output_type": "execute_result",
          "data": {
            "text/html": [
              "<div>\n",
              "<style scoped>\n",
              "    .dataframe tbody tr th:only-of-type {\n",
              "        vertical-align: middle;\n",
              "    }\n",
              "\n",
              "    .dataframe tbody tr th {\n",
              "        vertical-align: top;\n",
              "    }\n",
              "\n",
              "    .dataframe thead th {\n",
              "        text-align: right;\n",
              "    }\n",
              "</style>\n",
              "<table border=\"1\" class=\"dataframe\">\n",
              "  <thead>\n",
              "    <tr style=\"text-align: right;\">\n",
              "      <th></th>\n",
              "      <th>Regressor</th>\n",
              "      <th>mae</th>\n",
              "      <th>score</th>\n",
              "    </tr>\n",
              "  </thead>\n",
              "  <tbody>\n",
              "    <tr>\n",
              "      <th>2</th>\n",
              "      <td>SVR(C=1.0, cache_size=200, coef0=0.0, degree=3...</td>\n",
              "      <td>0.00</td>\n",
              "      <td>1.000000</td>\n",
              "    </tr>\n",
              "    <tr>\n",
              "      <th>4</th>\n",
              "      <td>GradientBoostingRegressor(alpha=0.9, ccp_alpha...</td>\n",
              "      <td>0.00</td>\n",
              "      <td>1.000000</td>\n",
              "    </tr>\n",
              "    <tr>\n",
              "      <th>6</th>\n",
              "      <td>LogisticRegression(C=1.0, class_weight=None, d...</td>\n",
              "      <td>0.00</td>\n",
              "      <td>1.000000</td>\n",
              "    </tr>\n",
              "    <tr>\n",
              "      <th>7</th>\n",
              "      <td>GaussianNB(priors=None, var_smoothing=1e-09)</td>\n",
              "      <td>0.00</td>\n",
              "      <td>1.000000</td>\n",
              "    </tr>\n",
              "    <tr>\n",
              "      <th>0</th>\n",
              "      <td>DecisionTreeRegressor(ccp_alpha=0.0, criterion...</td>\n",
              "      <td>0.97</td>\n",
              "      <td>0.999954</td>\n",
              "    </tr>\n",
              "    <tr>\n",
              "      <th>3</th>\n",
              "      <td>LinearRegression(copy_X=True, fit_intercept=Tr...</td>\n",
              "      <td>0.97</td>\n",
              "      <td>0.999954</td>\n",
              "    </tr>\n",
              "    <tr>\n",
              "      <th>5</th>\n",
              "      <td>DummyRegressor(constant=None, quantile=None, s...</td>\n",
              "      <td>2.22</td>\n",
              "      <td>0.999870</td>\n",
              "    </tr>\n",
              "    <tr>\n",
              "      <th>1</th>\n",
              "      <td>RandomForestRegressor(bootstrap=True, ccp_alph...</td>\n",
              "      <td>2.64</td>\n",
              "      <td>0.999837</td>\n",
              "    </tr>\n",
              "  </tbody>\n",
              "</table>\n",
              "</div>"
            ],
            "text/plain": [
              "                                           Regressor   mae     score\n",
              "2  SVR(C=1.0, cache_size=200, coef0=0.0, degree=3...  0.00  1.000000\n",
              "4  GradientBoostingRegressor(alpha=0.9, ccp_alpha...  0.00  1.000000\n",
              "6  LogisticRegression(C=1.0, class_weight=None, d...  0.00  1.000000\n",
              "7       GaussianNB(priors=None, var_smoothing=1e-09)  0.00  1.000000\n",
              "0  DecisionTreeRegressor(ccp_alpha=0.0, criterion...  0.97  0.999954\n",
              "3  LinearRegression(copy_X=True, fit_intercept=Tr...  0.97  0.999954\n",
              "5  DummyRegressor(constant=None, quantile=None, s...  2.22  0.999870\n",
              "1  RandomForestRegressor(bootstrap=True, ccp_alph...  2.64  0.999837"
            ]
          },
          "metadata": {
            "tags": []
          },
          "execution_count": 32
        }
      ]
    },
    {
      "cell_type": "code",
      "metadata": {
        "id": "uEsW8eXKNT4p",
        "outputId": "f4e835d9-d2b3-4fb2-a3a0-8f3debb7736a",
        "colab": {
          "base_uri": "https://localhost:8080/",
          "height": 52
        }
      },
      "source": [
        "f'Best Regressor: {meuMae[\"Regressor\"].values[0]}'"
      ],
      "execution_count": 33,
      "outputs": [
        {
          "output_type": "execute_result",
          "data": {
            "application/vnd.google.colaboratory.intrinsic+json": {
              "type": "string"
            },
            "text/plain": [
              "\"Best Regressor: SVR(C=1.0, cache_size=200, coef0=0.0, degree=3, epsilon=0.1, gamma='scale',\\n    kernel='rbf', max_iter=-1, shrinking=True, tol=0.001, verbose=False)\""
            ]
          },
          "metadata": {
            "tags": []
          },
          "execution_count": 33
        }
      ]
    },
    {
      "cell_type": "code",
      "metadata": {
        "id": "6FB7RmIyNdHO"
      },
      "source": [
        "model = RandomForestRegressor() # OR meuMae[\"Regressor\"].values[0]"
      ],
      "execution_count": 41,
      "outputs": []
    },
    {
      "cell_type": "code",
      "metadata": {
        "id": "7POInjLmNgZc",
        "outputId": "6c9a92d0-0935-4b25-c376-46af08c3fb04",
        "colab": {
          "base_uri": "https://localhost:8080/"
        }
      },
      "source": [
        "model.fit(X, y)"
      ],
      "execution_count": 42,
      "outputs": [
        {
          "output_type": "execute_result",
          "data": {
            "text/plain": [
              "RandomForestRegressor(bootstrap=True, ccp_alpha=0.0, criterion='mse',\n",
              "                      max_depth=None, max_features='auto', max_leaf_nodes=None,\n",
              "                      max_samples=None, min_impurity_decrease=0.0,\n",
              "                      min_impurity_split=None, min_samples_leaf=1,\n",
              "                      min_samples_split=2, min_weight_fraction_leaf=0.0,\n",
              "                      n_estimators=100, n_jobs=None, oob_score=False,\n",
              "                      random_state=None, verbose=0, warm_start=False)"
            ]
          },
          "metadata": {
            "tags": []
          },
          "execution_count": 42
        }
      ]
    },
    {
      "cell_type": "code",
      "metadata": {
        "id": "sA29MdhSNmck"
      },
      "source": [
        "pVendas = vendasK.copy()\n",
        "rMes = range(1, 13)\n",
        "year = 2020\n",
        "for m in rMes:\n",
        "  valFeatures = [m, year]\n",
        "  predict = float(model.predict([valFeatures]))\n",
        "  pVendas = pVendas.append({'mes': m, 'ano': year, 'y': predict}, ignore_index=True)\n"
      ],
      "execution_count": 43,
      "outputs": []
    },
    {
      "cell_type": "code",
      "metadata": {
        "id": "AaYMY_-ttEJj"
      },
      "source": [
        "pVendas['ds'] = pVendas.apply(lambda x: f'{int(x.ano)}-{int(x.mes)}-28', axis=1)"
      ],
      "execution_count": 44,
      "outputs": []
    },
    {
      "cell_type": "code",
      "metadata": {
        "id": "lWP9hCo5u4Ps"
      },
      "source": [
        "pVendas['ds'] = pVendas.ds.astype('datetime64[ns]')"
      ],
      "execution_count": 45,
      "outputs": []
    },
    {
      "cell_type": "code",
      "metadata": {
        "id": "HMrNcjBzu9J6",
        "outputId": "bbeab40d-cd12-49b0-cb90-d87bde96b78f",
        "colab": {
          "base_uri": "https://localhost:8080/"
        }
      },
      "source": [
        "pVendas.info()"
      ],
      "execution_count": 46,
      "outputs": [
        {
          "output_type": "stream",
          "text": [
            "<class 'pandas.core.frame.DataFrame'>\n",
            "RangeIndex: 252 entries, 0 to 251\n",
            "Data columns (total 4 columns):\n",
            " #   Column  Non-Null Count  Dtype         \n",
            "---  ------  --------------  -----         \n",
            " 0   ds      252 non-null    datetime64[ns]\n",
            " 1   y       252 non-null    float64       \n",
            " 2   mes     252 non-null    float64       \n",
            " 3   ano     252 non-null    float64       \n",
            "dtypes: datetime64[ns](1), float64(3)\n",
            "memory usage: 8.0 KB\n"
          ],
          "name": "stdout"
        }
      ]
    },
    {
      "cell_type": "code",
      "metadata": {
        "id": "qXH2XlFNsQ-s",
        "outputId": "ec575b35-9f3e-4735-f2bf-ff4f58eea411",
        "colab": {
          "base_uri": "https://localhost:8080/",
          "height": 542
        }
      },
      "source": [
        "x = pVendas.ds\n",
        "real = pVendas.y[pVendas.ano < 2020]\n",
        "pred = pVendas[pVendas.ano == 2020]\n",
        "\n",
        "fig = go.Figure()\n",
        "fig.add_trace(go.Scatter(x=x, y=real,\n",
        "                    mode='lines+markers',\n",
        "                    name='Realizado'))\n",
        "\n",
        "fig.add_trace(go.Scatter(x=pred.ds, y=pred.y,\n",
        "                    mode='lines+markers',\n",
        "                    name='Previsao'))\n",
        "fig.update_layout(\n",
        "    title=\"Historico + Previsao de Vendas\")\n",
        "\n",
        "fig.show()"
      ],
      "execution_count": 47,
      "outputs": [
        {
          "output_type": "display_data",
          "data": {
            "text/html": [
              "<html>\n",
              "<head><meta charset=\"utf-8\" /></head>\n",
              "<body>\n",
              "    <div>\n",
              "            <script src=\"https://cdnjs.cloudflare.com/ajax/libs/mathjax/2.7.5/MathJax.js?config=TeX-AMS-MML_SVG\"></script><script type=\"text/javascript\">if (window.MathJax) {MathJax.Hub.Config({SVG: {font: \"STIX-Web\"}});}</script>\n",
              "                <script type=\"text/javascript\">window.PlotlyConfig = {MathJaxConfig: 'local'};</script>\n",
              "        <script src=\"https://cdn.plot.ly/plotly-latest.min.js\"></script>    \n",
              "            <div id=\"e4e4304a-afae-474b-80b9-6e17ba5b9451\" class=\"plotly-graph-div\" style=\"height:525px; width:100%;\"></div>\n",
              "            <script type=\"text/javascript\">\n",
              "                \n",
              "                    window.PLOTLYENV=window.PLOTLYENV || {};\n",
              "                    \n",
              "                if (document.getElementById(\"e4e4304a-afae-474b-80b9-6e17ba5b9451\")) {\n",
              "                    Plotly.newPlot(\n",
              "                        'e4e4304a-afae-474b-80b9-6e17ba5b9451',\n",
              "                        [{\"mode\": \"lines+markers\", \"name\": \"Realizado\", \"type\": \"scatter\", \"x\": [\"2000-01-28T00:00:00\", \"2000-02-28T00:00:00\", \"2000-03-28T00:00:00\", \"2000-04-28T00:00:00\", \"2000-05-28T00:00:00\", \"2000-06-28T00:00:00\", \"2000-07-28T00:00:00\", \"2000-08-28T00:00:00\", \"2000-09-28T00:00:00\", \"2000-10-28T00:00:00\", \"2000-11-28T00:00:00\", \"2000-12-28T00:00:00\", \"2001-01-28T00:00:00\", \"2001-02-28T00:00:00\", \"2001-03-28T00:00:00\", \"2001-04-28T00:00:00\", \"2001-05-28T00:00:00\", \"2001-06-28T00:00:00\", \"2001-07-28T00:00:00\", \"2001-08-28T00:00:00\", \"2001-09-28T00:00:00\", \"2001-10-28T00:00:00\", \"2001-11-28T00:00:00\", \"2001-12-28T00:00:00\", \"2002-01-28T00:00:00\", \"2002-02-28T00:00:00\", \"2002-03-28T00:00:00\", \"2002-04-28T00:00:00\", \"2002-05-28T00:00:00\", \"2002-06-28T00:00:00\", \"2002-07-28T00:00:00\", \"2002-08-28T00:00:00\", \"2002-09-28T00:00:00\", \"2002-10-28T00:00:00\", \"2002-11-28T00:00:00\", \"2002-12-28T00:00:00\", \"2003-01-28T00:00:00\", \"2003-02-28T00:00:00\", \"2003-03-28T00:00:00\", \"2003-04-28T00:00:00\", \"2003-05-28T00:00:00\", \"2003-06-28T00:00:00\", \"2003-07-28T00:00:00\", \"2003-08-28T00:00:00\", \"2003-09-28T00:00:00\", \"2003-10-28T00:00:00\", \"2003-11-28T00:00:00\", \"2003-12-28T00:00:00\", \"2004-01-28T00:00:00\", \"2004-02-28T00:00:00\", \"2004-03-28T00:00:00\", \"2004-04-28T00:00:00\", \"2004-05-28T00:00:00\", \"2004-06-28T00:00:00\", \"2004-07-28T00:00:00\", \"2004-08-28T00:00:00\", \"2004-09-28T00:00:00\", \"2004-10-28T00:00:00\", \"2004-11-28T00:00:00\", \"2004-12-28T00:00:00\", \"2005-01-28T00:00:00\", \"2005-02-28T00:00:00\", \"2005-03-28T00:00:00\", \"2005-04-28T00:00:00\", \"2005-05-28T00:00:00\", \"2005-06-28T00:00:00\", \"2005-07-28T00:00:00\", \"2005-08-28T00:00:00\", \"2005-09-28T00:00:00\", \"2005-10-28T00:00:00\", \"2005-11-28T00:00:00\", \"2005-12-28T00:00:00\", \"2006-01-28T00:00:00\", \"2006-02-28T00:00:00\", \"2006-03-28T00:00:00\", \"2006-04-28T00:00:00\", \"2006-05-28T00:00:00\", \"2006-06-28T00:00:00\", \"2006-07-28T00:00:00\", \"2006-08-28T00:00:00\", \"2006-09-28T00:00:00\", \"2006-10-28T00:00:00\", \"2006-11-28T00:00:00\", \"2006-12-28T00:00:00\", \"2007-01-28T00:00:00\", \"2007-02-28T00:00:00\", \"2007-03-28T00:00:00\", \"2007-04-28T00:00:00\", \"2007-05-28T00:00:00\", \"2007-06-28T00:00:00\", \"2007-07-28T00:00:00\", \"2007-08-28T00:00:00\", \"2007-09-28T00:00:00\", \"2007-10-28T00:00:00\", \"2007-11-28T00:00:00\", \"2007-12-28T00:00:00\", \"2008-01-28T00:00:00\", \"2008-02-28T00:00:00\", \"2008-03-28T00:00:00\", \"2008-04-28T00:00:00\", \"2008-05-28T00:00:00\", \"2008-06-28T00:00:00\", \"2008-07-28T00:00:00\", \"2008-08-28T00:00:00\", \"2008-09-28T00:00:00\", \"2008-10-28T00:00:00\", \"2008-11-28T00:00:00\", \"2008-12-28T00:00:00\", \"2009-01-28T00:00:00\", \"2009-02-28T00:00:00\", \"2009-03-28T00:00:00\", \"2009-04-28T00:00:00\", \"2009-05-28T00:00:00\", \"2009-06-28T00:00:00\", \"2009-07-28T00:00:00\", \"2009-08-28T00:00:00\", \"2009-09-28T00:00:00\", \"2009-10-28T00:00:00\", \"2009-11-28T00:00:00\", \"2009-12-28T00:00:00\", \"2010-01-28T00:00:00\", \"2010-02-28T00:00:00\", \"2010-03-28T00:00:00\", \"2010-04-28T00:00:00\", \"2010-05-28T00:00:00\", \"2010-06-28T00:00:00\", \"2010-07-28T00:00:00\", \"2010-08-28T00:00:00\", \"2010-09-28T00:00:00\", \"2010-10-28T00:00:00\", \"2010-11-28T00:00:00\", \"2010-12-28T00:00:00\", \"2011-01-28T00:00:00\", \"2011-02-28T00:00:00\", \"2011-03-28T00:00:00\", \"2011-04-28T00:00:00\", \"2011-05-28T00:00:00\", \"2011-06-28T00:00:00\", \"2011-07-28T00:00:00\", \"2011-08-28T00:00:00\", \"2011-09-28T00:00:00\", \"2011-10-28T00:00:00\", \"2011-11-28T00:00:00\", \"2011-12-28T00:00:00\", \"2012-01-28T00:00:00\", \"2012-02-28T00:00:00\", \"2012-03-28T00:00:00\", \"2012-04-28T00:00:00\", \"2012-05-28T00:00:00\", \"2012-06-28T00:00:00\", \"2012-07-28T00:00:00\", \"2012-08-28T00:00:00\", \"2012-09-28T00:00:00\", \"2012-10-28T00:00:00\", \"2012-11-28T00:00:00\", \"2012-12-28T00:00:00\", \"2013-01-28T00:00:00\", \"2013-02-28T00:00:00\", \"2013-03-28T00:00:00\", \"2013-04-28T00:00:00\", \"2013-05-28T00:00:00\", \"2013-06-28T00:00:00\", \"2013-07-28T00:00:00\", \"2013-08-28T00:00:00\", \"2013-09-28T00:00:00\", \"2013-10-28T00:00:00\", \"2013-11-28T00:00:00\", \"2013-12-28T00:00:00\", \"2014-01-28T00:00:00\", \"2014-02-28T00:00:00\", \"2014-03-28T00:00:00\", \"2014-04-28T00:00:00\", \"2014-05-28T00:00:00\", \"2014-06-28T00:00:00\", \"2014-07-28T00:00:00\", \"2014-08-28T00:00:00\", \"2014-09-28T00:00:00\", \"2014-10-28T00:00:00\", \"2014-11-28T00:00:00\", \"2014-12-28T00:00:00\", \"2015-01-28T00:00:00\", \"2015-02-28T00:00:00\", \"2015-03-28T00:00:00\", \"2015-04-28T00:00:00\", \"2015-05-28T00:00:00\", \"2015-06-28T00:00:00\", \"2015-07-28T00:00:00\", \"2015-08-28T00:00:00\", \"2015-09-28T00:00:00\", \"2015-10-28T00:00:00\", \"2015-11-28T00:00:00\", \"2015-12-28T00:00:00\", \"2016-01-28T00:00:00\", \"2016-02-28T00:00:00\", \"2016-03-28T00:00:00\", \"2016-04-28T00:00:00\", \"2016-05-28T00:00:00\", \"2016-06-28T00:00:00\", \"2016-07-28T00:00:00\", \"2016-08-28T00:00:00\", \"2016-09-28T00:00:00\", \"2016-10-28T00:00:00\", \"2016-11-28T00:00:00\", \"2016-12-28T00:00:00\", \"2017-01-28T00:00:00\", \"2017-02-28T00:00:00\", \"2017-03-28T00:00:00\", \"2017-04-28T00:00:00\", \"2017-05-28T00:00:00\", \"2017-06-28T00:00:00\", \"2017-07-28T00:00:00\", \"2017-08-28T00:00:00\", \"2017-09-28T00:00:00\", \"2017-10-28T00:00:00\", \"2017-11-28T00:00:00\", \"2017-12-28T00:00:00\", \"2018-01-28T00:00:00\", \"2018-02-28T00:00:00\", \"2018-03-28T00:00:00\", \"2018-04-28T00:00:00\", \"2018-05-28T00:00:00\", \"2018-06-28T00:00:00\", \"2018-07-28T00:00:00\", \"2018-08-28T00:00:00\", \"2018-09-28T00:00:00\", \"2018-10-28T00:00:00\", \"2018-11-28T00:00:00\", \"2018-12-28T00:00:00\", \"2019-01-28T00:00:00\", \"2019-02-28T00:00:00\", \"2019-03-28T00:00:00\", \"2019-04-28T00:00:00\", \"2019-05-28T00:00:00\", \"2019-06-28T00:00:00\", \"2019-07-28T00:00:00\", \"2019-08-28T00:00:00\", \"2019-09-28T00:00:00\", \"2019-10-28T00:00:00\", \"2019-11-28T00:00:00\", \"2019-12-28T00:00:00\", \"2020-01-28T00:00:00\", \"2020-02-28T00:00:00\", \"2020-03-28T00:00:00\", \"2020-04-28T00:00:00\", \"2020-05-28T00:00:00\", \"2020-06-28T00:00:00\", \"2020-07-28T00:00:00\", \"2020-08-28T00:00:00\", \"2020-09-28T00:00:00\", \"2020-10-28T00:00:00\", \"2020-11-28T00:00:00\", \"2020-12-28T00:00:00\"], \"y\": [750.0, 750.0, 1000.0, 1000.0, 1000.0, 2000.0, 1000.0, 1000.0, 1000.0, 1000.0, 1000.0, 1500.0, 750.0, 750.0, 1000.0, 1000.0, 1000.0, 2000.0, 1000.0, 1000.0, 1000.0, 1000.0, 1000.0, 1500.0, 750.0, 750.0, 1000.0, 1000.0, 1000.0, 2000.0, 1000.0, 1000.0, 1000.0, 1000.0, 1000.0, 1500.0, 750.0, 750.0, 1000.0, 1000.0, 1000.0, 2000.0, 1000.0, 1000.0, 1000.0, 1000.0, 1000.0, 1500.0, 750.0, 750.0, 1000.0, 1000.0, 1000.0, 2000.0, 1000.0, 1000.0, 1000.0, 1000.0, 1000.0, 1500.0, 750.0, 750.0, 1000.0, 1000.0, 1000.0, 2000.0, 1000.0, 1000.0, 1000.0, 1000.0, 1000.0, 1500.0, 750.0, 750.0, 1000.0, 1000.0, 1000.0, 2000.0, 1000.0, 1000.0, 1000.0, 1000.0, 1000.0, 1500.0, 750.0, 750.0, 1000.0, 1000.0, 1000.0, 2000.0, 1000.0, 1000.0, 1000.0, 1000.0, 1000.0, 1500.0, 750.0, 750.0, 1000.0, 1000.0, 1000.0, 2000.0, 1000.0, 1000.0, 1000.0, 1000.0, 1000.0, 1500.0, 750.0, 750.0, 1000.0, 1000.0, 1000.0, 2000.0, 1000.0, 1000.0, 1000.0, 1000.0, 1000.0, 1500.0, 750.0, 750.0, 1000.0, 1000.0, 1000.0, 2000.0, 1000.0, 1000.0, 1000.0, 1000.0, 1000.0, 1500.0, 750.0, 750.0, 1000.0, 1000.0, 1000.0, 2000.0, 1000.0, 1000.0, 1000.0, 1000.0, 1000.0, 1500.0, 750.0, 750.0, 1000.0, 1000.0, 1000.0, 2000.0, 1000.0, 1000.0, 1000.0, 1000.0, 1000.0, 1500.0, 750.0, 750.0, 1000.0, 1000.0, 1000.0, 2000.0, 1000.0, 1000.0, 1000.0, 1000.0, 1000.0, 1500.0, 750.0, 750.0, 1000.0, 1000.0, 1000.0, 2000.0, 1000.0, 1000.0, 1000.0, 1000.0, 1000.0, 1500.0, 750.0, 750.0, 1000.0, 1000.0, 1000.0, 2000.0, 1000.0, 1000.0, 1000.0, 1000.0, 1000.0, 1500.0, 750.0, 750.0, 1000.0, 1000.0, 1000.0, 2000.0, 1000.0, 1000.0, 1000.0, 1000.0, 1000.0, 1500.0, 750.0, 750.0, 1000.0, 1000.0, 1000.0, 2000.0, 1000.0, 1000.0, 1000.0, 1000.0, 1000.0, 1500.0, 750.0, 750.0, 1000.0, 1000.0, 1000.0, 2000.0, 1000.0, 1000.0, 1000.0, 1000.0, 1000.0, 1500.0, 750.0, 750.0, 1000.0, 1000.0, 1000.0, 2000.0, 1000.0, 1000.0, 1000.0, 1000.0, 1000.0, 1500.0]}, {\"mode\": \"lines+markers\", \"name\": \"Previsao\", \"type\": \"scatter\", \"x\": [\"2020-01-28T00:00:00\", \"2020-02-28T00:00:00\", \"2020-03-28T00:00:00\", \"2020-04-28T00:00:00\", \"2020-05-28T00:00:00\", \"2020-06-28T00:00:00\", \"2020-07-28T00:00:00\", \"2020-08-28T00:00:00\", \"2020-09-28T00:00:00\", \"2020-10-28T00:00:00\", \"2020-11-28T00:00:00\", \"2020-12-28T00:00:00\"], \"y\": [750.0, 750.0, 1000.0, 1000.0, 1000.0, 2000.0, 1000.0, 1000.0, 1000.0, 1000.0, 1000.0, 1500.0]}],\n",
              "                        {\"template\": {\"data\": {\"bar\": [{\"error_x\": {\"color\": \"#2a3f5f\"}, \"error_y\": {\"color\": \"#2a3f5f\"}, \"marker\": {\"line\": {\"color\": \"#E5ECF6\", \"width\": 0.5}}, \"type\": \"bar\"}], \"barpolar\": [{\"marker\": {\"line\": {\"color\": \"#E5ECF6\", \"width\": 0.5}}, \"type\": \"barpolar\"}], \"carpet\": [{\"aaxis\": {\"endlinecolor\": \"#2a3f5f\", \"gridcolor\": \"white\", \"linecolor\": \"white\", \"minorgridcolor\": \"white\", \"startlinecolor\": \"#2a3f5f\"}, \"baxis\": {\"endlinecolor\": \"#2a3f5f\", \"gridcolor\": \"white\", \"linecolor\": \"white\", \"minorgridcolor\": \"white\", \"startlinecolor\": \"#2a3f5f\"}, \"type\": \"carpet\"}], \"choropleth\": [{\"colorbar\": {\"outlinewidth\": 0, \"ticks\": \"\"}, \"type\": \"choropleth\"}], \"contour\": [{\"colorbar\": {\"outlinewidth\": 0, \"ticks\": \"\"}, \"colorscale\": [[0.0, \"#0d0887\"], [0.1111111111111111, \"#46039f\"], [0.2222222222222222, \"#7201a8\"], [0.3333333333333333, \"#9c179e\"], [0.4444444444444444, \"#bd3786\"], [0.5555555555555556, \"#d8576b\"], [0.6666666666666666, \"#ed7953\"], [0.7777777777777778, \"#fb9f3a\"], [0.8888888888888888, \"#fdca26\"], [1.0, \"#f0f921\"]], \"type\": \"contour\"}], \"contourcarpet\": [{\"colorbar\": {\"outlinewidth\": 0, \"ticks\": \"\"}, \"type\": \"contourcarpet\"}], \"heatmap\": [{\"colorbar\": {\"outlinewidth\": 0, \"ticks\": \"\"}, \"colorscale\": [[0.0, \"#0d0887\"], [0.1111111111111111, \"#46039f\"], [0.2222222222222222, \"#7201a8\"], [0.3333333333333333, \"#9c179e\"], [0.4444444444444444, \"#bd3786\"], [0.5555555555555556, \"#d8576b\"], [0.6666666666666666, \"#ed7953\"], [0.7777777777777778, \"#fb9f3a\"], [0.8888888888888888, \"#fdca26\"], [1.0, \"#f0f921\"]], \"type\": \"heatmap\"}], \"heatmapgl\": [{\"colorbar\": {\"outlinewidth\": 0, \"ticks\": \"\"}, \"colorscale\": [[0.0, \"#0d0887\"], [0.1111111111111111, \"#46039f\"], [0.2222222222222222, \"#7201a8\"], [0.3333333333333333, \"#9c179e\"], [0.4444444444444444, \"#bd3786\"], [0.5555555555555556, \"#d8576b\"], [0.6666666666666666, \"#ed7953\"], [0.7777777777777778, \"#fb9f3a\"], [0.8888888888888888, \"#fdca26\"], [1.0, \"#f0f921\"]], \"type\": \"heatmapgl\"}], \"histogram\": [{\"marker\": {\"colorbar\": {\"outlinewidth\": 0, \"ticks\": \"\"}}, \"type\": \"histogram\"}], \"histogram2d\": [{\"colorbar\": {\"outlinewidth\": 0, \"ticks\": \"\"}, \"colorscale\": [[0.0, \"#0d0887\"], [0.1111111111111111, \"#46039f\"], [0.2222222222222222, \"#7201a8\"], [0.3333333333333333, \"#9c179e\"], [0.4444444444444444, \"#bd3786\"], [0.5555555555555556, \"#d8576b\"], [0.6666666666666666, \"#ed7953\"], [0.7777777777777778, \"#fb9f3a\"], [0.8888888888888888, \"#fdca26\"], [1.0, \"#f0f921\"]], \"type\": \"histogram2d\"}], \"histogram2dcontour\": [{\"colorbar\": {\"outlinewidth\": 0, \"ticks\": \"\"}, \"colorscale\": [[0.0, \"#0d0887\"], [0.1111111111111111, \"#46039f\"], [0.2222222222222222, \"#7201a8\"], [0.3333333333333333, \"#9c179e\"], [0.4444444444444444, \"#bd3786\"], [0.5555555555555556, \"#d8576b\"], [0.6666666666666666, \"#ed7953\"], [0.7777777777777778, \"#fb9f3a\"], [0.8888888888888888, \"#fdca26\"], [1.0, \"#f0f921\"]], \"type\": \"histogram2dcontour\"}], \"mesh3d\": [{\"colorbar\": {\"outlinewidth\": 0, \"ticks\": \"\"}, \"type\": \"mesh3d\"}], \"parcoords\": [{\"line\": {\"colorbar\": {\"outlinewidth\": 0, \"ticks\": \"\"}}, \"type\": \"parcoords\"}], \"pie\": [{\"automargin\": true, \"type\": \"pie\"}], \"scatter\": [{\"marker\": {\"colorbar\": {\"outlinewidth\": 0, \"ticks\": \"\"}}, \"type\": \"scatter\"}], \"scatter3d\": [{\"line\": {\"colorbar\": {\"outlinewidth\": 0, \"ticks\": \"\"}}, \"marker\": {\"colorbar\": {\"outlinewidth\": 0, \"ticks\": \"\"}}, \"type\": \"scatter3d\"}], \"scattercarpet\": [{\"marker\": {\"colorbar\": {\"outlinewidth\": 0, \"ticks\": \"\"}}, \"type\": \"scattercarpet\"}], \"scattergeo\": [{\"marker\": {\"colorbar\": {\"outlinewidth\": 0, \"ticks\": \"\"}}, \"type\": \"scattergeo\"}], \"scattergl\": [{\"marker\": {\"colorbar\": {\"outlinewidth\": 0, \"ticks\": \"\"}}, \"type\": \"scattergl\"}], \"scattermapbox\": [{\"marker\": {\"colorbar\": {\"outlinewidth\": 0, \"ticks\": \"\"}}, \"type\": \"scattermapbox\"}], \"scatterpolar\": [{\"marker\": {\"colorbar\": {\"outlinewidth\": 0, \"ticks\": \"\"}}, \"type\": \"scatterpolar\"}], \"scatterpolargl\": [{\"marker\": {\"colorbar\": {\"outlinewidth\": 0, \"ticks\": \"\"}}, \"type\": \"scatterpolargl\"}], \"scatterternary\": [{\"marker\": {\"colorbar\": {\"outlinewidth\": 0, \"ticks\": \"\"}}, \"type\": \"scatterternary\"}], \"surface\": [{\"colorbar\": {\"outlinewidth\": 0, \"ticks\": \"\"}, \"colorscale\": [[0.0, \"#0d0887\"], [0.1111111111111111, \"#46039f\"], [0.2222222222222222, \"#7201a8\"], [0.3333333333333333, \"#9c179e\"], [0.4444444444444444, \"#bd3786\"], [0.5555555555555556, \"#d8576b\"], [0.6666666666666666, \"#ed7953\"], [0.7777777777777778, \"#fb9f3a\"], [0.8888888888888888, \"#fdca26\"], [1.0, \"#f0f921\"]], \"type\": \"surface\"}], \"table\": [{\"cells\": {\"fill\": {\"color\": \"#EBF0F8\"}, \"line\": {\"color\": \"white\"}}, \"header\": {\"fill\": {\"color\": \"#C8D4E3\"}, \"line\": {\"color\": \"white\"}}, \"type\": \"table\"}]}, \"layout\": {\"annotationdefaults\": {\"arrowcolor\": \"#2a3f5f\", \"arrowhead\": 0, \"arrowwidth\": 1}, \"coloraxis\": {\"colorbar\": {\"outlinewidth\": 0, \"ticks\": \"\"}}, \"colorscale\": {\"diverging\": [[0, \"#8e0152\"], [0.1, \"#c51b7d\"], [0.2, \"#de77ae\"], [0.3, \"#f1b6da\"], [0.4, \"#fde0ef\"], [0.5, \"#f7f7f7\"], [0.6, \"#e6f5d0\"], [0.7, \"#b8e186\"], [0.8, \"#7fbc41\"], [0.9, \"#4d9221\"], [1, \"#276419\"]], \"sequential\": [[0.0, \"#0d0887\"], [0.1111111111111111, \"#46039f\"], [0.2222222222222222, \"#7201a8\"], [0.3333333333333333, \"#9c179e\"], [0.4444444444444444, \"#bd3786\"], [0.5555555555555556, \"#d8576b\"], [0.6666666666666666, \"#ed7953\"], [0.7777777777777778, \"#fb9f3a\"], [0.8888888888888888, \"#fdca26\"], [1.0, \"#f0f921\"]], \"sequentialminus\": [[0.0, \"#0d0887\"], [0.1111111111111111, \"#46039f\"], [0.2222222222222222, \"#7201a8\"], [0.3333333333333333, \"#9c179e\"], [0.4444444444444444, \"#bd3786\"], [0.5555555555555556, \"#d8576b\"], [0.6666666666666666, \"#ed7953\"], [0.7777777777777778, \"#fb9f3a\"], [0.8888888888888888, \"#fdca26\"], [1.0, \"#f0f921\"]]}, \"colorway\": [\"#636efa\", \"#EF553B\", \"#00cc96\", \"#ab63fa\", \"#FFA15A\", \"#19d3f3\", \"#FF6692\", \"#B6E880\", \"#FF97FF\", \"#FECB52\"], \"font\": {\"color\": \"#2a3f5f\"}, \"geo\": {\"bgcolor\": \"white\", \"lakecolor\": \"white\", \"landcolor\": \"#E5ECF6\", \"showlakes\": true, \"showland\": true, \"subunitcolor\": \"white\"}, \"hoverlabel\": {\"align\": \"left\"}, \"hovermode\": \"closest\", \"mapbox\": {\"style\": \"light\"}, \"paper_bgcolor\": \"white\", \"plot_bgcolor\": \"#E5ECF6\", \"polar\": {\"angularaxis\": {\"gridcolor\": \"white\", \"linecolor\": \"white\", \"ticks\": \"\"}, \"bgcolor\": \"#E5ECF6\", \"radialaxis\": {\"gridcolor\": \"white\", \"linecolor\": \"white\", \"ticks\": \"\"}}, \"scene\": {\"xaxis\": {\"backgroundcolor\": \"#E5ECF6\", \"gridcolor\": \"white\", \"gridwidth\": 2, \"linecolor\": \"white\", \"showbackground\": true, \"ticks\": \"\", \"zerolinecolor\": \"white\"}, \"yaxis\": {\"backgroundcolor\": \"#E5ECF6\", \"gridcolor\": \"white\", \"gridwidth\": 2, \"linecolor\": \"white\", \"showbackground\": true, \"ticks\": \"\", \"zerolinecolor\": \"white\"}, \"zaxis\": {\"backgroundcolor\": \"#E5ECF6\", \"gridcolor\": \"white\", \"gridwidth\": 2, \"linecolor\": \"white\", \"showbackground\": true, \"ticks\": \"\", \"zerolinecolor\": \"white\"}}, \"shapedefaults\": {\"line\": {\"color\": \"#2a3f5f\"}}, \"ternary\": {\"aaxis\": {\"gridcolor\": \"white\", \"linecolor\": \"white\", \"ticks\": \"\"}, \"baxis\": {\"gridcolor\": \"white\", \"linecolor\": \"white\", \"ticks\": \"\"}, \"bgcolor\": \"#E5ECF6\", \"caxis\": {\"gridcolor\": \"white\", \"linecolor\": \"white\", \"ticks\": \"\"}}, \"title\": {\"x\": 0.05}, \"xaxis\": {\"automargin\": true, \"gridcolor\": \"white\", \"linecolor\": \"white\", \"ticks\": \"\", \"title\": {\"standoff\": 15}, \"zerolinecolor\": \"white\", \"zerolinewidth\": 2}, \"yaxis\": {\"automargin\": true, \"gridcolor\": \"white\", \"linecolor\": \"white\", \"ticks\": \"\", \"title\": {\"standoff\": 15}, \"zerolinecolor\": \"white\", \"zerolinewidth\": 2}}}, \"title\": {\"text\": \"Historico + Previsao de Vendas\"}},\n",
              "                        {\"responsive\": true}\n",
              "                    ).then(function(){\n",
              "                            \n",
              "var gd = document.getElementById('e4e4304a-afae-474b-80b9-6e17ba5b9451');\n",
              "var x = new MutationObserver(function (mutations, observer) {{\n",
              "        var display = window.getComputedStyle(gd).display;\n",
              "        if (!display || display === 'none') {{\n",
              "            console.log([gd, 'removed!']);\n",
              "            Plotly.purge(gd);\n",
              "            observer.disconnect();\n",
              "        }}\n",
              "}});\n",
              "\n",
              "// Listen for the removal of the full notebook cells\n",
              "var notebookContainer = gd.closest('#notebook-container');\n",
              "if (notebookContainer) {{\n",
              "    x.observe(notebookContainer, {childList: true});\n",
              "}}\n",
              "\n",
              "// Listen for the clearing of the current output cell\n",
              "var outputEl = gd.closest('.output');\n",
              "if (outputEl) {{\n",
              "    x.observe(outputEl, {childList: true});\n",
              "}}\n",
              "\n",
              "                        })\n",
              "                };\n",
              "                \n",
              "            </script>\n",
              "        </div>\n",
              "</body>\n",
              "</html>"
            ]
          },
          "metadata": {
            "tags": []
          }
        }
      ]
    }
  ]
}